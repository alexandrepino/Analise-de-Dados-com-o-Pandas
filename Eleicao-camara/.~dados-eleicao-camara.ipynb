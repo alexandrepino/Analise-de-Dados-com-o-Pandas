{
 "cells": [
  {
   "cell_type": "markdown",
   "id": "f25d5596",
   "metadata": {},
   "source": [
    "# Importando as bibliotecas utilizadas no projeto"
   ]
  },
  {
   "cell_type": "code",
   "execution_count": 39,
   "id": "8b836cb2",
   "metadata": {},
   "outputs": [],
   "source": [
    "from bs4 import BeautifulSoup\n",
    "import re\n",
    "import pandas as pd\n",
    "import plotly.express as plx\n",
    "import plotly.graph_objects as go\n",
    "import matplotlib.pyplot as plt\n",
    "import seaborn as sns\n",
    "import numpy as np\n",
    "from matplotlib import cm"
   ]
  },
  {
   "cell_type": "markdown",
   "id": "08febcd5",
   "metadata": {},
   "source": [
    "# Extraindo os Dados no site atraves da 'div class'"
   ]
  },
  {
   "cell_type": "code",
   "execution_count": 15,
   "id": "1c69b565",
   "metadata": {},
   "outputs": [],
   "source": [
    "#código html extraído de: https://www.estadao.com.br/infograficos/politica,placar-votos-eleicao-presidente-camara-deputados-2021,1145650\n",
    "html_votos = \"\"\"<div class=\"custom-main\"><div class=\"custom-section\" data-party=\"PP\"><h3 class=\"custom-section__title\">Arthur Lira</h3><p class=\"custom-section__lead\"><span class=\"custom-section__count\">237 votos</span></p><div class=\"custom-section__representatives\"><div class=\"custom-representative\" data-choice=\"Arthur Lira\"><div class=\"custom-representative__avatar\"><img class=\"custom-representative__avatar__photo\" loading=\"lazy\" src=\"https://arte.estadao.com.br/public/placar/img/voter/204476.jpg\" alt=\"Deputado Federal Chiquinho Brazão (Avante–RJ)\" pinger-seen=\"true\"></div></div><div class=\"custom-representative\" data-choice=\"Arthur Lira\"><div class=\"custom-representative__avatar\"><img class=\"custom-representative__avatar__photo\" loading=\"lazy\" src=\"https://arte.estadao.com.br/public/placar/img/voter/198197.jpg\" alt=\"Deputada Federal Greyce Elias (Avante–MG)\" pinger-seen=\"true\"></div></div><div class=\"custom-representative\" data-choice=\"Arthur Lira\"><div class=\"custom-representative__avatar\"><img class=\"custom-representative__avatar__photo\" loading=\"lazy\" src=\"https://arte.estadao.com.br/public/placar/img/voter/204375.jpg\" alt=\"Deputada Federal Leda Sadala (Avante–AP)\" pinger-seen=\"true\"></div></div><div class=\"custom-representative\" data-choice=\"Arthur Lira\"><div class=\"custom-representative__avatar\"><img class=\"custom-representative__avatar__photo\" loading=\"lazy\" src=\"https://arte.estadao.com.br/public/placar/img/voter/160510.jpg\" alt=\"Deputado Federal Luis Tibé (Avante–MG)\" pinger-seen=\"true\"></div></div><div class=\"custom-representative\" data-choice=\"Arthur Lira\"><div class=\"custom-representative__avatar\"><img class=\"custom-representative__avatar__photo\" loading=\"lazy\" src=\"https://arte.estadao.com.br/public/placar/img/voter/178921.jpg\" alt=\"Deputado Federal Sebastião Oliveira (Avante–PE)\" pinger-seen=\"true\"></div></div><div class=\"custom-representative\" data-choice=\"Arthur Lira\"><div class=\"custom-representative__avatar\"><img class=\"custom-representative__avatar__photo\" loading=\"lazy\" src=\"https://arte.estadao.com.br/public/placar/img/voter/197438.jpg\" alt=\"Deputado Federal Tito (Avante–BA)\" pinger-seen=\"true\"></div></div><div class=\"custom-representative\" data-choice=\"Arthur Lira\"><div class=\"custom-representative__avatar\"><img class=\"custom-representative__avatar__photo\" loading=\"lazy\" src=\"https://arte.estadao.com.br/public/placar/img/voter/178836.jpg\" alt=\"Deputado Federal Alan Rick (DEM–AC)\" pinger-seen=\"true\"></div></div><div class=\"custom-representative\" data-choice=\"Arthur Lira\"><div class=\"custom-representative__avatar\"><img class=\"custom-representative__avatar__photo\" loading=\"lazy\" src=\"https://arte.estadao.com.br/public/placar/img/voter/160600.jpg\" alt=\"Deputado Federal Arthur Oliveira Maia (DEM–BA)\" pinger-seen=\"true\"></div></div><div class=\"custom-representative\" data-choice=\"Arthur Lira\"><div class=\"custom-representative__avatar\"><img class=\"custom-representative__avatar__photo\" loading=\"lazy\" src=\"https://arte.estadao.com.br/public/placar/img/voter/178993.jpg\" alt=\"Deputado Federal Carlos Henrique Gaguim (DEM–TO)\" pinger-seen=\"true\"></div></div><div class=\"custom-representative\" data-choice=\"Arthur Lira\"><div class=\"custom-representative__avatar\"><img class=\"custom-representative__avatar__photo\" loading=\"lazy\" src=\"https://arte.estadao.com.br/public/placar/img/voter/204511.jpg\" alt=\"Deputado Federal David Soares (DEM–SP)\" pinger-seen=\"true\"></div></div><div class=\"custom-representative\" data-choice=\"Arthur Lira\"><div class=\"custom-representative__avatar\"><img class=\"custom-representative__avatar__photo\" loading=\"lazy\" src=\"https://arte.estadao.com.br/public/placar/img/voter/204412.jpg\" alt=\"Deputado Federal Dr. Zacharias Calil (DEM–GO)\" pinger-seen=\"true\"></div></div><div class=\"custom-representative\" data-choice=\"Arthur Lira\"><div class=\"custom-representative__avatar\"><img class=\"custom-representative__avatar__photo\" loading=\"lazy\" src=\"https://arte.estadao.com.br/public/placar/img/voter/178854.jpg\" alt=\"Deputado Federal Elmar Nascimento (DEM–BA)\" pinger-seen=\"true\"></div></div><div class=\"custom-representative\" data-choice=\"Arthur Lira\"><div class=\"custom-representative__avatar\"><img class=\"custom-representative__avatar__photo\" loading=\"lazy\" src=\"https://arte.estadao.com.br/public/placar/img/voter/92102.jpg\" alt=\"Deputado Federal Leur Lomanto Júnior (DEM–BA)\" pinger-seen=\"true\"></div></div><div class=\"custom-representative\" data-choice=\"Arthur Lira\"><div class=\"custom-representative__avatar\"><img class=\"custom-representative__avatar__photo\" loading=\"lazy\" src=\"https://arte.estadao.com.br/public/placar/img/voter/204381.jpg\" alt=\"Deputado Federal Luis Miranda (DEM–DF)\" pinger-seen=\"true\"></div></div><div class=\"custom-representative\" data-choice=\"Arthur Lira\"><div class=\"custom-representative__avatar\"><img class=\"custom-representative__avatar__photo\" loading=\"lazy\" src=\"https://arte.estadao.com.br/public/placar/img/voter/66179.jpg\" alt=\"Deputada Federal Norma Ayub (DEM–ES)\" pinger-seen=\"true\"></div></div><div class=\"custom-representative\" data-choice=\"Arthur Lira\"><div class=\"custom-representative__avatar\"><img class=\"custom-representative__avatar__photo\" loading=\"lazy\" src=\"https://arte.estadao.com.br/public/placar/img/voter/74399.jpg\" alt=\"Deputado Federal Onyx Lorenzoni (DEM–RS)\" pinger-seen=\"true\"></div></div><div class=\"custom-representative\" data-choice=\"Arthur Lira\"><div class=\"custom-representative__avatar\"><img class=\"custom-representative__avatar__photo\" loading=\"lazy\" src=\"https://arte.estadao.com.br/public/placar/img/voter/204395.jpg\" alt=\"Deputado Federal Pedro Lupion (DEM–PR)\" pinger-seen=\"true\"></div></div><div class=\"custom-representative\" data-choice=\"Arthur Lira\"><div class=\"custom-representative__avatar\"><img class=\"custom-representative__avatar__photo\" loading=\"lazy\" src=\"https://arte.estadao.com.br/public/placar/img/voter/178901.jpg\" alt=\"Deputada Federal Tereza Cristina (DEM–MS)\" pinger-seen=\"true\"></div></div><div class=\"custom-representative\" data-choice=\"Arthur Lira\"><div class=\"custom-representative__avatar\"><img class=\"custom-representative__avatar__photo\" loading=\"lazy\" src=\"https://arte.estadao.com.br/public/placar/img/voter/204459.jpg\" alt=\"Deputada Federal Daniela do Waguinho (MDB–RJ)\" pinger-seen=\"true\"></div></div><div class=\"custom-representative\" data-choice=\"Arthur Lira\"><div class=\"custom-representative__avatar\"><img class=\"custom-representative__avatar__photo\" loading=\"lazy\" src=\"https://arte.estadao.com.br/public/placar/img/voter/73692.jpg\" alt=\"Deputado Federal Osmar Terra (MDB–RS)\" pinger-seen=\"true\"></div></div><div class=\"custom-representative\" data-choice=\"Arthur Lira\"><div class=\"custom-representative__avatar\"><img class=\"custom-representative__avatar__photo\" loading=\"lazy\" src=\"https://arte.estadao.com.br/public/placar/img/voter/204413.jpg\" alt=\"Deputado Federal Alcides Rodrigues (Patriota–GO)\" pinger-seen=\"true\"></div></div><div class=\"custom-representative\" data-choice=\"Arthur Lira\"><div class=\"custom-representative__avatar\"><img class=\"custom-representative__avatar__photo\" loading=\"lazy\" src=\"https://arte.estadao.com.br/public/placar/img/voter/204518.jpg\" alt=\"Deputado Federal Dr. Frederico (Patriota–MG)\" pinger-seen=\"true\"></div></div><div class=\"custom-representative\" data-choice=\"Arthur Lira\"><div class=\"custom-representative__avatar\"><img class=\"custom-representative__avatar__photo\" loading=\"lazy\" src=\"https://arte.estadao.com.br/public/placar/img/voter/204494.jpg\" alt=\"Deputado Federal Fred Costa (Patriota–MG)\" pinger-seen=\"true\"></div></div><div class=\"custom-representative\" data-choice=\"Arthur Lira\"><div class=\"custom-representative__avatar\"><img class=\"custom-representative__avatar__photo\" loading=\"lazy\" src=\"https://arte.estadao.com.br/public/placar/img/voter/204566.jpg\" alt=\"Deputado Federal Marreca Filho (Patriota–MA)\" pinger-seen=\"true\"></div></div><div class=\"custom-representative\" data-choice=\"Arthur Lira\"><div class=\"custom-representative__avatar\"><img class=\"custom-representative__avatar__photo\" loading=\"lazy\" src=\"https://arte.estadao.com.br/public/placar/img/voter/160642.jpg\" alt=\"Deputado Federal Pastor Eurico (Patriota–PE)\" pinger-seen=\"true\"></div></div><div class=\"custom-representative\" data-choice=\"Arthur Lira\"><div class=\"custom-representative__avatar\"><img class=\"custom-representative__avatar__photo\" loading=\"lazy\" src=\"https://arte.estadao.com.br/public/placar/img/voter/178930.jpg\" alt=\"Deputado Federal Roman (Patriota–PR)\" pinger-seen=\"true\"></div></div><div class=\"custom-representative\" data-choice=\"Arthur Lira\"><div class=\"custom-representative__avatar\"><img class=\"custom-representative__avatar__photo\" loading=\"lazy\" src=\"https://arte.estadao.com.br/public/placar/img/voter/204575.jpg\" alt=\"Deputado Federal Gil Cutrim (PDT–MA)\" pinger-seen=\"true\"></div></div><div class=\"custom-representative\" data-choice=\"Arthur Lira\"><div class=\"custom-representative__avatar\"><img class=\"custom-representative__avatar__photo\" loading=\"lazy\" src=\"https://arte.estadao.com.br/public/placar/img/voter/204554.jpg\" alt=\"Deputado Federal Abílio Santana (PL–BA)\" pinger-seen=\"true\"></div></div><div class=\"custom-representative\" data-choice=\"Arthur Lira\"><div class=\"custom-representative__avatar\"><img class=\"custom-representative__avatar__photo\" loading=\"lazy\" src=\"https://arte.estadao.com.br/public/placar/img/voter/141372.jpg\" alt=\"Deputado Federal Aelton Freitas (PL–MG)\" pinger-seen=\"true\"></div></div><div class=\"custom-representative\" data-choice=\"Arthur Lira\"><div class=\"custom-representative__avatar\"><img class=\"custom-representative__avatar__photo\" loading=\"lazy\" src=\"https://arte.estadao.com.br/public/placar/img/voter/178937.jpg\" alt=\"Deputado Federal Altineu Côrtes (PL–RJ)\" pinger-seen=\"true\"></div></div><div class=\"custom-representative\" data-choice=\"Arthur Lira\"><div class=\"custom-representative__avatar\"><img class=\"custom-representative__avatar__photo\" loading=\"lazy\" src=\"https://arte.estadao.com.br/public/placar/img/voter/74052.jpg\" alt=\"Deputado Federal Bosco Costa (PL–SE)\" pinger-seen=\"true\"></div></div><div class=\"custom-representative\" data-choice=\"Arthur Lira\"><div class=\"custom-representative__avatar\"><img class=\"custom-representative__avatar__photo\" loading=\"lazy\" src=\"https://arte.estadao.com.br/public/placar/img/voter/178829.jpg\" alt=\"Deputado Federal Capitão Augusto (PL–SP)\" pinger-seen=\"true\"></div></div><div class=\"custom-representative\" data-choice=\"Arthur Lira\"><div class=\"custom-representative__avatar\"><img class=\"custom-representative__avatar__photo\" loading=\"lazy\" src=\"https://arte.estadao.com.br/public/placar/img/voter/178924.jpg\" alt=\"Deputado Federal Capitão Fábio Abreu (PL–PI)\" pinger-seen=\"true\"></div></div><div class=\"custom-representative\" data-choice=\"Arthur Lira\"><div class=\"custom-representative__avatar\"><img class=\"custom-representative__avatar__photo\" loading=\"lazy\" src=\"https://arte.estadao.com.br/public/placar/img/voter/135054.jpg\" alt=\"Deputado Federal Cristiano Vale (PL–PA)\" pinger-seen=\"true\"></div></div><div class=\"custom-representative\" data-choice=\"Arthur Lira\"><div class=\"custom-representative__avatar\"><img class=\"custom-representative__avatar__photo\" loading=\"lazy\" src=\"https://arte.estadao.com.br/public/placar/img/voter/204481.jpg\" alt=\"Deputado Federal Dr. Jaziel (PL–CE)\" pinger-seen=\"true\"></div></div><div class=\"custom-representative\" data-choice=\"Arthur Lira\"><div class=\"custom-representative__avatar\"><img class=\"custom-representative__avatar__photo\" loading=\"lazy\" src=\"https://arte.estadao.com.br/public/placar/img/voter/141417.jpg\" alt=\"Deputado Federal Edio Lopes (PL–RR)\" pinger-seen=\"true\"></div></div><div class=\"custom-representative\" data-choice=\"Arthur Lira\"><div class=\"custom-representative__avatar\"><img class=\"custom-representative__avatar__photo\" loading=\"lazy\" src=\"https://arte.estadao.com.br/public/placar/img/voter/204427.jpg\" alt=\"Deputado Federal Fernando Rodolfo (PL–PE)\" pinger-seen=\"true\"></div></div><div class=\"custom-representative\" data-choice=\"Arthur Lira\"><div class=\"custom-representative__avatar\"><img class=\"custom-representative__avatar__photo\" loading=\"lazy\" src=\"https://arte.estadao.com.br/public/placar/img/voter/204354.jpg\" alt=\"Deputada Federal Flávia Arruda (PL–DF)\" pinger-seen=\"true\"></div></div><div class=\"custom-representative\" data-choice=\"Arthur Lira\"><div class=\"custom-representative__avatar\"><img class=\"custom-representative__avatar__photo\" loading=\"lazy\" src=\"https://arte.estadao.com.br/public/placar/img/voter/115746.jpg\" alt=\"Deputado Federal Gelson Azevedo (PL–RJ)\" pinger-seen=\"true\"></div></div><div class=\"custom-representative\" data-choice=\"Arthur Lira\"><div class=\"custom-representative__avatar\"><img class=\"custom-representative__avatar__photo\" loading=\"lazy\" src=\"https://arte.estadao.com.br/public/placar/img/voter/74383.jpg\" alt=\"Deputado Federal Giacobo (PL–PR)\" pinger-seen=\"true\"></div></div><div class=\"custom-representative\" data-choice=\"Arthur Lira\"><div class=\"custom-representative__avatar\"><img class=\"custom-representative__avatar__photo\" loading=\"lazy\" src=\"https://arte.estadao.com.br/public/placar/img/voter/160673.jpg\" alt=\"Deputado Federal Giovani Cherini (PL–RS)\" pinger-seen=\"true\"></div></div><div class=\"custom-representative\" data-choice=\"Arthur Lira\"><div class=\"custom-representative__avatar\"><img class=\"custom-representative__avatar__photo\" loading=\"lazy\" src=\"https://arte.estadao.com.br/public/placar/img/voter/141458.jpg\" alt=\"Deputado Federal João Carlos Bacelar (PL–BA)\" pinger-seen=\"true\"></div></div><div class=\"custom-representative\" data-choice=\"Arthur Lira\"><div class=\"custom-representative__avatar\"><img class=\"custom-representative__avatar__photo\" loading=\"lazy\" src=\"https://arte.estadao.com.br/public/placar/img/voter/141459.jpg\" alt=\"Deputado Federal João Maia (PL–RN)\" pinger-seen=\"true\"></div></div><div class=\"custom-representative\" data-choice=\"Arthur Lira\"><div class=\"custom-representative__avatar\"><img class=\"custom-representative__avatar__photo\" loading=\"lazy\" src=\"https://arte.estadao.com.br/public/placar/img/voter/214694.jpg\" alt=\"Deputado Federal Jorge Goetten (PL–SC)\" pinger-seen=\"true\"></div></div><div class=\"custom-representative\" data-choice=\"Arthur Lira\"><div class=\"custom-representative__avatar\"><img class=\"custom-representative__avatar__photo\" loading=\"lazy\" src=\"https://arte.estadao.com.br/public/placar/img/voter/74554.jpg\" alt=\"Deputado Federal José Rocha (PL–BA)\" pinger-seen=\"true\"></div></div><div class=\"custom-representative\" data-choice=\"Arthur Lira\"><div class=\"custom-representative__avatar\"><img class=\"custom-representative__avatar__photo\" loading=\"lazy\" src=\"https://arte.estadao.com.br/public/placar/img/voter/204550.jpg\" alt=\"Deputado Federal Júnior Mano (PL–CE)\" pinger-seen=\"true\"></div></div><div class=\"custom-representative\" data-choice=\"Arthur Lira\"><div class=\"custom-representative__avatar\"><img class=\"custom-representative__avatar__photo\" loading=\"lazy\" src=\"https://arte.estadao.com.br/public/placar/img/voter/74585.jpg\" alt=\"Deputado Federal Lincoln Portela (PL–MG)\" pinger-seen=\"true\"></div></div><div class=\"custom-representative\" data-choice=\"Arthur Lira\"><div class=\"custom-representative__avatar\"><img class=\"custom-representative__avatar__photo\" loading=\"lazy\" src=\"https://arte.estadao.com.br/public/placar/img/voter/204485.jpg\" alt=\"Deputado Federal Luiz Carlos Motta (PL–SP)\" pinger-seen=\"true\"></div></div><div class=\"custom-representative\" data-choice=\"Arthur Lira\"><div class=\"custom-representative__avatar\"><img class=\"custom-representative__avatar__photo\" loading=\"lazy\" src=\"https://arte.estadao.com.br/public/placar/img/voter/162332.jpg\" alt=\"Deputado Federal Luiz Nishimori (PL–PR)\" pinger-seen=\"true\"></div></div><div class=\"custom-representative\" data-choice=\"Arthur Lira\"><div class=\"custom-representative__avatar\"><img class=\"custom-representative__avatar__photo\" loading=\"lazy\" src=\"https://arte.estadao.com.br/public/placar/img/voter/166402.jpg\" alt=\"Deputada Federal Magda Mofatto (PL–GO)\" pinger-seen=\"true\"></div></div><div class=\"custom-representative\" data-choice=\"Arthur Lira\"><div class=\"custom-representative__avatar\"><img class=\"custom-representative__avatar__photo\" loading=\"lazy\" src=\"https://arte.estadao.com.br/public/placar/img/voter/204556.jpg\" alt=\"Deputado Federal Marcelo Ramos (PL–AM)\" pinger-seen=\"true\"></div></div><div class=\"custom-representative\" data-choice=\"Arthur Lira\"><div class=\"custom-representative__avatar\"><img class=\"custom-representative__avatar__photo\" loading=\"lazy\" src=\"https://arte.estadao.com.br/public/placar/img/voter/178983.jpg\" alt=\"Deputado Federal Marcio Alvino (PL–SP)\" pinger-seen=\"true\"></div></div><div class=\"custom-representative\" data-choice=\"Arthur Lira\"><div class=\"custom-representative__avatar\"><img class=\"custom-representative__avatar__photo\" loading=\"lazy\" src=\"https://arte.estadao.com.br/public/placar/img/voter/178985.jpg\" alt=\"Deputado Federal Miguel Lombardi (PL–SP)\" pinger-seen=\"true\"></div></div><div class=\"custom-representative\" data-choice=\"Arthur Lira\"><div class=\"custom-representative__avatar\"><img class=\"custom-representative__avatar__photo\" loading=\"lazy\" src=\"https://arte.estadao.com.br/public/placar/img/voter/204570.jpg\" alt=\"Deputado Federal Pastor Gil (PL–MA)\" pinger-seen=\"true\"></div></div><div class=\"custom-representative\" data-choice=\"Arthur Lira\"><div class=\"custom-representative__avatar\"><img class=\"custom-representative__avatar__photo\" loading=\"lazy\" src=\"https://arte.estadao.com.br/public/placar/img/voter/204529.jpg\" alt=\"Deputada Federal Policial Katia Sastre (PL–SP)\" pinger-seen=\"true\"></div></div><div class=\"custom-representative\" data-choice=\"Arthur Lira\"><div class=\"custom-representative__avatar\"><img class=\"custom-representative__avatar__photo\" loading=\"lazy\" src=\"https://arte.estadao.com.br/public/placar/img/voter/204567.jpg\" alt=\"Deputado Federal Raimundo Costa (PL–BA)\" pinger-seen=\"true\"></div></div><div class=\"custom-representative\" data-choice=\"Arthur Lira\"><div class=\"custom-representative__avatar\"><img class=\"custom-representative__avatar__photo\" loading=\"lazy\" src=\"https://arte.estadao.com.br/public/placar/img/voter/204438.jpg\" alt=\"Deputado Federal Sergio Toledo (PL–AL)\" pinger-seen=\"true\"></div></div><div class=\"custom-representative\" data-choice=\"Arthur Lira\"><div class=\"custom-representative__avatar\"><img class=\"custom-representative__avatar__photo\" loading=\"lazy\" src=\"https://arte.estadao.com.br/public/placar/img/voter/178946.jpg\" alt=\"Deputada Federal Soraya Santos (PL–RJ)\" pinger-seen=\"true\"></div></div><div class=\"custom-representative\" data-choice=\"Arthur Lira\"><div class=\"custom-representative__avatar\"><img class=\"custom-representative__avatar__photo\" loading=\"lazy\" src=\"https://arte.estadao.com.br/public/placar/img/voter/204385.jpg\" alt=\"Deputado Federal Valdevan Noventa (PL–SE)\" pinger-seen=\"true\"></div></div><div class=\"custom-representative\" data-choice=\"Arthur Lira\"><div class=\"custom-representative__avatar\"><img class=\"custom-representative__avatar__photo\" loading=\"lazy\" src=\"https://arte.estadao.com.br/public/placar/img/voter/137070.jpg\" alt=\"Deputado Federal Vicentinho Júnior (PL–TO)\" pinger-seen=\"true\"></div></div><div class=\"custom-representative\" data-choice=\"Arthur Lira\"><div class=\"custom-representative__avatar\"><img class=\"custom-representative__avatar__photo\" loading=\"lazy\" src=\"https://arte.estadao.com.br/public/placar/img/voter/160591.jpg\" alt=\"Deputado Federal Vinicius Gurgel (PL–AP)\" pinger-seen=\"true\"></div></div><div class=\"custom-representative\" data-choice=\"Arthur Lira\"><div class=\"custom-representative__avatar\"><img class=\"custom-representative__avatar__photo\" loading=\"lazy\" src=\"https://arte.estadao.com.br/public/placar/img/voter/74043.jpg\" alt=\"Deputado Federal Wellington Roberto (PL–PB)\" pinger-seen=\"true\"></div></div><div class=\"custom-representative\" data-choice=\"Arthur Lira\"><div class=\"custom-representative__avatar\"><img class=\"custom-representative__avatar__photo\" loading=\"lazy\" src=\"https://arte.estadao.com.br/public/placar/img/voter/204517.jpg\" alt=\"Deputado Federal Zé Vitor (PL–MG)\" pinger-seen=\"true\"></div></div><div class=\"custom-representative\" data-choice=\"Arthur Lira\"><div class=\"custom-representative__avatar\"><img class=\"custom-representative__avatar__photo\" loading=\"lazy\" src=\"https://arte.estadao.com.br/public/placar/img/voter/69871.jpg\" alt=\"Deputado Federal Bacelar (PODE–BA)\" pinger-seen=\"true\"></div></div><div class=\"custom-representative\" data-choice=\"Arthur Lira\"><div class=\"custom-representative__avatar\"><img class=\"custom-representative__avatar__photo\" loading=\"lazy\" src=\"https://arte.estadao.com.br/public/placar/img/voter/178929.jpg\" alt=\"Deputado Federal Diego Garcia (PODE–PR)\" pinger-seen=\"true\"></div></div><div class=\"custom-representative\" data-choice=\"Arthur Lira\"><div class=\"custom-representative__avatar\"><img class=\"custom-representative__avatar__photo\" loading=\"lazy\" src=\"https://arte.estadao.com.br/public/placar/img/voter/204472.jpg\" alt=\"Deputado Federal José Medeiros (PODE–MT)\" pinger-seen=\"true\"></div></div><div class=\"custom-representative\" data-choice=\"Arthur Lira\"><div class=\"custom-representative__avatar\"><img class=\"custom-representative__avatar__photo\" loading=\"lazy\" src=\"https://arte.estadao.com.br/public/placar/img/voter/204391.jpg\" alt=\"Deputado Federal José Nelto (PODE–GO)\" pinger-seen=\"true\"></div></div><div class=\"custom-representative\" data-choice=\"Arthur Lira\"><div class=\"custom-representative__avatar\"><img class=\"custom-representative__avatar__photo\" loading=\"lazy\" src=\"https://arte.estadao.com.br/public/placar/img/voter/178989.jpg\" alt=\"Deputada Federal Renata Abreu (PODE–SP)\" pinger-seen=\"true\"></div></div><div class=\"custom-representative\" data-choice=\"Arthur Lira\"><div class=\"custom-representative__avatar\"><img class=\"custom-representative__avatar__photo\" loading=\"lazy\" src=\"https://arte.estadao.com.br/public/placar/img/voter/178920.jpg\" alt=\"Deputado Federal Ricardo Teobaldo (PODE–PE)\" pinger-seen=\"true\"></div></div><div class=\"custom-representative\" data-choice=\"Arthur Lira\"><div class=\"custom-representative__avatar\"><img class=\"custom-representative__avatar__photo\" loading=\"lazy\" src=\"https://arte.estadao.com.br/public/placar/img/voter/160653.jpg\" alt=\"Deputado Federal Roberto de Lucena (PODE–SP)\" pinger-seen=\"true\"></div></div><div class=\"custom-representative\" data-choice=\"Arthur Lira\"><div class=\"custom-representative__avatar\"><img class=\"custom-representative__avatar__photo\" loading=\"lazy\" src=\"https://arte.estadao.com.br/public/placar/img/voter/121948.jpg\" alt=\"Deputado Federal Adriano do Baldy (PP–GO)\" pinger-seen=\"true\"></div></div><div class=\"custom-representative\" data-choice=\"Arthur Lira\"><div class=\"custom-representative__avatar\"><img class=\"custom-representative__avatar__photo\" loading=\"lazy\" src=\"https://arte.estadao.com.br/public/placar/img/voter/136811.jpg\" alt=\"Deputado Federal Afonso Hamm (PP–RS)\" pinger-seen=\"true\"></div></div><div class=\"custom-representative\" data-choice=\"Arthur Lira\"><div class=\"custom-representative__avatar\"><img class=\"custom-representative__avatar__photo\" loading=\"lazy\" src=\"https://arte.estadao.com.br/public/placar/img/voter/204549.jpg\" alt=\"Deputado Federal AJ Albuquerque (PP–CE)\" pinger-seen=\"true\"></div></div><div class=\"custom-representative\" data-choice=\"Arthur Lira\"><div class=\"custom-representative__avatar\"><img class=\"custom-representative__avatar__photo\" loading=\"lazy\" src=\"https://arte.estadao.com.br/public/placar/img/voter/178831.jpg\" alt=\"Deputado Federal André Abdon (PP–AP)\" pinger-seen=\"true\"></div></div><div class=\"custom-representative\" data-choice=\"Arthur Lira\"><div class=\"custom-representative__avatar\"><img class=\"custom-representative__avatar__photo\" loading=\"lazy\" src=\"https://arte.estadao.com.br/public/placar/img/voter/178882.jpg\" alt=\"Deputado Federal André Fufuca (PP–MA)\" pinger-seen=\"true\"></div></div><div class=\"custom-representative\" data-choice=\"Arthur Lira\"><div class=\"custom-representative__avatar\"><img class=\"custom-representative__avatar__photo\" loading=\"lazy\" src=\"https://arte.estadao.com.br/public/placar/img/voter/73696.jpg\" alt=\"Deputada Federal Angela Amin (PP–SC)\" pinger-seen=\"true\"></div></div><div class=\"custom-representative\" data-choice=\"Arthur Lira\"><div class=\"custom-representative__avatar\"><img class=\"custom-representative__avatar__photo\" loading=\"lazy\" src=\"https://arte.estadao.com.br/public/placar/img/voter/160541.jpg\" alt=\"Deputado Federal Arthur Lira (PP–AL)\" pinger-seen=\"true\"></div></div><div class=\"custom-representative\" data-choice=\"Arthur Lira\"><div class=\"custom-representative__avatar\"><img class=\"custom-representative__avatar__photo\" loading=\"lazy\" src=\"https://arte.estadao.com.br/public/placar/img/voter/74090.jpg\" alt=\"Deputado Federal Átila Lins (PP–AM)\" pinger-seen=\"true\"></div></div><div class=\"custom-representative\" data-choice=\"Arthur Lira\"><div class=\"custom-representative__avatar\"><img class=\"custom-representative__avatar__photo\" loading=\"lazy\" src=\"https://arte.estadao.com.br/public/placar/img/voter/74459.jpg\" alt=\"Deputado Federal Átila Lira (PP–PI)\" pinger-seen=\"true\"></div></div><div class=\"custom-representative\" data-choice=\"Arthur Lira\"><div class=\"custom-representative__avatar\"><img class=\"custom-representative__avatar__photo\" loading=\"lazy\" src=\"https://arte.estadao.com.br/public/placar/img/voter/178948.jpg\" alt=\"Deputado Federal Beto Rosado (PP–RN)\" pinger-seen=\"true\"></div></div><div class=\"custom-representative\" data-choice=\"Arthur Lira\"><div class=\"custom-representative__avatar\"><img class=\"custom-representative__avatar__photo\" loading=\"lazy\" src=\"https://arte.estadao.com.br/public/placar/img/voter/93083.jpg\" alt=\"Deputado Federal Cacá Leão (PP–BA)\" pinger-seen=\"true\"></div></div><div class=\"custom-representative\" data-choice=\"Arthur Lira\"><div class=\"custom-representative__avatar\"><img class=\"custom-representative__avatar__photo\" loading=\"lazy\" src=\"https://arte.estadao.com.br/public/placar/img/voter/204380.jpg\" alt=\"Deputada Federal Celina Leão (PP–DF)\" pinger-seen=\"true\"></div></div><div class=\"custom-representative\" data-choice=\"Arthur Lira\"><div class=\"custom-representative__avatar\"><img class=\"custom-representative__avatar__photo\" loading=\"lazy\" src=\"https://arte.estadao.com.br/public/placar/img/voter/204440.jpg\" alt=\"Deputado Federal Christino Aureo (PP–RJ)\" pinger-seen=\"true\"></div></div><div class=\"custom-representative\" data-choice=\"Arthur Lira\"><div class=\"custom-representative__avatar\"><img class=\"custom-representative__avatar__photo\" loading=\"lazy\" src=\"https://arte.estadao.com.br/public/placar/img/voter/74537.jpg\" alt=\"Deputado Federal Claudio Cajado (PP–BA)\" pinger-seen=\"true\"></div></div><div class=\"custom-representative\" data-choice=\"Arthur Lira\"><div class=\"custom-representative__avatar\"><img class=\"custom-representative__avatar__photo\" loading=\"lazy\" src=\"https://arte.estadao.com.br/public/placar/img/voter/160599.jpg\" alt=\"Deputado Federal Dimas Fabiano (PP–MG)\" pinger-seen=\"true\"></div></div><div class=\"custom-representative\" data-choice=\"Arthur Lira\"><div class=\"custom-representative__avatar\"><img class=\"custom-representative__avatar__photo\" loading=\"lazy\" src=\"https://arte.estadao.com.br/public/placar/img/voter/204450.jpg\" alt=\"Deputado Federal Dr. Luiz Antonio Teixeira Jr. (PP–RJ)\" pinger-seen=\"true\"></div></div><div class=\"custom-representative\" data-choice=\"Arthur Lira\"><div class=\"custom-representative__avatar\"><img class=\"custom-representative__avatar__photo\" loading=\"lazy\" src=\"https://arte.estadao.com.br/public/placar/img/voter/141421.jpg\" alt=\"Deputado Federal Eduardo da Fonte (PP–PE)\" pinger-seen=\"true\"></div></div><div class=\"custom-representative\" data-choice=\"Arthur Lira\"><div class=\"custom-representative__avatar\"><img class=\"custom-representative__avatar__photo\" loading=\"lazy\" src=\"https://arte.estadao.com.br/public/placar/img/voter/178871.jpg\" alt=\"Deputado Federal Evair Vieira de Melo (PP–ES)\" pinger-seen=\"true\"></div></div><div class=\"custom-representative\" data-choice=\"Arthur Lira\"><div class=\"custom-representative__avatar\"><img class=\"custom-representative__avatar__photo\" loading=\"lazy\" src=\"https://arte.estadao.com.br/public/placar/img/voter/66828.jpg\" alt=\"Deputado Federal Fausto Pinato (PP–SP)\" pinger-seen=\"true\"></div></div><div class=\"custom-representative\" data-choice=\"Arthur Lira\"><div class=\"custom-representative__avatar\"><img class=\"custom-representative__avatar__photo\" loading=\"lazy\" src=\"https://arte.estadao.com.br/public/placar/img/voter/92699.jpg\" alt=\"Deputado Federal Fernando Monteiro (PP–PE)\" pinger-seen=\"true\"></div></div><div class=\"custom-representative\" data-choice=\"Arthur Lira\"><div class=\"custom-representative__avatar\"><img class=\"custom-representative__avatar__photo\" loading=\"lazy\" src=\"https://arte.estadao.com.br/public/placar/img/voter/204510.jpg\" alt=\"Deputado Federal Franco Cartafina (PP–MG)\" pinger-seen=\"true\"></div></div><div class=\"custom-representative\" data-choice=\"Arthur Lira\"><div class=\"custom-representative__avatar\"><img class=\"custom-representative__avatar__photo\" loading=\"lazy\" src=\"https://arte.estadao.com.br/public/placar/img/voter/204531.jpg\" alt=\"Deputado Federal Guilherme Derrite (PP–SP)\" pinger-seen=\"true\"></div></div><div class=\"custom-representative\" data-choice=\"Arthur Lira\"><div class=\"custom-representative__avatar\"><img class=\"custom-representative__avatar__photo\" loading=\"lazy\" src=\"https://arte.estadao.com.br/public/placar/img/voter/160667.jpg\" alt=\"Deputado Federal Guilherme Mussi (PP–SP)\" pinger-seen=\"true\"></div></div><div class=\"custom-representative\" data-choice=\"Arthur Lira\"><div class=\"custom-representative__avatar\"><img class=\"custom-representative__avatar__photo\" loading=\"lazy\" src=\"https://arte.estadao.com.br/public/placar/img/voter/178959.jpg\" alt=\"Deputado Federal Hiran Gonçalves (PP–RR)\" pinger-seen=\"true\"></div></div><div class=\"custom-representative\" data-choice=\"Arthur Lira\"><div class=\"custom-representative__avatar\"><img class=\"custom-representative__avatar__photo\" loading=\"lazy\" src=\"https://arte.estadao.com.br/public/placar/img/voter/67138.jpg\" alt=\"Deputada Federal Iracema Portella (PP–PI)\" pinger-seen=\"true\"></div></div><div class=\"custom-representative\" data-choice=\"Arthur Lira\"><div class=\"custom-representative__avatar\"><img class=\"custom-representative__avatar__photo\" loading=\"lazy\" src=\"https://arte.estadao.com.br/public/placar/img/voter/108338.jpg\" alt=\"Deputada Federal Jaqueline Cassol (PP–RO)\" pinger-seen=\"true\"></div></div><div class=\"custom-representative\" data-choice=\"Arthur Lira\"><div class=\"custom-representative__avatar\"><img class=\"custom-representative__avatar__photo\" loading=\"lazy\" src=\"https://arte.estadao.com.br/public/placar/img/voter/160570.jpg\" alt=\"Deputado Federal Jerônimo Goergen (PP–RS)\" pinger-seen=\"true\"></div></div><div class=\"custom-representative\" data-choice=\"Arthur Lira\"><div class=\"custom-representative__avatar\"><img class=\"custom-representative__avatar__photo\" loading=\"lazy\" src=\"https://arte.estadao.com.br/public/placar/img/voter/151208.jpg\" alt=\"Deputado Federal Laercio Oliveira (PP–SE)\" pinger-seen=\"true\"></div></div><div class=\"custom-representative\" data-choice=\"Arthur Lira\"><div class=\"custom-representative__avatar\"><img class=\"custom-representative__avatar__photo\" loading=\"lazy\" src=\"https://arte.estadao.com.br/public/placar/img/voter/146788.jpg\" alt=\"Deputado Federal Marcelo Aro (PP–MG)\" pinger-seen=\"true\"></div></div><div class=\"custom-representative\" data-choice=\"Arthur Lira\"><div class=\"custom-representative__avatar\"><img class=\"custom-representative__avatar__photo\" loading=\"lazy\" src=\"https://arte.estadao.com.br/public/placar/img/voter/204430.jpg\" alt=\"Deputada Federal Margarete Coelho (PP–PI)\" pinger-seen=\"true\"></div></div><div class=\"custom-representative\" data-choice=\"Arthur Lira\"><div class=\"custom-representative__avatar\"><img class=\"custom-representative__avatar__photo\" loading=\"lazy\" src=\"https://arte.estadao.com.br/public/placar/img/voter/178858.jpg\" alt=\"Deputado Federal Mário Negromonte Jr. (PP–BA)\" pinger-seen=\"true\"></div></div><div class=\"custom-representative\" data-choice=\"Arthur Lira\"><div class=\"custom-representative__avatar\"><img class=\"custom-representative__avatar__photo\" loading=\"lazy\" src=\"https://arte.estadao.com.br/public/placar/img/voter/146307.jpg\" alt=\"Deputado Federal Neri Geller (PP–MT)\" pinger-seen=\"true\"></div></div><div class=\"custom-representative\" data-choice=\"Arthur Lira\"><div class=\"custom-representative__avatar\"><img class=\"custom-representative__avatar__photo\" loading=\"lazy\" src=\"https://arte.estadao.com.br/public/placar/img/voter/204406.jpg\" alt=\"Deputado Federal Pedro Westphalen (PP–RS)\" pinger-seen=\"true\"></div></div><div class=\"custom-representative\" data-choice=\"Arthur Lira\"><div class=\"custom-representative__avatar\"><img class=\"custom-representative__avatar__photo\" loading=\"lazy\" src=\"https://arte.estadao.com.br/public/placar/img/voter/204524.jpg\" alt=\"Deputado Federal Pinheirinho (PP–MG)\" pinger-seen=\"true\"></div></div><div class=\"custom-representative\" data-choice=\"Arthur Lira\"><div class=\"custom-representative__avatar\"><img class=\"custom-representative__avatar__photo\" loading=\"lazy\" src=\"https://arte.estadao.com.br/public/placar/img/voter/204390.jpg\" alt=\"Deputado Federal Professor Alcides (PP–GO)\" pinger-seen=\"true\"></div></div><div class=\"custom-representative\" data-choice=\"Arthur Lira\"><div class=\"custom-representative__avatar\"><img class=\"custom-representative__avatar__photo\" loading=\"lazy\" src=\"https://arte.estadao.com.br/public/placar/img/voter/73788.jpg\" alt=\"Deputado Federal Ricardo Barros (PP–PR)\" pinger-seen=\"true\"></div></div><div class=\"custom-representative\" data-choice=\"Arthur Lira\"><div class=\"custom-representative__avatar\"><img class=\"custom-representative__avatar__photo\" loading=\"lazy\" src=\"https://arte.estadao.com.br/public/placar/img/voter/160655.jpg\" alt=\"Deputado Federal Ricardo Izar (PP–SP)\" pinger-seen=\"true\"></div></div><div class=\"custom-representative\" data-choice=\"Arthur Lira\"><div class=\"custom-representative__avatar\"><img class=\"custom-representative__avatar__photo\" loading=\"lazy\" src=\"https://arte.estadao.com.br/public/placar/img/voter/178861.jpg\" alt=\"Deputado Federal Ronaldo Carletto (PP–BA)\" pinger-seen=\"true\"></div></div><div class=\"custom-representative\" data-choice=\"Arthur Lira\"><div class=\"custom-representative__avatar\"><img class=\"custom-representative__avatar__photo\" loading=\"lazy\" src=\"https://arte.estadao.com.br/public/placar/img/voter/204399.jpg\" alt=\"Deputado Federal Schiavinato (PP–PR)\" pinger-seen=\"true\"></div></div><div class=\"custom-representative\" data-choice=\"Arthur Lira\"><div class=\"custom-representative__avatar\"><img class=\"custom-representative__avatar__photo\" loading=\"lazy\" src=\"https://arte.estadao.com.br/public/placar/img/voter/204397.jpg\" alt=\"Deputado Federal Boca Aberta (PROS–PR)\" pinger-seen=\"true\"></div></div><div class=\"custom-representative\" data-choice=\"Arthur Lira\"><div class=\"custom-representative__avatar\"><img class=\"custom-representative__avatar__photo\" loading=\"lazy\" src=\"https://arte.estadao.com.br/public/placar/img/voter/204487.jpg\" alt=\"Deputado Federal Capitão Wagner (PROS–CE)\" pinger-seen=\"true\"></div></div><div class=\"custom-representative\" data-choice=\"Arthur Lira\"><div class=\"custom-representative__avatar\"><img class=\"custom-representative__avatar__photo\" loading=\"lazy\" src=\"https://arte.estadao.com.br/public/placar/img/voter/178939.jpg\" alt=\"Deputada Federal Clarissa Garotinho (PROS–RJ)\" pinger-seen=\"true\"></div></div><div class=\"custom-representative\" data-choice=\"Arthur Lira\"><div class=\"custom-representative__avatar\"><img class=\"custom-representative__avatar__photo\" loading=\"lazy\" src=\"https://arte.estadao.com.br/public/placar/img/voter/160640.jpg\" alt=\"Deputado Federal Eros Biondini (PROS–MG)\" pinger-seen=\"true\"></div></div><div class=\"custom-representative\" data-choice=\"Arthur Lira\"><div class=\"custom-representative__avatar\"><img class=\"custom-representative__avatar__photo\" loading=\"lazy\" src=\"https://arte.estadao.com.br/public/placar/img/voter/72442.jpg\" alt=\"Deputado Federal Felipe Carreras (PSB–PE)\" pinger-seen=\"true\"></div></div><div class=\"custom-representative\" data-choice=\"Arthur Lira\"><div class=\"custom-representative__avatar\"><img class=\"custom-representative__avatar__photo\" loading=\"lazy\" src=\"https://arte.estadao.com.br/public/placar/img/voter/204405.jpg\" alt=\"Deputada Federal Liziane Bayer (PSB–RS)\" pinger-seen=\"true\"></div></div><div class=\"custom-representative\" data-choice=\"Arthur Lira\"><div class=\"custom-representative__avatar\"><img class=\"custom-representative__avatar__photo\" loading=\"lazy\" src=\"https://arte.estadao.com.br/public/placar/img/voter/178881.jpg\" alt=\"Deputado Federal Aluisio Mendes (PSC–MA)\" pinger-seen=\"true\"></div></div><div class=\"custom-representative\" data-choice=\"Arthur Lira\"><div class=\"custom-representative__avatar\"><img class=\"custom-representative__avatar__photo\" loading=\"lazy\" src=\"https://arte.estadao.com.br/public/placar/img/voter/204423.jpg\" alt=\"Deputado Federal André Ferreira (PSC–PE)\" pinger-seen=\"true\"></div></div><div class=\"custom-representative\" data-choice=\"Arthur Lira\"><div class=\"custom-representative__avatar\"><img class=\"custom-representative__avatar__photo\" loading=\"lazy\" src=\"https://arte.estadao.com.br/public/placar/img/voter/74270.jpg\" alt=\"Deputado Federal Gilberto Nascimento (PSC–SP)\" pinger-seen=\"true\"></div></div><div class=\"custom-representative\" data-choice=\"Arthur Lira\"><div class=\"custom-representative__avatar\"><img class=\"custom-representative__avatar__photo\" loading=\"lazy\" src=\"https://arte.estadao.com.br/public/placar/img/voter/204419.jpg\" alt=\"Deputado Federal Glaustin da Fokus (PSC–GO)\" pinger-seen=\"true\"></div></div><div class=\"custom-representative\" data-choice=\"Arthur Lira\"><div class=\"custom-representative__avatar\"><img class=\"custom-representative__avatar__photo\" loading=\"lazy\" src=\"https://arte.estadao.com.br/public/placar/img/voter/160534.jpg\" alt=\"Deputada Federal Lauriete (PSC–ES)\" pinger-seen=\"true\"></div></div><div class=\"custom-representative\" data-choice=\"Arthur Lira\"><div class=\"custom-representative__avatar\"><img class=\"custom-representative__avatar__photo\" loading=\"lazy\" src=\"https://arte.estadao.com.br/public/placar/img/voter/204363.jpg\" alt=\"Deputado Federal Osires Damaso (PSC–TO)\" pinger-seen=\"true\"></div></div><div class=\"custom-representative\" data-choice=\"Arthur Lira\"><div class=\"custom-representative__avatar\"><img class=\"custom-representative__avatar__photo\" loading=\"lazy\" src=\"https://arte.estadao.com.br/public/placar/img/voter/204441.jpg\" alt=\"Deputado Federal Otoni de Paula (PSC–RJ)\" pinger-seen=\"true\"></div></div><div class=\"custom-representative\" data-choice=\"Arthur Lira\"><div class=\"custom-representative__avatar\"><img class=\"custom-representative__avatar__photo\" loading=\"lazy\" src=\"https://arte.estadao.com.br/public/placar/img/voter/193726.jpg\" alt=\"Deputado Federal Paulo Eduardo Martins (PSC–PR)\" pinger-seen=\"true\"></div></div><div class=\"custom-representative\" data-choice=\"Arthur Lira\"><div class=\"custom-representative__avatar\"><img class=\"custom-representative__avatar__photo custom-representative__avatar__photo--anon\" loading=\"lazy\" src=\"https://arte.estadao.com.br/public/pages/dn/gz/q7/0e/o2/40/outros-candidatos.png\" alt=\"Deputado Federal Ricardo da Karol (PSC–RJ)\" pinger-seen=\"true\"></div></div><div class=\"custom-representative\" data-choice=\"Arthur Lira\"><div class=\"custom-representative__avatar\"><img class=\"custom-representative__avatar__photo\" loading=\"lazy\" src=\"https://arte.estadao.com.br/public/placar/img/voter/74471.jpg\" alt=\"Deputado Federal André de Paula (PSD–PE)\" pinger-seen=\"true\"></div></div><div class=\"custom-representative\" data-choice=\"Arthur Lira\"><div class=\"custom-representative__avatar\"><img class=\"custom-representative__avatar__photo\" loading=\"lazy\" src=\"https://arte.estadao.com.br/public/placar/img/voter/160553.jpg\" alt=\"Deputado Federal Antonio Brito (PSD–BA)\" pinger-seen=\"true\"></div></div><div class=\"custom-representative\" data-choice=\"Arthur Lira\"><div class=\"custom-representative__avatar\"><img class=\"custom-representative__avatar__photo\" loading=\"lazy\" src=\"https://arte.estadao.com.br/public/placar/img/voter/204504.jpg\" alt=\"Deputado Federal Cezinha de Madureira (PSD–SP)\" pinger-seen=\"true\"></div></div><div class=\"custom-representative\" data-choice=\"Arthur Lira\"><div class=\"custom-representative__avatar\"><img class=\"custom-representative__avatar__photo\" loading=\"lazy\" src=\"https://arte.estadao.com.br/public/placar/img/voter/116379.jpg\" alt=\"Deputado Federal Darci de Matos (PSD–SC)\" pinger-seen=\"true\"></div></div><div class=\"custom-representative\" data-choice=\"Arthur Lira\"><div class=\"custom-representative__avatar\"><img class=\"custom-representative__avatar__photo\" loading=\"lazy\" src=\"https://arte.estadao.com.br/public/placar/img/voter/178908.jpg\" alt=\"Deputado Federal Delegado Éder Mauro (PSD–PA)\" pinger-seen=\"true\"></div></div><div class=\"custom-representative\" data-choice=\"Arthur Lira\"><div class=\"custom-representative__avatar\"><img class=\"custom-representative__avatar__photo\" loading=\"lazy\" src=\"https://arte.estadao.com.br/public/placar/img/voter/160588.jpg\" alt=\"Deputado Federal Diego Andrade (PSD–MG)\" pinger-seen=\"true\"></div></div><div class=\"custom-representative\" data-choice=\"Arthur Lira\"><div class=\"custom-representative__avatar\"><img class=\"custom-representative__avatar__photo\" loading=\"lazy\" src=\"https://arte.estadao.com.br/public/placar/img/voter/143632.jpg\" alt=\"Deputado Federal Domingos Neto (PSD–CE)\" pinger-seen=\"true\"></div></div><div class=\"custom-representative\" data-choice=\"Arthur Lira\"><div class=\"custom-representative__avatar\"><img class=\"custom-representative__avatar__photo\" loading=\"lazy\" src=\"https://arte.estadao.com.br/public/placar/img/voter/204562.jpg\" alt=\"Deputado Federal Edilázio Júnior (PSD–MA)\" pinger-seen=\"true\"></div></div><div class=\"custom-representative\" data-choice=\"Arthur Lira\"><div class=\"custom-representative__avatar\"><img class=\"custom-representative__avatar__photo\" loading=\"lazy\" src=\"https://arte.estadao.com.br/public/placar/img/voter/178953.jpg\" alt=\"Deputado Federal Expedito Netto (PSD–RO)\" pinger-seen=\"true\"></div></div><div class=\"custom-representative\" data-choice=\"Arthur Lira\"><div class=\"custom-representative__avatar\"><img class=\"custom-representative__avatar__photo\" loading=\"lazy\" src=\"https://arte.estadao.com.br/public/placar/img/voter/141428.jpg\" alt=\"Deputado Federal Fabio Faria (PSD–RN)\" pinger-seen=\"true\"></div></div><div class=\"custom-representative\" data-choice=\"Arthur Lira\"><div class=\"custom-representative__avatar\"><img class=\"custom-representative__avatar__photo\" loading=\"lazy\" src=\"https://arte.estadao.com.br/public/placar/img/voter/178969.jpg\" alt=\"Deputado Federal Fábio Mitidieri (PSD–SE)\" pinger-seen=\"true\"></div></div><div class=\"custom-representative\" data-choice=\"Arthur Lira\"><div class=\"custom-representative__avatar\"><img class=\"custom-representative__avatar__photo\" loading=\"lazy\" src=\"https://arte.estadao.com.br/public/placar/img/voter/204447.jpg\" alt=\"Deputada Federal Flordelis (PSD–RJ)\" pinger-seen=\"true\"></div></div><div class=\"custom-representative\" data-choice=\"Arthur Lira\"><div class=\"custom-representative__avatar\"><img class=\"custom-representative__avatar__photo\" loading=\"lazy\" src=\"https://arte.estadao.com.br/public/placar/img/voter/204392.jpg\" alt=\"Deputado Federal Francisco Jr. (PSD–GO)\" pinger-seen=\"true\"></div></div><div class=\"custom-representative\" data-choice=\"Arthur Lira\"><div class=\"custom-representative__avatar\"><img class=\"custom-representative__avatar__photo\" loading=\"lazy\" src=\"https://arte.estadao.com.br/public/placar/img/voter/204465.jpg\" alt=\"Deputado Federal Haroldo Cathedral (PSD–RR)\" pinger-seen=\"true\"></div></div><div class=\"custom-representative\" data-choice=\"Arthur Lira\"><div class=\"custom-representative__avatar\"><img class=\"custom-representative__avatar__photo\" loading=\"lazy\" src=\"https://arte.estadao.com.br/public/placar/img/voter/141450.jpg\" alt=\"Deputado Federal Hugo Leal (PSD–RJ)\" pinger-seen=\"true\"></div></div><div class=\"custom-representative\" data-choice=\"Arthur Lira\"><div class=\"custom-representative__avatar\"><img class=\"custom-representative__avatar__photo\" loading=\"lazy\" src=\"https://arte.estadao.com.br/public/placar/img/voter/178910.jpg\" alt=\"Deputado Federal Joaquim Passarinho (PSD–PA)\" pinger-seen=\"true\"></div></div><div class=\"custom-representative\" data-choice=\"Arthur Lira\"><div class=\"custom-representative__avatar\"><img class=\"custom-representative__avatar__photo\" loading=\"lazy\" src=\"https://arte.estadao.com.br/public/placar/img/voter/160619.jpg\" alt=\"Deputado Federal José Nunes (PSD–BA)\" pinger-seen=\"true\"></div></div><div class=\"custom-representative\" data-choice=\"Arthur Lira\"><div class=\"custom-representative__avatar\"><img class=\"custom-representative__avatar__photo\" loading=\"lazy\" src=\"https://arte.estadao.com.br/public/placar/img/voter/74317.jpg\" alt=\"Deputado Federal Júlio Cesar (PSD–PI)\" pinger-seen=\"true\"></div></div><div class=\"custom-representative\" data-choice=\"Arthur Lira\"><div class=\"custom-representative__avatar\"><img class=\"custom-representative__avatar__photo\" loading=\"lazy\" src=\"https://arte.estadao.com.br/public/placar/img/voter/204497.jpg\" alt=\"Deputado Federal Júnior Ferrari (PSD–PA)\" pinger-seen=\"true\"></div></div><div class=\"custom-representative\" data-choice=\"Arthur Lira\"><div class=\"custom-representative__avatar\"><img class=\"custom-representative__avatar__photo\" loading=\"lazy\" src=\"https://arte.estadao.com.br/public/placar/img/voter/204522.jpg\" alt=\"Deputado Federal Marco Bertaiolli (PSD–SP)\" pinger-seen=\"true\"></div></div><div class=\"custom-representative\" data-choice=\"Arthur Lira\"><div class=\"custom-representative__avatar\"><img class=\"custom-representative__avatar__photo\" loading=\"lazy\" src=\"https://arte.estadao.com.br/public/placar/img/voter/178843.jpg\" alt=\"Deputado Federal Marx Beltrão (PSD–AL)\" pinger-seen=\"true\"></div></div><div class=\"custom-representative\" data-choice=\"Arthur Lira\"><div class=\"custom-representative__avatar\"><img class=\"custom-representative__avatar__photo\" loading=\"lazy\" src=\"https://arte.estadao.com.br/public/placar/img/voter/178895.jpg\" alt=\"Deputado Federal Misael Varella (PSD–MG)\" pinger-seen=\"true\"></div></div><div class=\"custom-representative\" data-choice=\"Arthur Lira\"><div class=\"custom-representative__avatar\"><img class=\"custom-representative__avatar__photo\" loading=\"lazy\" src=\"https://arte.estadao.com.br/public/placar/img/voter/74165.jpg\" alt=\"Deputado Federal Neucimar Fraga (PSD–ES)\" pinger-seen=\"true\"></div></div><div class=\"custom-representative\" data-choice=\"Arthur Lira\"><div class=\"custom-representative__avatar\"><img class=\"custom-representative__avatar__photo\" loading=\"lazy\" src=\"https://arte.estadao.com.br/public/placar/img/voter/204573.jpg\" alt=\"Deputado Federal Otto Alencar Filho (PSD–BA)\" pinger-seen=\"true\"></div></div><div class=\"custom-representative\" data-choice=\"Arthur Lira\"><div class=\"custom-representative__avatar\"><img class=\"custom-representative__avatar__photo\" loading=\"lazy\" src=\"https://arte.estadao.com.br/public/placar/img/voter/74574.jpg\" alt=\"Deputado Federal Paulo Magalhães (PSD–BA)\" pinger-seen=\"true\"></div></div><div class=\"custom-representative\" data-choice=\"Arthur Lira\"><div class=\"custom-representative__avatar\"><img class=\"custom-representative__avatar__photo custom-representative__avatar__photo--anon\" loading=\"lazy\" src=\"https://arte.estadao.com.br/public/pages/dn/gz/q7/0e/o2/40/outros-candidatos.png\" alt=\"Deputado Federal Pedro Augusto (PSD–RJ)\" pinger-seen=\"true\"></div></div><div class=\"custom-representative\" data-choice=\"Arthur Lira\"><div class=\"custom-representative__avatar\"><img class=\"custom-representative__avatar__photo\" loading=\"lazy\" src=\"https://arte.estadao.com.br/public/placar/img/voter/205865.jpg\" alt=\"Deputado Federal Reinhold Stephanes Junior (PSD–PR)\" pinger-seen=\"true\"></div></div><div class=\"custom-representative\" data-choice=\"Arthur Lira\"><div class=\"custom-representative__avatar\"><img class=\"custom-representative__avatar__photo\" loading=\"lazy\" src=\"https://arte.estadao.com.br/public/placar/img/voter/73808.jpg\" alt=\"Deputado Federal Sérgio Brito (PSD–BA)\" pinger-seen=\"true\"></div></div><div class=\"custom-representative\" data-choice=\"Arthur Lira\"><div class=\"custom-representative__avatar\"><img class=\"custom-representative__avatar__photo\" loading=\"lazy\" src=\"https://arte.estadao.com.br/public/placar/img/voter/204557.jpg\" alt=\"Deputado Federal Sidney Leite (PSD–AM)\" pinger-seen=\"true\"></div></div><div class=\"custom-representative\" data-choice=\"Arthur Lira\"><div class=\"custom-representative__avatar\"><img class=\"custom-representative__avatar__photo\" loading=\"lazy\" src=\"https://arte.estadao.com.br/public/placar/img/voter/92776.jpg\" alt=\"Deputado Federal Stefano Aguiar (PSD–MG)\" pinger-seen=\"true\"></div></div><div class=\"custom-representative\" data-choice=\"Arthur Lira\"><div class=\"custom-representative__avatar\"><img class=\"custom-representative__avatar__photo\" loading=\"lazy\" src=\"https://arte.estadao.com.br/public/placar/img/voter/204396.jpg\" alt=\"Deputado Federal Vermelho (PSD–PR)\" pinger-seen=\"true\"></div></div><div class=\"custom-representative\" data-choice=\"Arthur Lira\"><div class=\"custom-representative__avatar\"><img class=\"custom-representative__avatar__photo\" loading=\"lazy\" src=\"https://arte.estadao.com.br/public/placar/img/voter/204560.jpg\" alt=\"Deputado Federal Adolfo Viana (PSDB–BA)\" pinger-seen=\"true\"></div></div><div class=\"custom-representative\" data-choice=\"Arthur Lira\"><div class=\"custom-representative__avatar\"><img class=\"custom-representative__avatar__photo\" loading=\"lazy\" src=\"https://arte.estadao.com.br/public/placar/img/voter/204496.jpg\" alt=\"Deputado Federal Celso Sabino (PSDB–PA)\" pinger-seen=\"true\"></div></div><div class=\"custom-representative\" data-choice=\"Arthur Lira\"><div class=\"custom-representative__avatar\"><img class=\"custom-representative__avatar__photo\" loading=\"lazy\" src=\"https://arte.estadao.com.br/public/placar/img/voter/204421.jpg\" alt=\"Deputada Federal Edna Henrique (PSDB–PB)\" pinger-seen=\"true\"></div></div><div class=\"custom-representative\" data-choice=\"Arthur Lira\"><div class=\"custom-representative__avatar\"><img class=\"custom-representative__avatar__photo\" loading=\"lazy\" src=\"https://arte.estadao.com.br/public/placar/img/voter/160645.jpg\" alt=\"Deputado Federal Luiz Carlos (PSDB–AP)\" pinger-seen=\"true\"></div></div><div class=\"custom-representative\" data-choice=\"Arthur Lira\"><div class=\"custom-representative__avatar\"><img class=\"custom-representative__avatar__photo\" loading=\"lazy\" src=\"https://arte.estadao.com.br/public/placar/img/voter/204471.jpg\" alt=\"Deputada Federal Mara Rocha (PSDB–AC)\" pinger-seen=\"true\"></div></div><div class=\"custom-representative\" data-choice=\"Arthur Lira\"><div class=\"custom-representative__avatar\"><img class=\"custom-representative__avatar__photo\" loading=\"lazy\" src=\"https://arte.estadao.com.br/public/placar/img/voter/178912.jpg\" alt=\"Deputado Federal Pedro Cunha Lima (PSDB–PB)\" pinger-seen=\"true\"></div></div><div class=\"custom-representative\" data-choice=\"Arthur Lira\"><div class=\"custom-representative__avatar\"><img class=\"custom-representative__avatar__photo\" loading=\"lazy\" src=\"https://arte.estadao.com.br/public/placar/img/voter/204357.jpg\" alt=\"Deputada Federal Rose Modesto (PSDB–MS)\" pinger-seen=\"true\"></div></div><div class=\"custom-representative\" data-choice=\"Arthur Lira\"><div class=\"custom-representative__avatar\"><img class=\"custom-representative__avatar__photo\" loading=\"lazy\" src=\"https://arte.estadao.com.br/public/placar/img/voter/204545.jpg\" alt=\"Deputada Federal Alê Silva (PSL–MG)\" pinger-seen=\"true\"></div></div><div class=\"custom-representative\" data-choice=\"Arthur Lira\"><div class=\"custom-representative__avatar\"><img class=\"custom-representative__avatar__photo\" loading=\"lazy\" src=\"https://arte.estadao.com.br/public/placar/img/voter/204400.jpg\" alt=\"Deputada Federal Aline Sleutjes (PSL–PR)\" pinger-seen=\"true\"></div></div><div class=\"custom-representative\" data-choice=\"Arthur Lira\"><div class=\"custom-representative__avatar\"><img class=\"custom-representative__avatar__photo\" loading=\"lazy\" src=\"https://arte.estadao.com.br/public/placar/img/voter/204374.jpg\" alt=\"Deputada Federal Bia Kicis (PSL–DF)\" pinger-seen=\"true\"></div></div><div class=\"custom-representative\" data-choice=\"Arthur Lira\"><div class=\"custom-representative__avatar\"><img class=\"custom-representative__avatar__photo\" loading=\"lazy\" src=\"https://arte.estadao.com.br/public/placar/img/voter/204388.jpg\" alt=\"Deputado Federal Bibo Nunes (PSL–RS)\" pinger-seen=\"true\"></div></div><div class=\"custom-representative\" data-choice=\"Arthur Lira\"><div class=\"custom-representative__avatar\"><img class=\"custom-representative__avatar__photo\" loading=\"lazy\" src=\"https://arte.estadao.com.br/public/placar/img/voter/204507.jpg\" alt=\"Deputada Federal Carla Zambelli (PSL–SP)\" pinger-seen=\"true\"></div></div><div class=\"custom-representative\" data-choice=\"Arthur Lira\"><div class=\"custom-representative__avatar\"><img class=\"custom-representative__avatar__photo\" loading=\"lazy\" src=\"https://arte.estadao.com.br/public/placar/img/voter/204460.jpg\" alt=\"Deputado Federal Carlos Jordy (PSL–RJ)\" pinger-seen=\"true\"></div></div><div class=\"custom-representative\" data-choice=\"Arthur Lira\"><div class=\"custom-representative__avatar\"><img class=\"custom-representative__avatar__photo\" loading=\"lazy\" src=\"https://arte.estadao.com.br/public/placar/img/voter/204369.jpg\" alt=\"Deputada Federal Caroline de Toni (PSL–SC)\" pinger-seen=\"true\"></div></div><div class=\"custom-representative\" data-choice=\"Arthur Lira\"><div class=\"custom-representative__avatar\"><img class=\"custom-representative__avatar__photo\" loading=\"lazy\" src=\"https://arte.estadao.com.br/public/placar/img/voter/204462.jpg\" alt=\"Deputada Federal Chris Tonietto (PSL–RJ)\" pinger-seen=\"true\"></div></div><div class=\"custom-representative\" data-choice=\"Arthur Lira\"><div class=\"custom-representative__avatar\"><img class=\"custom-representative__avatar__photo\" loading=\"lazy\" src=\"https://arte.estadao.com.br/public/placar/img/voter/204376.jpg\" alt=\"Deputado Federal Coronel Armando (PSL–SC)\" pinger-seen=\"true\"></div></div><div class=\"custom-representative\" data-choice=\"Arthur Lira\"><div class=\"custom-representative__avatar\"><img class=\"custom-representative__avatar__photo\" loading=\"lazy\" src=\"https://arte.estadao.com.br/public/placar/img/voter/204378.jpg\" alt=\"Deputado Federal Coronel Chrisóstomo (PSL–RO)\" pinger-seen=\"true\"></div></div><div class=\"custom-representative\" data-choice=\"Arthur Lira\"><div class=\"custom-representative__avatar\"><img class=\"custom-representative__avatar__photo\" loading=\"lazy\" src=\"https://arte.estadao.com.br/public/placar/img/voter/204514.jpg\" alt=\"Deputado Federal Coronel Tadeu (PSL–SP)\" pinger-seen=\"true\"></div></div><div class=\"custom-representative\" data-choice=\"Arthur Lira\"><div class=\"custom-representative__avatar\"><img class=\"custom-representative__avatar__photo\" loading=\"lazy\" src=\"https://arte.estadao.com.br/public/placar/img/voter/204367.jpg\" alt=\"Deputado Federal Daniel Freitas (PSL–SC)\" pinger-seen=\"true\"></div></div><div class=\"custom-representative\" data-choice=\"Arthur Lira\"><div class=\"custom-representative__avatar\"><img class=\"custom-representative__avatar__photo\" loading=\"lazy\" src=\"https://arte.estadao.com.br/public/placar/img/voter/204454.jpg\" alt=\"Deputado Federal Daniel Silveira (PSL–RJ)\" pinger-seen=\"true\"></div></div><div class=\"custom-representative\" data-choice=\"Arthur Lira\"><div class=\"custom-representative__avatar\"><img class=\"custom-representative__avatar__photo\" loading=\"lazy\" src=\"https://arte.estadao.com.br/public/placar/img/voter/204451.jpg\" alt=\"Deputado Federal Delegado Antônio Furtado (PSL–RJ)\" pinger-seen=\"true\"></div></div><div class=\"custom-representative\" data-choice=\"Arthur Lira\"><div class=\"custom-representative__avatar\"><img class=\"custom-representative__avatar__photo\" loading=\"lazy\" src=\"https://arte.estadao.com.br/public/placar/img/voter/204351.jpg\" alt=\"Deputado Federal Dr. Luiz Ovando (PSL–MS)\" pinger-seen=\"true\"></div></div><div class=\"custom-representative\" data-choice=\"Arthur Lira\"><div class=\"custom-representative__avatar\"><img class=\"custom-representative__avatar__photo\" loading=\"lazy\" src=\"https://arte.estadao.com.br/public/placar/img/voter/81297.jpg\" alt=\"Deputada Federal Dra. Soraya Manato (PSL–ES)\" pinger-seen=\"true\"></div></div><div class=\"custom-representative\" data-choice=\"Arthur Lira\"><div class=\"custom-representative__avatar\"><img class=\"custom-representative__avatar__photo\" loading=\"lazy\" src=\"https://arte.estadao.com.br/public/placar/img/voter/92346.jpg\" alt=\"Deputado Federal Eduardo Bolsonaro (PSL–SP)\" pinger-seen=\"true\"></div></div><div class=\"custom-representative\" data-choice=\"Arthur Lira\"><div class=\"custom-representative__avatar\"><img class=\"custom-representative__avatar__photo\" loading=\"lazy\" src=\"https://arte.estadao.com.br/public/placar/img/voter/204411.jpg\" alt=\"Deputado Federal Filipe Barros (PSL–PR)\" pinger-seen=\"true\"></div></div><div class=\"custom-representative\" data-choice=\"Arthur Lira\"><div class=\"custom-representative__avatar\"><img class=\"custom-representative__avatar__photo\" loading=\"lazy\" src=\"https://arte.estadao.com.br/public/placar/img/voter/204473.jpg\" alt=\"Deputado Federal General Girão (PSL–RN)\" pinger-seen=\"true\"></div></div><div class=\"custom-representative\" data-choice=\"Arthur Lira\"><div class=\"custom-representative__avatar\"><img class=\"custom-representative__avatar__photo\" loading=\"lazy\" src=\"https://arte.estadao.com.br/public/placar/img/voter/204513.jpg\" alt=\"Deputado Federal Guiga Peixoto (PSL–SP)\" pinger-seen=\"true\"></div></div><div class=\"custom-representative\" data-choice=\"Arthur Lira\"><div class=\"custom-representative__avatar\"><img class=\"custom-representative__avatar__photo\" loading=\"lazy\" src=\"https://arte.estadao.com.br/public/placar/img/voter/204444.jpg\" alt=\"Deputado Federal Helio Lopes (PSL–RJ)\" pinger-seen=\"true\"></div></div><div class=\"custom-representative\" data-choice=\"Arthur Lira\"><div class=\"custom-representative__avatar\"><img class=\"custom-representative__avatar__photo\" loading=\"lazy\" src=\"https://arte.estadao.com.br/public/placar/img/voter/204520.jpg\" alt=\"Deputado Federal Junio Amaral (PSL–MG)\" pinger-seen=\"true\"></div></div><div class=\"custom-representative\" data-choice=\"Arthur Lira\"><div class=\"custom-representative__avatar\"><img class=\"custom-representative__avatar__photo\" loading=\"lazy\" src=\"https://arte.estadao.com.br/public/placar/img/voter/204547.jpg\" alt=\"Deputado Federal Léo Motta (PSL–MG)\" pinger-seen=\"true\"></div></div><div class=\"custom-representative\" data-choice=\"Arthur Lira\"><div class=\"custom-representative__avatar\"><img class=\"custom-representative__avatar__photo\" loading=\"lazy\" src=\"https://arte.estadao.com.br/public/placar/img/voter/196358.jpg\" alt=\"Deputado Federal Lourival Gomes (PSL–RJ)\" pinger-seen=\"true\"></div></div><div class=\"custom-representative\" data-choice=\"Arthur Lira\"><div class=\"custom-representative__avatar\"><img class=\"custom-representative__avatar__photo\" loading=\"lazy\" src=\"https://arte.estadao.com.br/public/placar/img/voter/204455.jpg\" alt=\"Deputado Federal Luiz Lima (PSL–RJ)\" pinger-seen=\"true\"></div></div><div class=\"custom-representative\" data-choice=\"Arthur Lira\"><div class=\"custom-representative__avatar\"><img class=\"custom-representative__avatar__photo\" loading=\"lazy\" src=\"https://arte.estadao.com.br/public/placar/img/voter/204526.jpg\" alt=\"Deputado Federal Luiz Philippe de Orleans e Bragança (PSL–SP)\" pinger-seen=\"true\"></div></div><div class=\"custom-representative\" data-choice=\"Arthur Lira\"><div class=\"custom-representative__avatar\"><img class=\"custom-representative__avatar__photo\" loading=\"lazy\" src=\"https://arte.estadao.com.br/public/placar/img/voter/204458.jpg\" alt=\"Deputada Federal Major Fabiana (PSL–RJ)\" pinger-seen=\"true\"></div></div><div class=\"custom-representative\" data-choice=\"Arthur Lira\"><div class=\"custom-representative__avatar\"><img class=\"custom-representative__avatar__photo\" loading=\"lazy\" src=\"https://arte.estadao.com.br/public/placar/img/voter/179000.jpg\" alt=\"Deputado Federal Marcelo Álvaro Antônio (PSL–MG)\" pinger-seen=\"true\"></div></div><div class=\"custom-representative\" data-choice=\"Arthur Lira\"><div class=\"custom-representative__avatar\"><img class=\"custom-representative__avatar__photo\" loading=\"lazy\" src=\"https://arte.estadao.com.br/public/placar/img/voter/204452.jpg\" alt=\"Deputado Federal Márcio Labre (PSL–RJ)\" pinger-seen=\"true\"></div></div><div class=\"custom-representative\" data-choice=\"Arthur Lira\"><div class=\"custom-representative__avatar\"><img class=\"custom-representative__avatar__photo\" loading=\"lazy\" src=\"https://arte.estadao.com.br/public/placar/img/voter/204449.jpg\" alt=\"Deputado Federal Nelson Barbudo (PSL–MT)\" pinger-seen=\"true\"></div></div><div class=\"custom-representative\" data-choice=\"Arthur Lira\"><div class=\"custom-representative__avatar\"><img class=\"custom-representative__avatar__photo\" loading=\"lazy\" src=\"https://arte.estadao.com.br/public/placar/img/voter/204479.jpg\" alt=\"Deputado Federal Nicoletti (PSL–RR)\" pinger-seen=\"true\"></div></div><div class=\"custom-representative\" data-choice=\"Arthur Lira\"><div class=\"custom-representative__avatar\"><img class=\"custom-representative__avatar__photo\" loading=\"lazy\" src=\"https://arte.estadao.com.br/public/placar/img/voter/204416.jpg\" alt=\"Deputado Federal Sanderson (PSL–RS)\" pinger-seen=\"true\"></div></div><div class=\"custom-representative\" data-choice=\"Arthur Lira\"><div class=\"custom-representative__avatar\"><img class=\"custom-representative__avatar__photo\" loading=\"lazy\" src=\"https://arte.estadao.com.br/public/placar/img/voter/179587.jpg\" alt=\"Deputado Federal Vitor Hugo (PSL–GO)\" pinger-seen=\"true\"></div></div><div class=\"custom-representative\" data-choice=\"Arthur Lira\"><div class=\"custom-representative__avatar\"><img class=\"custom-representative__avatar__photo\" loading=\"lazy\" src=\"https://arte.estadao.com.br/public/placar/img/voter/204410.jpg\" alt=\"Deputada Federal Luisa Canziani (PTB–PR)\" pinger-seen=\"true\"></div></div><div class=\"custom-representative\" data-choice=\"Arthur Lira\"><div class=\"custom-representative__avatar\"><img class=\"custom-representative__avatar__photo\" loading=\"lazy\" src=\"https://arte.estadao.com.br/public/placar/img/voter/133810.jpg\" alt=\"Deputado Federal Marcelo Moraes (PTB–RS)\" pinger-seen=\"true\"></div></div><div class=\"custom-representative\" data-choice=\"Arthur Lira\"><div class=\"custom-representative__avatar\"><img class=\"custom-representative__avatar__photo\" loading=\"lazy\" src=\"https://arte.estadao.com.br/public/placar/img/voter/204538.jpg\" alt=\"Deputado Federal Paulo Bengtson (PTB–PA)\" pinger-seen=\"true\"></div></div><div class=\"custom-representative\" data-choice=\"Arthur Lira\"><div class=\"custom-representative__avatar\"><img class=\"custom-representative__avatar__photo\" loading=\"lazy\" src=\"https://arte.estadao.com.br/public/placar/img/voter/204353.jpg\" alt=\"Deputada Federal Aline Gurgel (Republicanos–AP)\" pinger-seen=\"true\"></div></div><div class=\"custom-representative\" data-choice=\"Arthur Lira\"><div class=\"custom-representative__avatar\"><img class=\"custom-representative__avatar__photo\" loading=\"lazy\" src=\"https://arte.estadao.com.br/public/placar/img/voter/204356.jpg\" alt=\"Deputado Federal Amaro Neto (Republicanos–ES)\" pinger-seen=\"true\"></div></div><div class=\"custom-representative\" data-choice=\"Arthur Lira\"><div class=\"custom-representative__avatar\"><img class=\"custom-representative__avatar__photo\" loading=\"lazy\" src=\"https://arte.estadao.com.br/public/placar/img/voter/204414.jpg\" alt=\"Deputado Federal Aroldo Martins (Republicanos–PR)\" pinger-seen=\"true\"></div></div><div class=\"custom-representative\" data-choice=\"Arthur Lira\"><div class=\"custom-representative__avatar\"><img class=\"custom-representative__avatar__photo\" loading=\"lazy\" src=\"https://arte.estadao.com.br/public/placar/img/voter/109429.jpg\" alt=\"Deputado Federal Benes Leocádio (Republicanos–RN)\" pinger-seen=\"true\"></div></div><div class=\"custom-representative\" data-choice=\"Arthur Lira\"><div class=\"custom-representative__avatar\"><img class=\"custom-representative__avatar__photo\" loading=\"lazy\" src=\"https://arte.estadao.com.br/public/placar/img/voter/204572.jpg\" alt=\"Deputado Federal Capitão Alberto Neto (Republicanos–AM)\" pinger-seen=\"true\"></div></div><div class=\"custom-representative\" data-choice=\"Arthur Lira\"><div class=\"custom-representative__avatar\"><img class=\"custom-representative__avatar__photo\" loading=\"lazy\" src=\"https://arte.estadao.com.br/public/placar/img/voter/178962.jpg\" alt=\"Deputado Federal Carlos Gomes (Republicanos–RS)\" pinger-seen=\"true\"></div></div><div class=\"custom-representative\" data-choice=\"Arthur Lira\"><div class=\"custom-representative__avatar\"><img class=\"custom-representative__avatar__photo\" loading=\"lazy\" src=\"https://arte.estadao.com.br/public/placar/img/voter/73441.jpg\" alt=\"Deputado Federal Celso Russomanno (Republicanos–SP)\" pinger-seen=\"true\"></div></div><div class=\"custom-representative\" data-choice=\"Arthur Lira\"><div class=\"custom-representative__avatar\"><img class=\"custom-representative__avatar__photo\" loading=\"lazy\" src=\"https://arte.estadao.com.br/public/placar/img/voter/141408.jpg\" alt=\"Deputado Federal Cleber Verde (Republicanos–MA)\" pinger-seen=\"true\"></div></div><div class=\"custom-representative\" data-choice=\"Arthur Lira\"><div class=\"custom-representative__avatar\"><img class=\"custom-representative__avatar__photo\" loading=\"lazy\" src=\"https://arte.estadao.com.br/public/placar/img/voter/204491.jpg\" alt=\"Deputado Federal Gilberto Abramo (Republicanos–MG)\" pinger-seen=\"true\"></div></div><div class=\"custom-representative\" data-choice=\"Arthur Lira\"><div class=\"custom-representative__avatar\"><img class=\"custom-representative__avatar__photo\" loading=\"lazy\" src=\"https://arte.estadao.com.br/public/placar/img/voter/204373.jpg\" alt=\"Deputado Federal Hélio Costa (Republicanos–SC)\" pinger-seen=\"true\"></div></div><div class=\"custom-representative\" data-choice=\"Arthur Lira\"><div class=\"custom-representative__avatar\"><img class=\"custom-representative__avatar__photo\" loading=\"lazy\" src=\"https://arte.estadao.com.br/public/placar/img/voter/160674.jpg\" alt=\"Deputado Federal Hugo Motta (Republicanos–PB)\" pinger-seen=\"true\"></div></div><div class=\"custom-representative\" data-choice=\"Arthur Lira\"><div class=\"custom-representative__avatar\"><img class=\"custom-representative__avatar__photo\" loading=\"lazy\" src=\"https://arte.estadao.com.br/public/placar/img/voter/160531.jpg\" alt=\"Deputado Federal Jhonatan de Jesus (Republicanos–RR)\" pinger-seen=\"true\"></div></div><div class=\"custom-representative\" data-choice=\"Arthur Lira\"><div class=\"custom-representative__avatar\"><img class=\"custom-representative__avatar__photo\" loading=\"lazy\" src=\"https://arte.estadao.com.br/public/placar/img/voter/74366.jpg\" alt=\"Deputado Federal João Campos (Republicanos–GO)\" pinger-seen=\"true\"></div></div><div class=\"custom-representative\" data-choice=\"Arthur Lira\"><div class=\"custom-representative__avatar\"><img class=\"custom-representative__avatar__photo\" loading=\"lazy\" src=\"https://arte.estadao.com.br/public/placar/img/voter/204576.jpg\" alt=\"Deputado Federal João Roma (Republicanos–BA)\" pinger-seen=\"true\"></div></div><div class=\"custom-representative\" data-choice=\"Arthur Lira\"><div class=\"custom-representative__avatar\"><img class=\"custom-representative__avatar__photo\" loading=\"lazy\" src=\"https://arte.estadao.com.br/public/placar/img/voter/205550.jpg\" alt=\"Deputado Federal Jorge Braz (Republicanos–RJ)\" pinger-seen=\"true\"></div></div><div class=\"custom-representative\" data-choice=\"Arthur Lira\"><div class=\"custom-representative__avatar\"><img class=\"custom-representative__avatar__photo\" loading=\"lazy\" src=\"https://arte.estadao.com.br/public/placar/img/voter/204372.jpg\" alt=\"Deputado Federal Julio Cesar Ribeiro (Republicanos–DF)\" pinger-seen=\"true\"></div></div><div class=\"custom-representative\" data-choice=\"Arthur Lira\"><div class=\"custom-representative__avatar\"><img class=\"custom-representative__avatar__photo\" loading=\"lazy\" src=\"https://arte.estadao.com.br/public/placar/img/voter/98057.jpg\" alt=\"Deputado Federal Lafayette de Andrada (Republicanos–MG)\" pinger-seen=\"true\"></div></div><div class=\"custom-representative\" data-choice=\"Arthur Lira\"><div class=\"custom-representative__avatar\"><img class=\"custom-representative__avatar__photo\" loading=\"lazy\" src=\"https://arte.estadao.com.br/public/placar/img/voter/204418.jpg\" alt=\"Deputado Federal Luizão Goulart (Republicanos–PR)\" pinger-seen=\"true\"></div></div><div class=\"custom-representative\" data-choice=\"Arthur Lira\"><div class=\"custom-representative__avatar\"><img class=\"custom-representative__avatar__photo\" loading=\"lazy\" src=\"https://arte.estadao.com.br/public/placar/img/voter/150418.jpg\" alt=\"Deputado Federal Márcio Marinho (Republicanos–BA)\" pinger-seen=\"true\"></div></div><div class=\"custom-representative\" data-choice=\"Arthur Lira\"><div class=\"custom-representative__avatar\"><img class=\"custom-representative__avatar__photo\" loading=\"lazy\" src=\"https://arte.estadao.com.br/public/placar/img/voter/204506.jpg\" alt=\"Deputado Federal Marcos Pereira (Republicanos–SP)\" pinger-seen=\"true\"></div></div><div class=\"custom-representative\" data-choice=\"Arthur Lira\"><div class=\"custom-representative__avatar\"><img class=\"custom-representative__avatar__photo\" loading=\"lazy\" src=\"https://arte.estadao.com.br/public/placar/img/voter/204540.jpg\" alt=\"Deputada Federal Maria Rosas (Republicanos–SP)\" pinger-seen=\"true\"></div></div><div class=\"custom-representative\" data-choice=\"Arthur Lira\"><div class=\"custom-representative__avatar\"><img class=\"custom-representative__avatar__photo\" loading=\"lazy\" src=\"https://arte.estadao.com.br/public/placar/img/voter/154178.jpg\" alt=\"Deputado Federal Milton Vieira (Republicanos–SP)\" pinger-seen=\"true\"></div></div><div class=\"custom-representative\" data-choice=\"Arthur Lira\"><div class=\"custom-representative__avatar\"><img class=\"custom-representative__avatar__photo\" loading=\"lazy\" src=\"https://arte.estadao.com.br/public/placar/img/voter/204422.jpg\" alt=\"Deputado Federal Ossesio Silva (Republicanos–PE)\" pinger-seen=\"true\"></div></div><div class=\"custom-representative\" data-choice=\"Arthur Lira\"><div class=\"custom-representative__avatar\"><img class=\"custom-representative__avatar__photo\" loading=\"lazy\" src=\"https://arte.estadao.com.br/public/placar/img/voter/160601.jpg\" alt=\"Deputado Federal Pr. Marco Feliciano (Republicanos–SP)\" pinger-seen=\"true\"></div></div><div class=\"custom-representative\" data-choice=\"Arthur Lira\"><div class=\"custom-representative__avatar\"><img class=\"custom-representative__avatar__photo\" loading=\"lazy\" src=\"https://arte.estadao.com.br/public/placar/img/voter/152610.jpg\" alt=\"Deputado Federal Roberto Alves (Republicanos–SP)\" pinger-seen=\"true\"></div></div><div class=\"custom-representative\" data-choice=\"Arthur Lira\"><div class=\"custom-representative__avatar\"><img class=\"custom-representative__avatar__photo\" loading=\"lazy\" src=\"https://arte.estadao.com.br/public/placar/img/voter/178945.jpg\" alt=\"Deputada Federal Rosangela Gomes (Republicanos–RJ)\" pinger-seen=\"true\"></div></div><div class=\"custom-representative\" data-choice=\"Arthur Lira\"><div class=\"custom-representative__avatar\"><img class=\"custom-representative__avatar__photo\" loading=\"lazy\" src=\"https://arte.estadao.com.br/public/placar/img/voter/204437.jpg\" alt=\"Deputado Federal Severino Pessoa (Republicanos–AL)\" pinger-seen=\"true\"></div></div><div class=\"custom-representative\" data-choice=\"Arthur Lira\"><div class=\"custom-representative__avatar\"><img class=\"custom-representative__avatar__photo\" loading=\"lazy\" src=\"https://arte.estadao.com.br/public/placar/img/voter/74356.jpg\" alt=\"Deputado Federal Silas Câmara (Republicanos–AM)\" pinger-seen=\"true\"></div></div><div class=\"custom-representative\" data-choice=\"Arthur Lira\"><div class=\"custom-representative__avatar\"><img class=\"custom-representative__avatar__photo\" loading=\"lazy\" src=\"https://arte.estadao.com.br/public/placar/img/voter/204425.jpg\" alt=\"Deputado Federal Silvio Costa Filho (Republicanos–PE)\" pinger-seen=\"true\"></div></div><div class=\"custom-representative\" data-choice=\"Arthur Lira\"><div class=\"custom-representative__avatar\"><img class=\"custom-representative__avatar__photo\" loading=\"lazy\" src=\"https://arte.estadao.com.br/public/placar/img/voter/204505.jpg\" alt=\"Deputado Federal Vavá Martins (Republicanos–PA)\" pinger-seen=\"true\"></div></div><div class=\"custom-representative\" data-choice=\"Arthur Lira\"><div class=\"custom-representative__avatar\"><img class=\"custom-representative__avatar__photo\" loading=\"lazy\" src=\"https://arte.estadao.com.br/public/placar/img/voter/141555.jpg\" alt=\"Deputado Federal Vinicius Carvalho (Republicanos–SP)\" pinger-seen=\"true\"></div></div><div class=\"custom-representative\" data-choice=\"Arthur Lira\"><div class=\"custom-representative__avatar\"><img class=\"custom-representative__avatar__photo\" loading=\"lazy\" src=\"https://arte.estadao.com.br/public/placar/img/voter/204551.jpg\" alt=\"Deputado Federal Bosco Saraiva (Solidariedade–AM)\" pinger-seen=\"true\"></div></div><div class=\"custom-representative\" data-choice=\"Arthur Lira\"><div class=\"custom-representative__avatar\"><img class=\"custom-representative__avatar__photo\" loading=\"lazy\" src=\"https://arte.estadao.com.br/public/placar/img/voter/204434.jpg\" alt=\"Deputada Federal Dra. Vanda Milani (Solidariedade–AC)\" pinger-seen=\"true\"></div></div><div class=\"custom-representative\" data-choice=\"Arthur Lira\"><div class=\"custom-representative__avatar\"><img class=\"custom-representative__avatar__photo\" loading=\"lazy\" src=\"https://arte.estadao.com.br/public/placar/img/voter/204364.jpg\" alt=\"Deputado Federal Eli Borges (Solidariedade–TO)\" pinger-seen=\"true\"></div></div><div class=\"custom-representative\" data-choice=\"Arthur Lira\"><div class=\"custom-representative__avatar\"><img class=\"custom-representative__avatar__photo\" loading=\"lazy\" src=\"https://arte.estadao.com.br/public/placar/img/voter/204408.jpg\" alt=\"Deputado Federal Gustinho Ribeiro (Solidariedade–SE)\" pinger-seen=\"true\"></div></div><div class=\"custom-representative\" data-choice=\"Arthur Lira\"><div class=\"custom-representative__avatar\"><img class=\"custom-representative__avatar__photo\" loading=\"lazy\" src=\"https://arte.estadao.com.br/public/placar/img/voter/204432.jpg\" alt=\"Deputada Federal Marina Santos (Solidariedade–PI)\" pinger-seen=\"true\"></div></div><div class=\"custom-representative\" data-choice=\"Arthur Lira\"><div class=\"custom-representative__avatar\"><img class=\"custom-representative__avatar__photo\" loading=\"lazy\" src=\"https://arte.estadao.com.br/public/placar/img/voter/204475.jpg\" alt=\"Deputado Federal Ottaci Nascimento (Solidariedade–RR)\" pinger-seen=\"true\"></div></div><div class=\"custom-representative\" data-choice=\"Arthur Lira\"><div class=\"custom-representative__avatar\"><img class=\"custom-representative__avatar__photo\" loading=\"lazy\" src=\"https://arte.estadao.com.br/public/placar/img/voter/143084.jpg\" alt=\"Deputado Federal Tiago Dimas (Solidariedade–TO)\" pinger-seen=\"true\"></div></div><div class=\"custom-representative\" data-choice=\"Arthur Lira\"><div class=\"custom-representative__avatar\"><img class=\"custom-representative__avatar__photo\" loading=\"lazy\" src=\"https://arte.estadao.com.br/public/placar/img/voter/160632.jpg\" alt=\"Deputado Federal Zé Silva (Solidariedade–MG)\" pinger-seen=\"true\"></div></div></div></div><div class=\"custom-section\" data-party=\"MDB\"><h3 class=\"custom-section__title\">Baleia Rossi</h3><p class=\"custom-section__lead\"><span class=\"custom-section__count\">133 votos</span></p><div class=\"custom-section__representatives\"><div class=\"custom-representative\" data-choice=\"Baleia Rossi\"><div class=\"custom-representative__avatar\"><img class=\"custom-representative__avatar__photo\" loading=\"lazy\" src=\"https://arte.estadao.com.br/public/placar/img/voter/141391.jpg\" alt=\"Deputado Federal Arnaldo Jardim (Cidadania–SP)\" pinger-seen=\"true\"></div></div><div class=\"custom-representative\" data-choice=\"Baleia Rossi\"><div class=\"custom-representative__avatar\"><img class=\"custom-representative__avatar__photo\" loading=\"lazy\" src=\"https://arte.estadao.com.br/public/placar/img/voter/178916.jpg\" alt=\"Deputado Federal Daniel Coelho (Cidadania–PE)\" pinger-seen=\"true\"></div></div><div class=\"custom-representative\" data-choice=\"Baleia Rossi\"><div class=\"custom-representative__avatar\"><img class=\"custom-representative__avatar__photo\" loading=\"lazy\" src=\"https://arte.estadao.com.br/public/placar/img/voter/204433.jpg\" alt=\"Deputado Federal Marcelo Calero (Cidadania–RJ)\" pinger-seen=\"true\"></div></div><div class=\"custom-representative\" data-choice=\"Baleia Rossi\"><div class=\"custom-representative__avatar\"><img class=\"custom-representative__avatar__photo\" loading=\"lazy\" src=\"https://arte.estadao.com.br/public/placar/img/voter/73466.jpg\" alt=\"Deputado Federal Rubens Bueno (Cidadania–PR)\" pinger-seen=\"true\"></div></div><div class=\"custom-representative\" data-choice=\"Baleia Rossi\"><div class=\"custom-representative__avatar\"><img class=\"custom-representative__avatar__photo\" loading=\"lazy\" src=\"https://arte.estadao.com.br/public/placar/img/voter/160545.jpg\" alt=\"Deputado Federal Alexandre Leite (DEM–SP)\" pinger-seen=\"true\"></div></div><div class=\"custom-representative\" data-choice=\"Baleia Rossi\"><div class=\"custom-representative__avatar\"><img class=\"custom-representative__avatar__photo\" loading=\"lazy\" src=\"https://arte.estadao.com.br/public/placar/img/voter/74212.jpg\" alt=\"Deputado Federal Aníbal Gomes (DEM–CE)\" pinger-seen=\"true\"></div></div><div class=\"custom-representative\" data-choice=\"Baleia Rossi\"><div class=\"custom-representative__avatar\"><img class=\"custom-representative__avatar__photo\" loading=\"lazy\" src=\"https://arte.estadao.com.br/public/placar/img/voter/141422.jpg\" alt=\"Deputado Federal Efraim Filho (DEM–PB)\" pinger-seen=\"true\"></div></div><div class=\"custom-representative\" data-choice=\"Baleia Rossi\"><div class=\"custom-representative__avatar\"><img class=\"custom-representative__avatar__photo\" loading=\"lazy\" src=\"https://arte.estadao.com.br/public/placar/img/voter/160532.jpg\" alt=\"Deputado Federal Eli Corrêa Filho (DEM–SP)\" pinger-seen=\"true\"></div></div><div class=\"custom-representative\" data-choice=\"Baleia Rossi\"><div class=\"custom-representative__avatar\"><img class=\"custom-representative__avatar__photo\" loading=\"lazy\" src=\"https://arte.estadao.com.br/public/placar/img/voter/204527.jpg\" alt=\"Deputado Federal Geninho Zuliani (DEM–SP)\" pinger-seen=\"true\"></div></div><div class=\"custom-representative\" data-choice=\"Baleia Rossi\"><div class=\"custom-representative__avatar\"><img class=\"custom-representative__avatar__photo\" loading=\"lazy\" src=\"https://arte.estadao.com.br/public/placar/img/voter/204457.jpg\" alt=\"Deputado Federal Juninho do Pneu (DEM–RJ)\" pinger-seen=\"true\"></div></div><div class=\"custom-representative\" data-choice=\"Baleia Rossi\"><div class=\"custom-representative__avatar\"><img class=\"custom-representative__avatar__photo\" loading=\"lazy\" src=\"https://arte.estadao.com.br/public/placar/img/voter/122158.jpg\" alt=\"Deputado Federal Pedro Paulo (DEM–RJ)\" pinger-seen=\"true\"></div></div><div class=\"custom-representative\" data-choice=\"Baleia Rossi\"><div class=\"custom-representative__avatar\"><img class=\"custom-representative__avatar__photo\" loading=\"lazy\" src=\"https://arte.estadao.com.br/public/placar/img/voter/160639.jpg\" alt=\"Deputada Federal Professora Dorinha Seabra Rezende (DEM–TO)\" pinger-seen=\"true\"></div></div><div class=\"custom-representative\" data-choice=\"Baleia Rossi\"><div class=\"custom-representative__avatar\"><img class=\"custom-representative__avatar__photo\" loading=\"lazy\" src=\"https://arte.estadao.com.br/public/placar/img/voter/74693.jpg\" alt=\"Deputado Federal Rodrigo Maia (DEM–RJ)\" pinger-seen=\"true\"></div></div><div class=\"custom-representative\" data-choice=\"Baleia Rossi\"><div class=\"custom-representative__avatar\"><img class=\"custom-representative__avatar__photo\" loading=\"lazy\" src=\"https://arte.estadao.com.br/public/placar/img/voter/160559.jpg\" alt=\"Deputado Federal Alceu Moreira (MDB–RS)\" pinger-seen=\"true\"></div></div><div class=\"custom-representative\" data-choice=\"Baleia Rossi\"><div class=\"custom-representative__avatar\"><img class=\"custom-representative__avatar__photo\" loading=\"lazy\" src=\"https://arte.estadao.com.br/public/placar/img/voter/178975.jpg\" alt=\"Deputado Federal Baleia Rossi (MDB–SP)\" pinger-seen=\"true\"></div></div><div class=\"custom-representative\" data-choice=\"Baleia Rossi\"><div class=\"custom-representative__avatar\"><img class=\"custom-representative__avatar__photo\" loading=\"lazy\" src=\"https://arte.estadao.com.br/public/placar/img/voter/141401.jpg\" alt=\"Deputado Federal Carlos Bezerra (MDB–MT)\" pinger-seen=\"true\"></div></div><div class=\"custom-representative\" data-choice=\"Baleia Rossi\"><div class=\"custom-representative__avatar\"><img class=\"custom-representative__avatar__photo\" loading=\"lazy\" src=\"https://arte.estadao.com.br/public/placar/img/voter/204361.jpg\" alt=\"Deputado Federal Carlos Chiodini (MDB–SC)\" pinger-seen=\"true\"></div></div><div class=\"custom-representative\" data-choice=\"Baleia Rossi\"><div class=\"custom-representative__avatar\"><img class=\"custom-representative__avatar__photo\" loading=\"lazy\" src=\"https://arte.estadao.com.br/public/placar/img/voter/141405.jpg\" alt=\"Deputado Federal Celso Maldaner (MDB–SC)\" pinger-seen=\"true\"></div></div><div class=\"custom-representative\" data-choice=\"Baleia Rossi\"><div class=\"custom-representative__avatar\"><img class=\"custom-representative__avatar__photo\" loading=\"lazy\" src=\"https://arte.estadao.com.br/public/placar/img/voter/178994.jpg\" alt=\"Deputada Federal Dulce Miranda (MDB–TO)\" pinger-seen=\"true\"></div></div><div class=\"custom-representative\" data-choice=\"Baleia Rossi\"><div class=\"custom-representative__avatar\"><img class=\"custom-representative__avatar__photo\" loading=\"lazy\" src=\"https://arte.estadao.com.br/public/placar/img/voter/74075.jpg\" alt=\"Deputada Federal Elcione Barbalho (MDB–PA)\" pinger-seen=\"true\"></div></div><div class=\"custom-representative\" data-choice=\"Baleia Rossi\"><div class=\"custom-representative__avatar\"><img class=\"custom-representative__avatar__photo\" loading=\"lazy\" src=\"https://arte.estadao.com.br/public/placar/img/voter/171623.jpg\" alt=\"Deputado Federal Fabio Reis (MDB–SE)\" pinger-seen=\"true\"></div></div><div class=\"custom-representative\" data-choice=\"Baleia Rossi\"><div class=\"custom-representative__avatar\"><img class=\"custom-representative__avatar__photo\" loading=\"lazy\" src=\"https://arte.estadao.com.br/public/placar/img/voter/141434.jpg\" alt=\"Deputado Federal Flaviano Melo (MDB–AC)\" pinger-seen=\"true\"></div></div><div class=\"custom-representative\" data-choice=\"Baleia Rossi\"><div class=\"custom-representative__avatar\"><img class=\"custom-representative__avatar__photo\" loading=\"lazy\" src=\"https://arte.estadao.com.br/public/placar/img/voter/178996.jpg\" alt=\"Deputado Federal Giovani Feltes (MDB–RS)\" pinger-seen=\"true\"></div></div><div class=\"custom-representative\" data-choice=\"Baleia Rossi\"><div class=\"custom-representative__avatar\"><img class=\"custom-representative__avatar__photo\" loading=\"lazy\" src=\"https://arte.estadao.com.br/public/placar/img/voter/204539.jpg\" alt=\"Deputado Federal Hercílio Coelho Diniz (MDB–MG)\" pinger-seen=\"true\"></div></div><div class=\"custom-representative\" data-choice=\"Baleia Rossi\"><div class=\"custom-representative__avatar\"><img class=\"custom-representative__avatar__photo\" loading=\"lazy\" src=\"https://arte.estadao.com.br/public/placar/img/voter/178981.jpg\" alt=\"Deputado Federal Herculano Passos (MDB–SP)\" pinger-seen=\"true\"></div></div><div class=\"custom-representative\" data-choice=\"Baleia Rossi\"><div class=\"custom-representative__avatar\"><img class=\"custom-representative__avatar__photo\" loading=\"lazy\" src=\"https://arte.estadao.com.br/public/placar/img/voter/73772.jpg\" alt=\"Deputado Federal Hermes Parcianello (MDB–PR)\" pinger-seen=\"true\"></div></div><div class=\"custom-representative\" data-choice=\"Baleia Rossi\"><div class=\"custom-representative__avatar\"><img class=\"custom-representative__avatar__photo\" loading=\"lazy\" src=\"https://arte.estadao.com.br/public/placar/img/voter/178884.jpg\" alt=\"Deputado Federal Hildo Rocha (MDB–MA)\" pinger-seen=\"true\"></div></div><div class=\"custom-representative\" data-choice=\"Baleia Rossi\"><div class=\"custom-representative__avatar\"><img class=\"custom-representative__avatar__photo\" loading=\"lazy\" src=\"https://arte.estadao.com.br/public/placar/img/voter/204436.jpg\" alt=\"Deputado Federal Isnaldo Bulhões Jr. (MDB–AL)\" pinger-seen=\"true\"></div></div><div class=\"custom-representative\" data-choice=\"Baleia Rossi\"><div class=\"custom-representative__avatar\"><img class=\"custom-representative__avatar__photo\" loading=\"lazy\" src=\"https://arte.estadao.com.br/public/placar/img/voter/112437.jpg\" alt=\"Deputado Federal João Marcelo Souza (MDB–MA)\" pinger-seen=\"true\"></div></div><div class=\"custom-representative\" data-choice=\"Baleia Rossi\"><div class=\"custom-representative__avatar\"><img class=\"custom-representative__avatar__photo\" loading=\"lazy\" src=\"https://arte.estadao.com.br/public/placar/img/voter/74079.jpg\" alt=\"Deputado Federal José Priante (MDB–PA)\" pinger-seen=\"true\"></div></div><div class=\"custom-representative\" data-choice=\"Baleia Rossi\"><div class=\"custom-representative__avatar\"><img class=\"custom-representative__avatar__photo\" loading=\"lazy\" src=\"https://arte.estadao.com.br/public/placar/img/voter/204474.jpg\" alt=\"Deputado Federal Juarez Costa (MDB–MT)\" pinger-seen=\"true\"></div></div><div class=\"custom-representative\" data-choice=\"Baleia Rossi\"><div class=\"custom-representative__avatar\"><img class=\"custom-representative__avatar__photo\" loading=\"lazy\" src=\"https://arte.estadao.com.br/public/placar/img/voter/178954.jpg\" alt=\"Deputado Federal Lucio Mosquini (MDB–RO)\" pinger-seen=\"true\"></div></div><div class=\"custom-representative\" data-choice=\"Baleia Rossi\"><div class=\"custom-representative__avatar\"><img class=\"custom-representative__avatar__photo\" loading=\"lazy\" src=\"https://arte.estadao.com.br/public/placar/img/voter/179001.jpg\" alt=\"Deputado Federal Márcio Biolchi (MDB–RS)\" pinger-seen=\"true\"></div></div><div class=\"custom-representative\" data-choice=\"Baleia Rossi\"><div class=\"custom-representative__avatar\"><img class=\"custom-representative__avatar__photo\" loading=\"lazy\" src=\"https://arte.estadao.com.br/public/placar/img/voter/204431.jpg\" alt=\"Deputado Federal Marcos Aurélio Sampaio (MDB–PI)\" pinger-seen=\"true\"></div></div><div class=\"custom-representative\" data-choice=\"Baleia Rossi\"><div class=\"custom-representative__avatar\"><img class=\"custom-representative__avatar__photo\" loading=\"lazy\" src=\"https://arte.estadao.com.br/public/placar/img/voter/74749.jpg\" alt=\"Deputado Federal Mauro Lopes (MDB–MG)\" pinger-seen=\"true\"></div></div><div class=\"custom-representative\" data-choice=\"Baleia Rossi\"><div class=\"custom-representative__avatar\"><img class=\"custom-representative__avatar__photo\" loading=\"lazy\" src=\"https://arte.estadao.com.br/public/placar/img/voter/178997.jpg\" alt=\"Deputado Federal Moses Rodrigues (MDB–CE)\" pinger-seen=\"true\"></div></div><div class=\"custom-representative\" data-choice=\"Baleia Rossi\"><div class=\"custom-representative__avatar\"><img class=\"custom-representative__avatar__photo\" loading=\"lazy\" src=\"https://arte.estadao.com.br/public/placar/img/voter/141523.jpg\" alt=\"Deputado Federal Raul Henry (MDB–PE)\" pinger-seen=\"true\"></div></div><div class=\"custom-representative\" data-choice=\"Baleia Rossi\"><div class=\"custom-representative__avatar\"><img class=\"custom-representative__avatar__photo\" loading=\"lazy\" src=\"https://arte.estadao.com.br/public/placar/img/voter/178933.jpg\" alt=\"Deputado Federal Sergio Souza (MDB–PR)\" pinger-seen=\"true\"></div></div><div class=\"custom-representative\" data-choice=\"Baleia Rossi\"><div class=\"custom-representative__avatar\"><img class=\"custom-representative__avatar__photo\" loading=\"lazy\" src=\"https://arte.estadao.com.br/public/placar/img/voter/204478.jpg\" alt=\"Deputado Federal Vinicius Farah (MDB–RJ)\" pinger-seen=\"true\"></div></div><div class=\"custom-representative\" data-choice=\"Baleia Rossi\"><div class=\"custom-representative__avatar\"><img class=\"custom-representative__avatar__photo\" loading=\"lazy\" src=\"https://arte.estadao.com.br/public/placar/img/voter/178952.jpg\" alt=\"Deputado Federal Walter Alves (MDB–RN)\" pinger-seen=\"true\"></div></div><div class=\"custom-representative\" data-choice=\"Baleia Rossi\"><div class=\"custom-representative__avatar\"><img class=\"custom-representative__avatar__photo\" loading=\"lazy\" src=\"https://arte.estadao.com.br/public/placar/img/voter/74057.jpg\" alt=\"Deputada Federal Alice Portugal (PCdoB–BA)\" pinger-seen=\"true\"></div></div><div class=\"custom-representative\" data-choice=\"Baleia Rossi\"><div class=\"custom-representative__avatar\"><img class=\"custom-representative__avatar__photo\" loading=\"lazy\" src=\"https://arte.estadao.com.br/public/placar/img/voter/74060.jpg\" alt=\"Deputado Federal Daniel Almeida (PCdoB–BA)\" pinger-seen=\"true\"></div></div><div class=\"custom-representative\" data-choice=\"Baleia Rossi\"><div class=\"custom-representative__avatar\"><img class=\"custom-representative__avatar__photo\" loading=\"lazy\" src=\"https://arte.estadao.com.br/public/placar/img/voter/74848.jpg\" alt=\"Deputada Federal Jandira Feghali (PCdoB–RJ)\" pinger-seen=\"true\"></div></div><div class=\"custom-representative\" data-choice=\"Baleia Rossi\"><div class=\"custom-representative__avatar\"><img class=\"custom-representative__avatar__photo\" loading=\"lazy\" src=\"https://arte.estadao.com.br/public/placar/img/voter/81055.jpg\" alt=\"Deputado Federal Marcio Jerry (PCdoB–MA)\" pinger-seen=\"true\"></div></div><div class=\"custom-representative\" data-choice=\"Baleia Rossi\"><div class=\"custom-representative__avatar\"><img class=\"custom-representative__avatar__photo\" loading=\"lazy\" src=\"https://arte.estadao.com.br/public/placar/img/voter/178987.jpg\" alt=\"Deputado Federal Orlando Silva (PCdoB–SP)\" pinger-seen=\"true\"></div></div><div class=\"custom-representative\" data-choice=\"Baleia Rossi\"><div class=\"custom-representative__avatar\"><img class=\"custom-representative__avatar__photo\" loading=\"lazy\" src=\"https://arte.estadao.com.br/public/placar/img/voter/73943.jpg\" alt=\"Deputada Federal Perpétua Almeida (PCdoB–AC)\" pinger-seen=\"true\"></div></div><div class=\"custom-representative\" data-choice=\"Baleia Rossi\"><div class=\"custom-representative__avatar\"><img class=\"custom-representative__avatar__photo\" loading=\"lazy\" src=\"https://arte.estadao.com.br/public/placar/img/voter/73801.jpg\" alt=\"Deputado Federal Renildo Calheiros (PCdoB–PE)\" pinger-seen=\"true\"></div></div><div class=\"custom-representative\" data-choice=\"Baleia Rossi\"><div class=\"custom-representative__avatar\"><img class=\"custom-representative__avatar__photo\" loading=\"lazy\" src=\"https://arte.estadao.com.br/public/placar/img/voter/178887.jpg\" alt=\"Deputado Federal Rubens Pereira Junior (PCdoB–MA)\" pinger-seen=\"true\"></div></div><div class=\"custom-representative\" data-choice=\"Baleia Rossi\"><div class=\"custom-representative__avatar\"><img class=\"custom-representative__avatar__photo\" loading=\"lazy\" src=\"https://arte.estadao.com.br/public/placar/img/voter/178835.jpg\" alt=\"Deputado Federal Afonso Motta (PDT–RS)\" pinger-seen=\"true\"></div></div><div class=\"custom-representative\" data-choice=\"Baleia Rossi\"><div class=\"custom-representative__avatar\"><img class=\"custom-representative__avatar__photo\" loading=\"lazy\" src=\"https://arte.estadao.com.br/public/placar/img/voter/133439.jpg\" alt=\"Deputado Federal André Figueiredo (PDT–CE)\" pinger-seen=\"true\"></div></div><div class=\"custom-representative\" data-choice=\"Baleia Rossi\"><div class=\"custom-representative__avatar\"><img class=\"custom-representative__avatar__photo\" loading=\"lazy\" src=\"https://arte.estadao.com.br/public/placar/img/voter/141439.jpg\" alt=\"Deputado Federal Chico D'Angelo (PDT–RJ)\" pinger-seen=\"true\"></div></div><div class=\"custom-representative\" data-choice=\"Baleia Rossi\"><div class=\"custom-representative__avatar\"><img class=\"custom-representative__avatar__photo\" loading=\"lazy\" src=\"https://arte.estadao.com.br/public/placar/img/voter/141411.jpg\" alt=\"Deputado Federal Dagoberto Nogueira (PDT–MS)\" pinger-seen=\"true\"></div></div><div class=\"custom-representative\" data-choice=\"Baleia Rossi\"><div class=\"custom-representative__avatar\"><img class=\"custom-representative__avatar__photo\" loading=\"lazy\" src=\"https://arte.estadao.com.br/public/placar/img/voter/204541.jpg\" alt=\"Deputado Federal Eduardo Bismarck (PDT–CE)\" pinger-seen=\"true\"></div></div><div class=\"custom-representative\" data-choice=\"Baleia Rossi\"><div class=\"custom-representative__avatar\"><img class=\"custom-representative__avatar__photo\" loading=\"lazy\" src=\"https://arte.estadao.com.br/public/placar/img/voter/160666.jpg\" alt=\"Deputado Federal Félix Mendonça Júnior (PDT–BA)\" pinger-seen=\"true\"></div></div><div class=\"custom-representative\" data-choice=\"Baleia Rossi\"><div class=\"custom-representative__avatar\"><img class=\"custom-representative__avatar__photo\" loading=\"lazy\" src=\"https://arte.estadao.com.br/public/placar/img/voter/73460.jpg\" alt=\"Deputado Federal Gustavo Fruet (PDT–PR)\" pinger-seen=\"true\"></div></div><div class=\"custom-representative\" data-choice=\"Baleia Rossi\"><div class=\"custom-representative__avatar\"><img class=\"custom-representative__avatar__photo\" loading=\"lazy\" src=\"https://arte.estadao.com.br/public/placar/img/voter/204435.jpg\" alt=\"Deputado Federal Jesus Sérgio (PDT–AC)\" pinger-seen=\"true\"></div></div><div class=\"custom-representative\" data-choice=\"Baleia Rossi\"><div class=\"custom-representative__avatar\"><img class=\"custom-representative__avatar__photo\" loading=\"lazy\" src=\"https://arte.estadao.com.br/public/placar/img/voter/74158.jpg\" alt=\"Deputado Federal Mário Heringer (PDT–MG)\" pinger-seen=\"true\"></div></div><div class=\"custom-representative\" data-choice=\"Baleia Rossi\"><div class=\"custom-representative__avatar\"><img class=\"custom-representative__avatar__photo\" loading=\"lazy\" src=\"https://arte.estadao.com.br/public/placar/img/voter/204534.jpg\" alt=\"Deputada Federal Tabata Amaral (PDT–SP)\" pinger-seen=\"true\"></div></div><div class=\"custom-representative\" data-choice=\"Baleia Rossi\"><div class=\"custom-representative__avatar\"><img class=\"custom-representative__avatar__photo\" loading=\"lazy\" src=\"https://arte.estadao.com.br/public/placar/img/voter/157130.jpg\" alt=\"Deputado Federal Túlio Gadêlha (PDT–PE)\" pinger-seen=\"true\"></div></div><div class=\"custom-representative\" data-choice=\"Baleia Rossi\"><div class=\"custom-representative__avatar\"><img class=\"custom-representative__avatar__photo\" loading=\"lazy\" src=\"https://arte.estadao.com.br/public/placar/img/voter/74439.jpg\" alt=\"Deputado Federal Wolney Queiroz (PDT–PE)\" pinger-seen=\"true\"></div></div><div class=\"custom-representative\" data-choice=\"Baleia Rossi\"><div class=\"custom-representative__avatar\"><img class=\"custom-representative__avatar__photo\" loading=\"lazy\" src=\"https://arte.estadao.com.br/public/placar/img/voter/160527.jpg\" alt=\"Deputado Federal Aguinaldo Ribeiro (PP–PB)\" pinger-seen=\"true\"></div></div><div class=\"custom-representative\" data-choice=\"Baleia Rossi\"><div class=\"custom-representative__avatar\"><img class=\"custom-representative__avatar__photo\" loading=\"lazy\" src=\"https://arte.estadao.com.br/public/placar/img/voter/160511.jpg\" alt=\"Deputado Federal Alessandro Molon (PSB–RJ)\" pinger-seen=\"true\"></div></div><div class=\"custom-representative\" data-choice=\"Baleia Rossi\"><div class=\"custom-representative__avatar\"><img class=\"custom-representative__avatar__photo\" loading=\"lazy\" src=\"https://arte.estadao.com.br/public/placar/img/voter/204561.jpg\" alt=\"Deputado Federal Bira do Pindaré (PSB–MA)\" pinger-seen=\"true\"></div></div><div class=\"custom-representative\" data-choice=\"Baleia Rossi\"><div class=\"custom-representative__avatar\"><img class=\"custom-representative__avatar__photo\" loading=\"lazy\" src=\"https://arte.estadao.com.br/public/placar/img/voter/204352.jpg\" alt=\"Deputado Federal Camilo Capiberibe (PSB–AP)\" pinger-seen=\"true\"></div></div><div class=\"custom-representative\" data-choice=\"Baleia Rossi\"><div class=\"custom-representative__avatar\"><img class=\"custom-representative__avatar__photo\" loading=\"lazy\" src=\"https://arte.estadao.com.br/public/placar/img/voter/204542.jpg\" alt=\"Deputado Federal Denis Bezerra (PSB–CE)\" pinger-seen=\"true\"></div></div><div class=\"custom-representative\" data-choice=\"Baleia Rossi\"><div class=\"custom-representative__avatar\"><img class=\"custom-representative__avatar__photo\" loading=\"lazy\" src=\"https://arte.estadao.com.br/public/placar/img/voter/204389.jpg\" alt=\"Deputado Federal Elias Vaz (PSB–GO)\" pinger-seen=\"true\"></div></div><div class=\"custom-representative\" data-choice=\"Baleia Rossi\"><div class=\"custom-representative__avatar\"><img class=\"custom-representative__avatar__photo\" loading=\"lazy\" src=\"https://arte.estadao.com.br/public/placar/img/voter/204371.jpg\" alt=\"Deputado Federal Felipe Rigoni (PSB–ES)\" pinger-seen=\"true\"></div></div><div class=\"custom-representative\" data-choice=\"Baleia Rossi\"><div class=\"custom-representative__avatar\"><img class=\"custom-representative__avatar__photo\" loading=\"lazy\" src=\"https://arte.estadao.com.br/public/placar/img/voter/204394.jpg\" alt=\"Deputado Federal Gervásio Maia (PSB–PB)\" pinger-seen=\"true\"></div></div><div class=\"custom-representative\" data-choice=\"Baleia Rossi\"><div class=\"custom-representative__avatar\"><img class=\"custom-representative__avatar__photo\" loading=\"lazy\" src=\"https://arte.estadao.com.br/public/placar/img/voter/74419.jpg\" alt=\"Deputado Federal Gonzaga Patriota (PSB–PE)\" pinger-seen=\"true\"></div></div><div class=\"custom-representative\" data-choice=\"Baleia Rossi\"><div class=\"custom-representative__avatar\"><img class=\"custom-representative__avatar__photo\" loading=\"lazy\" src=\"https://arte.estadao.com.br/public/placar/img/voter/178964.jpg\" alt=\"Deputado Federal Heitor Schuch (PSB–RS)\" pinger-seen=\"true\"></div></div><div class=\"custom-representative\" data-choice=\"Baleia Rossi\"><div class=\"custom-representative__avatar\"><img class=\"custom-representative__avatar__photo\" loading=\"lazy\" src=\"https://arte.estadao.com.br/public/placar/img/voter/139285.jpg\" alt=\"Deputada Federal Lídice da Mata (PSB–BA)\" pinger-seen=\"true\"></div></div><div class=\"custom-representative\" data-choice=\"Baleia Rossi\"><div class=\"custom-representative__avatar\"><img class=\"custom-representative__avatar__photo\" loading=\"lazy\" src=\"https://arte.estadao.com.br/public/placar/img/voter/204558.jpg\" alt=\"Deputado Federal Marcelo Nilo (PSB–BA)\" pinger-seen=\"true\"></div></div><div class=\"custom-representative\" data-choice=\"Baleia Rossi\"><div class=\"custom-representative__avatar\"><img class=\"custom-representative__avatar__photo\" loading=\"lazy\" src=\"https://arte.estadao.com.br/public/placar/img/voter/141508.jpg\" alt=\"Deputado Federal Mauro Nazif (PSB–RO)\" pinger-seen=\"true\"></div></div><div class=\"custom-representative\" data-choice=\"Baleia Rossi\"><div class=\"custom-representative__avatar\"><img class=\"custom-representative__avatar__photo\" loading=\"lazy\" src=\"https://arte.estadao.com.br/public/placar/img/voter/92172.jpg\" alt=\"Deputado Federal Milton Coelho (PSB–PE)\" pinger-seen=\"true\"></div></div><div class=\"custom-representative\" data-choice=\"Baleia Rossi\"><div class=\"custom-representative__avatar\"><img class=\"custom-representative__avatar__photo\" loading=\"lazy\" src=\"https://arte.estadao.com.br/public/placar/img/voter/178951.jpg\" alt=\"Deputado Federal Rafael Motta (PSB–RN)\" pinger-seen=\"true\"></div></div><div class=\"custom-representative\" data-choice=\"Baleia Rossi\"><div class=\"custom-representative__avatar\"><img class=\"custom-representative__avatar__photo\" loading=\"lazy\" src=\"https://arte.estadao.com.br/public/placar/img/voter/204530.jpg\" alt=\"Deputado Federal Rodrigo Agostinho (PSB–SP)\" pinger-seen=\"true\"></div></div><div class=\"custom-representative\" data-choice=\"Baleia Rossi\"><div class=\"custom-representative__avatar\"><img class=\"custom-representative__avatar__photo\" loading=\"lazy\" src=\"https://arte.estadao.com.br/public/placar/img/voter/178922.jpg\" alt=\"Deputado Federal Tadeu Alencar (PSB–PE)\" pinger-seen=\"true\"></div></div><div class=\"custom-representative\" data-choice=\"Baleia Rossi\"><div class=\"custom-representative__avatar\"><img class=\"custom-representative__avatar__photo\" loading=\"lazy\" src=\"https://arte.estadao.com.br/public/placar/img/voter/206231.jpg\" alt=\"Deputado Federal Ted Conti (PSB–ES)\" pinger-seen=\"true\"></div></div><div class=\"custom-representative\" data-choice=\"Baleia Rossi\"><div class=\"custom-representative__avatar\"><img class=\"custom-representative__avatar__photo\" loading=\"lazy\" src=\"https://arte.estadao.com.br/public/placar/img/voter/204483.jpg\" alt=\"Deputado Federal Vilson da Fetaemg (PSB–MG)\" pinger-seen=\"true\"></div></div><div class=\"custom-representative\" data-choice=\"Baleia Rossi\"><div class=\"custom-representative__avatar\"><img class=\"custom-representative__avatar__photo\" loading=\"lazy\" src=\"https://arte.estadao.com.br/public/placar/img/voter/204358.jpg\" alt=\"Deputado Federal Beto Pereira (PSDB–MS)\" pinger-seen=\"true\"></div></div><div class=\"custom-representative\" data-choice=\"Baleia Rossi\"><div class=\"custom-representative__avatar\"><img class=\"custom-representative__avatar__photo\" loading=\"lazy\" src=\"https://arte.estadao.com.br/public/placar/img/voter/74262.jpg\" alt=\"Deputado Federal Carlos Sampaio (PSDB–SP)\" pinger-seen=\"true\"></div></div><div class=\"custom-representative\" data-choice=\"Baleia Rossi\"><div class=\"custom-representative__avatar\"><img class=\"custom-representative__avatar__photo\" loading=\"lazy\" src=\"https://arte.estadao.com.br/public/placar/img/voter/74655.jpg\" alt=\"Deputado Federal Eduardo Barbosa (PSDB–MG)\" pinger-seen=\"true\"></div></div><div class=\"custom-representative\" data-choice=\"Baleia Rossi\"><div class=\"custom-representative__avatar\"><img class=\"custom-representative__avatar__photo\" loading=\"lazy\" src=\"https://arte.estadao.com.br/public/placar/img/voter/178977.jpg\" alt=\"Deputado Federal Eduardo Cury (PSDB–SP)\" pinger-seen=\"true\"></div></div><div class=\"custom-representative\" data-choice=\"Baleia Rossi\"><div class=\"custom-representative__avatar\"><img class=\"custom-representative__avatar__photo\" loading=\"lazy\" src=\"https://arte.estadao.com.br/public/placar/img/voter/141531.jpg\" alt=\"Deputado Federal Rodrigo de Castro (PSDB–MG)\" pinger-seen=\"true\"></div></div><div class=\"custom-representative\" data-choice=\"Baleia Rossi\"><div class=\"custom-representative__avatar\"><img class=\"custom-representative__avatar__photo\" loading=\"lazy\" src=\"https://arte.estadao.com.br/public/placar/img/voter/178990.jpg\" alt=\"Deputado Federal Samuel Moreira (PSDB–SP)\" pinger-seen=\"true\"></div></div><div class=\"custom-representative\" data-choice=\"Baleia Rossi\"><div class=\"custom-representative__avatar\"><img class=\"custom-representative__avatar__photo\" loading=\"lazy\" src=\"https://arte.estadao.com.br/public/placar/img/voter/141553.jpg\" alt=\"Deputado Federal Vanderlei Macris (PSDB–SP)\" pinger-seen=\"true\"></div></div><div class=\"custom-representative\" data-choice=\"Baleia Rossi\"><div class=\"custom-representative__avatar\"><img class=\"custom-representative__avatar__photo\" loading=\"lazy\" src=\"https://arte.estadao.com.br/public/placar/img/voter/178992.jpg\" alt=\"Deputado Federal Vitor Lippi (PSDB–SP)\" pinger-seen=\"true\"></div></div><div class=\"custom-representative\" data-choice=\"Baleia Rossi\"><div class=\"custom-representative__avatar\"><img class=\"custom-representative__avatar__photo\" loading=\"lazy\" src=\"https://arte.estadao.com.br/public/placar/img/voter/204502.jpg\" alt=\"Deputado Federal Bozzella (PSL–SP)\" pinger-seen=\"true\"></div></div><div class=\"custom-representative\" data-choice=\"Baleia Rossi\"><div class=\"custom-representative__avatar\"><img class=\"custom-representative__avatar__photo\" loading=\"lazy\" src=\"https://arte.estadao.com.br/public/placar/img/voter/164359.jpg\" alt=\"Deputado Federal Delegado Waldir (PSL–GO)\" pinger-seen=\"true\"></div></div><div class=\"custom-representative\" data-choice=\"Baleia Rossi\"><div class=\"custom-representative__avatar\"><img class=\"custom-representative__avatar__photo\" loading=\"lazy\" src=\"https://arte.estadao.com.br/public/placar/img/voter/204548.jpg\" alt=\"Deputado Federal Heitor Freire (PSL–CE)\" pinger-seen=\"true\"></div></div><div class=\"custom-representative\" data-choice=\"Baleia Rossi\"><div class=\"custom-representative__avatar\"><img class=\"custom-representative__avatar__photo\" loading=\"lazy\" src=\"https://arte.estadao.com.br/public/placar/img/voter/74478.jpg\" alt=\"Deputado Federal Luciano Bivar (PSL–PE)\" pinger-seen=\"true\"></div></div><div class=\"custom-representative\" data-choice=\"Baleia Rossi\"><div class=\"custom-representative__avatar\"><img class=\"custom-representative__avatar__photo\" loading=\"lazy\" src=\"https://arte.estadao.com.br/public/placar/img/voter/160508.jpg\" alt=\"Deputado Federal Afonso Florence (PT–BA)\" pinger-seen=\"true\"></div></div><div class=\"custom-representative\" data-choice=\"Baleia Rossi\"><div class=\"custom-representative__avatar\"><img class=\"custom-representative__avatar__photo\" loading=\"lazy\" src=\"https://arte.estadao.com.br/public/placar/img/voter/204495.jpg\" alt=\"Deputado Federal Airton Faleiro (PT–PA)\" pinger-seen=\"true\"></div></div><div class=\"custom-representative\" data-choice=\"Baleia Rossi\"><div class=\"custom-representative__avatar\"><img class=\"custom-representative__avatar__photo\" loading=\"lazy\" src=\"https://arte.estadao.com.br/public/placar/img/voter/204501.jpg\" alt=\"Deputado Federal Alencar Santana Braga (PT–SP)\" pinger-seen=\"true\"></div></div><div class=\"custom-representative\" data-choice=\"Baleia Rossi\"><div class=\"custom-representative__avatar\"><img class=\"custom-representative__avatar__photo\" loading=\"lazy\" src=\"https://arte.estadao.com.br/public/placar/img/voter/204503.jpg\" alt=\"Deputado Federal Alexandre Padilha (PT–SP)\" pinger-seen=\"true\"></div></div><div class=\"custom-representative\" data-choice=\"Baleia Rossi\"><div class=\"custom-representative__avatar\"><img class=\"custom-representative__avatar__photo\" loading=\"lazy\" src=\"https://arte.estadao.com.br/public/placar/img/voter/73433.jpg\" alt=\"Deputado Federal Arlindo Chinaglia (PT–SP)\" pinger-seen=\"true\"></div></div><div class=\"custom-representative\" data-choice=\"Baleia Rossi\"><div class=\"custom-representative__avatar\"><img class=\"custom-representative__avatar__photo\" loading=\"lazy\" src=\"https://arte.estadao.com.br/public/placar/img/voter/73701.jpg\" alt=\"Deputada Federal Benedita da Silva (PT–RJ)\" pinger-seen=\"true\"></div></div><div class=\"custom-representative\" data-choice=\"Baleia Rossi\"><div class=\"custom-representative__avatar\"><img class=\"custom-representative__avatar__photo\" loading=\"lazy\" src=\"https://arte.estadao.com.br/public/placar/img/voter/141335.jpg\" alt=\"Deputado Federal Beto Faro (PT–PA)\" pinger-seen=\"true\"></div></div><div class=\"custom-representative\" data-choice=\"Baleia Rossi\"><div class=\"custom-representative__avatar\"><img class=\"custom-representative__avatar__photo\" loading=\"lazy\" src=\"https://arte.estadao.com.br/public/placar/img/voter/160538.jpg\" alt=\"Deputado Federal Bohn Gass (PT–RS)\" pinger-seen=\"true\"></div></div><div class=\"custom-representative\" data-choice=\"Baleia Rossi\"><div class=\"custom-representative__avatar\"><img class=\"custom-representative__avatar__photo\" loading=\"lazy\" src=\"https://arte.estadao.com.br/public/placar/img/voter/204426.jpg\" alt=\"Deputado Federal Carlos Veras (PT–PE)\" pinger-seen=\"true\"></div></div><div class=\"custom-representative\" data-choice=\"Baleia Rossi\"><div class=\"custom-representative__avatar\"><img class=\"custom-representative__avatar__photo\" loading=\"lazy\" src=\"https://arte.estadao.com.br/public/placar/img/voter/141398.jpg\" alt=\"Deputado Federal Carlos Zarattini (PT–SP)\" pinger-seen=\"true\"></div></div><div class=\"custom-representative\" data-choice=\"Baleia Rossi\"><div class=\"custom-representative__avatar\"><img class=\"custom-representative__avatar__photo\" loading=\"lazy\" src=\"https://arte.estadao.com.br/public/placar/img/voter/132504.jpg\" alt=\"Deputado Federal Enio Verri (PT–PR)\" pinger-seen=\"true\"></div></div><div class=\"custom-representative\" data-choice=\"Baleia Rossi\"><div class=\"custom-representative__avatar\"><img class=\"custom-representative__avatar__photo\" loading=\"lazy\" src=\"https://arte.estadao.com.br/public/placar/img/voter/160575.jpg\" alt=\"Deputada Federal Erika Kokay (PT–DF)\" pinger-seen=\"true\"></div></div><div class=\"custom-representative\" data-choice=\"Baleia Rossi\"><div class=\"custom-representative__avatar\"><img class=\"custom-representative__avatar__photo\" loading=\"lazy\" src=\"https://arte.estadao.com.br/public/placar/img/voter/204393.jpg\" alt=\"Deputado Federal Frei Anastacio Ribeiro (PT–PB)\" pinger-seen=\"true\"></div></div><div class=\"custom-representative\" data-choice=\"Baleia Rossi\"><div class=\"custom-representative__avatar\"><img class=\"custom-representative__avatar__photo\" loading=\"lazy\" src=\"https://arte.estadao.com.br/public/placar/img/voter/107283.jpg\" alt=\"Deputada Federal Gleisi Hoffmann (PT–PR)\" pinger-seen=\"true\"></div></div><div class=\"custom-representative\" data-choice=\"Baleia Rossi\"><div class=\"custom-representative__avatar\"><img class=\"custom-representative__avatar__photo\" loading=\"lazy\" src=\"https://arte.estadao.com.br/public/placar/img/voter/178970.jpg\" alt=\"Deputado Federal João Daniel (PT–SE)\" pinger-seen=\"true\"></div></div><div class=\"custom-representative\" data-choice=\"Baleia Rossi\"><div class=\"custom-representative__avatar\"><img class=\"custom-representative__avatar__photo\" loading=\"lazy\" src=\"https://arte.estadao.com.br/public/placar/img/voter/178857.jpg\" alt=\"Deputado Federal Jorge Solla (PT–BA)\" pinger-seen=\"true\"></div></div><div class=\"custom-representative\" data-choice=\"Baleia Rossi\"><div class=\"custom-representative__avatar\"><img class=\"custom-representative__avatar__photo\" loading=\"lazy\" src=\"https://arte.estadao.com.br/public/placar/img/voter/141470.jpg\" alt=\"Deputado Federal José Guimarães (PT–CE)\" pinger-seen=\"true\"></div></div><div class=\"custom-representative\" data-choice=\"Baleia Rossi\"><div class=\"custom-representative__avatar\"><img class=\"custom-representative__avatar__photo\" loading=\"lazy\" src=\"https://arte.estadao.com.br/public/placar/img/voter/204555.jpg\" alt=\"Deputado Federal José Ricardo (PT–AM)\" pinger-seen=\"true\"></div></div><div class=\"custom-representative\" data-choice=\"Baleia Rossi\"><div class=\"custom-representative__avatar\"><img class=\"custom-representative__avatar__photo\" loading=\"lazy\" src=\"https://arte.estadao.com.br/public/placar/img/voter/209189.jpg\" alt=\"Deputado Federal Joseildo Ramos (PT–BA)\" pinger-seen=\"true\"></div></div><div class=\"custom-representative\" data-choice=\"Baleia Rossi\"><div class=\"custom-representative__avatar\"><img class=\"custom-representative__avatar__photo\" loading=\"lazy\" src=\"https://arte.estadao.com.br/public/placar/img/voter/178825.jpg\" alt=\"Deputado Federal Leo de Brito (PT–AC)\" pinger-seen=\"true\"></div></div><div class=\"custom-representative\" data-choice=\"Baleia Rossi\"><div class=\"custom-representative__avatar\"><img class=\"custom-representative__avatar__photo\" loading=\"lazy\" src=\"https://arte.estadao.com.br/public/placar/img/voter/74156.jpg\" alt=\"Deputado Federal Leonardo Monteiro (PT–MG)\" pinger-seen=\"true\"></div></div><div class=\"custom-representative\" data-choice=\"Baleia Rossi\"><div class=\"custom-representative__avatar\"><img class=\"custom-representative__avatar__photo\" loading=\"lazy\" src=\"https://arte.estadao.com.br/public/placar/img/voter/74398.jpg\" alt=\"Deputada Federal Maria do Rosário (PT–RS)\" pinger-seen=\"true\"></div></div><div class=\"custom-representative\" data-choice=\"Baleia Rossi\"><div class=\"custom-representative__avatar\"><img class=\"custom-representative__avatar__photo\" loading=\"lazy\" src=\"https://arte.estadao.com.br/public/placar/img/voter/204428.jpg\" alt=\"Deputada Federal Marília Arraes (PT–PE)\" pinger-seen=\"true\"></div></div><div class=\"custom-representative\" data-choice=\"Baleia Rossi\"><div class=\"custom-representative__avatar\"><img class=\"custom-representative__avatar__photo\" loading=\"lazy\" src=\"https://arte.estadao.com.br/public/placar/img/voter/188097.jpg\" alt=\"Deputado Federal Merlong Solano (PT–PI)\" pinger-seen=\"true\"></div></div><div class=\"custom-representative\" data-choice=\"Baleia Rossi\"><div class=\"custom-representative__avatar\"><img class=\"custom-representative__avatar__photo\" loading=\"lazy\" src=\"https://arte.estadao.com.br/public/placar/img/voter/178986.jpg\" alt=\"Deputado Federal Nilto Tatto (PT–SP)\" pinger-seen=\"true\"></div></div><div class=\"custom-representative\" data-choice=\"Baleia Rossi\"><div class=\"custom-representative__avatar\"><img class=\"custom-representative__avatar__photo\" loading=\"lazy\" src=\"https://arte.estadao.com.br/public/placar/img/voter/74159.jpg\" alt=\"Deputado Federal Odair Cunha (PT–MG)\" pinger-seen=\"true\"></div></div><div class=\"custom-representative\" data-choice=\"Baleia Rossi\"><div class=\"custom-representative__avatar\"><img class=\"custom-representative__avatar__photo\" loading=\"lazy\" src=\"https://arte.estadao.com.br/public/placar/img/voter/74160.jpg\" alt=\"Deputado Federal Patrus Ananias (PT–MG)\" pinger-seen=\"true\"></div></div><div class=\"custom-representative\" data-choice=\"Baleia Rossi\"><div class=\"custom-representative__avatar\"><img class=\"custom-representative__avatar__photo\" loading=\"lazy\" src=\"https://arte.estadao.com.br/public/placar/img/voter/171617.jpg\" alt=\"Deputado Federal Paulão (PT–AL)\" pinger-seen=\"true\"></div></div><div class=\"custom-representative\" data-choice=\"Baleia Rossi\"><div class=\"custom-representative__avatar\"><img class=\"custom-representative__avatar__photo\" loading=\"lazy\" src=\"https://arte.estadao.com.br/public/placar/img/voter/141488.jpg\" alt=\"Deputado Federal Paulo Teixeira (PT–SP)\" pinger-seen=\"true\"></div></div><div class=\"custom-representative\" data-choice=\"Baleia Rossi\"><div class=\"custom-representative__avatar\"><img class=\"custom-representative__avatar__photo\" loading=\"lazy\" src=\"https://arte.estadao.com.br/public/placar/img/voter/204467.jpg\" alt=\"Deputada Federal Professora Rosa Neide (PT–MT)\" pinger-seen=\"true\"></div></div><div class=\"custom-representative\" data-choice=\"Baleia Rossi\"><div class=\"custom-representative__avatar\"><img class=\"custom-representative__avatar__photo\" loading=\"lazy\" src=\"https://arte.estadao.com.br/public/placar/img/voter/74161.jpg\" alt=\"Deputado Federal Reginaldo Lopes (PT–MG)\" pinger-seen=\"true\"></div></div><div class=\"custom-representative\" data-choice=\"Baleia Rossi\"><div class=\"custom-representative__avatar\"><img class=\"custom-representative__avatar__photo\" loading=\"lazy\" src=\"https://arte.estadao.com.br/public/placar/img/voter/178925.jpg\" alt=\"Deputada Federal Rejane Dias (PT–PI)\" pinger-seen=\"true\"></div></div><div class=\"custom-representative\" data-choice=\"Baleia Rossi\"><div class=\"custom-representative__avatar\"><img class=\"custom-representative__avatar__photo\" loading=\"lazy\" src=\"https://arte.estadao.com.br/public/placar/img/voter/74371.jpg\" alt=\"Deputado Federal Rubens Otoni (PT–GO)\" pinger-seen=\"true\"></div></div><div class=\"custom-representative\" data-choice=\"Baleia Rossi\"><div class=\"custom-representative__avatar\"><img class=\"custom-representative__avatar__photo\" loading=\"lazy\" src=\"https://arte.estadao.com.br/public/placar/img/voter/73604.jpg\" alt=\"Deputado Federal Rui Falcão (PT–SP)\" pinger-seen=\"true\"></div></div><div class=\"custom-representative\" data-choice=\"Baleia Rossi\"><div class=\"custom-representative__avatar\"><img class=\"custom-representative__avatar__photo\" loading=\"lazy\" src=\"https://arte.estadao.com.br/public/placar/img/voter/160610.jpg\" alt=\"Deputado Federal Valmir Assunção (PT–BA)\" pinger-seen=\"true\"></div></div><div class=\"custom-representative\" data-choice=\"Baleia Rossi\"><div class=\"custom-representative__avatar\"><img class=\"custom-representative__avatar__photo\" loading=\"lazy\" src=\"https://arte.estadao.com.br/public/placar/img/voter/74283.jpg\" alt=\"Deputado Federal Vicentinho (PT–SP)\" pinger-seen=\"true\"></div></div><div class=\"custom-representative\" data-choice=\"Baleia Rossi\"><div class=\"custom-representative__avatar\"><img class=\"custom-representative__avatar__photo\" loading=\"lazy\" src=\"https://arte.estadao.com.br/public/placar/img/voter/160569.jpg\" alt=\"Deputado Federal Waldenor Pereira (PT–BA)\" pinger-seen=\"true\"></div></div><div class=\"custom-representative\" data-choice=\"Baleia Rossi\"><div class=\"custom-representative__avatar\"><img class=\"custom-representative__avatar__photo\" loading=\"lazy\" src=\"https://arte.estadao.com.br/public/placar/img/voter/204488.jpg\" alt=\"Deputado Federal Célio Studart (PV–CE)\" pinger-seen=\"true\"></div></div><div class=\"custom-representative\" data-choice=\"Baleia Rossi\"><div class=\"custom-representative__avatar\"><img class=\"custom-representative__avatar__photo\" loading=\"lazy\" src=\"https://arte.estadao.com.br/public/placar/img/voter/204537.jpg\" alt=\"Deputado Federal Enrico Misasi (PV–SP)\" pinger-seen=\"true\"></div></div><div class=\"custom-representative\" data-choice=\"Baleia Rossi\"><div class=\"custom-representative__avatar\"><img class=\"custom-representative__avatar__photo\" loading=\"lazy\" src=\"https://arte.estadao.com.br/public/placar/img/voter/204383.jpg\" alt=\"Deputado Federal Professor Israel Batista (PV–DF)\" pinger-seen=\"true\"></div></div><div class=\"custom-representative\" data-choice=\"Baleia Rossi\"><div class=\"custom-representative__avatar\"><img class=\"custom-representative__avatar__photo\" loading=\"lazy\" src=\"https://arte.estadao.com.br/public/placar/img/voter/204468.jpg\" alt=\"Deputada Federal Joenia Wapichana (REDE–RR)\" pinger-seen=\"true\"></div></div><div class=\"custom-representative\" data-choice=\"Baleia Rossi\"><div class=\"custom-representative__avatar\"><img class=\"custom-representative__avatar__photo\" loading=\"lazy\" src=\"https://arte.estadao.com.br/public/placar/img/voter/141518.jpg\" alt=\"Deputado Federal Paulo Pereira da Silva (Solidariedade–SP)\" pinger-seen=\"true\"></div></div></div></div><div class=\"custom-section\"><h3 class=\"custom-section__title\">Outros candidatos</h3><p class=\"custom-section__lead\"><span class=\"custom-section__count\">22 votos</span></p><div class=\"custom-graph__legend\"><div class=\"custom-section__candidates custom-graph__legend__candidates\"><div class=\"custom-candidate\" data-party=\"PSOL\"><div class=\"custom-candidate__avatar\"><img class=\"custom-candidate__avatar__photo\" loading=\"lazy\" src=\"https://arte.estadao.com.br/public/pages/dn/gz/q7/0e/o2/40/luiza-erundina.png\" alt=\"Deputada Federal Luiza Erundina (PSOL–SP)\" pinger-seen=\"true\"><span class=\"custom-candidate__avatar__label\">PSOL–SP</span></div><div class=\"custom-candidate__votes\">9 votos</div><div class=\"custom-candidate__name\">Luiza<br>Erundina</div></div><div class=\"custom-candidate\" data-party=\"NOVO\"><div class=\"custom-candidate__avatar\"><img class=\"custom-candidate__avatar__photo\" loading=\"lazy\" src=\"https://arte.estadao.com.br/public/pages/dn/gz/q7/0e/o2/40/van-hattem.png\" alt=\"Deputado Federal Van Hattem (NOVO–RS)\" pinger-seen=\"true\"><span class=\"custom-candidate__avatar__label\">NOVO–RS</span></div><div class=\"custom-candidate__votes\">8 votos</div><div class=\"custom-candidate__name\">Van<br>Hattem</div></div><div class=\"custom-candidate\" data-party=\"MDB\"><div class=\"custom-candidate__avatar\"><img class=\"custom-candidate__avatar__photo\" loading=\"lazy\" src=\"https://arte.estadao.com.br/public/pages/dn/gz/q7/0e/o2/40/fabio-ramalho.png\" alt=\"Deputado Federal Fábio Ramalho (MDB–MG)\" pinger-seen=\"true\"><span class=\"custom-candidate__avatar__label\">MDB–MG</span></div><div class=\"custom-candidate__votes\">2 votos</div><div class=\"custom-candidate__name\">Fábio<br>Ramalho</div></div><div class=\"custom-candidate\" data-party=\"PSDB\"><div class=\"custom-candidate__avatar\"><img class=\"custom-candidate__avatar__photo\" loading=\"lazy\" src=\"https://arte.estadao.com.br/public/pages/dn/gz/q7/0e/o2/40/alexandre-frota.png\" alt=\"Deputado Federal Alexandre Frota (PSDB–SP)\" pinger-seen=\"true\"><span class=\"custom-candidate__avatar__label\">PSDB–SP</span></div><div class=\"custom-candidate__votes\">1 voto</div><div class=\"custom-candidate__name\">Alexandre<br>Frota</div></div><div class=\"custom-candidate\" data-party=\"Avante\"><div class=\"custom-candidate__avatar\"><img class=\"custom-candidate__avatar__photo\" loading=\"lazy\" src=\"https://arte.estadao.com.br/public/pages/dn/gz/q7/0e/o2/40/andre-janones.png\" alt=\"Deputado Federal André Janones (Avante–MG)\" pinger-seen=\"true\"><span class=\"custom-candidate__avatar__label\">Avante–MG</span></div><div class=\"custom-candidate__votes\">1 voto</div><div class=\"custom-candidate__name\">André<br>Janones</div></div><div class=\"custom-candidate\" data-party=\"PSL\"><div class=\"custom-candidate__avatar\"><img class=\"custom-candidate__avatar__photo\" loading=\"lazy\" src=\"https://arte.estadao.com.br/public/pages/dn/gz/q7/0e/o2/40/general-peternelli.png\" alt=\"Deputado Federal General Peternelli (PSL–SP)\" pinger-seen=\"true\"><span class=\"custom-candidate__avatar__label\">PSL–SP</span></div><div class=\"custom-candidate__votes\">1 voto</div><div class=\"custom-candidate__name\">General<br>Peternelli</div></div></div></div><div class=\"custom-section__representatives\"><div class=\"custom-representative\" data-choice=\"Luiza Erundina\"><div class=\"custom-representative__avatar\"><img class=\"custom-representative__avatar__photo\" loading=\"lazy\" src=\"https://arte.estadao.com.br/public/placar/img/voter/204509.jpg\" alt=\"Deputada Federal Áurea Carolina (PSOL–MG)\" pinger-seen=\"true\"></div></div><div class=\"custom-representative\" data-choice=\"Luiza Erundina\"><div class=\"custom-representative__avatar\"><img class=\"custom-representative__avatar__photo\" loading=\"lazy\" src=\"https://arte.estadao.com.br/public/placar/img/voter/204407.jpg\" alt=\"Deputada Federal Fernanda Melchionna (PSOL–RS)\" pinger-seen=\"true\"></div></div><div class=\"custom-representative\" data-choice=\"Luiza Erundina\"><div class=\"custom-representative__avatar\"><img class=\"custom-representative__avatar__photo\" loading=\"lazy\" src=\"https://arte.estadao.com.br/public/placar/img/voter/152605.jpg\" alt=\"Deputado Federal Glauber Braga (PSOL–RJ)\" pinger-seen=\"true\"></div></div><div class=\"custom-representative\" data-choice=\"Luiza Erundina\"><div class=\"custom-representative__avatar\"><img class=\"custom-representative__avatar__photo\" loading=\"lazy\" src=\"https://arte.estadao.com.br/public/placar/img/voter/73531.jpg\" alt=\"Deputado Federal Ivan Valente (PSOL–SP)\" pinger-seen=\"true\"></div></div><div class=\"custom-representative\" data-choice=\"Luiza Erundina\"><div class=\"custom-representative__avatar\"><img class=\"custom-representative__avatar__photo\" loading=\"lazy\" src=\"https://arte.estadao.com.br/public/placar/img/voter/74784.jpg\" alt=\"Deputada Federal Luiza Erundina (PSOL–SP)\" pinger-seen=\"true\"></div></div><div class=\"custom-representative\" data-choice=\"Luiza Erundina\"><div class=\"custom-representative__avatar\"><img class=\"custom-representative__avatar__photo\" loading=\"lazy\" src=\"https://arte.estadao.com.br/public/placar/img/voter/76874.jpg\" alt=\"Deputado Federal Marcelo Freixo (PSOL–RJ)\" pinger-seen=\"true\"></div></div><div class=\"custom-representative\" data-choice=\"Luiza Erundina\"><div class=\"custom-representative__avatar\"><img class=\"custom-representative__avatar__photo\" loading=\"lazy\" src=\"https://arte.estadao.com.br/public/placar/img/voter/204535.jpg\" alt=\"Deputada Federal Sâmia Bomfim (PSOL–SP)\" pinger-seen=\"true\"></div></div><div class=\"custom-representative\" data-choice=\"Luiza Erundina\"><div class=\"custom-representative__avatar\"><img class=\"custom-representative__avatar__photo\" loading=\"lazy\" src=\"https://arte.estadao.com.br/public/placar/img/voter/204464.jpg\" alt=\"Deputada Federal Talíria Petrone (PSOL–RJ)\" pinger-seen=\"true\"></div></div><div class=\"custom-representative\" data-choice=\"Luiza Erundina\"><div class=\"custom-representative__avatar\"><img class=\"custom-representative__avatar__photo custom-representative__avatar__photo--anon\" loading=\"lazy\" src=\"https://arte.estadao.com.br/public/pages/dn/gz/q7/0e/o2/40/outros-candidatos.png\" alt=\"Deputada Federal Vivi Reis (PSOL–PA)\" pinger-seen=\"true\"></div></div><div class=\"custom-representative\" data-choice=\"Van Hattem\"><div class=\"custom-representative__avatar\"><img class=\"custom-representative__avatar__photo\" loading=\"lazy\" src=\"https://arte.estadao.com.br/public/placar/img/voter/204528.jpg\" alt=\"Deputada Federal Adriana Ventura (NOVO–SP)\" pinger-seen=\"true\"></div></div><div class=\"custom-representative\" data-choice=\"Van Hattem\"><div class=\"custom-representative__avatar\"><img class=\"custom-representative__avatar__photo\" loading=\"lazy\" src=\"https://arte.estadao.com.br/public/placar/img/voter/204516.jpg\" alt=\"Deputado Federal Alexis Fonteyne (NOVO–SP)\" pinger-seen=\"true\"></div></div><div class=\"custom-representative\" data-choice=\"Van Hattem\"><div class=\"custom-representative__avatar\"><img class=\"custom-representative__avatar__photo\" loading=\"lazy\" src=\"https://arte.estadao.com.br/public/placar/img/voter/204365.jpg\" alt=\"Deputado Federal Gilson Marques (NOVO–SC)\" pinger-seen=\"true\"></div></div><div class=\"custom-representative\" data-choice=\"Van Hattem\"><div class=\"custom-representative__avatar\"><img class=\"custom-representative__avatar__photo\" loading=\"lazy\" src=\"https://arte.estadao.com.br/public/placar/img/voter/204523.jpg\" alt=\"Deputado Federal Lucas Gonzalez (NOVO–MG)\" pinger-seen=\"true\"></div></div><div class=\"custom-representative\" data-choice=\"Van Hattem\"><div class=\"custom-representative__avatar\"><img class=\"custom-representative__avatar__photo\" loading=\"lazy\" src=\"https://arte.estadao.com.br/public/placar/img/voter/156190.jpg\" alt=\"Deputado Federal Marcel van Hattem (NOVO–RS)\" pinger-seen=\"true\"></div></div><div class=\"custom-representative\" data-choice=\"Van Hattem\"><div class=\"custom-representative__avatar\"><img class=\"custom-representative__avatar__photo\" loading=\"lazy\" src=\"https://arte.estadao.com.br/public/placar/img/voter/204461.jpg\" alt=\"Deputado Federal Paulo Ganime (NOVO–RJ)\" pinger-seen=\"true\"></div></div><div class=\"custom-representative\" data-choice=\"Van Hattem\"><div class=\"custom-representative__avatar\"><img class=\"custom-representative__avatar__photo\" loading=\"lazy\" src=\"https://arte.estadao.com.br/public/placar/img/voter/204519.jpg\" alt=\"Deputado Federal Tiago Mitraud (NOVO–MG)\" pinger-seen=\"true\"></div></div><div class=\"custom-representative\" data-choice=\"Van Hattem\"><div class=\"custom-representative__avatar\"><img class=\"custom-representative__avatar__photo\" loading=\"lazy\" src=\"https://arte.estadao.com.br/public/placar/img/voter/204532.jpg\" alt=\"Deputado Federal Vinicius Poit (NOVO–SP)\" pinger-seen=\"true\"></div></div><div class=\"custom-representative\" data-choice=\"Fábio Ramalho\"><div class=\"custom-representative__avatar\"><img class=\"custom-representative__avatar__photo\" loading=\"lazy\" src=\"https://arte.estadao.com.br/public/placar/img/voter/141427.jpg\" alt=\"Deputado Federal Fábio Ramalho (MDB–MG)\" pinger-seen=\"true\"></div></div><div class=\"custom-representative\" data-choice=\"Fábio Ramalho\"><div class=\"custom-representative__avatar\"><img class=\"custom-representative__avatar__photo\" loading=\"lazy\" src=\"https://arte.estadao.com.br/public/placar/img/voter/73586.jpg\" alt=\"Deputado Federal Júlio Delgado (PSB–MG)\" pinger-seen=\"true\"></div></div><div class=\"custom-representative\" data-choice=\"Alexandre Frota\"><div class=\"custom-representative__avatar\"><img class=\"custom-representative__avatar__photo\" loading=\"lazy\" src=\"https://arte.estadao.com.br/public/placar/img/voter/204544.jpg\" alt=\"Deputado Federal Alexandre Frota (PSDB–SP)\" pinger-seen=\"true\"></div></div><div class=\"custom-representative\" data-choice=\"André Janones\"><div class=\"custom-representative__avatar\"><img class=\"custom-representative__avatar__photo\" loading=\"lazy\" src=\"https://arte.estadao.com.br/public/placar/img/voter/204515.jpg\" alt=\"Deputado Federal André Janones (Avante–MG)\" pinger-seen=\"true\"></div></div><div class=\"custom-representative\" data-choice=\"General Peternelli\"><div class=\"custom-representative__avatar\"><img class=\"custom-representative__avatar__photo\" loading=\"lazy\" src=\"https://arte.estadao.com.br/public/placar/img/voter/204484.jpg\" alt=\"Deputado Federal General Peternelli (PSL–SP)\" pinger-seen=\"true\"></div></div></div></div><div class=\"custom-section custom-section--no-answer\"><h3 class=\"custom-section__title\">Não responderam</h3><p class=\"custom-section__lead\"><span class=\"custom-section__count\">111 deputados</span></p><div class=\"custom-section__representatives\"><div class=\"custom-representative\" data-choice=\"Não quis responder\"><div class=\"custom-representative__avatar\"><img class=\"custom-representative__avatar__photo\" loading=\"lazy\" src=\"https://arte.estadao.com.br/public/placar/img/voter/204553.jpg\" alt=\"Deputado Federal Pastor Sargento Isidório (Avante–BA)\" pinger-seen=\"true\"></div></div><div class=\"custom-representative\" data-choice=\"Não quis responder\"><div class=\"custom-representative__avatar\"><img class=\"custom-representative__avatar__photo\" loading=\"lazy\" src=\"https://arte.estadao.com.br/public/placar/img/voter/178972.jpg\" alt=\"Deputado Federal Alex Manente (Cidadania–SP)\" pinger-seen=\"true\"></div></div><div class=\"custom-representative\" data-choice=\"Não quis responder\"><div class=\"custom-representative__avatar\"><img class=\"custom-representative__avatar__photo\" loading=\"lazy\" src=\"https://arte.estadao.com.br/public/placar/img/voter/164360.jpg\" alt=\"Deputada Federal Carmen Zanotto (Cidadania–SC)\" pinger-seen=\"true\"></div></div><div class=\"custom-representative\" data-choice=\"Não quis responder\"><div class=\"custom-representative__avatar\"><img class=\"custom-representative__avatar__photo\" loading=\"lazy\" src=\"https://arte.estadao.com.br/public/placar/img/voter/204355.jpg\" alt=\"Deputado Federal Da Vitoria (Cidadania–ES)\" pinger-seen=\"true\"></div></div><div class=\"custom-representative\" data-choice=\"Não quis responder\"><div class=\"custom-representative__avatar\"><img class=\"custom-representative__avatar__photo\" loading=\"lazy\" src=\"https://arte.estadao.com.br/public/placar/img/voter/204377.jpg\" alt=\"Deputada Federal Paula Belmonte (Cidadania–DF)\" pinger-seen=\"true\"></div></div><div class=\"custom-representative\" data-choice=\"Não quis responder\"><div class=\"custom-representative__avatar\"><img class=\"custom-representative__avatar__photo\" loading=\"lazy\" src=\"https://arte.estadao.com.br/public/placar/img/voter/141513.jpg\" alt=\"Deputado Federal Bilac Pinto (DEM–MG)\" pinger-seen=\"true\"></div></div><div class=\"custom-representative\" data-choice=\"Não quis responder\"><div class=\"custom-representative__avatar\"><img class=\"custom-representative__avatar__photo\" loading=\"lazy\" src=\"https://arte.estadao.com.br/public/placar/img/voter/141431.jpg\" alt=\"Deputado Federal Fernando Coelho Filho (DEM–PE)\" pinger-seen=\"true\"></div></div><div class=\"custom-representative\" data-choice=\"Não quis responder\"><div class=\"custom-representative__avatar\"><img class=\"custom-representative__avatar__photo\" loading=\"lazy\" src=\"https://arte.estadao.com.br/public/placar/img/voter/178909.jpg\" alt=\"Deputado Federal Hélio Leite (DEM–PA)\" pinger-seen=\"true\"></div></div><div class=\"custom-representative\" data-choice=\"Não quis responder\"><div class=\"custom-representative__avatar\"><img class=\"custom-representative__avatar__photo\" loading=\"lazy\" src=\"https://arte.estadao.com.br/public/placar/img/voter/204386.jpg\" alt=\"Deputado Federal Jose Mario Schreiner (DEM–GO)\" pinger-seen=\"true\"></div></div><div class=\"custom-representative\" data-choice=\"Não quis responder\"><div class=\"custom-representative__avatar\"><img class=\"custom-representative__avatar__photo\" loading=\"lazy\" src=\"https://arte.estadao.com.br/public/placar/img/voter/178886.jpg\" alt=\"Deputado Federal Juscelino Filho (DEM–MA)\" pinger-seen=\"true\"></div></div><div class=\"custom-representative\" data-choice=\"Não quis responder\"><div class=\"custom-representative__avatar\"><img class=\"custom-representative__avatar__photo\" loading=\"lazy\" src=\"https://arte.estadao.com.br/public/placar/img/voter/204536.jpg\" alt=\"Deputado Federal Kim Kataguiri (DEM–SP)\" pinger-seen=\"true\"></div></div><div class=\"custom-representative\" data-choice=\"Não quis responder\"><div class=\"custom-representative__avatar\"><img class=\"custom-representative__avatar__photo\" loading=\"lazy\" src=\"https://arte.estadao.com.br/public/placar/img/voter/204498.jpg\" alt=\"Deputado Federal Olival Marques (DEM–PA)\" pinger-seen=\"true\"></div></div><div class=\"custom-representative\" data-choice=\"Não quis responder\"><div class=\"custom-representative__avatar\"><img class=\"custom-representative__avatar__photo\" loading=\"lazy\" src=\"https://arte.estadao.com.br/public/placar/img/voter/178860.jpg\" alt=\"Deputado Federal Paulo Azi (DEM–BA)\" pinger-seen=\"true\"></div></div><div class=\"custom-representative\" data-choice=\"Não quis responder\"><div class=\"custom-representative__avatar\"><img class=\"custom-representative__avatar__photo\" loading=\"lazy\" src=\"https://arte.estadao.com.br/public/placar/img/voter/178947.jpg\" alt=\"Deputado Federal Sóstenes Cavalcante (DEM–RJ)\" pinger-seen=\"true\"></div></div><div class=\"custom-representative\" data-choice=\"Não quis responder\"><div class=\"custom-representative__avatar\"><img class=\"custom-representative__avatar__photo\" loading=\"lazy\" src=\"https://arte.estadao.com.br/public/placar/img/voter/204456.jpg\" alt=\"Deputado Federal Gutemberg Reis (MDB–RJ)\" pinger-seen=\"true\"></div></div><div class=\"custom-representative\" data-choice=\"Não quis responder\"><div class=\"custom-representative__avatar\"><img class=\"custom-representative__avatar__photo\" loading=\"lazy\" src=\"https://arte.estadao.com.br/public/placar/img/voter/178839.jpg\" alt=\"Deputada Federal Jéssica Sales (MDB–AC)\" pinger-seen=\"true\"></div></div><div class=\"custom-representative\" data-choice=\"Não quis responder\"><div class=\"custom-representative__avatar\"><img class=\"custom-representative__avatar__photo\" loading=\"lazy\" src=\"https://arte.estadao.com.br/public/placar/img/voter/178896.jpg\" alt=\"Deputado Federal Newton Cardoso Jr (MDB–MG)\" pinger-seen=\"true\"></div></div><div class=\"custom-representative\" data-choice=\"Não quis responder\"><div class=\"custom-representative__avatar\"><img class=\"custom-representative__avatar__photo\" loading=\"lazy\" src=\"https://arte.estadao.com.br/public/placar/img/voter/160641.jpg\" alt=\"Deputada Federal Professora Marcivania (PCdoB–AP)\" pinger-seen=\"true\"></div></div><div class=\"custom-representative\" data-choice=\"Não quis responder\"><div class=\"custom-representative__avatar\"><img class=\"custom-representative__avatar__photo\" loading=\"lazy\" src=\"https://arte.estadao.com.br/public/placar/img/voter/204571.jpg\" alt=\"Deputado Federal Alex Santana (PDT–BA)\" pinger-seen=\"true\"></div></div><div class=\"custom-representative\" data-choice=\"Não quis responder\"><div class=\"custom-representative__avatar\"><img class=\"custom-representative__avatar__photo\" loading=\"lazy\" src=\"https://arte.estadao.com.br/public/placar/img/voter/74467.jpg\" alt=\"Deputado Federal Damião Feliciano (PDT–PB)\" pinger-seen=\"true\"></div></div><div class=\"custom-representative\" data-choice=\"Não quis responder\"><div class=\"custom-representative__avatar\"><img class=\"custom-representative__avatar__photo\" loading=\"lazy\" src=\"https://arte.estadao.com.br/public/placar/img/voter/68720.jpg\" alt=\"Deputado Federal Fábio Henrique (PDT–SE)\" pinger-seen=\"true\"></div></div><div class=\"custom-representative\" data-choice=\"Não quis responder\"><div class=\"custom-representative__avatar\"><img class=\"custom-representative__avatar__photo\" loading=\"lazy\" src=\"https://arte.estadao.com.br/public/placar/img/voter/160598.jpg\" alt=\"Deputada Federal Flávia Morais (PDT–GO)\" pinger-seen=\"true\"></div></div><div class=\"custom-representative\" data-choice=\"Não quis responder\"><div class=\"custom-representative__avatar\"><img class=\"custom-representative__avatar__photo\" loading=\"lazy\" src=\"https://arte.estadao.com.br/public/placar/img/voter/191923.jpg\" alt=\"Deputado Federal Flávio Nogueira (PDT–PI)\" pinger-seen=\"true\"></div></div><div class=\"custom-representative\" data-choice=\"Não quis responder\"><div class=\"custom-representative__avatar\"><img class=\"custom-representative__avatar__photo\" loading=\"lazy\" src=\"https://arte.estadao.com.br/public/placar/img/voter/204533.jpg\" alt=\"Deputado Federal Idilvan Alencar (PDT–CE)\" pinger-seen=\"true\"></div></div><div class=\"custom-representative\" data-choice=\"Não quis responder\"><div class=\"custom-representative__avatar\"><img class=\"custom-representative__avatar__photo\" loading=\"lazy\" src=\"https://arte.estadao.com.br/public/placar/img/voter/74299.jpg\" alt=\"Deputado Federal Leônidas Cristino (PDT–CE)\" pinger-seen=\"true\"></div></div><div class=\"custom-representative\" data-choice=\"Não quis responder\"><div class=\"custom-representative__avatar\"><img class=\"custom-representative__avatar__photo\" loading=\"lazy\" src=\"https://arte.estadao.com.br/public/placar/img/voter/133968.jpg\" alt=\"Deputado Federal Paulo Ramos (PDT–RJ)\" pinger-seen=\"true\"></div></div><div class=\"custom-representative\" data-choice=\"Não quis responder\"><div class=\"custom-representative__avatar\"><img class=\"custom-representative__avatar__photo\" loading=\"lazy\" src=\"https://arte.estadao.com.br/public/placar/img/voter/73486.jpg\" alt=\"Deputado Federal Pompeo de Mattos (PDT–RS)\" pinger-seen=\"true\"></div></div><div class=\"custom-representative\" data-choice=\"Não quis responder\"><div class=\"custom-representative__avatar\"><img class=\"custom-representative__avatar__photo\" loading=\"lazy\" src=\"https://arte.estadao.com.br/public/placar/img/voter/204489.jpg\" alt=\"Deputado Federal Robério Monteiro (PDT–CE)\" pinger-seen=\"true\"></div></div><div class=\"custom-representative\" data-choice=\"Não quis responder\"><div class=\"custom-representative__avatar\"><img class=\"custom-representative__avatar__photo\" loading=\"lazy\" src=\"https://arte.estadao.com.br/public/placar/img/voter/204360.jpg\" alt=\"Deputada Federal Silvia Cristina (PDT–RO)\" pinger-seen=\"true\"></div></div><div class=\"custom-representative\" data-choice=\"Não quis responder\"><div class=\"custom-representative__avatar\"><img class=\"custom-representative__avatar__photo\" loading=\"lazy\" src=\"https://arte.estadao.com.br/public/placar/img/voter/177282.jpg\" alt=\"Deputado Federal Subtenente Gonzaga (PDT–MG)\" pinger-seen=\"true\"></div></div><div class=\"custom-representative\" data-choice=\"Não quis responder\"><div class=\"custom-representative__avatar\"><img class=\"custom-representative__avatar__photo\" loading=\"lazy\" src=\"https://arte.estadao.com.br/public/placar/img/voter/178928.jpg\" alt=\"Deputada Federal Christiane de Souza Yared (PL–PR)\" pinger-seen=\"true\"></div></div><div class=\"custom-representative\" data-choice=\"Não quis responder\"><div class=\"custom-representative__avatar\"><img class=\"custom-representative__avatar__photo\" loading=\"lazy\" src=\"https://arte.estadao.com.br/public/placar/img/voter/129618.jpg\" alt=\"Deputada Federal Gorete Pereira (PL–CE)\" pinger-seen=\"true\"></div></div><div class=\"custom-representative\" data-choice=\"Não quis responder\"><div class=\"custom-representative__avatar\"><img class=\"custom-representative__avatar__photo\" loading=\"lazy\" src=\"https://arte.estadao.com.br/public/placar/img/voter/204563.jpg\" alt=\"Deputado Federal Josimar Maranhãozinho (PL–MA)\" pinger-seen=\"true\"></div></div><div class=\"custom-representative\" data-choice=\"Não quis responder\"><div class=\"custom-representative__avatar\"><img class=\"custom-representative__avatar__photo\" loading=\"lazy\" src=\"https://arte.estadao.com.br/public/placar/img/voter/204574.jpg\" alt=\"Deputado Federal Junior Lourenço (PL–MA)\" pinger-seen=\"true\"></div></div><div class=\"custom-representative\" data-choice=\"Não quis responder\"><div class=\"custom-representative__avatar\"><img class=\"custom-representative__avatar__photo\" loading=\"lazy\" src=\"https://arte.estadao.com.br/public/placar/img/voter/160558.jpg\" alt=\"Deputado Federal Paulo Freire Costa (PL–SP)\" pinger-seen=\"true\"></div></div><div class=\"custom-representative\" data-choice=\"Não quis responder\"><div class=\"custom-representative__avatar\"><img class=\"custom-representative__avatar__photo\" loading=\"lazy\" src=\"https://arte.estadao.com.br/public/placar/img/voter/160976.jpg\" alt=\"Deputado Federal Tiririca (PL–SP)\" pinger-seen=\"true\"></div></div><div class=\"custom-representative\" data-choice=\"Não quis responder\"><div class=\"custom-representative__avatar\"><img class=\"custom-representative__avatar__photo\" loading=\"lazy\" src=\"https://arte.estadao.com.br/public/placar/img/voter/204508.jpg\" alt=\"Deputado Federal Igor Timo (PODE–MG)\" pinger-seen=\"true\"></div></div><div class=\"custom-representative\" data-choice=\"Não quis responder\"><div class=\"custom-representative__avatar\"><img class=\"custom-representative__avatar__photo custom-representative__avatar__photo--anon\" loading=\"lazy\" src=\"https://arte.estadao.com.br/public/pages/dn/gz/q7/0e/o2/40/outros-candidatos.png\" alt=\"Deputado Federal Josivaldo JP (PODE–MA)\" pinger-seen=\"true\"></div></div><div class=\"custom-representative\" data-choice=\"Não quis responder\"><div class=\"custom-representative__avatar\"><img class=\"custom-representative__avatar__photo\" loading=\"lazy\" src=\"https://arte.estadao.com.br/public/placar/img/voter/204359.jpg\" alt=\"Deputado Federal Léo Moraes (PODE–RO)\" pinger-seen=\"true\"></div></div><div class=\"custom-representative\" data-choice=\"Não quis responder\"><div class=\"custom-representative__avatar\"><img class=\"custom-representative__avatar__photo\" loading=\"lazy\" src=\"https://arte.estadao.com.br/public/placar/img/voter/178934.jpg\" alt=\"Deputado Federal Toninho Wandscheer (PROS–PR)\" pinger-seen=\"true\"></div></div><div class=\"custom-representative\" data-choice=\"Não quis responder\"><div class=\"custom-representative__avatar\"><img class=\"custom-representative__avatar__photo\" loading=\"lazy\" src=\"https://arte.estadao.com.br/public/placar/img/voter/178863.jpg\" alt=\"Deputado Federal Uldurico Junior (PROS–BA)\" pinger-seen=\"true\"></div></div><div class=\"custom-representative\" data-choice=\"Não quis responder\"><div class=\"custom-representative__avatar\"><img class=\"custom-representative__avatar__photo\" loading=\"lazy\" src=\"https://arte.estadao.com.br/public/placar/img/voter/160518.jpg\" alt=\"Deputado Federal Weliton Prado (PROS–MG)\" pinger-seen=\"true\"></div></div><div class=\"custom-representative\" data-choice=\"Não quis responder\"><div class=\"custom-representative__avatar\"><img class=\"custom-representative__avatar__photo\" loading=\"lazy\" src=\"https://arte.estadao.com.br/public/placar/img/voter/178927.jpg\" alt=\"Deputado Federal Aliel Machado (PSB–PR)\" pinger-seen=\"true\"></div></div><div class=\"custom-representative\" data-choice=\"Não quis responder\"><div class=\"custom-representative__avatar\"><img class=\"custom-representative__avatar__photo\" loading=\"lazy\" src=\"https://arte.estadao.com.br/public/placar/img/voter/204499.jpg\" alt=\"Deputado Federal Cássio Andrade (PSB–PA)\" pinger-seen=\"true\"></div></div><div class=\"custom-representative\" data-choice=\"Não quis responder\"><div class=\"custom-representative__avatar\"><img class=\"custom-representative__avatar__photo\" loading=\"lazy\" src=\"https://arte.estadao.com.br/public/placar/img/voter/160528.jpg\" alt=\"Deputado Federal Danilo Cabral (PSB–PE)\" pinger-seen=\"true\"></div></div><div class=\"custom-representative\" data-choice=\"Não quis responder\"><div class=\"custom-representative__avatar\"><img class=\"custom-representative__avatar__photo\" loading=\"lazy\" src=\"https://arte.estadao.com.br/public/placar/img/voter/178931.jpg\" alt=\"Deputado Federal Luciano Ducci (PSB–PR)\" pinger-seen=\"true\"></div></div><div class=\"custom-representative\" data-choice=\"Não quis responder\"><div class=\"custom-representative__avatar\"><img class=\"custom-representative__avatar__photo\" loading=\"lazy\" src=\"https://arte.estadao.com.br/public/placar/img/voter/213274.jpg\" alt=\"Deputado Federal Ricardo Silva (PSB–SP)\" pinger-seen=\"true\"></div></div><div class=\"custom-representative\" data-choice=\"Não quis responder\"><div class=\"custom-representative__avatar\"><img class=\"custom-representative__avatar__photo\" loading=\"lazy\" src=\"https://arte.estadao.com.br/public/placar/img/voter/204366.jpg\" alt=\"Deputado Federal Rodrigo Coelho (PSB–SC)\" pinger-seen=\"true\"></div></div><div class=\"custom-representative\" data-choice=\"Não quis responder\"><div class=\"custom-representative__avatar\"><img class=\"custom-representative__avatar__photo\" loading=\"lazy\" src=\"https://arte.estadao.com.br/public/placar/img/voter/204525.jpg\" alt=\"Deputada Federal Rosana Valle (PSB–SP)\" pinger-seen=\"true\"></div></div><div class=\"custom-representative\" data-choice=\"Não quis responder\"><div class=\"custom-representative__avatar\"><img class=\"custom-representative__avatar__photo\" loading=\"lazy\" src=\"https://arte.estadao.com.br/public/placar/img/voter/204482.jpg\" alt=\"Deputado Federal Euclydes Pettersen (PSC–MG)\" pinger-seen=\"true\"></div></div><div class=\"custom-representative\" data-choice=\"Não quis responder\"><div class=\"custom-representative__avatar\"><img class=\"custom-representative__avatar__photo\" loading=\"lazy\" src=\"https://arte.estadao.com.br/public/placar/img/voter/205476.jpg\" alt=\"Deputado Federal Charles Fernandes (PSD–BA)\" pinger-seen=\"true\"></div></div><div class=\"custom-representative\" data-choice=\"Não quis responder\"><div class=\"custom-representative__avatar\"><img class=\"custom-representative__avatar__photo\" loading=\"lazy\" src=\"https://arte.estadao.com.br/public/placar/img/voter/160552.jpg\" alt=\"Deputado Federal Danrlei de Deus Hinterholz (PSD–RS)\" pinger-seen=\"true\"></div></div><div class=\"custom-representative\" data-choice=\"Não quis responder\"><div class=\"custom-representative__avatar\"><img class=\"custom-representative__avatar__photo\" loading=\"lazy\" src=\"https://arte.estadao.com.br/public/placar/img/voter/160587.jpg\" alt=\"Deputado Federal Fábio Trad (PSD–MS)\" pinger-seen=\"true\"></div></div><div class=\"custom-representative\" data-choice=\"Não quis responder\"><div class=\"custom-representative__avatar\"><img class=\"custom-representative__avatar__photo\" loading=\"lazy\" src=\"https://arte.estadao.com.br/public/placar/img/voter/204362.jpg\" alt=\"Deputado Federal Ricardo Guidi (PSD–SC)\" pinger-seen=\"true\"></div></div><div class=\"custom-representative\" data-choice=\"Não quis responder\"><div class=\"custom-representative__avatar\"><img class=\"custom-representative__avatar__photo\" loading=\"lazy\" src=\"https://arte.estadao.com.br/public/placar/img/voter/204387.jpg\" alt=\"Deputado Federal Sargento Fahur (PSD–PR)\" pinger-seen=\"true\"></div></div><div class=\"custom-representative\" data-choice=\"Não quis responder\"><div class=\"custom-representative__avatar\"><img class=\"custom-representative__avatar__photo\" loading=\"lazy\" src=\"https://arte.estadao.com.br/public/placar/img/voter/74646.jpg\" alt=\"Deputado Federal Aécio Neves (PSDB–MG)\" pinger-seen=\"true\"></div></div><div class=\"custom-representative\" data-choice=\"Não quis responder\"><div class=\"custom-representative__avatar\"><img class=\"custom-representative__avatar__photo\" loading=\"lazy\" src=\"https://arte.estadao.com.br/public/placar/img/voter/160589.jpg\" alt=\"Deputada Federal Bruna Furlan (PSDB–SP)\" pinger-seen=\"true\"></div></div><div class=\"custom-representative\" data-choice=\"Não quis responder\"><div class=\"custom-representative__avatar\"><img class=\"custom-representative__avatar__photo\" loading=\"lazy\" src=\"https://arte.estadao.com.br/public/placar/img/voter/178876.jpg\" alt=\"Deputado Federal Célio Silveira (PSDB–GO)\" pinger-seen=\"true\"></div></div><div class=\"custom-representative\" data-choice=\"Não quis responder\"><div class=\"custom-representative__avatar\"><img class=\"custom-representative__avatar__photo\" loading=\"lazy\" src=\"https://arte.estadao.com.br/public/placar/img/voter/204409.jpg\" alt=\"Deputado Federal Daniel Trzeciak (PSDB–RS)\" pinger-seen=\"true\"></div></div><div class=\"custom-representative\" data-choice=\"Não quis responder\"><div class=\"custom-representative__avatar\"><img class=\"custom-representative__avatar__photo\" loading=\"lazy\" src=\"https://arte.estadao.com.br/public/placar/img/voter/62881.jpg\" alt=\"Deputado Federal Danilo Forte (PSDB–CE)\" pinger-seen=\"true\"></div></div><div class=\"custom-representative\" data-choice=\"Não quis responder\"><div class=\"custom-representative__avatar\"><img class=\"custom-representative__avatar__photo\" loading=\"lazy\" src=\"https://arte.estadao.com.br/public/placar/img/voter/160758.jpg\" alt=\"Deputado Federal Domingos Sávio (PSDB–MG)\" pinger-seen=\"true\"></div></div><div class=\"custom-representative\" data-choice=\"Não quis responder\"><div class=\"custom-representative__avatar\"><img class=\"custom-representative__avatar__photo\" loading=\"lazy\" src=\"https://arte.estadao.com.br/public/placar/img/voter/178966.jpg\" alt=\"Deputada Federal Geovania de Sá (PSDB–SC)\" pinger-seen=\"true\"></div></div><div class=\"custom-representative\" data-choice=\"Não quis responder\"><div class=\"custom-representative__avatar\"><img class=\"custom-representative__avatar__photo\" loading=\"lazy\" src=\"https://arte.estadao.com.br/public/placar/img/voter/204404.jpg\" alt=\"Deputado Federal Lucas Redecker (PSDB–RS)\" pinger-seen=\"true\"></div></div><div class=\"custom-representative\" data-choice=\"Não quis responder\"><div class=\"custom-representative__avatar\"><img class=\"custom-representative__avatar__photo\" loading=\"lazy\" src=\"https://arte.estadao.com.br/public/placar/img/voter/74352.jpg\" alt=\"Deputado Federal Nilson Pinto (PSDB–PA)\" pinger-seen=\"true\"></div></div><div class=\"custom-representative\" data-choice=\"Não quis responder\"><div class=\"custom-representative__avatar\"><img class=\"custom-representative__avatar__photo\" loading=\"lazy\" src=\"https://arte.estadao.com.br/public/placar/img/voter/141516.jpg\" alt=\"Deputado Federal Paulo Abi-Ackel (PSDB–MG)\" pinger-seen=\"true\"></div></div><div class=\"custom-representative\" data-choice=\"Não quis responder\"><div class=\"custom-representative__avatar\"><img class=\"custom-representative__avatar__photo\" loading=\"lazy\" src=\"https://arte.estadao.com.br/public/placar/img/voter/178844.jpg\" alt=\"Deputado Federal Pedro Vilela (PSDB–AL)\" pinger-seen=\"true\"></div></div><div class=\"custom-representative\" data-choice=\"Não quis responder\"><div class=\"custom-representative__avatar\"><img class=\"custom-representative__avatar__photo\" loading=\"lazy\" src=\"https://arte.estadao.com.br/public/placar/img/voter/160635.jpg\" alt=\"Deputado Federal Ruy Carneiro (PSDB–PB)\" pinger-seen=\"true\"></div></div><div class=\"custom-representative\" data-choice=\"Não quis responder\"><div class=\"custom-representative__avatar\"><img class=\"custom-representative__avatar__photo\" loading=\"lazy\" src=\"https://arte.estadao.com.br/public/placar/img/voter/178961.jpg\" alt=\"Deputada Federal Shéridan (PSDB–RR)\" pinger-seen=\"true\"></div></div><div class=\"custom-representative\" data-choice=\"Não quis responder\"><div class=\"custom-representative__avatar\"><img class=\"custom-representative__avatar__photo\" loading=\"lazy\" src=\"https://arte.estadao.com.br/public/placar/img/voter/204466.jpg\" alt=\"Deputada Federal Tereza Nelma (PSDB–AL)\" pinger-seen=\"true\"></div></div><div class=\"custom-representative\" data-choice=\"Não quis responder\"><div class=\"custom-representative__avatar\"><img class=\"custom-representative__avatar__photo\" loading=\"lazy\" src=\"https://arte.estadao.com.br/public/placar/img/voter/204521.jpg\" alt=\"Deputado Federal Abou Anni (PSL–SP)\" pinger-seen=\"true\"></div></div><div class=\"custom-representative\" data-choice=\"Não quis responder\"><div class=\"custom-representative__avatar\"><img class=\"custom-representative__avatar__photo\" loading=\"lazy\" src=\"https://arte.estadao.com.br/public/placar/img/voter/204490.jpg\" alt=\"Deputado Federal Charlles Evangelista (PSL–MG)\" pinger-seen=\"true\"></div></div><div class=\"custom-representative\" data-choice=\"Não quis responder\"><div class=\"custom-representative__avatar\"><img class=\"custom-representative__avatar__photo\" loading=\"lazy\" src=\"https://arte.estadao.com.br/public/placar/img/voter/204512.jpg\" alt=\"Deputado Federal Delegado Marcelo Freitas (PSL–MG)\" pinger-seen=\"true\"></div></div><div class=\"custom-representative\" data-choice=\"Não quis responder\"><div class=\"custom-representative__avatar\"><img class=\"custom-representative__avatar__photo\" loading=\"lazy\" src=\"https://arte.estadao.com.br/public/placar/img/voter/204569.jpg\" alt=\"Deputado Federal Delegado Pablo (PSL–AM)\" pinger-seen=\"true\"></div></div><div class=\"custom-representative\" data-choice=\"Não quis responder\"><div class=\"custom-representative__avatar\"><img class=\"custom-representative__avatar__photo\" loading=\"lazy\" src=\"https://arte.estadao.com.br/public/placar/img/voter/204368.jpg\" alt=\"Deputado Federal Fabio Schiochet (PSL–SC)\" pinger-seen=\"true\"></div></div><div class=\"custom-representative\" data-choice=\"Não quis responder\"><div class=\"custom-representative__avatar\"><img class=\"custom-representative__avatar__photo\" loading=\"lazy\" src=\"https://arte.estadao.com.br/public/placar/img/voter/204477.jpg\" alt=\"Deputado Federal Felício Laterça (PSL–RJ)\" pinger-seen=\"true\"></div></div><div class=\"custom-representative\" data-choice=\"Não quis responder\"><div class=\"custom-representative__avatar\"><img class=\"custom-representative__avatar__photo\" loading=\"lazy\" src=\"https://arte.estadao.com.br/public/placar/img/voter/204398.jpg\" alt=\"Deputado Federal Felipe Francischini (PSL–PR)\" pinger-seen=\"true\"></div></div><div class=\"custom-representative\" data-choice=\"Não quis responder\"><div class=\"custom-representative__avatar\"><img class=\"custom-representative__avatar__photo\" loading=\"lazy\" src=\"https://arte.estadao.com.br/public/placar/img/voter/204442.jpg\" alt=\"Deputado Federal Gurgel (PSL–RJ)\" pinger-seen=\"true\"></div></div><div class=\"custom-representative\" data-choice=\"Não quis responder\"><div class=\"custom-representative__avatar\"><img class=\"custom-representative__avatar__photo\" loading=\"lazy\" src=\"https://arte.estadao.com.br/public/placar/img/voter/204546.jpg\" alt=\"Deputada Federal Joice Hasselmann (PSL–SP)\" pinger-seen=\"true\"></div></div><div class=\"custom-representative\" data-choice=\"Não quis responder\"><div class=\"custom-representative__avatar\"><img class=\"custom-representative__avatar__photo\" loading=\"lazy\" src=\"https://arte.estadao.com.br/public/placar/img/voter/204420.jpg\" alt=\"Deputado Federal Julian Lemos (PSL–PB)\" pinger-seen=\"true\"></div></div><div class=\"custom-representative\" data-choice=\"Não quis responder\"><div class=\"custom-representative__avatar\"><img class=\"custom-representative__avatar__photo\" loading=\"lazy\" src=\"https://arte.estadao.com.br/public/placar/img/voter/204382.jpg\" alt=\"Deputado Federal Loester Trutis (PSL–MS)\" pinger-seen=\"true\"></div></div><div class=\"custom-representative\" data-choice=\"Não quis responder\"><div class=\"custom-representative__avatar\"><img class=\"custom-representative__avatar__photo\" loading=\"lazy\" src=\"https://arte.estadao.com.br/public/placar/img/voter/204415.jpg\" alt=\"Deputado Federal Nereu Crispim (PSL–RS)\" pinger-seen=\"true\"></div></div><div class=\"custom-representative\" data-choice=\"Não quis responder\"><div class=\"custom-representative__avatar\"><img class=\"custom-representative__avatar__photo\" loading=\"lazy\" src=\"https://arte.estadao.com.br/public/placar/img/voter/204446.jpg\" alt=\"Deputado Federal Professor Joziel (PSL–RJ)\" pinger-seen=\"true\"></div></div><div class=\"custom-representative\" data-choice=\"Não quis responder\"><div class=\"custom-representative__avatar\"><img class=\"custom-representative__avatar__photo\" loading=\"lazy\" src=\"https://arte.estadao.com.br/public/placar/img/voter/204565.jpg\" alt=\"Deputada Federal Professora Dayane Pimentel (PSL–BA)\" pinger-seen=\"true\"></div></div><div class=\"custom-representative\" data-choice=\"Não quis responder\"><div class=\"custom-representative__avatar\"><img class=\"custom-representative__avatar__photo\" loading=\"lazy\" src=\"https://arte.estadao.com.br/public/placar/img/voter/205548.jpg\" alt=\"Deputado Federal David Miranda (PSOL–RJ)\" pinger-seen=\"true\"></div></div><div class=\"custom-representative\" data-choice=\"Não quis responder\"><div class=\"custom-representative__avatar\"><img class=\"custom-representative__avatar__photo\" loading=\"lazy\" src=\"https://arte.estadao.com.br/public/placar/img/voter/178873.jpg\" alt=\"Deputado Federal Helder Salomão (PT–ES)\" pinger-seen=\"true\"></div></div><div class=\"custom-representative\" data-choice=\"Não quis responder\"><div class=\"custom-representative__avatar\"><img class=\"custom-representative__avatar__photo\" loading=\"lazy\" src=\"https://arte.estadao.com.br/public/placar/img/voter/73482.jpg\" alt=\"Deputado Federal Henrique Fontana (PT–RS)\" pinger-seen=\"true\"></div></div><div class=\"custom-representative\" data-choice=\"Não quis responder\"><div class=\"custom-representative__avatar\"><img class=\"custom-representative__avatar__photo\" loading=\"lazy\" src=\"https://arte.estadao.com.br/public/placar/img/voter/160535.jpg\" alt=\"Deputado Federal Marcon (PT–RS)\" pinger-seen=\"true\"></div></div><div class=\"custom-representative\" data-choice=\"Não quis responder\"><div class=\"custom-representative__avatar\"><img class=\"custom-representative__avatar__photo\" loading=\"lazy\" src=\"https://arte.estadao.com.br/public/placar/img/voter/204453.jpg\" alt=\"Deputada Federal Natália Bonavides (PT–RN)\" pinger-seen=\"true\"></div></div><div class=\"custom-representative\" data-choice=\"Não quis responder\"><div class=\"custom-representative__avatar\"><img class=\"custom-representative__avatar__photo\" loading=\"lazy\" src=\"https://arte.estadao.com.br/public/placar/img/voter/160556.jpg\" alt=\"Deputado Federal Padre João (PT–MG)\" pinger-seen=\"true\"></div></div><div class=\"custom-representative\" data-choice=\"Não quis responder\"><div class=\"custom-representative__avatar\"><img class=\"custom-representative__avatar__photo\" loading=\"lazy\" src=\"https://arte.estadao.com.br/public/placar/img/voter/204492.jpg\" alt=\"Deputado Federal Paulo Guedes (PT–MG)\" pinger-seen=\"true\"></div></div><div class=\"custom-representative\" data-choice=\"Não quis responder\"><div class=\"custom-representative__avatar\"><img class=\"custom-representative__avatar__photo\" loading=\"lazy\" src=\"https://arte.estadao.com.br/public/placar/img/voter/74400.jpg\" alt=\"Deputado Federal Paulo Pimenta (PT–RS)\" pinger-seen=\"true\"></div></div><div class=\"custom-representative\" data-choice=\"Não quis responder\"><div class=\"custom-representative__avatar\"><img class=\"custom-representative__avatar__photo\" loading=\"lazy\" src=\"https://arte.estadao.com.br/public/placar/img/voter/160604.jpg\" alt=\"Deputado Federal Pedro Uczai (PT–SC)\" pinger-seen=\"true\"></div></div><div class=\"custom-representative\" data-choice=\"Não quis responder\"><div class=\"custom-representative__avatar\"><img class=\"custom-representative__avatar__photo\" loading=\"lazy\" src=\"https://arte.estadao.com.br/public/placar/img/voter/204480.jpg\" alt=\"Deputado Federal Rogério Correia (PT–MG)\" pinger-seen=\"true\"></div></div><div class=\"custom-representative\" data-choice=\"Não quis responder\"><div class=\"custom-representative__avatar\"><img class=\"custom-representative__avatar__photo\" loading=\"lazy\" src=\"https://arte.estadao.com.br/public/placar/img/voter/74376.jpg\" alt=\"Deputado Federal Vander Loubet (PT–MS)\" pinger-seen=\"true\"></div></div><div class=\"custom-representative\" data-choice=\"Não quis responder\"><div class=\"custom-representative__avatar\"><img class=\"custom-representative__avatar__photo\" loading=\"lazy\" src=\"https://arte.estadao.com.br/public/placar/img/voter/178889.jpg\" alt=\"Deputado Federal Zé Carlos (PT–MA)\" pinger-seen=\"true\"></div></div><div class=\"custom-representative\" data-choice=\"Não quis responder\"><div class=\"custom-representative__avatar\"><img class=\"custom-representative__avatar__photo\" loading=\"lazy\" src=\"https://arte.estadao.com.br/public/placar/img/voter/204559.jpg\" alt=\"Deputado Federal Zé Neto (PT–BA)\" pinger-seen=\"true\"></div></div><div class=\"custom-representative\" data-choice=\"Não quis responder\"><div class=\"custom-representative__avatar\"><img class=\"custom-representative__avatar__photo\" loading=\"lazy\" src=\"https://arte.estadao.com.br/public/placar/img/voter/160592.jpg\" alt=\"Deputado Federal Zeca Dirceu (PT–PR)\" pinger-seen=\"true\"></div></div><div class=\"custom-representative\" data-choice=\"Não quis responder\"><div class=\"custom-representative__avatar\"><img class=\"custom-representative__avatar__photo\" loading=\"lazy\" src=\"https://arte.estadao.com.br/public/placar/img/voter/204500.jpg\" alt=\"Deputado Federal Eduardo Costa (PTB–PA)\" pinger-seen=\"true\"></div></div><div class=\"custom-representative\" data-choice=\"Não quis responder\"><div class=\"custom-representative__avatar\"><img class=\"custom-representative__avatar__photo\" loading=\"lazy\" src=\"https://arte.estadao.com.br/public/placar/img/voter/198783.jpg\" alt=\"Deputado Federal Emanuel Pinheiro Neto (PTB–MT)\" pinger-seen=\"true\"></div></div><div class=\"custom-representative\" data-choice=\"Não quis responder\"><div class=\"custom-representative__avatar\"><img class=\"custom-representative__avatar__photo\" loading=\"lazy\" src=\"https://arte.estadao.com.br/public/placar/img/voter/75431.jpg\" alt=\"Deputado Federal Maurício Dziedricki (PTB–RS)\" pinger-seen=\"true\"></div></div><div class=\"custom-representative\" data-choice=\"Não quis responder\"><div class=\"custom-representative__avatar\"><img class=\"custom-representative__avatar__photo\" loading=\"lazy\" src=\"https://arte.estadao.com.br/public/placar/img/voter/194260.jpg\" alt=\"Deputado Federal Nivaldo Albuquerque (PTB–AL)\" pinger-seen=\"true\"></div></div><div class=\"custom-representative\" data-choice=\"Não quis responder\"><div class=\"custom-representative__avatar\"><img class=\"custom-representative__avatar__photo\" loading=\"lazy\" src=\"https://arte.estadao.com.br/public/placar/img/voter/90201.jpg\" alt=\"Deputado Federal Pedro Augusto Bezerra (PTB–CE)\" pinger-seen=\"true\"></div></div><div class=\"custom-representative\" data-choice=\"Não quis responder\"><div class=\"custom-representative__avatar\"><img class=\"custom-representative__avatar__photo\" loading=\"lazy\" src=\"https://arte.estadao.com.br/public/placar/img/voter/122974.jpg\" alt=\"Deputado Federal Pedro Lucas Fernandes (PTB–MA)\" pinger-seen=\"true\"></div></div><div class=\"custom-representative\" data-choice=\"Não quis responder\"><div class=\"custom-representative__avatar\"><img class=\"custom-representative__avatar__photo\" loading=\"lazy\" src=\"https://arte.estadao.com.br/public/placar/img/voter/90842.jpg\" alt=\"Deputado Federal Santini (PTB–RS)\" pinger-seen=\"true\"></div></div><div class=\"custom-representative\" data-choice=\"Não quis responder\"><div class=\"custom-representative__avatar\"><img class=\"custom-representative__avatar__photo\" loading=\"lazy\" src=\"https://arte.estadao.com.br/public/placar/img/voter/74044.jpg\" alt=\"Deputado Federal Wilson Santiago (PTB–PB)\" pinger-seen=\"true\"></div></div><div class=\"custom-representative\" data-choice=\"Não quis responder\"><div class=\"custom-representative__avatar\"><img class=\"custom-representative__avatar__photo\" loading=\"lazy\" src=\"https://arte.estadao.com.br/public/placar/img/voter/178832.jpg\" alt=\"Deputada Federal Leandre (PV–PR)\" pinger-seen=\"true\"></div></div><div class=\"custom-representative\" data-choice=\"Não quis responder\"><div class=\"custom-representative__avatar\"><img class=\"custom-representative__avatar__photo\" loading=\"lazy\" src=\"https://arte.estadao.com.br/public/placar/img/voter/160665.jpg\" alt=\"Deputado Federal Augusto Coutinho (Solidariedade–PE)\" pinger-seen=\"true\"></div></div><div class=\"custom-representative\" data-choice=\"Não quis responder\"><div class=\"custom-representative__avatar\"><img class=\"custom-representative__avatar__photo\" loading=\"lazy\" src=\"https://arte.estadao.com.br/public/placar/img/voter/160512.jpg\" alt=\"Deputado Federal Aureo Ribeiro (Solidariedade–RJ)\" pinger-seen=\"true\"></div></div><div class=\"custom-representative\" data-choice=\"Não quis responder\"><div class=\"custom-representative__avatar\"><img class=\"custom-representative__avatar__photo\" loading=\"lazy\" src=\"https://arte.estadao.com.br/public/placar/img/voter/204439.jpg\" alt=\"Deputado Federal Dr. Leonardo (Solidariedade–MT)\" pinger-seen=\"true\"></div></div><div class=\"custom-representative\" data-choice=\"Não quis responder\"><div class=\"custom-representative__avatar\"><img class=\"custom-representative__avatar__photo\" loading=\"lazy\" src=\"https://arte.estadao.com.br/public/placar/img/voter/160669.jpg\" alt=\"Deputado Federal Genecias Noronha (Solidariedade–CE)\" pinger-seen=\"true\"></div></div><div class=\"custom-representative\" data-choice=\"Não quis responder\"><div class=\"custom-representative__avatar\"><img class=\"custom-representative__avatar__photo\" loading=\"lazy\" src=\"https://arte.estadao.com.br/public/placar/img/voter/178879.jpg\" alt=\"Deputado Federal Lucas Vergilio (Solidariedade–GO)\" pinger-seen=\"true\"></div></div></div></div><div class=\"custom-section custom-section--not-found\"><h3 class=\"custom-section__title\">Não encontrados</h3><p class=\"custom-section__lead\"><span class=\"custom-section__count\">10 deputados</span></p><div class=\"custom-section__representatives\"><div class=\"custom-representative\" data-choice=\"Não foi encontrado\"><div class=\"custom-representative__avatar\"><img class=\"custom-representative__avatar__photo\" loading=\"lazy\" src=\"https://arte.estadao.com.br/public/placar/img/voter/204564.jpg\" alt=\"Deputado Federal Igor Kannário (DEM–BA)\" pinger-seen=\"true\"></div></div><div class=\"custom-representative\" data-choice=\"Não foi encontrado\"><div class=\"custom-representative__avatar\"><img class=\"custom-representative__avatar__photo\" loading=\"lazy\" src=\"https://arte.estadao.com.br/public/placar/img/voter/204403.jpg\" alt=\"Deputado Federal Marlon Santos (PDT–RS)\" pinger-seen=\"true\"></div></div><div class=\"custom-representative\" data-choice=\"Não foi encontrado\"><div class=\"custom-representative__avatar\"><img class=\"custom-representative__avatar__photo\" loading=\"lazy\" src=\"https://arte.estadao.com.br/public/placar/img/voter/204448.jpg\" alt=\"Deputado Federal Luiz Antônio Corrêa (PL–RJ)\" pinger-seen=\"true\"></div></div><div class=\"custom-representative\" data-choice=\"Não foi encontrado\"><div class=\"custom-representative__avatar\"><img class=\"custom-representative__avatar__photo\" loading=\"lazy\" src=\"https://arte.estadao.com.br/public/placar/img/voter/204379.jpg\" alt=\"Deputado Federal Acácio Favacho (PROS–AP)\" pinger-seen=\"true\"></div></div><div class=\"custom-representative\" data-choice=\"Não foi encontrado\"><div class=\"custom-representative__avatar\"><img class=\"custom-representative__avatar__photo\" loading=\"lazy\" src=\"https://arte.estadao.com.br/public/placar/img/voter/195866.jpg\" alt=\"Deputado Federal Vaidon Oliveira (PROS–CE)\" pinger-seen=\"true\"></div></div><div class=\"custom-representative custom-representative--notes\" data-choice=\"Não foi encontrado\"><div class=\"custom-representative__avatar\"><img class=\"custom-representative__avatar__photo\" loading=\"lazy\" src=\"https://arte.estadao.com.br/public/placar/img/voter/161550.jpg\" alt=\"Deputado Federal Emidinho Madeira (PSB–MG)\" pinger-seen=\"true\"></div></div><div class=\"custom-representative\" data-choice=\"Não foi encontrado\"><div class=\"custom-representative__avatar\"><img class=\"custom-representative__avatar__photo\" loading=\"lazy\" src=\"https://arte.estadao.com.br/public/placar/img/voter/74273.jpg\" alt=\"Deputado Federal Jefferson Campos (PSB–SP)\" pinger-seen=\"true\"></div></div><div class=\"custom-representative\" data-choice=\"Não foi encontrado\"><div class=\"custom-representative__avatar\"><img class=\"custom-representative__avatar__photo\" loading=\"lazy\" src=\"https://arte.estadao.com.br/public/placar/img/voter/178956.jpg\" alt=\"Deputada Federal Mariana Carvalho (PSDB–RO)\" pinger-seen=\"true\"></div></div><div class=\"custom-representative custom-representative--notes\" data-choice=\"Não foi encontrado\"><div class=\"custom-representative__avatar\"><img class=\"custom-representative__avatar__photo\" loading=\"lazy\" src=\"https://arte.estadao.com.br/public/placar/img/voter/204370.jpg\" alt=\"Deputado Federal Célio Moura (PT–TO)\" pinger-seen=\"true\"></div></div><div class=\"custom-representative\" data-choice=\"Não foi encontrado\"><div class=\"custom-representative__avatar\"><img class=\"custom-representative__avatar__photo\" loading=\"lazy\" src=\"https://arte.estadao.com.br/public/placar/img/voter/141464.jpg\" alt=\"Deputado Federal José Airton Félix Cirilo (PT–CE)\" pinger-seen=\"true\"></div></div></div></div></div>\"\"\""
   ]
  },
  {
   "cell_type": "code",
   "execution_count": 16,
   "id": "b70b2c22",
   "metadata": {},
   "outputs": [],
   "source": [
    "soup = BeautifulSoup(html_votos, 'html.parser')"
   ]
  },
  {
   "cell_type": "code",
   "execution_count": 17,
   "id": "e3ee30d0",
   "metadata": {},
   "outputs": [],
   "source": [
    "votos = []\n",
    "for deputado in soup.find_all(\"div\", attrs={\"class\": \"custom-representative\"}):\n",
    "    dados_deputado = []\n",
    "    dados_deputado.append(deputado['data-choice']) #voto\n",
    "    resultado_busca_nome = re.search(r'.*Federal (.*)\\((.*?)–(.*?)\\)',deputado.img['alt'])\n",
    "    dados_deputado.append(resultado_busca_nome.group(1)) #nome\n",
    "    dados_deputado.append(resultado_busca_nome.group(2)) #partido\n",
    "    dados_deputado.append(resultado_busca_nome.group(3)) #estado\n",
    "    dados_deputado.append(deputado.img['src']) #link\n",
    "    votos.append(dados_deputado) "
   ]
  },
  {
   "cell_type": "markdown",
   "id": "894c9a01",
   "metadata": {},
   "source": [
    "# Transformando os dados extraidos do site em um Dataframe"
   ]
  },
  {
   "cell_type": "code",
   "execution_count": 18,
   "id": "b329610f",
   "metadata": {},
   "outputs": [],
   "source": [
    "dados_eleicao_df = pd.DataFrame(votos)\n",
    "dados_eleicao_df = dados_eleicao_df.rename(columns={0:'Voto', 1: 'Deputado', 2: 'Partido', 3: 'Estado'})"
   ]
  },
  {
   "cell_type": "code",
   "execution_count": 19,
   "id": "db275030",
   "metadata": {},
   "outputs": [
    {
     "data": {
      "text/html": [
       "<div>\n",
       "<style scoped>\n",
       "    .dataframe tbody tr th:only-of-type {\n",
       "        vertical-align: middle;\n",
       "    }\n",
       "\n",
       "    .dataframe tbody tr th {\n",
       "        vertical-align: top;\n",
       "    }\n",
       "\n",
       "    .dataframe thead th {\n",
       "        text-align: right;\n",
       "    }\n",
       "</style>\n",
       "<table border=\"1\" class=\"dataframe\">\n",
       "  <thead>\n",
       "    <tr style=\"text-align: right;\">\n",
       "      <th></th>\n",
       "      <th>Voto</th>\n",
       "      <th>Deputado</th>\n",
       "      <th>Partido</th>\n",
       "      <th>Estado</th>\n",
       "    </tr>\n",
       "  </thead>\n",
       "  <tbody>\n",
       "    <tr>\n",
       "      <th>0</th>\n",
       "      <td>Arthur Lira</td>\n",
       "      <td>Chiquinho Brazão</td>\n",
       "      <td>Avante</td>\n",
       "      <td>RJ</td>\n",
       "    </tr>\n",
       "    <tr>\n",
       "      <th>1</th>\n",
       "      <td>Arthur Lira</td>\n",
       "      <td>Greyce Elias</td>\n",
       "      <td>Avante</td>\n",
       "      <td>MG</td>\n",
       "    </tr>\n",
       "    <tr>\n",
       "      <th>2</th>\n",
       "      <td>Arthur Lira</td>\n",
       "      <td>Leda Sadala</td>\n",
       "      <td>Avante</td>\n",
       "      <td>AP</td>\n",
       "    </tr>\n",
       "    <tr>\n",
       "      <th>3</th>\n",
       "      <td>Arthur Lira</td>\n",
       "      <td>Luis Tibé</td>\n",
       "      <td>Avante</td>\n",
       "      <td>MG</td>\n",
       "    </tr>\n",
       "    <tr>\n",
       "      <th>4</th>\n",
       "      <td>Arthur Lira</td>\n",
       "      <td>Sebastião Oliveira</td>\n",
       "      <td>Avante</td>\n",
       "      <td>PE</td>\n",
       "    </tr>\n",
       "    <tr>\n",
       "      <th>...</th>\n",
       "      <td>...</td>\n",
       "      <td>...</td>\n",
       "      <td>...</td>\n",
       "      <td>...</td>\n",
       "    </tr>\n",
       "    <tr>\n",
       "      <th>508</th>\n",
       "      <td>Não foi encontrado</td>\n",
       "      <td>Emidinho Madeira</td>\n",
       "      <td>PSB</td>\n",
       "      <td>MG</td>\n",
       "    </tr>\n",
       "    <tr>\n",
       "      <th>509</th>\n",
       "      <td>Não foi encontrado</td>\n",
       "      <td>Jefferson Campos</td>\n",
       "      <td>PSB</td>\n",
       "      <td>SP</td>\n",
       "    </tr>\n",
       "    <tr>\n",
       "      <th>510</th>\n",
       "      <td>Não foi encontrado</td>\n",
       "      <td>Mariana Carvalho</td>\n",
       "      <td>PSDB</td>\n",
       "      <td>RO</td>\n",
       "    </tr>\n",
       "    <tr>\n",
       "      <th>511</th>\n",
       "      <td>Não foi encontrado</td>\n",
       "      <td>Célio Moura</td>\n",
       "      <td>PT</td>\n",
       "      <td>TO</td>\n",
       "    </tr>\n",
       "    <tr>\n",
       "      <th>512</th>\n",
       "      <td>Não foi encontrado</td>\n",
       "      <td>José Airton Félix Cirilo</td>\n",
       "      <td>PT</td>\n",
       "      <td>CE</td>\n",
       "    </tr>\n",
       "  </tbody>\n",
       "</table>\n",
       "<p>513 rows × 4 columns</p>\n",
       "</div>"
      ],
      "text/plain": [
       "                   Voto                   Deputado Partido Estado\n",
       "0           Arthur Lira          Chiquinho Brazão   Avante     RJ\n",
       "1           Arthur Lira              Greyce Elias   Avante     MG\n",
       "2           Arthur Lira               Leda Sadala   Avante     AP\n",
       "3           Arthur Lira                 Luis Tibé   Avante     MG\n",
       "4           Arthur Lira        Sebastião Oliveira   Avante     PE\n",
       "..                  ...                        ...     ...    ...\n",
       "508  Não foi encontrado          Emidinho Madeira      PSB     MG\n",
       "509  Não foi encontrado          Jefferson Campos      PSB     SP\n",
       "510  Não foi encontrado          Mariana Carvalho     PSDB     RO\n",
       "511  Não foi encontrado               Célio Moura       PT     TO\n",
       "512  Não foi encontrado  José Airton Félix Cirilo       PT     CE\n",
       "\n",
       "[513 rows x 4 columns]"
      ]
     },
     "execution_count": 19,
     "metadata": {},
     "output_type": "execute_result"
    }
   ],
   "source": [
    "dados_eleicao_df = dados_eleicao_df[['Voto', 'Deputado', 'Partido', 'Estado']]\n",
    "dados_eleicao_df"
   ]
  },
  {
   "cell_type": "markdown",
   "id": "d231d9ec",
   "metadata": {},
   "source": [
    "# Exportando os dados extraidos para um arquivo CSV"
   ]
  },
  {
   "cell_type": "code",
   "execution_count": 20,
   "id": "820322ea",
   "metadata": {},
   "outputs": [],
   "source": [
    "dados_eleicao_df.to_csv('dados_eleicao-camara.csv')"
   ]
  },
  {
   "cell_type": "markdown",
   "id": "ca0d948d",
   "metadata": {},
   "source": [
    "# Pegando as informações de quantos deputados cada partido tem"
   ]
  },
  {
   "cell_type": "code",
   "execution_count": 21,
   "id": "733344fd",
   "metadata": {},
   "outputs": [
    {
     "data": {
      "text/html": [
       "<div>\n",
       "<style scoped>\n",
       "    .dataframe tbody tr th:only-of-type {\n",
       "        vertical-align: middle;\n",
       "    }\n",
       "\n",
       "    .dataframe tbody tr th {\n",
       "        vertical-align: top;\n",
       "    }\n",
       "\n",
       "    .dataframe thead th {\n",
       "        text-align: right;\n",
       "    }\n",
       "</style>\n",
       "<table border=\"1\" class=\"dataframe\">\n",
       "  <thead>\n",
       "    <tr style=\"text-align: right;\">\n",
       "      <th></th>\n",
       "      <th>Partido</th>\n",
       "      <th>Quantidade</th>\n",
       "    </tr>\n",
       "  </thead>\n",
       "  <tbody>\n",
       "    <tr>\n",
       "      <th>0</th>\n",
       "      <td>PT</td>\n",
       "      <td>52</td>\n",
       "    </tr>\n",
       "    <tr>\n",
       "      <th>1</th>\n",
       "      <td>PSL</td>\n",
       "      <td>52</td>\n",
       "    </tr>\n",
       "    <tr>\n",
       "      <th>2</th>\n",
       "      <td>PL</td>\n",
       "      <td>43</td>\n",
       "    </tr>\n",
       "    <tr>\n",
       "      <th>3</th>\n",
       "      <td>PP</td>\n",
       "      <td>40</td>\n",
       "    </tr>\n",
       "    <tr>\n",
       "      <th>4</th>\n",
       "      <td>PSD</td>\n",
       "      <td>36</td>\n",
       "    </tr>\n",
       "    <tr>\n",
       "      <th>5</th>\n",
       "      <td>MDB</td>\n",
       "      <td>33</td>\n",
       "    </tr>\n",
       "    <tr>\n",
       "      <th>6</th>\n",
       "      <td>Republicanos</td>\n",
       "      <td>31</td>\n",
       "    </tr>\n",
       "    <tr>\n",
       "      <th>7</th>\n",
       "      <td>DEM</td>\n",
       "      <td>31</td>\n",
       "    </tr>\n",
       "    <tr>\n",
       "      <th>8</th>\n",
       "      <td>PSDB</td>\n",
       "      <td>31</td>\n",
       "    </tr>\n",
       "    <tr>\n",
       "      <th>9</th>\n",
       "      <td>PSB</td>\n",
       "      <td>30</td>\n",
       "    </tr>\n",
       "    <tr>\n",
       "      <th>10</th>\n",
       "      <td>PDT</td>\n",
       "      <td>26</td>\n",
       "    </tr>\n",
       "    <tr>\n",
       "      <th>11</th>\n",
       "      <td>Solidariedade</td>\n",
       "      <td>14</td>\n",
       "    </tr>\n",
       "    <tr>\n",
       "      <th>12</th>\n",
       "      <td>PTB</td>\n",
       "      <td>11</td>\n",
       "    </tr>\n",
       "    <tr>\n",
       "      <th>13</th>\n",
       "      <td>PSC</td>\n",
       "      <td>10</td>\n",
       "    </tr>\n",
       "    <tr>\n",
       "      <th>14</th>\n",
       "      <td>PODE</td>\n",
       "      <td>10</td>\n",
       "    </tr>\n",
       "    <tr>\n",
       "      <th>15</th>\n",
       "      <td>PSOL</td>\n",
       "      <td>10</td>\n",
       "    </tr>\n",
       "    <tr>\n",
       "      <th>16</th>\n",
       "      <td>PCdoB</td>\n",
       "      <td>9</td>\n",
       "    </tr>\n",
       "    <tr>\n",
       "      <th>17</th>\n",
       "      <td>PROS</td>\n",
       "      <td>9</td>\n",
       "    </tr>\n",
       "    <tr>\n",
       "      <th>18</th>\n",
       "      <td>Avante</td>\n",
       "      <td>8</td>\n",
       "    </tr>\n",
       "    <tr>\n",
       "      <th>19</th>\n",
       "      <td>Cidadania</td>\n",
       "      <td>8</td>\n",
       "    </tr>\n",
       "    <tr>\n",
       "      <th>20</th>\n",
       "      <td>NOVO</td>\n",
       "      <td>8</td>\n",
       "    </tr>\n",
       "    <tr>\n",
       "      <th>21</th>\n",
       "      <td>Patriota</td>\n",
       "      <td>6</td>\n",
       "    </tr>\n",
       "    <tr>\n",
       "      <th>22</th>\n",
       "      <td>PV</td>\n",
       "      <td>4</td>\n",
       "    </tr>\n",
       "    <tr>\n",
       "      <th>23</th>\n",
       "      <td>REDE</td>\n",
       "      <td>1</td>\n",
       "    </tr>\n",
       "  </tbody>\n",
       "</table>\n",
       "</div>"
      ],
      "text/plain": [
       "          Partido  Quantidade\n",
       "0              PT          52\n",
       "1             PSL          52\n",
       "2              PL          43\n",
       "3              PP          40\n",
       "4             PSD          36\n",
       "5             MDB          33\n",
       "6    Republicanos          31\n",
       "7             DEM          31\n",
       "8            PSDB          31\n",
       "9             PSB          30\n",
       "10            PDT          26\n",
       "11  Solidariedade          14\n",
       "12            PTB          11\n",
       "13            PSC          10\n",
       "14           PODE          10\n",
       "15           PSOL          10\n",
       "16          PCdoB           9\n",
       "17           PROS           9\n",
       "18         Avante           8\n",
       "19      Cidadania           8\n",
       "20           NOVO           8\n",
       "21       Patriota           6\n",
       "22             PV           4\n",
       "23           REDE           1"
      ]
     },
     "execution_count": 21,
     "metadata": {},
     "output_type": "execute_result"
    }
   ],
   "source": [
    "qt_dep_partido = dados_eleicao_df['Partido'].value_counts()\n",
    "qt_dep_partido = qt_dep_partido.to_frame()\n",
    "qt_dep_partido = qt_dep_partido.reset_index()\n",
    "qt_dep_partido = qt_dep_partido.rename(columns={'index':'Partido', 'Partido':'Quantidade'})\n",
    "qt_dep_partido"
   ]
  },
  {
   "cell_type": "code",
   "execution_count": 22,
   "id": "0870de1e",
   "metadata": {},
   "outputs": [
    {
     "data": {
      "application/vnd.plotly.v1+json": {
       "config": {
        "plotlyServerURL": "https://plot.ly"
       },
       "data": [
        {
         "domain": {
          "x": [
           0,
           1
          ],
          "y": [
           0,
           1
          ]
         },
         "hovertemplate": "Partido=%{label}<br>Quantidade=%{value}<extra></extra>",
         "labels": [
          "PT",
          "PSL",
          "PL",
          "PP",
          "PSD",
          "MDB",
          "Republicanos",
          "DEM",
          "PSDB",
          "PSB",
          "PDT",
          "Solidariedade",
          "PTB",
          "PSC",
          "PODE",
          "PSOL",
          "PCdoB",
          "PROS",
          "Avante",
          "Cidadania",
          "NOVO",
          "Patriota",
          "PV",
          "REDE"
         ],
         "legendgroup": "",
         "name": "",
         "showlegend": true,
         "type": "pie",
         "values": [
          52,
          52,
          43,
          40,
          36,
          33,
          31,
          31,
          31,
          30,
          26,
          14,
          11,
          10,
          10,
          10,
          9,
          9,
          8,
          8,
          8,
          6,
          4,
          1
         ]
        }
       ],
       "layout": {
        "legend": {
         "tracegroupgap": 0
        },
        "margin": {
         "t": 60
        },
        "template": {
         "data": {
          "bar": [
           {
            "error_x": {
             "color": "#2a3f5f"
            },
            "error_y": {
             "color": "#2a3f5f"
            },
            "marker": {
             "line": {
              "color": "#E5ECF6",
              "width": 0.5
             },
             "pattern": {
              "fillmode": "overlay",
              "size": 10,
              "solidity": 0.2
             }
            },
            "type": "bar"
           }
          ],
          "barpolar": [
           {
            "marker": {
             "line": {
              "color": "#E5ECF6",
              "width": 0.5
             },
             "pattern": {
              "fillmode": "overlay",
              "size": 10,
              "solidity": 0.2
             }
            },
            "type": "barpolar"
           }
          ],
          "carpet": [
           {
            "aaxis": {
             "endlinecolor": "#2a3f5f",
             "gridcolor": "white",
             "linecolor": "white",
             "minorgridcolor": "white",
             "startlinecolor": "#2a3f5f"
            },
            "baxis": {
             "endlinecolor": "#2a3f5f",
             "gridcolor": "white",
             "linecolor": "white",
             "minorgridcolor": "white",
             "startlinecolor": "#2a3f5f"
            },
            "type": "carpet"
           }
          ],
          "choropleth": [
           {
            "colorbar": {
             "outlinewidth": 0,
             "ticks": ""
            },
            "type": "choropleth"
           }
          ],
          "contour": [
           {
            "colorbar": {
             "outlinewidth": 0,
             "ticks": ""
            },
            "colorscale": [
             [
              0,
              "#0d0887"
             ],
             [
              0.1111111111111111,
              "#46039f"
             ],
             [
              0.2222222222222222,
              "#7201a8"
             ],
             [
              0.3333333333333333,
              "#9c179e"
             ],
             [
              0.4444444444444444,
              "#bd3786"
             ],
             [
              0.5555555555555556,
              "#d8576b"
             ],
             [
              0.6666666666666666,
              "#ed7953"
             ],
             [
              0.7777777777777778,
              "#fb9f3a"
             ],
             [
              0.8888888888888888,
              "#fdca26"
             ],
             [
              1,
              "#f0f921"
             ]
            ],
            "type": "contour"
           }
          ],
          "contourcarpet": [
           {
            "colorbar": {
             "outlinewidth": 0,
             "ticks": ""
            },
            "type": "contourcarpet"
           }
          ],
          "heatmap": [
           {
            "colorbar": {
             "outlinewidth": 0,
             "ticks": ""
            },
            "colorscale": [
             [
              0,
              "#0d0887"
             ],
             [
              0.1111111111111111,
              "#46039f"
             ],
             [
              0.2222222222222222,
              "#7201a8"
             ],
             [
              0.3333333333333333,
              "#9c179e"
             ],
             [
              0.4444444444444444,
              "#bd3786"
             ],
             [
              0.5555555555555556,
              "#d8576b"
             ],
             [
              0.6666666666666666,
              "#ed7953"
             ],
             [
              0.7777777777777778,
              "#fb9f3a"
             ],
             [
              0.8888888888888888,
              "#fdca26"
             ],
             [
              1,
              "#f0f921"
             ]
            ],
            "type": "heatmap"
           }
          ],
          "heatmapgl": [
           {
            "colorbar": {
             "outlinewidth": 0,
             "ticks": ""
            },
            "colorscale": [
             [
              0,
              "#0d0887"
             ],
             [
              0.1111111111111111,
              "#46039f"
             ],
             [
              0.2222222222222222,
              "#7201a8"
             ],
             [
              0.3333333333333333,
              "#9c179e"
             ],
             [
              0.4444444444444444,
              "#bd3786"
             ],
             [
              0.5555555555555556,
              "#d8576b"
             ],
             [
              0.6666666666666666,
              "#ed7953"
             ],
             [
              0.7777777777777778,
              "#fb9f3a"
             ],
             [
              0.8888888888888888,
              "#fdca26"
             ],
             [
              1,
              "#f0f921"
             ]
            ],
            "type": "heatmapgl"
           }
          ],
          "histogram": [
           {
            "marker": {
             "pattern": {
              "fillmode": "overlay",
              "size": 10,
              "solidity": 0.2
             }
            },
            "type": "histogram"
           }
          ],
          "histogram2d": [
           {
            "colorbar": {
             "outlinewidth": 0,
             "ticks": ""
            },
            "colorscale": [
             [
              0,
              "#0d0887"
             ],
             [
              0.1111111111111111,
              "#46039f"
             ],
             [
              0.2222222222222222,
              "#7201a8"
             ],
             [
              0.3333333333333333,
              "#9c179e"
             ],
             [
              0.4444444444444444,
              "#bd3786"
             ],
             [
              0.5555555555555556,
              "#d8576b"
             ],
             [
              0.6666666666666666,
              "#ed7953"
             ],
             [
              0.7777777777777778,
              "#fb9f3a"
             ],
             [
              0.8888888888888888,
              "#fdca26"
             ],
             [
              1,
              "#f0f921"
             ]
            ],
            "type": "histogram2d"
           }
          ],
          "histogram2dcontour": [
           {
            "colorbar": {
             "outlinewidth": 0,
             "ticks": ""
            },
            "colorscale": [
             [
              0,
              "#0d0887"
             ],
             [
              0.1111111111111111,
              "#46039f"
             ],
             [
              0.2222222222222222,
              "#7201a8"
             ],
             [
              0.3333333333333333,
              "#9c179e"
             ],
             [
              0.4444444444444444,
              "#bd3786"
             ],
             [
              0.5555555555555556,
              "#d8576b"
             ],
             [
              0.6666666666666666,
              "#ed7953"
             ],
             [
              0.7777777777777778,
              "#fb9f3a"
             ],
             [
              0.8888888888888888,
              "#fdca26"
             ],
             [
              1,
              "#f0f921"
             ]
            ],
            "type": "histogram2dcontour"
           }
          ],
          "mesh3d": [
           {
            "colorbar": {
             "outlinewidth": 0,
             "ticks": ""
            },
            "type": "mesh3d"
           }
          ],
          "parcoords": [
           {
            "line": {
             "colorbar": {
              "outlinewidth": 0,
              "ticks": ""
             }
            },
            "type": "parcoords"
           }
          ],
          "pie": [
           {
            "automargin": true,
            "type": "pie"
           }
          ],
          "scatter": [
           {
            "fillpattern": {
             "fillmode": "overlay",
             "size": 10,
             "solidity": 0.2
            },
            "type": "scatter"
           }
          ],
          "scatter3d": [
           {
            "line": {
             "colorbar": {
              "outlinewidth": 0,
              "ticks": ""
             }
            },
            "marker": {
             "colorbar": {
              "outlinewidth": 0,
              "ticks": ""
             }
            },
            "type": "scatter3d"
           }
          ],
          "scattercarpet": [
           {
            "marker": {
             "colorbar": {
              "outlinewidth": 0,
              "ticks": ""
             }
            },
            "type": "scattercarpet"
           }
          ],
          "scattergeo": [
           {
            "marker": {
             "colorbar": {
              "outlinewidth": 0,
              "ticks": ""
             }
            },
            "type": "scattergeo"
           }
          ],
          "scattergl": [
           {
            "marker": {
             "colorbar": {
              "outlinewidth": 0,
              "ticks": ""
             }
            },
            "type": "scattergl"
           }
          ],
          "scattermapbox": [
           {
            "marker": {
             "colorbar": {
              "outlinewidth": 0,
              "ticks": ""
             }
            },
            "type": "scattermapbox"
           }
          ],
          "scatterpolar": [
           {
            "marker": {
             "colorbar": {
              "outlinewidth": 0,
              "ticks": ""
             }
            },
            "type": "scatterpolar"
           }
          ],
          "scatterpolargl": [
           {
            "marker": {
             "colorbar": {
              "outlinewidth": 0,
              "ticks": ""
             }
            },
            "type": "scatterpolargl"
           }
          ],
          "scatterternary": [
           {
            "marker": {
             "colorbar": {
              "outlinewidth": 0,
              "ticks": ""
             }
            },
            "type": "scatterternary"
           }
          ],
          "surface": [
           {
            "colorbar": {
             "outlinewidth": 0,
             "ticks": ""
            },
            "colorscale": [
             [
              0,
              "#0d0887"
             ],
             [
              0.1111111111111111,
              "#46039f"
             ],
             [
              0.2222222222222222,
              "#7201a8"
             ],
             [
              0.3333333333333333,
              "#9c179e"
             ],
             [
              0.4444444444444444,
              "#bd3786"
             ],
             [
              0.5555555555555556,
              "#d8576b"
             ],
             [
              0.6666666666666666,
              "#ed7953"
             ],
             [
              0.7777777777777778,
              "#fb9f3a"
             ],
             [
              0.8888888888888888,
              "#fdca26"
             ],
             [
              1,
              "#f0f921"
             ]
            ],
            "type": "surface"
           }
          ],
          "table": [
           {
            "cells": {
             "fill": {
              "color": "#EBF0F8"
             },
             "line": {
              "color": "white"
             }
            },
            "header": {
             "fill": {
              "color": "#C8D4E3"
             },
             "line": {
              "color": "white"
             }
            },
            "type": "table"
           }
          ]
         },
         "layout": {
          "annotationdefaults": {
           "arrowcolor": "#2a3f5f",
           "arrowhead": 0,
           "arrowwidth": 1
          },
          "autotypenumbers": "strict",
          "coloraxis": {
           "colorbar": {
            "outlinewidth": 0,
            "ticks": ""
           }
          },
          "colorscale": {
           "diverging": [
            [
             0,
             "#8e0152"
            ],
            [
             0.1,
             "#c51b7d"
            ],
            [
             0.2,
             "#de77ae"
            ],
            [
             0.3,
             "#f1b6da"
            ],
            [
             0.4,
             "#fde0ef"
            ],
            [
             0.5,
             "#f7f7f7"
            ],
            [
             0.6,
             "#e6f5d0"
            ],
            [
             0.7,
             "#b8e186"
            ],
            [
             0.8,
             "#7fbc41"
            ],
            [
             0.9,
             "#4d9221"
            ],
            [
             1,
             "#276419"
            ]
           ],
           "sequential": [
            [
             0,
             "#0d0887"
            ],
            [
             0.1111111111111111,
             "#46039f"
            ],
            [
             0.2222222222222222,
             "#7201a8"
            ],
            [
             0.3333333333333333,
             "#9c179e"
            ],
            [
             0.4444444444444444,
             "#bd3786"
            ],
            [
             0.5555555555555556,
             "#d8576b"
            ],
            [
             0.6666666666666666,
             "#ed7953"
            ],
            [
             0.7777777777777778,
             "#fb9f3a"
            ],
            [
             0.8888888888888888,
             "#fdca26"
            ],
            [
             1,
             "#f0f921"
            ]
           ],
           "sequentialminus": [
            [
             0,
             "#0d0887"
            ],
            [
             0.1111111111111111,
             "#46039f"
            ],
            [
             0.2222222222222222,
             "#7201a8"
            ],
            [
             0.3333333333333333,
             "#9c179e"
            ],
            [
             0.4444444444444444,
             "#bd3786"
            ],
            [
             0.5555555555555556,
             "#d8576b"
            ],
            [
             0.6666666666666666,
             "#ed7953"
            ],
            [
             0.7777777777777778,
             "#fb9f3a"
            ],
            [
             0.8888888888888888,
             "#fdca26"
            ],
            [
             1,
             "#f0f921"
            ]
           ]
          },
          "colorway": [
           "#636efa",
           "#EF553B",
           "#00cc96",
           "#ab63fa",
           "#FFA15A",
           "#19d3f3",
           "#FF6692",
           "#B6E880",
           "#FF97FF",
           "#FECB52"
          ],
          "font": {
           "color": "#2a3f5f"
          },
          "geo": {
           "bgcolor": "white",
           "lakecolor": "white",
           "landcolor": "#E5ECF6",
           "showlakes": true,
           "showland": true,
           "subunitcolor": "white"
          },
          "hoverlabel": {
           "align": "left"
          },
          "hovermode": "closest",
          "mapbox": {
           "style": "light"
          },
          "paper_bgcolor": "white",
          "plot_bgcolor": "#E5ECF6",
          "polar": {
           "angularaxis": {
            "gridcolor": "white",
            "linecolor": "white",
            "ticks": ""
           },
           "bgcolor": "#E5ECF6",
           "radialaxis": {
            "gridcolor": "white",
            "linecolor": "white",
            "ticks": ""
           }
          },
          "scene": {
           "xaxis": {
            "backgroundcolor": "#E5ECF6",
            "gridcolor": "white",
            "gridwidth": 2,
            "linecolor": "white",
            "showbackground": true,
            "ticks": "",
            "zerolinecolor": "white"
           },
           "yaxis": {
            "backgroundcolor": "#E5ECF6",
            "gridcolor": "white",
            "gridwidth": 2,
            "linecolor": "white",
            "showbackground": true,
            "ticks": "",
            "zerolinecolor": "white"
           },
           "zaxis": {
            "backgroundcolor": "#E5ECF6",
            "gridcolor": "white",
            "gridwidth": 2,
            "linecolor": "white",
            "showbackground": true,
            "ticks": "",
            "zerolinecolor": "white"
           }
          },
          "shapedefaults": {
           "line": {
            "color": "#2a3f5f"
           }
          },
          "ternary": {
           "aaxis": {
            "gridcolor": "white",
            "linecolor": "white",
            "ticks": ""
           },
           "baxis": {
            "gridcolor": "white",
            "linecolor": "white",
            "ticks": ""
           },
           "bgcolor": "#E5ECF6",
           "caxis": {
            "gridcolor": "white",
            "linecolor": "white",
            "ticks": ""
           }
          },
          "title": {
           "x": 0.05
          },
          "xaxis": {
           "automargin": true,
           "gridcolor": "white",
           "linecolor": "white",
           "ticks": "",
           "title": {
            "standoff": 15
           },
           "zerolinecolor": "white",
           "zerolinewidth": 2
          },
          "yaxis": {
           "automargin": true,
           "gridcolor": "white",
           "linecolor": "white",
           "ticks": "",
           "title": {
            "standoff": 15
           },
           "zerolinecolor": "white",
           "zerolinewidth": 2
          }
         }
        }
       }
      },
      "text/html": [
       "<div>                            <div id=\"8810f41c-f567-49e3-9f00-4b29f7137587\" class=\"plotly-graph-div\" style=\"height:525px; width:100%;\"></div>            <script type=\"text/javascript\">                require([\"plotly\"], function(Plotly) {                    window.PLOTLYENV=window.PLOTLYENV || {};                                    if (document.getElementById(\"8810f41c-f567-49e3-9f00-4b29f7137587\")) {                    Plotly.newPlot(                        \"8810f41c-f567-49e3-9f00-4b29f7137587\",                        [{\"domain\":{\"x\":[0.0,1.0],\"y\":[0.0,1.0]},\"hovertemplate\":\"Partido=%{label}<br>Quantidade=%{value}<extra></extra>\",\"labels\":[\"PT\",\"PSL\",\"PL\",\"PP\",\"PSD\",\"MDB\",\"Republicanos\",\"DEM\",\"PSDB\",\"PSB\",\"PDT\",\"Solidariedade\",\"PTB\",\"PSC\",\"PODE\",\"PSOL\",\"PCdoB\",\"PROS\",\"Avante\",\"Cidadania\",\"NOVO\",\"Patriota\",\"PV\",\"REDE\"],\"legendgroup\":\"\",\"name\":\"\",\"showlegend\":true,\"values\":[52,52,43,40,36,33,31,31,31,30,26,14,11,10,10,10,9,9,8,8,8,6,4,1],\"type\":\"pie\"}],                        {\"template\":{\"data\":{\"histogram2dcontour\":[{\"type\":\"histogram2dcontour\",\"colorbar\":{\"outlinewidth\":0,\"ticks\":\"\"},\"colorscale\":[[0.0,\"#0d0887\"],[0.1111111111111111,\"#46039f\"],[0.2222222222222222,\"#7201a8\"],[0.3333333333333333,\"#9c179e\"],[0.4444444444444444,\"#bd3786\"],[0.5555555555555556,\"#d8576b\"],[0.6666666666666666,\"#ed7953\"],[0.7777777777777778,\"#fb9f3a\"],[0.8888888888888888,\"#fdca26\"],[1.0,\"#f0f921\"]]}],\"choropleth\":[{\"type\":\"choropleth\",\"colorbar\":{\"outlinewidth\":0,\"ticks\":\"\"}}],\"histogram2d\":[{\"type\":\"histogram2d\",\"colorbar\":{\"outlinewidth\":0,\"ticks\":\"\"},\"colorscale\":[[0.0,\"#0d0887\"],[0.1111111111111111,\"#46039f\"],[0.2222222222222222,\"#7201a8\"],[0.3333333333333333,\"#9c179e\"],[0.4444444444444444,\"#bd3786\"],[0.5555555555555556,\"#d8576b\"],[0.6666666666666666,\"#ed7953\"],[0.7777777777777778,\"#fb9f3a\"],[0.8888888888888888,\"#fdca26\"],[1.0,\"#f0f921\"]]}],\"heatmap\":[{\"type\":\"heatmap\",\"colorbar\":{\"outlinewidth\":0,\"ticks\":\"\"},\"colorscale\":[[0.0,\"#0d0887\"],[0.1111111111111111,\"#46039f\"],[0.2222222222222222,\"#7201a8\"],[0.3333333333333333,\"#9c179e\"],[0.4444444444444444,\"#bd3786\"],[0.5555555555555556,\"#d8576b\"],[0.6666666666666666,\"#ed7953\"],[0.7777777777777778,\"#fb9f3a\"],[0.8888888888888888,\"#fdca26\"],[1.0,\"#f0f921\"]]}],\"heatmapgl\":[{\"type\":\"heatmapgl\",\"colorbar\":{\"outlinewidth\":0,\"ticks\":\"\"},\"colorscale\":[[0.0,\"#0d0887\"],[0.1111111111111111,\"#46039f\"],[0.2222222222222222,\"#7201a8\"],[0.3333333333333333,\"#9c179e\"],[0.4444444444444444,\"#bd3786\"],[0.5555555555555556,\"#d8576b\"],[0.6666666666666666,\"#ed7953\"],[0.7777777777777778,\"#fb9f3a\"],[0.8888888888888888,\"#fdca26\"],[1.0,\"#f0f921\"]]}],\"contourcarpet\":[{\"type\":\"contourcarpet\",\"colorbar\":{\"outlinewidth\":0,\"ticks\":\"\"}}],\"contour\":[{\"type\":\"contour\",\"colorbar\":{\"outlinewidth\":0,\"ticks\":\"\"},\"colorscale\":[[0.0,\"#0d0887\"],[0.1111111111111111,\"#46039f\"],[0.2222222222222222,\"#7201a8\"],[0.3333333333333333,\"#9c179e\"],[0.4444444444444444,\"#bd3786\"],[0.5555555555555556,\"#d8576b\"],[0.6666666666666666,\"#ed7953\"],[0.7777777777777778,\"#fb9f3a\"],[0.8888888888888888,\"#fdca26\"],[1.0,\"#f0f921\"]]}],\"surface\":[{\"type\":\"surface\",\"colorbar\":{\"outlinewidth\":0,\"ticks\":\"\"},\"colorscale\":[[0.0,\"#0d0887\"],[0.1111111111111111,\"#46039f\"],[0.2222222222222222,\"#7201a8\"],[0.3333333333333333,\"#9c179e\"],[0.4444444444444444,\"#bd3786\"],[0.5555555555555556,\"#d8576b\"],[0.6666666666666666,\"#ed7953\"],[0.7777777777777778,\"#fb9f3a\"],[0.8888888888888888,\"#fdca26\"],[1.0,\"#f0f921\"]]}],\"mesh3d\":[{\"type\":\"mesh3d\",\"colorbar\":{\"outlinewidth\":0,\"ticks\":\"\"}}],\"scatter\":[{\"fillpattern\":{\"fillmode\":\"overlay\",\"size\":10,\"solidity\":0.2},\"type\":\"scatter\"}],\"parcoords\":[{\"type\":\"parcoords\",\"line\":{\"colorbar\":{\"outlinewidth\":0,\"ticks\":\"\"}}}],\"scatterpolargl\":[{\"type\":\"scatterpolargl\",\"marker\":{\"colorbar\":{\"outlinewidth\":0,\"ticks\":\"\"}}}],\"bar\":[{\"error_x\":{\"color\":\"#2a3f5f\"},\"error_y\":{\"color\":\"#2a3f5f\"},\"marker\":{\"line\":{\"color\":\"#E5ECF6\",\"width\":0.5},\"pattern\":{\"fillmode\":\"overlay\",\"size\":10,\"solidity\":0.2}},\"type\":\"bar\"}],\"scattergeo\":[{\"type\":\"scattergeo\",\"marker\":{\"colorbar\":{\"outlinewidth\":0,\"ticks\":\"\"}}}],\"scatterpolar\":[{\"type\":\"scatterpolar\",\"marker\":{\"colorbar\":{\"outlinewidth\":0,\"ticks\":\"\"}}}],\"histogram\":[{\"marker\":{\"pattern\":{\"fillmode\":\"overlay\",\"size\":10,\"solidity\":0.2}},\"type\":\"histogram\"}],\"scattergl\":[{\"type\":\"scattergl\",\"marker\":{\"colorbar\":{\"outlinewidth\":0,\"ticks\":\"\"}}}],\"scatter3d\":[{\"type\":\"scatter3d\",\"line\":{\"colorbar\":{\"outlinewidth\":0,\"ticks\":\"\"}},\"marker\":{\"colorbar\":{\"outlinewidth\":0,\"ticks\":\"\"}}}],\"scattermapbox\":[{\"type\":\"scattermapbox\",\"marker\":{\"colorbar\":{\"outlinewidth\":0,\"ticks\":\"\"}}}],\"scatterternary\":[{\"type\":\"scatterternary\",\"marker\":{\"colorbar\":{\"outlinewidth\":0,\"ticks\":\"\"}}}],\"scattercarpet\":[{\"type\":\"scattercarpet\",\"marker\":{\"colorbar\":{\"outlinewidth\":0,\"ticks\":\"\"}}}],\"carpet\":[{\"aaxis\":{\"endlinecolor\":\"#2a3f5f\",\"gridcolor\":\"white\",\"linecolor\":\"white\",\"minorgridcolor\":\"white\",\"startlinecolor\":\"#2a3f5f\"},\"baxis\":{\"endlinecolor\":\"#2a3f5f\",\"gridcolor\":\"white\",\"linecolor\":\"white\",\"minorgridcolor\":\"white\",\"startlinecolor\":\"#2a3f5f\"},\"type\":\"carpet\"}],\"table\":[{\"cells\":{\"fill\":{\"color\":\"#EBF0F8\"},\"line\":{\"color\":\"white\"}},\"header\":{\"fill\":{\"color\":\"#C8D4E3\"},\"line\":{\"color\":\"white\"}},\"type\":\"table\"}],\"barpolar\":[{\"marker\":{\"line\":{\"color\":\"#E5ECF6\",\"width\":0.5},\"pattern\":{\"fillmode\":\"overlay\",\"size\":10,\"solidity\":0.2}},\"type\":\"barpolar\"}],\"pie\":[{\"automargin\":true,\"type\":\"pie\"}]},\"layout\":{\"autotypenumbers\":\"strict\",\"colorway\":[\"#636efa\",\"#EF553B\",\"#00cc96\",\"#ab63fa\",\"#FFA15A\",\"#19d3f3\",\"#FF6692\",\"#B6E880\",\"#FF97FF\",\"#FECB52\"],\"font\":{\"color\":\"#2a3f5f\"},\"hovermode\":\"closest\",\"hoverlabel\":{\"align\":\"left\"},\"paper_bgcolor\":\"white\",\"plot_bgcolor\":\"#E5ECF6\",\"polar\":{\"bgcolor\":\"#E5ECF6\",\"angularaxis\":{\"gridcolor\":\"white\",\"linecolor\":\"white\",\"ticks\":\"\"},\"radialaxis\":{\"gridcolor\":\"white\",\"linecolor\":\"white\",\"ticks\":\"\"}},\"ternary\":{\"bgcolor\":\"#E5ECF6\",\"aaxis\":{\"gridcolor\":\"white\",\"linecolor\":\"white\",\"ticks\":\"\"},\"baxis\":{\"gridcolor\":\"white\",\"linecolor\":\"white\",\"ticks\":\"\"},\"caxis\":{\"gridcolor\":\"white\",\"linecolor\":\"white\",\"ticks\":\"\"}},\"coloraxis\":{\"colorbar\":{\"outlinewidth\":0,\"ticks\":\"\"}},\"colorscale\":{\"sequential\":[[0.0,\"#0d0887\"],[0.1111111111111111,\"#46039f\"],[0.2222222222222222,\"#7201a8\"],[0.3333333333333333,\"#9c179e\"],[0.4444444444444444,\"#bd3786\"],[0.5555555555555556,\"#d8576b\"],[0.6666666666666666,\"#ed7953\"],[0.7777777777777778,\"#fb9f3a\"],[0.8888888888888888,\"#fdca26\"],[1.0,\"#f0f921\"]],\"sequentialminus\":[[0.0,\"#0d0887\"],[0.1111111111111111,\"#46039f\"],[0.2222222222222222,\"#7201a8\"],[0.3333333333333333,\"#9c179e\"],[0.4444444444444444,\"#bd3786\"],[0.5555555555555556,\"#d8576b\"],[0.6666666666666666,\"#ed7953\"],[0.7777777777777778,\"#fb9f3a\"],[0.8888888888888888,\"#fdca26\"],[1.0,\"#f0f921\"]],\"diverging\":[[0,\"#8e0152\"],[0.1,\"#c51b7d\"],[0.2,\"#de77ae\"],[0.3,\"#f1b6da\"],[0.4,\"#fde0ef\"],[0.5,\"#f7f7f7\"],[0.6,\"#e6f5d0\"],[0.7,\"#b8e186\"],[0.8,\"#7fbc41\"],[0.9,\"#4d9221\"],[1,\"#276419\"]]},\"xaxis\":{\"gridcolor\":\"white\",\"linecolor\":\"white\",\"ticks\":\"\",\"title\":{\"standoff\":15},\"zerolinecolor\":\"white\",\"automargin\":true,\"zerolinewidth\":2},\"yaxis\":{\"gridcolor\":\"white\",\"linecolor\":\"white\",\"ticks\":\"\",\"title\":{\"standoff\":15},\"zerolinecolor\":\"white\",\"automargin\":true,\"zerolinewidth\":2},\"scene\":{\"xaxis\":{\"backgroundcolor\":\"#E5ECF6\",\"gridcolor\":\"white\",\"linecolor\":\"white\",\"showbackground\":true,\"ticks\":\"\",\"zerolinecolor\":\"white\",\"gridwidth\":2},\"yaxis\":{\"backgroundcolor\":\"#E5ECF6\",\"gridcolor\":\"white\",\"linecolor\":\"white\",\"showbackground\":true,\"ticks\":\"\",\"zerolinecolor\":\"white\",\"gridwidth\":2},\"zaxis\":{\"backgroundcolor\":\"#E5ECF6\",\"gridcolor\":\"white\",\"linecolor\":\"white\",\"showbackground\":true,\"ticks\":\"\",\"zerolinecolor\":\"white\",\"gridwidth\":2}},\"shapedefaults\":{\"line\":{\"color\":\"#2a3f5f\"}},\"annotationdefaults\":{\"arrowcolor\":\"#2a3f5f\",\"arrowhead\":0,\"arrowwidth\":1},\"geo\":{\"bgcolor\":\"white\",\"landcolor\":\"#E5ECF6\",\"subunitcolor\":\"white\",\"showland\":true,\"showlakes\":true,\"lakecolor\":\"white\"},\"title\":{\"x\":0.05},\"mapbox\":{\"style\":\"light\"}}},\"legend\":{\"tracegroupgap\":0},\"margin\":{\"t\":60}},                        {\"responsive\": true}                    ).then(function(){\n",
       "                            \n",
       "var gd = document.getElementById('8810f41c-f567-49e3-9f00-4b29f7137587');\n",
       "var x = new MutationObserver(function (mutations, observer) {{\n",
       "        var display = window.getComputedStyle(gd).display;\n",
       "        if (!display || display === 'none') {{\n",
       "            console.log([gd, 'removed!']);\n",
       "            Plotly.purge(gd);\n",
       "            observer.disconnect();\n",
       "        }}\n",
       "}});\n",
       "\n",
       "// Listen for the removal of the full notebook cells\n",
       "var notebookContainer = gd.closest('#notebook-container');\n",
       "if (notebookContainer) {{\n",
       "    x.observe(notebookContainer, {childList: true});\n",
       "}}\n",
       "\n",
       "// Listen for the clearing of the current output cell\n",
       "var outputEl = gd.closest('.output');\n",
       "if (outputEl) {{\n",
       "    x.observe(outputEl, {childList: true});\n",
       "}}\n",
       "\n",
       "                        })                };                });            </script>        </div>"
      ]
     },
     "metadata": {},
     "output_type": "display_data"
    }
   ],
   "source": [
    "grafico_partido = plx.pie(qt_dep_partido, names='Partido', values='Quantidade')\n",
    "grafico_partido.show()"
   ]
  },
  {
   "cell_type": "code",
   "execution_count": 23,
   "id": "796467fe",
   "metadata": {},
   "outputs": [
    {
     "data": {
      "image/png": "[encoded data removed]",
      "text/plain": [
       "<Figure size 1080x8640 with 1 Axes>"
      ]
     },
     "metadata": {},
     "output_type": "display_data"
    }
   ],
   "source": [
    "plt.figure(figsize=(15,120))\n",
    "plt.pie(qt_dep_partido['Quantidade'], labels = qt_dep_partido['Partido'],autopct='%1.1f%%')\n",
    "plt.show()"
   ]
  },
  {
   "cell_type": "markdown",
   "id": "11262f33",
   "metadata": {},
   "source": [
    "# Pegando informações de quantos votos cada candidato obteve"
   ]
  },
  {
   "cell_type": "code",
   "execution_count": 24,
   "id": "8f30554a",
   "metadata": {},
   "outputs": [
    {
     "data": {
      "text/html": [
       "<div>\n",
       "<style scoped>\n",
       "    .dataframe tbody tr th:only-of-type {\n",
       "        vertical-align: middle;\n",
       "    }\n",
       "\n",
       "    .dataframe tbody tr th {\n",
       "        vertical-align: top;\n",
       "    }\n",
       "\n",
       "    .dataframe thead th {\n",
       "        text-align: right;\n",
       "    }\n",
       "</style>\n",
       "<table border=\"1\" class=\"dataframe\">\n",
       "  <thead>\n",
       "    <tr style=\"text-align: right;\">\n",
       "      <th></th>\n",
       "      <th>Voto</th>\n",
       "    </tr>\n",
       "  </thead>\n",
       "  <tbody>\n",
       "    <tr>\n",
       "      <th>Arthur Lira</th>\n",
       "      <td>237</td>\n",
       "    </tr>\n",
       "    <tr>\n",
       "      <th>Baleia Rossi</th>\n",
       "      <td>133</td>\n",
       "    </tr>\n",
       "    <tr>\n",
       "      <th>Não quis responder</th>\n",
       "      <td>111</td>\n",
       "    </tr>\n",
       "    <tr>\n",
       "      <th>Não foi encontrado</th>\n",
       "      <td>10</td>\n",
       "    </tr>\n",
       "    <tr>\n",
       "      <th>Luiza Erundina</th>\n",
       "      <td>9</td>\n",
       "    </tr>\n",
       "    <tr>\n",
       "      <th>Van Hattem</th>\n",
       "      <td>8</td>\n",
       "    </tr>\n",
       "    <tr>\n",
       "      <th>Fábio Ramalho</th>\n",
       "      <td>2</td>\n",
       "    </tr>\n",
       "    <tr>\n",
       "      <th>Alexandre Frota</th>\n",
       "      <td>1</td>\n",
       "    </tr>\n",
       "    <tr>\n",
       "      <th>André Janones</th>\n",
       "      <td>1</td>\n",
       "    </tr>\n",
       "    <tr>\n",
       "      <th>General Peternelli</th>\n",
       "      <td>1</td>\n",
       "    </tr>\n",
       "  </tbody>\n",
       "</table>\n",
       "</div>"
      ],
      "text/plain": [
       "                    Voto\n",
       "Arthur Lira          237\n",
       "Baleia Rossi         133\n",
       "Não quis responder   111\n",
       "Não foi encontrado    10\n",
       "Luiza Erundina         9\n",
       "Van Hattem             8\n",
       "Fábio Ramalho          2\n",
       "Alexandre Frota        1\n",
       "André Janones          1\n",
       "General Peternelli     1"
      ]
     },
     "execution_count": 24,
     "metadata": {},
     "output_type": "execute_result"
    }
   ],
   "source": [
    "numero_voto = dados_eleicao_df['Voto'].value_counts()\n",
    "numero_voto = numero_voto.to_frame()\n",
    "numero_voto"
   ]
  },
  {
   "cell_type": "code",
   "execution_count": 25,
   "id": "dac7840c",
   "metadata": {},
   "outputs": [
    {
     "data": {
      "application/vnd.plotly.v1+json": {
       "config": {
        "plotlyServerURL": "https://plot.ly"
       },
       "data": [
        {
         "alignmentgroup": "True",
         "hovertemplate": "Voto=%{x}<br>count=%{y}<extra></extra>",
         "legendgroup": "Arthur Lira",
         "marker": {
          "color": "#636efa",
          "pattern": {
           "shape": ""
          }
         },
         "name": "Arthur Lira",
         "offsetgroup": "Arthur Lira",
         "orientation": "v",
         "showlegend": true,
         "textposition": "auto",
         "type": "bar",
         "x": [
          "Arthur Lira",
          "Arthur Lira",
          "Arthur Lira",
          "Arthur Lira",
          "Arthur Lira",
          "Arthur Lira",
          "Arthur Lira",
          "Arthur Lira",
          "Arthur Lira",
          "Arthur Lira",
          "Arthur Lira",
          "Arthur Lira",
          "Arthur Lira",
          "Arthur Lira",
          "Arthur Lira",
          "Arthur Lira",
          "Arthur Lira",
          "Arthur Lira",
          "Arthur Lira",
          "Arthur Lira",
          "Arthur Lira",
          "Arthur Lira",
          "Arthur Lira",
          "Arthur Lira",
          "Arthur Lira",
          "Arthur Lira",
          "Arthur Lira",
          "Arthur Lira",
          "Arthur Lira",
          "Arthur Lira",
          "Arthur Lira",
          "Arthur Lira",
          "Arthur Lira",
          "Arthur Lira",
          "Arthur Lira",
          "Arthur Lira",
          "Arthur Lira",
          "Arthur Lira",
          "Arthur Lira",
          "Arthur Lira",
          "Arthur Lira",
          "Arthur Lira",
          "Arthur Lira",
          "Arthur Lira",
          "Arthur Lira",
          "Arthur Lira",
          "Arthur Lira",
          "Arthur Lira",
          "Arthur Lira",
          "Arthur Lira",
          "Arthur Lira",
          "Arthur Lira",
          "Arthur Lira",
          "Arthur Lira",
          "Arthur Lira",
          "Arthur Lira",
          "Arthur Lira",
          "Arthur Lira",
          "Arthur Lira",
          "Arthur Lira",
          "Arthur Lira",
          "Arthur Lira",
          "Arthur Lira",
          "Arthur Lira",
          "Arthur Lira",
          "Arthur Lira",
          "Arthur Lira",
          "Arthur Lira",
          "Arthur Lira",
          "Arthur Lira",
          "Arthur Lira",
          "Arthur Lira",
          "Arthur Lira",
          "Arthur Lira",
          "Arthur Lira",
          "Arthur Lira",
          "Arthur Lira",
          "Arthur Lira",
          "Arthur Lira",
          "Arthur Lira",
          "Arthur Lira",
          "Arthur Lira",
          "Arthur Lira",
          "Arthur Lira",
          "Arthur Lira",
          "Arthur Lira",
          "Arthur Lira",
          "Arthur Lira",
          "Arthur Lira",
          "Arthur Lira",
          "Arthur Lira",
          "Arthur Lira",
          "Arthur Lira",
          "Arthur Lira",
          "Arthur Lira",
          "Arthur Lira",
          "Arthur Lira",
          "Arthur Lira",
          "Arthur Lira",
          "Arthur Lira",
          "Arthur Lira",
          "Arthur Lira",
          "Arthur Lira",
          "Arthur Lira",
          "Arthur Lira",
          "Arthur Lira",
          "Arthur Lira",
          "Arthur Lira",
          "Arthur Lira",
          "Arthur Lira",
          "Arthur Lira",
          "Arthur Lira",
          "Arthur Lira",
          "Arthur Lira",
          "Arthur Lira",
          "Arthur Lira",
          "Arthur Lira",
          "Arthur Lira",
          "Arthur Lira",
          "Arthur Lira",
          "Arthur Lira",
          "Arthur Lira",
          "Arthur Lira",
          "Arthur Lira",
          "Arthur Lira",
          "Arthur Lira",
          "Arthur Lira",
          "Arthur Lira",
          "Arthur Lira",
          "Arthur Lira",
          "Arthur Lira",
          "Arthur Lira",
          "Arthur Lira",
          "Arthur Lira",
          "Arthur Lira",
          "Arthur Lira",
          "Arthur Lira",
          "Arthur Lira",
          "Arthur Lira",
          "Arthur Lira",
          "Arthur Lira",
          "Arthur Lira",
          "Arthur Lira",
          "Arthur Lira",
          "Arthur Lira",
          "Arthur Lira",
          "Arthur Lira",
          "Arthur Lira",
          "Arthur Lira",
          "Arthur Lira",
          "Arthur Lira",
          "Arthur Lira",
          "Arthur Lira",
          "Arthur Lira",
          "Arthur Lira",
          "Arthur Lira",
          "Arthur Lira",
          "Arthur Lira",
          "Arthur Lira",
          "Arthur Lira",
          "Arthur Lira",
          "Arthur Lira",
          "Arthur Lira",
          "Arthur Lira",
          "Arthur Lira",
          "Arthur Lira",
          "Arthur Lira",
          "Arthur Lira",
          "Arthur Lira",
          "Arthur Lira",
          "Arthur Lira",
          "Arthur Lira",
          "Arthur Lira",
          "Arthur Lira",
          "Arthur Lira",
          "Arthur Lira",
          "Arthur Lira",
          "Arthur Lira",
          "Arthur Lira",
          "Arthur Lira",
          "Arthur Lira",
          "Arthur Lira",
          "Arthur Lira",
          "Arthur Lira",
          "Arthur Lira",
          "Arthur Lira",
          "Arthur Lira",
          "Arthur Lira",
          "Arthur Lira",
          "Arthur Lira",
          "Arthur Lira",
          "Arthur Lira",
          "Arthur Lira",
          "Arthur Lira",
          "Arthur Lira",
          "Arthur Lira",
          "Arthur Lira",
          "Arthur Lira",
          "Arthur Lira",
          "Arthur Lira",
          "Arthur Lira",
          "Arthur Lira",
          "Arthur Lira",
          "Arthur Lira",
          "Arthur Lira",
          "Arthur Lira",
          "Arthur Lira",
          "Arthur Lira",
          "Arthur Lira",
          "Arthur Lira",
          "Arthur Lira",
          "Arthur Lira",
          "Arthur Lira",
          "Arthur Lira",
          "Arthur Lira",
          "Arthur Lira",
          "Arthur Lira",
          "Arthur Lira",
          "Arthur Lira",
          "Arthur Lira",
          "Arthur Lira",
          "Arthur Lira",
          "Arthur Lira",
          "Arthur Lira",
          "Arthur Lira",
          "Arthur Lira",
          "Arthur Lira",
          "Arthur Lira",
          "Arthur Lira",
          "Arthur Lira",
          "Arthur Lira",
          "Arthur Lira",
          "Arthur Lira",
          "Arthur Lira",
          "Arthur Lira",
          "Arthur Lira",
          "Arthur Lira"
         ],
         "xaxis": "x",
         "y": [
          1,
          1,
          1,
          1,
          1,
          1,
          1,
          1,
          1,
          1,
          1,
          1,
          1,
          1,
          1,
          1,
          1,
          1,
          1,
          1,
          1,
          1,
          1,
          1,
          1,
          1,
          1,
          1,
          1,
          1,
          1,
          1,
          1,
          1,
          1,
          1,
          1,
          1,
          1,
          1,
          1,
          1,
          1,
          1,
          1,
          1,
          1,
          1,
          1,
          1,
          1,
          1,
          1,
          1,
          1,
          1,
          1,
          1,
          1,
          1,
          1,
          1,
          1,
          1,
          1,
          1,
          1,
          1,
          1,
          1,
          1,
          1,
          1,
          1,
          1,
          1,
          1,
          1,
          1,
          1,
          1,
          1,
          1,
          1,
          1,
          1,
          1,
          1,
          1,
          1,
          1,
          1,
          1,
          1,
          1,
          1,
          1,
          1,
          1,
          1,
          1,
          1,
          1,
          1,
          1,
          1,
          1,
          1,
          1,
          1,
          1,
          1,
          1,
          1,
          1,
          1,
          1,
          1,
          1,
          1,
          1,
          1,
          1,
          1,
          1,
          1,
          1,
          1,
          1,
          1,
          1,
          1,
          1,
          1,
          1,
          1,
          1,
          1,
          1,
          1,
          1,
          1,
          1,
          1,
          1,
          1,
          1,
          1,
          1,
          1,
          1,
          1,
          1,
          1,
          1,
          1,
          1,
          1,
          1,
          1,
          1,
          1,
          1,
          1,
          1,
          1,
          1,
          1,
          1,
          1,
          1,
          1,
          1,
          1,
          1,
          1,
          1,
          1,
          1,
          1,
          1,
          1,
          1,
          1,
          1,
          1,
          1,
          1,
          1,
          1,
          1,
          1,
          1,
          1,
          1,
          1,
          1,
          1,
          1,
          1,
          1,
          1,
          1,
          1,
          1,
          1,
          1,
          1,
          1,
          1,
          1,
          1,
          1,
          1,
          1,
          1,
          1,
          1,
          1,
          1,
          1,
          1,
          1,
          1,
          1,
          1,
          1,
          1,
          1,
          1,
          1,
          1,
          1,
          1,
          1,
          1,
          1
         ],
         "yaxis": "y"
        },
        {
         "alignmentgroup": "True",
         "hovertemplate": "Voto=%{x}<br>count=%{y}<extra></extra>",
         "legendgroup": "Baleia Rossi",
         "marker": {
          "color": "#EF553B",
          "pattern": {
           "shape": ""
          }
         },
         "name": "Baleia Rossi",
         "offsetgroup": "Baleia Rossi",
         "orientation": "v",
         "showlegend": true,
         "textposition": "auto",
         "type": "bar",
         "x": [
          "Baleia Rossi",
          "Baleia Rossi",
          "Baleia Rossi",
          "Baleia Rossi",
          "Baleia Rossi",
          "Baleia Rossi",
          "Baleia Rossi",
          "Baleia Rossi",
          "Baleia Rossi",
          "Baleia Rossi",
          "Baleia Rossi",
          "Baleia Rossi",
          "Baleia Rossi",
          "Baleia Rossi",
          "Baleia Rossi",
          "Baleia Rossi",
          "Baleia Rossi",
          "Baleia Rossi",
          "Baleia Rossi",
          "Baleia Rossi",
          "Baleia Rossi",
          "Baleia Rossi",
          "Baleia Rossi",
          "Baleia Rossi",
          "Baleia Rossi",
          "Baleia Rossi",
          "Baleia Rossi",
          "Baleia Rossi",
          "Baleia Rossi",
          "Baleia Rossi",
          "Baleia Rossi",
          "Baleia Rossi",
          "Baleia Rossi",
          "Baleia Rossi",
          "Baleia Rossi",
          "Baleia Rossi",
          "Baleia Rossi",
          "Baleia Rossi",
          "Baleia Rossi",
          "Baleia Rossi",
          "Baleia Rossi",
          "Baleia Rossi",
          "Baleia Rossi",
          "Baleia Rossi",
          "Baleia Rossi",
          "Baleia Rossi",
          "Baleia Rossi",
          "Baleia Rossi",
          "Baleia Rossi",
          "Baleia Rossi",
          "Baleia Rossi",
          "Baleia Rossi",
          "Baleia Rossi",
          "Baleia Rossi",
          "Baleia Rossi",
          "Baleia Rossi",
          "Baleia Rossi",
          "Baleia Rossi",
          "Baleia Rossi",
          "Baleia Rossi",
          "Baleia Rossi",
          "Baleia Rossi",
          "Baleia Rossi",
          "Baleia Rossi",
          "Baleia Rossi",
          "Baleia Rossi",
          "Baleia Rossi",
          "Baleia Rossi",
          "Baleia Rossi",
          "Baleia Rossi",
          "Baleia Rossi",
          "Baleia Rossi",
          "Baleia Rossi",
          "Baleia Rossi",
          "Baleia Rossi",
          "Baleia Rossi",
          "Baleia Rossi",
          "Baleia Rossi",
          "Baleia Rossi",
          "Baleia Rossi",
          "Baleia Rossi",
          "Baleia Rossi",
          "Baleia Rossi",
          "Baleia Rossi",
          "Baleia Rossi",
          "Baleia Rossi",
          "Baleia Rossi",
          "Baleia Rossi",
          "Baleia Rossi",
          "Baleia Rossi",
          "Baleia Rossi",
          "Baleia Rossi",
          "Baleia Rossi",
          "Baleia Rossi",
          "Baleia Rossi",
          "Baleia Rossi",
          "Baleia Rossi",
          "Baleia Rossi",
          "Baleia Rossi",
          "Baleia Rossi",
          "Baleia Rossi",
          "Baleia Rossi",
          "Baleia Rossi",
          "Baleia Rossi",
          "Baleia Rossi",
          "Baleia Rossi",
          "Baleia Rossi",
          "Baleia Rossi",
          "Baleia Rossi",
          "Baleia Rossi",
          "Baleia Rossi",
          "Baleia Rossi",
          "Baleia Rossi",
          "Baleia Rossi",
          "Baleia Rossi",
          "Baleia Rossi",
          "Baleia Rossi",
          "Baleia Rossi",
          "Baleia Rossi",
          "Baleia Rossi",
          "Baleia Rossi",
          "Baleia Rossi",
          "Baleia Rossi",
          "Baleia Rossi",
          "Baleia Rossi",
          "Baleia Rossi",
          "Baleia Rossi",
          "Baleia Rossi",
          "Baleia Rossi",
          "Baleia Rossi",
          "Baleia Rossi",
          "Baleia Rossi",
          "Baleia Rossi"
         ],
         "xaxis": "x",
         "y": [
          1,
          1,
          1,
          1,
          1,
          1,
          1,
          1,
          1,
          1,
          1,
          1,
          1,
          1,
          1,
          1,
          1,
          1,
          1,
          1,
          1,
          1,
          1,
          1,
          1,
          1,
          1,
          1,
          1,
          1,
          1,
          1,
          1,
          1,
          1,
          1,
          1,
          1,
          1,
          1,
          1,
          1,
          1,
          1,
          1,
          1,
          1,
          1,
          1,
          1,
          1,
          1,
          1,
          1,
          1,
          1,
          1,
          1,
          1,
          1,
          1,
          1,
          1,
          1,
          1,
          1,
          1,
          1,
          1,
          1,
          1,
          1,
          1,
          1,
          1,
          1,
          1,
          1,
          1,
          1,
          1,
          1,
          1,
          1,
          1,
          1,
          1,
          1,
          1,
          1,
          1,
          1,
          1,
          1,
          1,
          1,
          1,
          1,
          1,
          1,
          1,
          1,
          1,
          1,
          1,
          1,
          1,
          1,
          1,
          1,
          1,
          1,
          1,
          1,
          1,
          1,
          1,
          1,
          1,
          1,
          1,
          1,
          1,
          1,
          1,
          1,
          1,
          1,
          1,
          1,
          1,
          1,
          1
         ],
         "yaxis": "y"
        },
        {
         "alignmentgroup": "True",
         "hovertemplate": "Voto=%{x}<br>count=%{y}<extra></extra>",
         "legendgroup": "Luiza Erundina",
         "marker": {
          "color": "#00cc96",
          "pattern": {
           "shape": ""
          }
         },
         "name": "Luiza Erundina",
         "offsetgroup": "Luiza Erundina",
         "orientation": "v",
         "showlegend": true,
         "textposition": "auto",
         "type": "bar",
         "x": [
          "Luiza Erundina",
          "Luiza Erundina",
          "Luiza Erundina",
          "Luiza Erundina",
          "Luiza Erundina",
          "Luiza Erundina",
          "Luiza Erundina",
          "Luiza Erundina",
          "Luiza Erundina"
         ],
         "xaxis": "x",
         "y": [
          1,
          1,
          1,
          1,
          1,
          1,
          1,
          1,
          1
         ],
         "yaxis": "y"
        },
        {
         "alignmentgroup": "True",
         "hovertemplate": "Voto=%{x}<br>count=%{y}<extra></extra>",
         "legendgroup": "Van Hattem",
         "marker": {
          "color": "#ab63fa",
          "pattern": {
           "shape": ""
          }
         },
         "name": "Van Hattem",
         "offsetgroup": "Van Hattem",
         "orientation": "v",
         "showlegend": true,
         "textposition": "auto",
         "type": "bar",
         "x": [
          "Van Hattem",
          "Van Hattem",
          "Van Hattem",
          "Van Hattem",
          "Van Hattem",
          "Van Hattem",
          "Van Hattem",
          "Van Hattem"
         ],
         "xaxis": "x",
         "y": [
          1,
          1,
          1,
          1,
          1,
          1,
          1,
          1
         ],
         "yaxis": "y"
        },
        {
         "alignmentgroup": "True",
         "hovertemplate": "Voto=%{x}<br>count=%{y}<extra></extra>",
         "legendgroup": "Fábio Ramalho",
         "marker": {
          "color": "#FFA15A",
          "pattern": {
           "shape": ""
          }
         },
         "name": "Fábio Ramalho",
         "offsetgroup": "Fábio Ramalho",
         "orientation": "v",
         "showlegend": true,
         "textposition": "auto",
         "type": "bar",
         "x": [
          "Fábio Ramalho",
          "Fábio Ramalho"
         ],
         "xaxis": "x",
         "y": [
          1,
          1
         ],
         "yaxis": "y"
        },
        {
         "alignmentgroup": "True",
         "hovertemplate": "Voto=%{x}<br>count=%{y}<extra></extra>",
         "legendgroup": "Alexandre Frota",
         "marker": {
          "color": "#19d3f3",
          "pattern": {
           "shape": ""
          }
         },
         "name": "Alexandre Frota",
         "offsetgroup": "Alexandre Frota",
         "orientation": "v",
         "showlegend": true,
         "textposition": "auto",
         "type": "bar",
         "x": [
          "Alexandre Frota"
         ],
         "xaxis": "x",
         "y": [
          1
         ],
         "yaxis": "y"
        },
        {
         "alignmentgroup": "True",
         "hovertemplate": "Voto=%{x}<br>count=%{y}<extra></extra>",
         "legendgroup": "André Janones",
         "marker": {
          "color": "#FF6692",
          "pattern": {
           "shape": ""
          }
         },
         "name": "André Janones",
         "offsetgroup": "André Janones",
         "orientation": "v",
         "showlegend": true,
         "textposition": "auto",
         "type": "bar",
         "x": [
          "André Janones"
         ],
         "xaxis": "x",
         "y": [
          1
         ],
         "yaxis": "y"
        },
        {
         "alignmentgroup": "True",
         "hovertemplate": "Voto=%{x}<br>count=%{y}<extra></extra>",
         "legendgroup": "General Peternelli",
         "marker": {
          "color": "#B6E880",
          "pattern": {
           "shape": ""
          }
         },
         "name": "General Peternelli",
         "offsetgroup": "General Peternelli",
         "orientation": "v",
         "showlegend": true,
         "textposition": "auto",
         "type": "bar",
         "x": [
          "General Peternelli"
         ],
         "xaxis": "x",
         "y": [
          1
         ],
         "yaxis": "y"
        },
        {
         "alignmentgroup": "True",
         "hovertemplate": "Voto=%{x}<br>count=%{y}<extra></extra>",
         "legendgroup": "Não quis responder",
         "marker": {
          "color": "#FF97FF",
          "pattern": {
           "shape": ""
          }
         },
         "name": "Não quis responder",
         "offsetgroup": "Não quis responder",
         "orientation": "v",
         "showlegend": true,
         "textposition": "auto",
         "type": "bar",
         "x": [
          "Não quis responder",
          "Não quis responder",
          "Não quis responder",
          "Não quis responder",
          "Não quis responder",
          "Não quis responder",
          "Não quis responder",
          "Não quis responder",
          "Não quis responder",
          "Não quis responder",
          "Não quis responder",
          "Não quis responder",
          "Não quis responder",
          "Não quis responder",
          "Não quis responder",
          "Não quis responder",
          "Não quis responder",
          "Não quis responder",
          "Não quis responder",
          "Não quis responder",
          "Não quis responder",
          "Não quis responder",
          "Não quis responder",
          "Não quis responder",
          "Não quis responder",
          "Não quis responder",
          "Não quis responder",
          "Não quis responder",
          "Não quis responder",
          "Não quis responder",
          "Não quis responder",
          "Não quis responder",
          "Não quis responder",
          "Não quis responder",
          "Não quis responder",
          "Não quis responder",
          "Não quis responder",
          "Não quis responder",
          "Não quis responder",
          "Não quis responder",
          "Não quis responder",
          "Não quis responder",
          "Não quis responder",
          "Não quis responder",
          "Não quis responder",
          "Não quis responder",
          "Não quis responder",
          "Não quis responder",
          "Não quis responder",
          "Não quis responder",
          "Não quis responder",
          "Não quis responder",
          "Não quis responder",
          "Não quis responder",
          "Não quis responder",
          "Não quis responder",
          "Não quis responder",
          "Não quis responder",
          "Não quis responder",
          "Não quis responder",
          "Não quis responder",
          "Não quis responder",
          "Não quis responder",
          "Não quis responder",
          "Não quis responder",
          "Não quis responder",
          "Não quis responder",
          "Não quis responder",
          "Não quis responder",
          "Não quis responder",
          "Não quis responder",
          "Não quis responder",
          "Não quis responder",
          "Não quis responder",
          "Não quis responder",
          "Não quis responder",
          "Não quis responder",
          "Não quis responder",
          "Não quis responder",
          "Não quis responder",
          "Não quis responder",
          "Não quis responder",
          "Não quis responder",
          "Não quis responder",
          "Não quis responder",
          "Não quis responder",
          "Não quis responder",
          "Não quis responder",
          "Não quis responder",
          "Não quis responder",
          "Não quis responder",
          "Não quis responder",
          "Não quis responder",
          "Não quis responder",
          "Não quis responder",
          "Não quis responder",
          "Não quis responder",
          "Não quis responder",
          "Não quis responder",
          "Não quis responder",
          "Não quis responder",
          "Não quis responder",
          "Não quis responder",
          "Não quis responder",
          "Não quis responder",
          "Não quis responder",
          "Não quis responder",
          "Não quis responder",
          "Não quis responder",
          "Não quis responder",
          "Não quis responder"
         ],
         "xaxis": "x",
         "y": [
          1,
          1,
          1,
          1,
          1,
          1,
          1,
          1,
          1,
          1,
          1,
          1,
          1,
          1,
          1,
          1,
          1,
          1,
          1,
          1,
          1,
          1,
          1,
          1,
          1,
          1,
          1,
          1,
          1,
          1,
          1,
          1,
          1,
          1,
          1,
          1,
          1,
          1,
          1,
          1,
          1,
          1,
          1,
          1,
          1,
          1,
          1,
          1,
          1,
          1,
          1,
          1,
          1,
          1,
          1,
          1,
          1,
          1,
          1,
          1,
          1,
          1,
          1,
          1,
          1,
          1,
          1,
          1,
          1,
          1,
          1,
          1,
          1,
          1,
          1,
          1,
          1,
          1,
          1,
          1,
          1,
          1,
          1,
          1,
          1,
          1,
          1,
          1,
          1,
          1,
          1,
          1,
          1,
          1,
          1,
          1,
          1,
          1,
          1,
          1,
          1,
          1,
          1,
          1,
          1,
          1,
          1,
          1,
          1,
          1,
          1
         ],
         "yaxis": "y"
        },
        {
         "alignmentgroup": "True",
         "hovertemplate": "Voto=%{x}<br>count=%{y}<extra></extra>",
         "legendgroup": "Não foi encontrado",
         "marker": {
          "color": "#FECB52",
          "pattern": {
           "shape": ""
          }
         },
         "name": "Não foi encontrado",
         "offsetgroup": "Não foi encontrado",
         "orientation": "v",
         "showlegend": true,
         "textposition": "auto",
         "type": "bar",
         "x": [
          "Não foi encontrado",
          "Não foi encontrado",
          "Não foi encontrado",
          "Não foi encontrado",
          "Não foi encontrado",
          "Não foi encontrado",
          "Não foi encontrado",
          "Não foi encontrado",
          "Não foi encontrado",
          "Não foi encontrado"
         ],
         "xaxis": "x",
         "y": [
          1,
          1,
          1,
          1,
          1,
          1,
          1,
          1,
          1,
          1
         ],
         "yaxis": "y"
        }
       ],
       "layout": {
        "barmode": "relative",
        "legend": {
         "title": {
          "text": "Voto"
         },
         "tracegroupgap": 0
        },
        "margin": {
         "t": 60
        },
        "template": {
         "data": {
          "bar": [
           {
            "error_x": {
             "color": "#2a3f5f"
            },
            "error_y": {
             "color": "#2a3f5f"
            },
            "marker": {
             "line": {
              "color": "#E5ECF6",
              "width": 0.5
             },
             "pattern": {
              "fillmode": "overlay",
              "size": 10,
              "solidity": 0.2
             }
            },
            "type": "bar"
           }
          ],
          "barpolar": [
           {
            "marker": {
             "line": {
              "color": "#E5ECF6",
              "width": 0.5
             },
             "pattern": {
              "fillmode": "overlay",
              "size": 10,
              "solidity": 0.2
             }
            },
            "type": "barpolar"
           }
          ],
          "carpet": [
           {
            "aaxis": {
             "endlinecolor": "#2a3f5f",
             "gridcolor": "white",
             "linecolor": "white",
             "minorgridcolor": "white",
             "startlinecolor": "#2a3f5f"
            },
            "baxis": {
             "endlinecolor": "#2a3f5f",
             "gridcolor": "white",
             "linecolor": "white",
             "minorgridcolor": "white",
             "startlinecolor": "#2a3f5f"
            },
            "type": "carpet"
           }
          ],
          "choropleth": [
           {
            "colorbar": {
             "outlinewidth": 0,
             "ticks": ""
            },
            "type": "choropleth"
           }
          ],
          "contour": [
           {
            "colorbar": {
             "outlinewidth": 0,
             "ticks": ""
            },
            "colorscale": [
             [
              0,
              "#0d0887"
             ],
             [
              0.1111111111111111,
              "#46039f"
             ],
             [
              0.2222222222222222,
              "#7201a8"
             ],
             [
              0.3333333333333333,
              "#9c179e"
             ],
             [
              0.4444444444444444,
              "#bd3786"
             ],
             [
              0.5555555555555556,
              "#d8576b"
             ],
             [
              0.6666666666666666,
              "#ed7953"
             ],
             [
              0.7777777777777778,
              "#fb9f3a"
             ],
             [
              0.8888888888888888,
              "#fdca26"
             ],
             [
              1,
              "#f0f921"
             ]
            ],
            "type": "contour"
           }
          ],
          "contourcarpet": [
           {
            "colorbar": {
             "outlinewidth": 0,
             "ticks": ""
            },
            "type": "contourcarpet"
           }
          ],
          "heatmap": [
           {
            "colorbar": {
             "outlinewidth": 0,
             "ticks": ""
            },
            "colorscale": [
             [
              0,
              "#0d0887"
             ],
             [
              0.1111111111111111,
              "#46039f"
             ],
             [
              0.2222222222222222,
              "#7201a8"
             ],
             [
              0.3333333333333333,
              "#9c179e"
             ],
             [
              0.4444444444444444,
              "#bd3786"
             ],
             [
              0.5555555555555556,
              "#d8576b"
             ],
             [
              0.6666666666666666,
              "#ed7953"
             ],
             [
              0.7777777777777778,
              "#fb9f3a"
             ],
             [
              0.8888888888888888,
              "#fdca26"
             ],
             [
              1,
              "#f0f921"
             ]
            ],
            "type": "heatmap"
           }
          ],
          "heatmapgl": [
           {
            "colorbar": {
             "outlinewidth": 0,
             "ticks": ""
            },
            "colorscale": [
             [
              0,
              "#0d0887"
             ],
             [
              0.1111111111111111,
              "#46039f"
             ],
             [
              0.2222222222222222,
              "#7201a8"
             ],
             [
              0.3333333333333333,
              "#9c179e"
             ],
             [
              0.4444444444444444,
              "#bd3786"
             ],
             [
              0.5555555555555556,
              "#d8576b"
             ],
             [
              0.6666666666666666,
              "#ed7953"
             ],
             [
              0.7777777777777778,
              "#fb9f3a"
             ],
             [
              0.8888888888888888,
              "#fdca26"
             ],
             [
              1,
              "#f0f921"
             ]
            ],
            "type": "heatmapgl"
           }
          ],
          "histogram": [
           {
            "marker": {
             "pattern": {
              "fillmode": "overlay",
              "size": 10,
              "solidity": 0.2
             }
            },
            "type": "histogram"
           }
          ],
          "histogram2d": [
           {
            "colorbar": {
             "outlinewidth": 0,
             "ticks": ""
            },
            "colorscale": [
             [
              0,
              "#0d0887"
             ],
             [
              0.1111111111111111,
              "#46039f"
             ],
             [
              0.2222222222222222,
              "#7201a8"
             ],
             [
              0.3333333333333333,
              "#9c179e"
             ],
             [
              0.4444444444444444,
              "#bd3786"
             ],
             [
              0.5555555555555556,
              "#d8576b"
             ],
             [
              0.6666666666666666,
              "#ed7953"
             ],
             [
              0.7777777777777778,
              "#fb9f3a"
             ],
             [
              0.8888888888888888,
              "#fdca26"
             ],
             [
              1,
              "#f0f921"
             ]
            ],
            "type": "histogram2d"
           }
          ],
          "histogram2dcontour": [
           {
            "colorbar": {
             "outlinewidth": 0,
             "ticks": ""
            },
            "colorscale": [
             [
              0,
              "#0d0887"
             ],
             [
              0.1111111111111111,
              "#46039f"
             ],
             [
              0.2222222222222222,
              "#7201a8"
             ],
             [
              0.3333333333333333,
              "#9c179e"
             ],
             [
              0.4444444444444444,
              "#bd3786"
             ],
             [
              0.5555555555555556,
              "#d8576b"
             ],
             [
              0.6666666666666666,
              "#ed7953"
             ],
             [
              0.7777777777777778,
              "#fb9f3a"
             ],
             [
              0.8888888888888888,
              "#fdca26"
             ],
             [
              1,
              "#f0f921"
             ]
            ],
            "type": "histogram2dcontour"
           }
          ],
          "mesh3d": [
           {
            "colorbar": {
             "outlinewidth": 0,
             "ticks": ""
            },
            "type": "mesh3d"
           }
          ],
          "parcoords": [
           {
            "line": {
             "colorbar": {
              "outlinewidth": 0,
              "ticks": ""
             }
            },
            "type": "parcoords"
           }
          ],
          "pie": [
           {
            "automargin": true,
            "type": "pie"
           }
          ],
          "scatter": [
           {
            "fillpattern": {
             "fillmode": "overlay",
             "size": 10,
             "solidity": 0.2
            },
            "type": "scatter"
           }
          ],
          "scatter3d": [
           {
            "line": {
             "colorbar": {
              "outlinewidth": 0,
              "ticks": ""
             }
            },
            "marker": {
             "colorbar": {
              "outlinewidth": 0,
              "ticks": ""
             }
            },
            "type": "scatter3d"
           }
          ],
          "scattercarpet": [
           {
            "marker": {
             "colorbar": {
              "outlinewidth": 0,
              "ticks": ""
             }
            },
            "type": "scattercarpet"
           }
          ],
          "scattergeo": [
           {
            "marker": {
             "colorbar": {
              "outlinewidth": 0,
              "ticks": ""
             }
            },
            "type": "scattergeo"
           }
          ],
          "scattergl": [
           {
            "marker": {
             "colorbar": {
              "outlinewidth": 0,
              "ticks": ""
             }
            },
            "type": "scattergl"
           }
          ],
          "scattermapbox": [
           {
            "marker": {
             "colorbar": {
              "outlinewidth": 0,
              "ticks": ""
             }
            },
            "type": "scattermapbox"
           }
          ],
          "scatterpolar": [
           {
            "marker": {
             "colorbar": {
              "outlinewidth": 0,
              "ticks": ""
             }
            },
            "type": "scatterpolar"
           }
          ],
          "scatterpolargl": [
           {
            "marker": {
             "colorbar": {
              "outlinewidth": 0,
              "ticks": ""
             }
            },
            "type": "scatterpolargl"
           }
          ],
          "scatterternary": [
           {
            "marker": {
             "colorbar": {
              "outlinewidth": 0,
              "ticks": ""
             }
            },
            "type": "scatterternary"
           }
          ],
          "surface": [
           {
            "colorbar": {
             "outlinewidth": 0,
             "ticks": ""
            },
            "colorscale": [
             [
              0,
              "#0d0887"
             ],
             [
              0.1111111111111111,
              "#46039f"
             ],
             [
              0.2222222222222222,
              "#7201a8"
             ],
             [
              0.3333333333333333,
              "#9c179e"
             ],
             [
              0.4444444444444444,
              "#bd3786"
             ],
             [
              0.5555555555555556,
              "#d8576b"
             ],
             [
              0.6666666666666666,
              "#ed7953"
             ],
             [
              0.7777777777777778,
              "#fb9f3a"
             ],
             [
              0.8888888888888888,
              "#fdca26"
             ],
             [
              1,
              "#f0f921"
             ]
            ],
            "type": "surface"
           }
          ],
          "table": [
           {
            "cells": {
             "fill": {
              "color": "#EBF0F8"
             },
             "line": {
              "color": "white"
             }
            },
            "header": {
             "fill": {
              "color": "#C8D4E3"
             },
             "line": {
              "color": "white"
             }
            },
            "type": "table"
           }
          ]
         },
         "layout": {
          "annotationdefaults": {
           "arrowcolor": "#2a3f5f",
           "arrowhead": 0,
           "arrowwidth": 1
          },
          "autotypenumbers": "strict",
          "coloraxis": {
           "colorbar": {
            "outlinewidth": 0,
            "ticks": ""
           }
          },
          "colorscale": {
           "diverging": [
            [
             0,
             "#8e0152"
            ],
            [
             0.1,
             "#c51b7d"
            ],
            [
             0.2,
             "#de77ae"
            ],
            [
             0.3,
             "#f1b6da"
            ],
            [
             0.4,
             "#fde0ef"
            ],
            [
             0.5,
             "#f7f7f7"
            ],
            [
             0.6,
             "#e6f5d0"
            ],
            [
             0.7,
             "#b8e186"
            ],
            [
             0.8,
             "#7fbc41"
            ],
            [
             0.9,
             "#4d9221"
            ],
            [
             1,
             "#276419"
            ]
           ],
           "sequential": [
            [
             0,
             "#0d0887"
            ],
            [
             0.1111111111111111,
             "#46039f"
            ],
            [
             0.2222222222222222,
             "#7201a8"
            ],
            [
             0.3333333333333333,
             "#9c179e"
            ],
            [
             0.4444444444444444,
             "#bd3786"
            ],
            [
             0.5555555555555556,
             "#d8576b"
            ],
            [
             0.6666666666666666,
             "#ed7953"
            ],
            [
             0.7777777777777778,
             "#fb9f3a"
            ],
            [
             0.8888888888888888,
             "#fdca26"
            ],
            [
             1,
             "#f0f921"
            ]
           ],
           "sequentialminus": [
            [
             0,
             "#0d0887"
            ],
            [
             0.1111111111111111,
             "#46039f"
            ],
            [
             0.2222222222222222,
             "#7201a8"
            ],
            [
             0.3333333333333333,
             "#9c179e"
            ],
            [
             0.4444444444444444,
             "#bd3786"
            ],
            [
             0.5555555555555556,
             "#d8576b"
            ],
            [
             0.6666666666666666,
             "#ed7953"
            ],
            [
             0.7777777777777778,
             "#fb9f3a"
            ],
            [
             0.8888888888888888,
             "#fdca26"
            ],
            [
             1,
             "#f0f921"
            ]
           ]
          },
          "colorway": [
           "#636efa",
           "#EF553B",
           "#00cc96",
           "#ab63fa",
           "#FFA15A",
           "#19d3f3",
           "#FF6692",
           "#B6E880",
           "#FF97FF",
           "#FECB52"
          ],
          "font": {
           "color": "#2a3f5f"
          },
          "geo": {
           "bgcolor": "white",
           "lakecolor": "white",
           "landcolor": "#E5ECF6",
           "showlakes": true,
           "showland": true,
           "subunitcolor": "white"
          },
          "hoverlabel": {
           "align": "left"
          },
          "hovermode": "closest",
          "mapbox": {
           "style": "light"
          },
          "paper_bgcolor": "white",
          "plot_bgcolor": "#E5ECF6",
          "polar": {
           "angularaxis": {
            "gridcolor": "white",
            "linecolor": "white",
            "ticks": ""
           },
           "bgcolor": "#E5ECF6",
           "radialaxis": {
            "gridcolor": "white",
            "linecolor": "white",
            "ticks": ""
           }
          },
          "scene": {
           "xaxis": {
            "backgroundcolor": "#E5ECF6",
            "gridcolor": "white",
            "gridwidth": 2,
            "linecolor": "white",
            "showbackground": true,
            "ticks": "",
            "zerolinecolor": "white"
           },
           "yaxis": {
            "backgroundcolor": "#E5ECF6",
            "gridcolor": "white",
            "gridwidth": 2,
            "linecolor": "white",
            "showbackground": true,
            "ticks": "",
            "zerolinecolor": "white"
           },
           "zaxis": {
            "backgroundcolor": "#E5ECF6",
            "gridcolor": "white",
            "gridwidth": 2,
            "linecolor": "white",
            "showbackground": true,
            "ticks": "",
            "zerolinecolor": "white"
           }
          },
          "shapedefaults": {
           "line": {
            "color": "#2a3f5f"
           }
          },
          "ternary": {
           "aaxis": {
            "gridcolor": "white",
            "linecolor": "white",
            "ticks": ""
           },
           "baxis": {
            "gridcolor": "white",
            "linecolor": "white",
            "ticks": ""
           },
           "bgcolor": "#E5ECF6",
           "caxis": {
            "gridcolor": "white",
            "linecolor": "white",
            "ticks": ""
           }
          },
          "title": {
           "x": 0.05
          },
          "xaxis": {
           "automargin": true,
           "gridcolor": "white",
           "linecolor": "white",
           "ticks": "",
           "title": {
            "standoff": 15
           },
           "zerolinecolor": "white",
           "zerolinewidth": 2
          },
          "yaxis": {
           "automargin": true,
           "gridcolor": "white",
           "linecolor": "white",
           "ticks": "",
           "title": {
            "standoff": 15
           },
           "zerolinecolor": "white",
           "zerolinewidth": 2
          }
         }
        },
        "xaxis": {
         "anchor": "y",
         "categoryarray": [
          "Arthur Lira",
          "Baleia Rossi",
          "Luiza Erundina",
          "Van Hattem",
          "Fábio Ramalho",
          "Alexandre Frota",
          "André Janones",
          "General Peternelli",
          "Não quis responder",
          "Não foi encontrado"
         ],
         "categoryorder": "array",
         "domain": [
          0,
          1
         ],
         "title": {
          "text": "Voto"
         }
        },
        "yaxis": {
         "anchor": "x",
         "domain": [
          0,
          1
         ],
         "title": {
          "text": "count"
         }
        }
       }
      },
      "text/html": [
       "<div>                            <div id=\"ee57cedd-ca38-4a60-a2ef-8f78258eab43\" class=\"plotly-graph-div\" style=\"height:525px; width:100%;\"></div>            <script type=\"text/javascript\">                require([\"plotly\"], function(Plotly) {                    window.PLOTLYENV=window.PLOTLYENV || {};                                    if (document.getElementById(\"ee57cedd-ca38-4a60-a2ef-8f78258eab43\")) {                    Plotly.newPlot(                        \"ee57cedd-ca38-4a60-a2ef-8f78258eab43\",                        [{\"alignmentgroup\":\"True\",\"hovertemplate\":\"Voto=%{x}<br>count=%{y}<extra></extra>\",\"legendgroup\":\"Arthur Lira\",\"marker\":{\"color\":\"#636efa\",\"pattern\":{\"shape\":\"\"}},\"name\":\"Arthur Lira\",\"offsetgroup\":\"Arthur Lira\",\"orientation\":\"v\",\"showlegend\":true,\"textposition\":\"auto\",\"x\":[\"Arthur Lira\",\"Arthur Lira\",\"Arthur Lira\",\"Arthur Lira\",\"Arthur Lira\",\"Arthur Lira\",\"Arthur Lira\",\"Arthur Lira\",\"Arthur Lira\",\"Arthur Lira\",\"Arthur Lira\",\"Arthur Lira\",\"Arthur Lira\",\"Arthur Lira\",\"Arthur Lira\",\"Arthur Lira\",\"Arthur Lira\",\"Arthur Lira\",\"Arthur Lira\",\"Arthur Lira\",\"Arthur Lira\",\"Arthur Lira\",\"Arthur Lira\",\"Arthur Lira\",\"Arthur Lira\",\"Arthur Lira\",\"Arthur Lira\",\"Arthur Lira\",\"Arthur Lira\",\"Arthur Lira\",\"Arthur Lira\",\"Arthur Lira\",\"Arthur Lira\",\"Arthur Lira\",\"Arthur Lira\",\"Arthur Lira\",\"Arthur Lira\",\"Arthur Lira\",\"Arthur Lira\",\"Arthur Lira\",\"Arthur Lira\",\"Arthur Lira\",\"Arthur Lira\",\"Arthur Lira\",\"Arthur Lira\",\"Arthur Lira\",\"Arthur Lira\",\"Arthur Lira\",\"Arthur Lira\",\"Arthur Lira\",\"Arthur Lira\",\"Arthur Lira\",\"Arthur Lira\",\"Arthur Lira\",\"Arthur Lira\",\"Arthur Lira\",\"Arthur Lira\",\"Arthur Lira\",\"Arthur Lira\",\"Arthur Lira\",\"Arthur Lira\",\"Arthur Lira\",\"Arthur Lira\",\"Arthur Lira\",\"Arthur Lira\",\"Arthur Lira\",\"Arthur Lira\",\"Arthur Lira\",\"Arthur Lira\",\"Arthur Lira\",\"Arthur Lira\",\"Arthur Lira\",\"Arthur Lira\",\"Arthur Lira\",\"Arthur Lira\",\"Arthur Lira\",\"Arthur Lira\",\"Arthur Lira\",\"Arthur Lira\",\"Arthur Lira\",\"Arthur Lira\",\"Arthur Lira\",\"Arthur Lira\",\"Arthur Lira\",\"Arthur Lira\",\"Arthur Lira\",\"Arthur Lira\",\"Arthur Lira\",\"Arthur Lira\",\"Arthur Lira\",\"Arthur Lira\",\"Arthur Lira\",\"Arthur Lira\",\"Arthur Lira\",\"Arthur Lira\",\"Arthur Lira\",\"Arthur Lira\",\"Arthur Lira\",\"Arthur Lira\",\"Arthur Lira\",\"Arthur Lira\",\"Arthur Lira\",\"Arthur Lira\",\"Arthur Lira\",\"Arthur Lira\",\"Arthur Lira\",\"Arthur Lira\",\"Arthur Lira\",\"Arthur Lira\",\"Arthur Lira\",\"Arthur Lira\",\"Arthur Lira\",\"Arthur Lira\",\"Arthur Lira\",\"Arthur Lira\",\"Arthur Lira\",\"Arthur Lira\",\"Arthur Lira\",\"Arthur Lira\",\"Arthur Lira\",\"Arthur Lira\",\"Arthur Lira\",\"Arthur Lira\",\"Arthur Lira\",\"Arthur Lira\",\"Arthur Lira\",\"Arthur Lira\",\"Arthur Lira\",\"Arthur Lira\",\"Arthur Lira\",\"Arthur Lira\",\"Arthur Lira\",\"Arthur Lira\",\"Arthur Lira\",\"Arthur Lira\",\"Arthur Lira\",\"Arthur Lira\",\"Arthur Lira\",\"Arthur Lira\",\"Arthur Lira\",\"Arthur Lira\",\"Arthur Lira\",\"Arthur Lira\",\"Arthur Lira\",\"Arthur Lira\",\"Arthur Lira\",\"Arthur Lira\",\"Arthur Lira\",\"Arthur Lira\",\"Arthur Lira\",\"Arthur Lira\",\"Arthur Lira\",\"Arthur Lira\",\"Arthur Lira\",\"Arthur Lira\",\"Arthur Lira\",\"Arthur Lira\",\"Arthur Lira\",\"Arthur Lira\",\"Arthur Lira\",\"Arthur Lira\",\"Arthur Lira\",\"Arthur Lira\",\"Arthur Lira\",\"Arthur Lira\",\"Arthur Lira\",\"Arthur Lira\",\"Arthur Lira\",\"Arthur Lira\",\"Arthur Lira\",\"Arthur Lira\",\"Arthur Lira\",\"Arthur Lira\",\"Arthur Lira\",\"Arthur Lira\",\"Arthur Lira\",\"Arthur Lira\",\"Arthur Lira\",\"Arthur Lira\",\"Arthur Lira\",\"Arthur Lira\",\"Arthur Lira\",\"Arthur Lira\",\"Arthur Lira\",\"Arthur Lira\",\"Arthur Lira\",\"Arthur Lira\",\"Arthur Lira\",\"Arthur Lira\",\"Arthur Lira\",\"Arthur Lira\",\"Arthur Lira\",\"Arthur Lira\",\"Arthur Lira\",\"Arthur Lira\",\"Arthur Lira\",\"Arthur Lira\",\"Arthur Lira\",\"Arthur Lira\",\"Arthur Lira\",\"Arthur Lira\",\"Arthur Lira\",\"Arthur Lira\",\"Arthur Lira\",\"Arthur Lira\",\"Arthur Lira\",\"Arthur Lira\",\"Arthur Lira\",\"Arthur Lira\",\"Arthur Lira\",\"Arthur Lira\",\"Arthur Lira\",\"Arthur Lira\",\"Arthur Lira\",\"Arthur Lira\",\"Arthur Lira\",\"Arthur Lira\",\"Arthur Lira\",\"Arthur Lira\",\"Arthur Lira\",\"Arthur Lira\",\"Arthur Lira\",\"Arthur Lira\",\"Arthur Lira\",\"Arthur Lira\",\"Arthur Lira\",\"Arthur Lira\",\"Arthur Lira\",\"Arthur Lira\",\"Arthur Lira\",\"Arthur Lira\",\"Arthur Lira\",\"Arthur Lira\",\"Arthur Lira\",\"Arthur Lira\",\"Arthur Lira\",\"Arthur Lira\"],\"xaxis\":\"x\",\"y\":[1,1,1,1,1,1,1,1,1,1,1,1,1,1,1,1,1,1,1,1,1,1,1,1,1,1,1,1,1,1,1,1,1,1,1,1,1,1,1,1,1,1,1,1,1,1,1,1,1,1,1,1,1,1,1,1,1,1,1,1,1,1,1,1,1,1,1,1,1,1,1,1,1,1,1,1,1,1,1,1,1,1,1,1,1,1,1,1,1,1,1,1,1,1,1,1,1,1,1,1,1,1,1,1,1,1,1,1,1,1,1,1,1,1,1,1,1,1,1,1,1,1,1,1,1,1,1,1,1,1,1,1,1,1,1,1,1,1,1,1,1,1,1,1,1,1,1,1,1,1,1,1,1,1,1,1,1,1,1,1,1,1,1,1,1,1,1,1,1,1,1,1,1,1,1,1,1,1,1,1,1,1,1,1,1,1,1,1,1,1,1,1,1,1,1,1,1,1,1,1,1,1,1,1,1,1,1,1,1,1,1,1,1,1,1,1,1,1,1,1,1,1,1,1,1,1,1,1,1,1,1,1,1,1,1,1,1],\"yaxis\":\"y\",\"type\":\"bar\"},{\"alignmentgroup\":\"True\",\"hovertemplate\":\"Voto=%{x}<br>count=%{y}<extra></extra>\",\"legendgroup\":\"Baleia Rossi\",\"marker\":{\"color\":\"#EF553B\",\"pattern\":{\"shape\":\"\"}},\"name\":\"Baleia Rossi\",\"offsetgroup\":\"Baleia Rossi\",\"orientation\":\"v\",\"showlegend\":true,\"textposition\":\"auto\",\"x\":[\"Baleia Rossi\",\"Baleia Rossi\",\"Baleia Rossi\",\"Baleia Rossi\",\"Baleia Rossi\",\"Baleia Rossi\",\"Baleia Rossi\",\"Baleia Rossi\",\"Baleia Rossi\",\"Baleia Rossi\",\"Baleia Rossi\",\"Baleia Rossi\",\"Baleia Rossi\",\"Baleia Rossi\",\"Baleia Rossi\",\"Baleia Rossi\",\"Baleia Rossi\",\"Baleia Rossi\",\"Baleia Rossi\",\"Baleia Rossi\",\"Baleia Rossi\",\"Baleia Rossi\",\"Baleia Rossi\",\"Baleia Rossi\",\"Baleia Rossi\",\"Baleia Rossi\",\"Baleia Rossi\",\"Baleia Rossi\",\"Baleia Rossi\",\"Baleia Rossi\",\"Baleia Rossi\",\"Baleia Rossi\",\"Baleia Rossi\",\"Baleia Rossi\",\"Baleia Rossi\",\"Baleia Rossi\",\"Baleia Rossi\",\"Baleia Rossi\",\"Baleia Rossi\",\"Baleia Rossi\",\"Baleia Rossi\",\"Baleia Rossi\",\"Baleia Rossi\",\"Baleia Rossi\",\"Baleia Rossi\",\"Baleia Rossi\",\"Baleia Rossi\",\"Baleia Rossi\",\"Baleia Rossi\",\"Baleia Rossi\",\"Baleia Rossi\",\"Baleia Rossi\",\"Baleia Rossi\",\"Baleia Rossi\",\"Baleia Rossi\",\"Baleia Rossi\",\"Baleia Rossi\",\"Baleia Rossi\",\"Baleia Rossi\",\"Baleia Rossi\",\"Baleia Rossi\",\"Baleia Rossi\",\"Baleia Rossi\",\"Baleia Rossi\",\"Baleia Rossi\",\"Baleia Rossi\",\"Baleia Rossi\",\"Baleia Rossi\",\"Baleia Rossi\",\"Baleia Rossi\",\"Baleia Rossi\",\"Baleia Rossi\",\"Baleia Rossi\",\"Baleia Rossi\",\"Baleia Rossi\",\"Baleia Rossi\",\"Baleia Rossi\",\"Baleia Rossi\",\"Baleia Rossi\",\"Baleia Rossi\",\"Baleia Rossi\",\"Baleia Rossi\",\"Baleia Rossi\",\"Baleia Rossi\",\"Baleia Rossi\",\"Baleia Rossi\",\"Baleia Rossi\",\"Baleia Rossi\",\"Baleia Rossi\",\"Baleia Rossi\",\"Baleia Rossi\",\"Baleia Rossi\",\"Baleia Rossi\",\"Baleia Rossi\",\"Baleia Rossi\",\"Baleia Rossi\",\"Baleia Rossi\",\"Baleia Rossi\",\"Baleia Rossi\",\"Baleia Rossi\",\"Baleia Rossi\",\"Baleia Rossi\",\"Baleia Rossi\",\"Baleia Rossi\",\"Baleia Rossi\",\"Baleia Rossi\",\"Baleia Rossi\",\"Baleia Rossi\",\"Baleia Rossi\",\"Baleia Rossi\",\"Baleia Rossi\",\"Baleia Rossi\",\"Baleia Rossi\",\"Baleia Rossi\",\"Baleia Rossi\",\"Baleia Rossi\",\"Baleia Rossi\",\"Baleia Rossi\",\"Baleia Rossi\",\"Baleia Rossi\",\"Baleia Rossi\",\"Baleia Rossi\",\"Baleia Rossi\",\"Baleia Rossi\",\"Baleia Rossi\",\"Baleia Rossi\",\"Baleia Rossi\",\"Baleia Rossi\",\"Baleia Rossi\",\"Baleia Rossi\",\"Baleia Rossi\",\"Baleia Rossi\",\"Baleia Rossi\"],\"xaxis\":\"x\",\"y\":[1,1,1,1,1,1,1,1,1,1,1,1,1,1,1,1,1,1,1,1,1,1,1,1,1,1,1,1,1,1,1,1,1,1,1,1,1,1,1,1,1,1,1,1,1,1,1,1,1,1,1,1,1,1,1,1,1,1,1,1,1,1,1,1,1,1,1,1,1,1,1,1,1,1,1,1,1,1,1,1,1,1,1,1,1,1,1,1,1,1,1,1,1,1,1,1,1,1,1,1,1,1,1,1,1,1,1,1,1,1,1,1,1,1,1,1,1,1,1,1,1,1,1,1,1,1,1,1,1,1,1,1,1],\"yaxis\":\"y\",\"type\":\"bar\"},{\"alignmentgroup\":\"True\",\"hovertemplate\":\"Voto=%{x}<br>count=%{y}<extra></extra>\",\"legendgroup\":\"Luiza Erundina\",\"marker\":{\"color\":\"#00cc96\",\"pattern\":{\"shape\":\"\"}},\"name\":\"Luiza Erundina\",\"offsetgroup\":\"Luiza Erundina\",\"orientation\":\"v\",\"showlegend\":true,\"textposition\":\"auto\",\"x\":[\"Luiza Erundina\",\"Luiza Erundina\",\"Luiza Erundina\",\"Luiza Erundina\",\"Luiza Erundina\",\"Luiza Erundina\",\"Luiza Erundina\",\"Luiza Erundina\",\"Luiza Erundina\"],\"xaxis\":\"x\",\"y\":[1,1,1,1,1,1,1,1,1],\"yaxis\":\"y\",\"type\":\"bar\"},{\"alignmentgroup\":\"True\",\"hovertemplate\":\"Voto=%{x}<br>count=%{y}<extra></extra>\",\"legendgroup\":\"Van Hattem\",\"marker\":{\"color\":\"#ab63fa\",\"pattern\":{\"shape\":\"\"}},\"name\":\"Van Hattem\",\"offsetgroup\":\"Van Hattem\",\"orientation\":\"v\",\"showlegend\":true,\"textposition\":\"auto\",\"x\":[\"Van Hattem\",\"Van Hattem\",\"Van Hattem\",\"Van Hattem\",\"Van Hattem\",\"Van Hattem\",\"Van Hattem\",\"Van Hattem\"],\"xaxis\":\"x\",\"y\":[1,1,1,1,1,1,1,1],\"yaxis\":\"y\",\"type\":\"bar\"},{\"alignmentgroup\":\"True\",\"hovertemplate\":\"Voto=%{x}<br>count=%{y}<extra></extra>\",\"legendgroup\":\"F\\u00e1bio Ramalho\",\"marker\":{\"color\":\"#FFA15A\",\"pattern\":{\"shape\":\"\"}},\"name\":\"F\\u00e1bio Ramalho\",\"offsetgroup\":\"F\\u00e1bio Ramalho\",\"orientation\":\"v\",\"showlegend\":true,\"textposition\":\"auto\",\"x\":[\"F\\u00e1bio Ramalho\",\"F\\u00e1bio Ramalho\"],\"xaxis\":\"x\",\"y\":[1,1],\"yaxis\":\"y\",\"type\":\"bar\"},{\"alignmentgroup\":\"True\",\"hovertemplate\":\"Voto=%{x}<br>count=%{y}<extra></extra>\",\"legendgroup\":\"Alexandre Frota\",\"marker\":{\"color\":\"#19d3f3\",\"pattern\":{\"shape\":\"\"}},\"name\":\"Alexandre Frota\",\"offsetgroup\":\"Alexandre Frota\",\"orientation\":\"v\",\"showlegend\":true,\"textposition\":\"auto\",\"x\":[\"Alexandre Frota\"],\"xaxis\":\"x\",\"y\":[1],\"yaxis\":\"y\",\"type\":\"bar\"},{\"alignmentgroup\":\"True\",\"hovertemplate\":\"Voto=%{x}<br>count=%{y}<extra></extra>\",\"legendgroup\":\"Andr\\u00e9 Janones\",\"marker\":{\"color\":\"#FF6692\",\"pattern\":{\"shape\":\"\"}},\"name\":\"Andr\\u00e9 Janones\",\"offsetgroup\":\"Andr\\u00e9 Janones\",\"orientation\":\"v\",\"showlegend\":true,\"textposition\":\"auto\",\"x\":[\"Andr\\u00e9 Janones\"],\"xaxis\":\"x\",\"y\":[1],\"yaxis\":\"y\",\"type\":\"bar\"},{\"alignmentgroup\":\"True\",\"hovertemplate\":\"Voto=%{x}<br>count=%{y}<extra></extra>\",\"legendgroup\":\"General Peternelli\",\"marker\":{\"color\":\"#B6E880\",\"pattern\":{\"shape\":\"\"}},\"name\":\"General Peternelli\",\"offsetgroup\":\"General Peternelli\",\"orientation\":\"v\",\"showlegend\":true,\"textposition\":\"auto\",\"x\":[\"General Peternelli\"],\"xaxis\":\"x\",\"y\":[1],\"yaxis\":\"y\",\"type\":\"bar\"},{\"alignmentgroup\":\"True\",\"hovertemplate\":\"Voto=%{x}<br>count=%{y}<extra></extra>\",\"legendgroup\":\"N\\u00e3o quis responder\",\"marker\":{\"color\":\"#FF97FF\",\"pattern\":{\"shape\":\"\"}},\"name\":\"N\\u00e3o quis responder\",\"offsetgroup\":\"N\\u00e3o quis responder\",\"orientation\":\"v\",\"showlegend\":true,\"textposition\":\"auto\",\"x\":[\"N\\u00e3o quis responder\",\"N\\u00e3o quis responder\",\"N\\u00e3o quis responder\",\"N\\u00e3o quis responder\",\"N\\u00e3o quis responder\",\"N\\u00e3o quis responder\",\"N\\u00e3o quis responder\",\"N\\u00e3o quis responder\",\"N\\u00e3o quis responder\",\"N\\u00e3o quis responder\",\"N\\u00e3o quis responder\",\"N\\u00e3o quis responder\",\"N\\u00e3o quis responder\",\"N\\u00e3o quis responder\",\"N\\u00e3o quis responder\",\"N\\u00e3o quis responder\",\"N\\u00e3o quis responder\",\"N\\u00e3o quis responder\",\"N\\u00e3o quis responder\",\"N\\u00e3o quis responder\",\"N\\u00e3o quis responder\",\"N\\u00e3o quis responder\",\"N\\u00e3o quis responder\",\"N\\u00e3o quis responder\",\"N\\u00e3o quis responder\",\"N\\u00e3o quis responder\",\"N\\u00e3o quis responder\",\"N\\u00e3o quis responder\",\"N\\u00e3o quis responder\",\"N\\u00e3o quis responder\",\"N\\u00e3o quis responder\",\"N\\u00e3o quis responder\",\"N\\u00e3o quis responder\",\"N\\u00e3o quis responder\",\"N\\u00e3o quis responder\",\"N\\u00e3o quis responder\",\"N\\u00e3o quis responder\",\"N\\u00e3o quis responder\",\"N\\u00e3o quis responder\",\"N\\u00e3o quis responder\",\"N\\u00e3o quis responder\",\"N\\u00e3o quis responder\",\"N\\u00e3o quis responder\",\"N\\u00e3o quis responder\",\"N\\u00e3o quis responder\",\"N\\u00e3o quis responder\",\"N\\u00e3o quis responder\",\"N\\u00e3o quis responder\",\"N\\u00e3o quis responder\",\"N\\u00e3o quis responder\",\"N\\u00e3o quis responder\",\"N\\u00e3o quis responder\",\"N\\u00e3o quis responder\",\"N\\u00e3o quis responder\",\"N\\u00e3o quis responder\",\"N\\u00e3o quis responder\",\"N\\u00e3o quis responder\",\"N\\u00e3o quis responder\",\"N\\u00e3o quis responder\",\"N\\u00e3o quis responder\",\"N\\u00e3o quis responder\",\"N\\u00e3o quis responder\",\"N\\u00e3o quis responder\",\"N\\u00e3o quis responder\",\"N\\u00e3o quis responder\",\"N\\u00e3o quis responder\",\"N\\u00e3o quis responder\",\"N\\u00e3o quis responder\",\"N\\u00e3o quis responder\",\"N\\u00e3o quis responder\",\"N\\u00e3o quis responder\",\"N\\u00e3o quis responder\",\"N\\u00e3o quis responder\",\"N\\u00e3o quis responder\",\"N\\u00e3o quis responder\",\"N\\u00e3o quis responder\",\"N\\u00e3o quis responder\",\"N\\u00e3o quis responder\",\"N\\u00e3o quis responder\",\"N\\u00e3o quis responder\",\"N\\u00e3o quis responder\",\"N\\u00e3o quis responder\",\"N\\u00e3o quis responder\",\"N\\u00e3o quis responder\",\"N\\u00e3o quis responder\",\"N\\u00e3o quis responder\",\"N\\u00e3o quis responder\",\"N\\u00e3o quis responder\",\"N\\u00e3o quis responder\",\"N\\u00e3o quis responder\",\"N\\u00e3o quis responder\",\"N\\u00e3o quis responder\",\"N\\u00e3o quis responder\",\"N\\u00e3o quis responder\",\"N\\u00e3o quis responder\",\"N\\u00e3o quis responder\",\"N\\u00e3o quis responder\",\"N\\u00e3o quis responder\",\"N\\u00e3o quis responder\",\"N\\u00e3o quis responder\",\"N\\u00e3o quis responder\",\"N\\u00e3o quis responder\",\"N\\u00e3o quis responder\",\"N\\u00e3o quis responder\",\"N\\u00e3o quis responder\",\"N\\u00e3o quis responder\",\"N\\u00e3o quis responder\",\"N\\u00e3o quis responder\",\"N\\u00e3o quis responder\",\"N\\u00e3o quis responder\",\"N\\u00e3o quis responder\"],\"xaxis\":\"x\",\"y\":[1,1,1,1,1,1,1,1,1,1,1,1,1,1,1,1,1,1,1,1,1,1,1,1,1,1,1,1,1,1,1,1,1,1,1,1,1,1,1,1,1,1,1,1,1,1,1,1,1,1,1,1,1,1,1,1,1,1,1,1,1,1,1,1,1,1,1,1,1,1,1,1,1,1,1,1,1,1,1,1,1,1,1,1,1,1,1,1,1,1,1,1,1,1,1,1,1,1,1,1,1,1,1,1,1,1,1,1,1,1,1],\"yaxis\":\"y\",\"type\":\"bar\"},{\"alignmentgroup\":\"True\",\"hovertemplate\":\"Voto=%{x}<br>count=%{y}<extra></extra>\",\"legendgroup\":\"N\\u00e3o foi encontrado\",\"marker\":{\"color\":\"#FECB52\",\"pattern\":{\"shape\":\"\"}},\"name\":\"N\\u00e3o foi encontrado\",\"offsetgroup\":\"N\\u00e3o foi encontrado\",\"orientation\":\"v\",\"showlegend\":true,\"textposition\":\"auto\",\"x\":[\"N\\u00e3o foi encontrado\",\"N\\u00e3o foi encontrado\",\"N\\u00e3o foi encontrado\",\"N\\u00e3o foi encontrado\",\"N\\u00e3o foi encontrado\",\"N\\u00e3o foi encontrado\",\"N\\u00e3o foi encontrado\",\"N\\u00e3o foi encontrado\",\"N\\u00e3o foi encontrado\",\"N\\u00e3o foi encontrado\"],\"xaxis\":\"x\",\"y\":[1,1,1,1,1,1,1,1,1,1],\"yaxis\":\"y\",\"type\":\"bar\"}],                        {\"template\":{\"data\":{\"histogram2dcontour\":[{\"type\":\"histogram2dcontour\",\"colorbar\":{\"outlinewidth\":0,\"ticks\":\"\"},\"colorscale\":[[0.0,\"#0d0887\"],[0.1111111111111111,\"#46039f\"],[0.2222222222222222,\"#7201a8\"],[0.3333333333333333,\"#9c179e\"],[0.4444444444444444,\"#bd3786\"],[0.5555555555555556,\"#d8576b\"],[0.6666666666666666,\"#ed7953\"],[0.7777777777777778,\"#fb9f3a\"],[0.8888888888888888,\"#fdca26\"],[1.0,\"#f0f921\"]]}],\"choropleth\":[{\"type\":\"choropleth\",\"colorbar\":{\"outlinewidth\":0,\"ticks\":\"\"}}],\"histogram2d\":[{\"type\":\"histogram2d\",\"colorbar\":{\"outlinewidth\":0,\"ticks\":\"\"},\"colorscale\":[[0.0,\"#0d0887\"],[0.1111111111111111,\"#46039f\"],[0.2222222222222222,\"#7201a8\"],[0.3333333333333333,\"#9c179e\"],[0.4444444444444444,\"#bd3786\"],[0.5555555555555556,\"#d8576b\"],[0.6666666666666666,\"#ed7953\"],[0.7777777777777778,\"#fb9f3a\"],[0.8888888888888888,\"#fdca26\"],[1.0,\"#f0f921\"]]}],\"heatmap\":[{\"type\":\"heatmap\",\"colorbar\":{\"outlinewidth\":0,\"ticks\":\"\"},\"colorscale\":[[0.0,\"#0d0887\"],[0.1111111111111111,\"#46039f\"],[0.2222222222222222,\"#7201a8\"],[0.3333333333333333,\"#9c179e\"],[0.4444444444444444,\"#bd3786\"],[0.5555555555555556,\"#d8576b\"],[0.6666666666666666,\"#ed7953\"],[0.7777777777777778,\"#fb9f3a\"],[0.8888888888888888,\"#fdca26\"],[1.0,\"#f0f921\"]]}],\"heatmapgl\":[{\"type\":\"heatmapgl\",\"colorbar\":{\"outlinewidth\":0,\"ticks\":\"\"},\"colorscale\":[[0.0,\"#0d0887\"],[0.1111111111111111,\"#46039f\"],[0.2222222222222222,\"#7201a8\"],[0.3333333333333333,\"#9c179e\"],[0.4444444444444444,\"#bd3786\"],[0.5555555555555556,\"#d8576b\"],[0.6666666666666666,\"#ed7953\"],[0.7777777777777778,\"#fb9f3a\"],[0.8888888888888888,\"#fdca26\"],[1.0,\"#f0f921\"]]}],\"contourcarpet\":[{\"type\":\"contourcarpet\",\"colorbar\":{\"outlinewidth\":0,\"ticks\":\"\"}}],\"contour\":[{\"type\":\"contour\",\"colorbar\":{\"outlinewidth\":0,\"ticks\":\"\"},\"colorscale\":[[0.0,\"#0d0887\"],[0.1111111111111111,\"#46039f\"],[0.2222222222222222,\"#7201a8\"],[0.3333333333333333,\"#9c179e\"],[0.4444444444444444,\"#bd3786\"],[0.5555555555555556,\"#d8576b\"],[0.6666666666666666,\"#ed7953\"],[0.7777777777777778,\"#fb9f3a\"],[0.8888888888888888,\"#fdca26\"],[1.0,\"#f0f921\"]]}],\"surface\":[{\"type\":\"surface\",\"colorbar\":{\"outlinewidth\":0,\"ticks\":\"\"},\"colorscale\":[[0.0,\"#0d0887\"],[0.1111111111111111,\"#46039f\"],[0.2222222222222222,\"#7201a8\"],[0.3333333333333333,\"#9c179e\"],[0.4444444444444444,\"#bd3786\"],[0.5555555555555556,\"#d8576b\"],[0.6666666666666666,\"#ed7953\"],[0.7777777777777778,\"#fb9f3a\"],[0.8888888888888888,\"#fdca26\"],[1.0,\"#f0f921\"]]}],\"mesh3d\":[{\"type\":\"mesh3d\",\"colorbar\":{\"outlinewidth\":0,\"ticks\":\"\"}}],\"scatter\":[{\"fillpattern\":{\"fillmode\":\"overlay\",\"size\":10,\"solidity\":0.2},\"type\":\"scatter\"}],\"parcoords\":[{\"type\":\"parcoords\",\"line\":{\"colorbar\":{\"outlinewidth\":0,\"ticks\":\"\"}}}],\"scatterpolargl\":[{\"type\":\"scatterpolargl\",\"marker\":{\"colorbar\":{\"outlinewidth\":0,\"ticks\":\"\"}}}],\"bar\":[{\"error_x\":{\"color\":\"#2a3f5f\"},\"error_y\":{\"color\":\"#2a3f5f\"},\"marker\":{\"line\":{\"color\":\"#E5ECF6\",\"width\":0.5},\"pattern\":{\"fillmode\":\"overlay\",\"size\":10,\"solidity\":0.2}},\"type\":\"bar\"}],\"scattergeo\":[{\"type\":\"scattergeo\",\"marker\":{\"colorbar\":{\"outlinewidth\":0,\"ticks\":\"\"}}}],\"scatterpolar\":[{\"type\":\"scatterpolar\",\"marker\":{\"colorbar\":{\"outlinewidth\":0,\"ticks\":\"\"}}}],\"histogram\":[{\"marker\":{\"pattern\":{\"fillmode\":\"overlay\",\"size\":10,\"solidity\":0.2}},\"type\":\"histogram\"}],\"scattergl\":[{\"type\":\"scattergl\",\"marker\":{\"colorbar\":{\"outlinewidth\":0,\"ticks\":\"\"}}}],\"scatter3d\":[{\"type\":\"scatter3d\",\"line\":{\"colorbar\":{\"outlinewidth\":0,\"ticks\":\"\"}},\"marker\":{\"colorbar\":{\"outlinewidth\":0,\"ticks\":\"\"}}}],\"scattermapbox\":[{\"type\":\"scattermapbox\",\"marker\":{\"colorbar\":{\"outlinewidth\":0,\"ticks\":\"\"}}}],\"scatterternary\":[{\"type\":\"scatterternary\",\"marker\":{\"colorbar\":{\"outlinewidth\":0,\"ticks\":\"\"}}}],\"scattercarpet\":[{\"type\":\"scattercarpet\",\"marker\":{\"colorbar\":{\"outlinewidth\":0,\"ticks\":\"\"}}}],\"carpet\":[{\"aaxis\":{\"endlinecolor\":\"#2a3f5f\",\"gridcolor\":\"white\",\"linecolor\":\"white\",\"minorgridcolor\":\"white\",\"startlinecolor\":\"#2a3f5f\"},\"baxis\":{\"endlinecolor\":\"#2a3f5f\",\"gridcolor\":\"white\",\"linecolor\":\"white\",\"minorgridcolor\":\"white\",\"startlinecolor\":\"#2a3f5f\"},\"type\":\"carpet\"}],\"table\":[{\"cells\":{\"fill\":{\"color\":\"#EBF0F8\"},\"line\":{\"color\":\"white\"}},\"header\":{\"fill\":{\"color\":\"#C8D4E3\"},\"line\":{\"color\":\"white\"}},\"type\":\"table\"}],\"barpolar\":[{\"marker\":{\"line\":{\"color\":\"#E5ECF6\",\"width\":0.5},\"pattern\":{\"fillmode\":\"overlay\",\"size\":10,\"solidity\":0.2}},\"type\":\"barpolar\"}],\"pie\":[{\"automargin\":true,\"type\":\"pie\"}]},\"layout\":{\"autotypenumbers\":\"strict\",\"colorway\":[\"#636efa\",\"#EF553B\",\"#00cc96\",\"#ab63fa\",\"#FFA15A\",\"#19d3f3\",\"#FF6692\",\"#B6E880\",\"#FF97FF\",\"#FECB52\"],\"font\":{\"color\":\"#2a3f5f\"},\"hovermode\":\"closest\",\"hoverlabel\":{\"align\":\"left\"},\"paper_bgcolor\":\"white\",\"plot_bgcolor\":\"#E5ECF6\",\"polar\":{\"bgcolor\":\"#E5ECF6\",\"angularaxis\":{\"gridcolor\":\"white\",\"linecolor\":\"white\",\"ticks\":\"\"},\"radialaxis\":{\"gridcolor\":\"white\",\"linecolor\":\"white\",\"ticks\":\"\"}},\"ternary\":{\"bgcolor\":\"#E5ECF6\",\"aaxis\":{\"gridcolor\":\"white\",\"linecolor\":\"white\",\"ticks\":\"\"},\"baxis\":{\"gridcolor\":\"white\",\"linecolor\":\"white\",\"ticks\":\"\"},\"caxis\":{\"gridcolor\":\"white\",\"linecolor\":\"white\",\"ticks\":\"\"}},\"coloraxis\":{\"colorbar\":{\"outlinewidth\":0,\"ticks\":\"\"}},\"colorscale\":{\"sequential\":[[0.0,\"#0d0887\"],[0.1111111111111111,\"#46039f\"],[0.2222222222222222,\"#7201a8\"],[0.3333333333333333,\"#9c179e\"],[0.4444444444444444,\"#bd3786\"],[0.5555555555555556,\"#d8576b\"],[0.6666666666666666,\"#ed7953\"],[0.7777777777777778,\"#fb9f3a\"],[0.8888888888888888,\"#fdca26\"],[1.0,\"#f0f921\"]],\"sequentialminus\":[[0.0,\"#0d0887\"],[0.1111111111111111,\"#46039f\"],[0.2222222222222222,\"#7201a8\"],[0.3333333333333333,\"#9c179e\"],[0.4444444444444444,\"#bd3786\"],[0.5555555555555556,\"#d8576b\"],[0.6666666666666666,\"#ed7953\"],[0.7777777777777778,\"#fb9f3a\"],[0.8888888888888888,\"#fdca26\"],[1.0,\"#f0f921\"]],\"diverging\":[[0,\"#8e0152\"],[0.1,\"#c51b7d\"],[0.2,\"#de77ae\"],[0.3,\"#f1b6da\"],[0.4,\"#fde0ef\"],[0.5,\"#f7f7f7\"],[0.6,\"#e6f5d0\"],[0.7,\"#b8e186\"],[0.8,\"#7fbc41\"],[0.9,\"#4d9221\"],[1,\"#276419\"]]},\"xaxis\":{\"gridcolor\":\"white\",\"linecolor\":\"white\",\"ticks\":\"\",\"title\":{\"standoff\":15},\"zerolinecolor\":\"white\",\"automargin\":true,\"zerolinewidth\":2},\"yaxis\":{\"gridcolor\":\"white\",\"linecolor\":\"white\",\"ticks\":\"\",\"title\":{\"standoff\":15},\"zerolinecolor\":\"white\",\"automargin\":true,\"zerolinewidth\":2},\"scene\":{\"xaxis\":{\"backgroundcolor\":\"#E5ECF6\",\"gridcolor\":\"white\",\"linecolor\":\"white\",\"showbackground\":true,\"ticks\":\"\",\"zerolinecolor\":\"white\",\"gridwidth\":2},\"yaxis\":{\"backgroundcolor\":\"#E5ECF6\",\"gridcolor\":\"white\",\"linecolor\":\"white\",\"showbackground\":true,\"ticks\":\"\",\"zerolinecolor\":\"white\",\"gridwidth\":2},\"zaxis\":{\"backgroundcolor\":\"#E5ECF6\",\"gridcolor\":\"white\",\"linecolor\":\"white\",\"showbackground\":true,\"ticks\":\"\",\"zerolinecolor\":\"white\",\"gridwidth\":2}},\"shapedefaults\":{\"line\":{\"color\":\"#2a3f5f\"}},\"annotationdefaults\":{\"arrowcolor\":\"#2a3f5f\",\"arrowhead\":0,\"arrowwidth\":1},\"geo\":{\"bgcolor\":\"white\",\"landcolor\":\"#E5ECF6\",\"subunitcolor\":\"white\",\"showland\":true,\"showlakes\":true,\"lakecolor\":\"white\"},\"title\":{\"x\":0.05},\"mapbox\":{\"style\":\"light\"}}},\"xaxis\":{\"anchor\":\"y\",\"domain\":[0.0,1.0],\"title\":{\"text\":\"Voto\"},\"categoryorder\":\"array\",\"categoryarray\":[\"Arthur Lira\",\"Baleia Rossi\",\"Luiza Erundina\",\"Van Hattem\",\"F\\u00e1bio Ramalho\",\"Alexandre Frota\",\"Andr\\u00e9 Janones\",\"General Peternelli\",\"N\\u00e3o quis responder\",\"N\\u00e3o foi encontrado\"]},\"yaxis\":{\"anchor\":\"x\",\"domain\":[0.0,1.0],\"title\":{\"text\":\"count\"}},\"legend\":{\"title\":{\"text\":\"Voto\"},\"tracegroupgap\":0},\"margin\":{\"t\":60},\"barmode\":\"relative\"},                        {\"responsive\": true}                    ).then(function(){\n",
       "                            \n",
       "var gd = document.getElementById('ee57cedd-ca38-4a60-a2ef-8f78258eab43');\n",
       "var x = new MutationObserver(function (mutations, observer) {{\n",
       "        var display = window.getComputedStyle(gd).display;\n",
       "        if (!display || display === 'none') {{\n",
       "            console.log([gd, 'removed!']);\n",
       "            Plotly.purge(gd);\n",
       "            observer.disconnect();\n",
       "        }}\n",
       "}});\n",
       "\n",
       "// Listen for the removal of the full notebook cells\n",
       "var notebookContainer = gd.closest('#notebook-container');\n",
       "if (notebookContainer) {{\n",
       "    x.observe(notebookContainer, {childList: true});\n",
       "}}\n",
       "\n",
       "// Listen for the clearing of the current output cell\n",
       "var outputEl = gd.closest('.output');\n",
       "if (outputEl) {{\n",
       "    x.observe(outputEl, {childList: true});\n",
       "}}\n",
       "\n",
       "                        })                };                });            </script>        </div>"
      ]
     },
     "metadata": {},
     "output_type": "display_data"
    }
   ],
   "source": [
    "grafico_barra = plx.bar(dados_eleicao_df,x= dados_eleicao_df['Voto'], color=dados_eleicao_df['Voto'])\n",
    "grafico_barra"
   ]
  },
  {
   "cell_type": "code",
   "execution_count": 76,
   "id": "63437cde",
   "metadata": {},
   "outputs": [
    {
     "data": {
      "image/png": "[encoded data removed]",
      "text/plain": [
       "<Figure size 1152x576 with 1 Axes>"
      ]
     },
     "metadata": {
      "needs_background": "light"
     },
     "output_type": "display_data"
    }
   ],
   "source": [
    "\n",
    "\n",
    "plt.figure(figsize=(16,8))\n",
    "sns.barplot(x = numero_voto['Voto'],y =numero_voto.index,orient='h', palette='terrain')\n",
    "\n",
    "\n",
    "for i in range(len(numero_voto.index)):\n",
    "    \n",
    "    plt.text(4.0, \n",
    "             i + 0.25, \n",
    "             str(numero_voto['Voto'][numero_voto.index[i]]) + \" Votos\")   \n",
    "    \n",
    "    \n",
    "\n",
    "\n",
    "\n",
    "plt.ylabel('Cadidato')\n",
    "plt.xlabel('Numero de Votos')\n",
    "plt.title('Eleição Camara')\n",
    "plt.show()\n",
    "\n"
   ]
  },
  {
   "cell_type": "code",
   "execution_count": 26,
   "id": "2f98c06b",
   "metadata": {},
   "outputs": [
    {
     "data": {
      "application/vnd.plotly.v1+json": {
       "config": {
        "plotlyServerURL": "https://plot.ly"
       },
       "data": [
        {
         "domain": {
          "x": [
           0,
           1
          ],
          "y": [
           0,
           1
          ]
         },
         "hovertemplate": "Voto=%{label}<extra></extra>",
         "labels": [
          "Arthur Lira",
          "Arthur Lira",
          "Arthur Lira",
          "Arthur Lira",
          "Arthur Lira",
          "Arthur Lira",
          "Arthur Lira",
          "Arthur Lira",
          "Arthur Lira",
          "Arthur Lira",
          "Arthur Lira",
          "Arthur Lira",
          "Arthur Lira",
          "Arthur Lira",
          "Arthur Lira",
          "Arthur Lira",
          "Arthur Lira",
          "Arthur Lira",
          "Arthur Lira",
          "Arthur Lira",
          "Arthur Lira",
          "Arthur Lira",
          "Arthur Lira",
          "Arthur Lira",
          "Arthur Lira",
          "Arthur Lira",
          "Arthur Lira",
          "Arthur Lira",
          "Arthur Lira",
          "Arthur Lira",
          "Arthur Lira",
          "Arthur Lira",
          "Arthur Lira",
          "Arthur Lira",
          "Arthur Lira",
          "Arthur Lira",
          "Arthur Lira",
          "Arthur Lira",
          "Arthur Lira",
          "Arthur Lira",
          "Arthur Lira",
          "Arthur Lira",
          "Arthur Lira",
          "Arthur Lira",
          "Arthur Lira",
          "Arthur Lira",
          "Arthur Lira",
          "Arthur Lira",
          "Arthur Lira",
          "Arthur Lira",
          "Arthur Lira",
          "Arthur Lira",
          "Arthur Lira",
          "Arthur Lira",
          "Arthur Lira",
          "Arthur Lira",
          "Arthur Lira",
          "Arthur Lira",
          "Arthur Lira",
          "Arthur Lira",
          "Arthur Lira",
          "Arthur Lira",
          "Arthur Lira",
          "Arthur Lira",
          "Arthur Lira",
          "Arthur Lira",
          "Arthur Lira",
          "Arthur Lira",
          "Arthur Lira",
          "Arthur Lira",
          "Arthur Lira",
          "Arthur Lira",
          "Arthur Lira",
          "Arthur Lira",
          "Arthur Lira",
          "Arthur Lira",
          "Arthur Lira",
          "Arthur Lira",
          "Arthur Lira",
          "Arthur Lira",
          "Arthur Lira",
          "Arthur Lira",
          "Arthur Lira",
          "Arthur Lira",
          "Arthur Lira",
          "Arthur Lira",
          "Arthur Lira",
          "Arthur Lira",
          "Arthur Lira",
          "Arthur Lira",
          "Arthur Lira",
          "Arthur Lira",
          "Arthur Lira",
          "Arthur Lira",
          "Arthur Lira",
          "Arthur Lira",
          "Arthur Lira",
          "Arthur Lira",
          "Arthur Lira",
          "Arthur Lira",
          "Arthur Lira",
          "Arthur Lira",
          "Arthur Lira",
          "Arthur Lira",
          "Arthur Lira",
          "Arthur Lira",
          "Arthur Lira",
          "Arthur Lira",
          "Arthur Lira",
          "Arthur Lira",
          "Arthur Lira",
          "Arthur Lira",
          "Arthur Lira",
          "Arthur Lira",
          "Arthur Lira",
          "Arthur Lira",
          "Arthur Lira",
          "Arthur Lira",
          "Arthur Lira",
          "Arthur Lira",
          "Arthur Lira",
          "Arthur Lira",
          "Arthur Lira",
          "Arthur Lira",
          "Arthur Lira",
          "Arthur Lira",
          "Arthur Lira",
          "Arthur Lira",
          "Arthur Lira",
          "Arthur Lira",
          "Arthur Lira",
          "Arthur Lira",
          "Arthur Lira",
          "Arthur Lira",
          "Arthur Lira",
          "Arthur Lira",
          "Arthur Lira",
          "Arthur Lira",
          "Arthur Lira",
          "Arthur Lira",
          "Arthur Lira",
          "Arthur Lira",
          "Arthur Lira",
          "Arthur Lira",
          "Arthur Lira",
          "Arthur Lira",
          "Arthur Lira",
          "Arthur Lira",
          "Arthur Lira",
          "Arthur Lira",
          "Arthur Lira",
          "Arthur Lira",
          "Arthur Lira",
          "Arthur Lira",
          "Arthur Lira",
          "Arthur Lira",
          "Arthur Lira",
          "Arthur Lira",
          "Arthur Lira",
          "Arthur Lira",
          "Arthur Lira",
          "Arthur Lira",
          "Arthur Lira",
          "Arthur Lira",
          "Arthur Lira",
          "Arthur Lira",
          "Arthur Lira",
          "Arthur Lira",
          "Arthur Lira",
          "Arthur Lira",
          "Arthur Lira",
          "Arthur Lira",
          "Arthur Lira",
          "Arthur Lira",
          "Arthur Lira",
          "Arthur Lira",
          "Arthur Lira",
          "Arthur Lira",
          "Arthur Lira",
          "Arthur Lira",
          "Arthur Lira",
          "Arthur Lira",
          "Arthur Lira",
          "Arthur Lira",
          "Arthur Lira",
          "Arthur Lira",
          "Arthur Lira",
          "Arthur Lira",
          "Arthur Lira",
          "Arthur Lira",
          "Arthur Lira",
          "Arthur Lira",
          "Arthur Lira",
          "Arthur Lira",
          "Arthur Lira",
          "Arthur Lira",
          "Arthur Lira",
          "Arthur Lira",
          "Arthur Lira",
          "Arthur Lira",
          "Arthur Lira",
          "Arthur Lira",
          "Arthur Lira",
          "Arthur Lira",
          "Arthur Lira",
          "Arthur Lira",
          "Arthur Lira",
          "Arthur Lira",
          "Arthur Lira",
          "Arthur Lira",
          "Arthur Lira",
          "Arthur Lira",
          "Arthur Lira",
          "Arthur Lira",
          "Arthur Lira",
          "Arthur Lira",
          "Arthur Lira",
          "Arthur Lira",
          "Arthur Lira",
          "Arthur Lira",
          "Arthur Lira",
          "Arthur Lira",
          "Arthur Lira",
          "Arthur Lira",
          "Arthur Lira",
          "Arthur Lira",
          "Arthur Lira",
          "Arthur Lira",
          "Arthur Lira",
          "Arthur Lira",
          "Arthur Lira",
          "Arthur Lira",
          "Arthur Lira",
          "Arthur Lira",
          "Arthur Lira",
          "Arthur Lira",
          "Arthur Lira",
          "Baleia Rossi",
          "Baleia Rossi",
          "Baleia Rossi",
          "Baleia Rossi",
          "Baleia Rossi",
          "Baleia Rossi",
          "Baleia Rossi",
          "Baleia Rossi",
          "Baleia Rossi",
          "Baleia Rossi",
          "Baleia Rossi",
          "Baleia Rossi",
          "Baleia Rossi",
          "Baleia Rossi",
          "Baleia Rossi",
          "Baleia Rossi",
          "Baleia Rossi",
          "Baleia Rossi",
          "Baleia Rossi",
          "Baleia Rossi",
          "Baleia Rossi",
          "Baleia Rossi",
          "Baleia Rossi",
          "Baleia Rossi",
          "Baleia Rossi",
          "Baleia Rossi",
          "Baleia Rossi",
          "Baleia Rossi",
          "Baleia Rossi",
          "Baleia Rossi",
          "Baleia Rossi",
          "Baleia Rossi",
          "Baleia Rossi",
          "Baleia Rossi",
          "Baleia Rossi",
          "Baleia Rossi",
          "Baleia Rossi",
          "Baleia Rossi",
          "Baleia Rossi",
          "Baleia Rossi",
          "Baleia Rossi",
          "Baleia Rossi",
          "Baleia Rossi",
          "Baleia Rossi",
          "Baleia Rossi",
          "Baleia Rossi",
          "Baleia Rossi",
          "Baleia Rossi",
          "Baleia Rossi",
          "Baleia Rossi",
          "Baleia Rossi",
          "Baleia Rossi",
          "Baleia Rossi",
          "Baleia Rossi",
          "Baleia Rossi",
          "Baleia Rossi",
          "Baleia Rossi",
          "Baleia Rossi",
          "Baleia Rossi",
          "Baleia Rossi",
          "Baleia Rossi",
          "Baleia Rossi",
          "Baleia Rossi",
          "Baleia Rossi",
          "Baleia Rossi",
          "Baleia Rossi",
          "Baleia Rossi",
          "Baleia Rossi",
          "Baleia Rossi",
          "Baleia Rossi",
          "Baleia Rossi",
          "Baleia Rossi",
          "Baleia Rossi",
          "Baleia Rossi",
          "Baleia Rossi",
          "Baleia Rossi",
          "Baleia Rossi",
          "Baleia Rossi",
          "Baleia Rossi",
          "Baleia Rossi",
          "Baleia Rossi",
          "Baleia Rossi",
          "Baleia Rossi",
          "Baleia Rossi",
          "Baleia Rossi",
          "Baleia Rossi",
          "Baleia Rossi",
          "Baleia Rossi",
          "Baleia Rossi",
          "Baleia Rossi",
          "Baleia Rossi",
          "Baleia Rossi",
          "Baleia Rossi",
          "Baleia Rossi",
          "Baleia Rossi",
          "Baleia Rossi",
          "Baleia Rossi",
          "Baleia Rossi",
          "Baleia Rossi",
          "Baleia Rossi",
          "Baleia Rossi",
          "Baleia Rossi",
          "Baleia Rossi",
          "Baleia Rossi",
          "Baleia Rossi",
          "Baleia Rossi",
          "Baleia Rossi",
          "Baleia Rossi",
          "Baleia Rossi",
          "Baleia Rossi",
          "Baleia Rossi",
          "Baleia Rossi",
          "Baleia Rossi",
          "Baleia Rossi",
          "Baleia Rossi",
          "Baleia Rossi",
          "Baleia Rossi",
          "Baleia Rossi",
          "Baleia Rossi",
          "Baleia Rossi",
          "Baleia Rossi",
          "Baleia Rossi",
          "Baleia Rossi",
          "Baleia Rossi",
          "Baleia Rossi",
          "Baleia Rossi",
          "Baleia Rossi",
          "Baleia Rossi",
          "Baleia Rossi",
          "Baleia Rossi",
          "Baleia Rossi",
          "Baleia Rossi",
          "Baleia Rossi",
          "Luiza Erundina",
          "Luiza Erundina",
          "Luiza Erundina",
          "Luiza Erundina",
          "Luiza Erundina",
          "Luiza Erundina",
          "Luiza Erundina",
          "Luiza Erundina",
          "Luiza Erundina",
          "Van Hattem",
          "Van Hattem",
          "Van Hattem",
          "Van Hattem",
          "Van Hattem",
          "Van Hattem",
          "Van Hattem",
          "Van Hattem",
          "Fábio Ramalho",
          "Fábio Ramalho",
          "Alexandre Frota",
          "André Janones",
          "General Peternelli",
          "Não quis responder",
          "Não quis responder",
          "Não quis responder",
          "Não quis responder",
          "Não quis responder",
          "Não quis responder",
          "Não quis responder",
          "Não quis responder",
          "Não quis responder",
          "Não quis responder",
          "Não quis responder",
          "Não quis responder",
          "Não quis responder",
          "Não quis responder",
          "Não quis responder",
          "Não quis responder",
          "Não quis responder",
          "Não quis responder",
          "Não quis responder",
          "Não quis responder",
          "Não quis responder",
          "Não quis responder",
          "Não quis responder",
          "Não quis responder",
          "Não quis responder",
          "Não quis responder",
          "Não quis responder",
          "Não quis responder",
          "Não quis responder",
          "Não quis responder",
          "Não quis responder",
          "Não quis responder",
          "Não quis responder",
          "Não quis responder",
          "Não quis responder",
          "Não quis responder",
          "Não quis responder",
          "Não quis responder",
          "Não quis responder",
          "Não quis responder",
          "Não quis responder",
          "Não quis responder",
          "Não quis responder",
          "Não quis responder",
          "Não quis responder",
          "Não quis responder",
          "Não quis responder",
          "Não quis responder",
          "Não quis responder",
          "Não quis responder",
          "Não quis responder",
          "Não quis responder",
          "Não quis responder",
          "Não quis responder",
          "Não quis responder",
          "Não quis responder",
          "Não quis responder",
          "Não quis responder",
          "Não quis responder",
          "Não quis responder",
          "Não quis responder",
          "Não quis responder",
          "Não quis responder",
          "Não quis responder",
          "Não quis responder",
          "Não quis responder",
          "Não quis responder",
          "Não quis responder",
          "Não quis responder",
          "Não quis responder",
          "Não quis responder",
          "Não quis responder",
          "Não quis responder",
          "Não quis responder",
          "Não quis responder",
          "Não quis responder",
          "Não quis responder",
          "Não quis responder",
          "Não quis responder",
          "Não quis responder",
          "Não quis responder",
          "Não quis responder",
          "Não quis responder",
          "Não quis responder",
          "Não quis responder",
          "Não quis responder",
          "Não quis responder",
          "Não quis responder",
          "Não quis responder",
          "Não quis responder",
          "Não quis responder",
          "Não quis responder",
          "Não quis responder",
          "Não quis responder",
          "Não quis responder",
          "Não quis responder",
          "Não quis responder",
          "Não quis responder",
          "Não quis responder",
          "Não quis responder",
          "Não quis responder",
          "Não quis responder",
          "Não quis responder",
          "Não quis responder",
          "Não quis responder",
          "Não quis responder",
          "Não quis responder",
          "Não quis responder",
          "Não quis responder",
          "Não quis responder",
          "Não quis responder",
          "Não foi encontrado",
          "Não foi encontrado",
          "Não foi encontrado",
          "Não foi encontrado",
          "Não foi encontrado",
          "Não foi encontrado",
          "Não foi encontrado",
          "Não foi encontrado",
          "Não foi encontrado",
          "Não foi encontrado"
         ],
         "legendgroup": "",
         "name": "",
         "showlegend": true,
         "type": "pie"
        }
       ],
       "layout": {
        "legend": {
         "tracegroupgap": 0
        },
        "margin": {
         "t": 60
        },
        "template": {
         "data": {
          "bar": [
           {
            "error_x": {
             "color": "#2a3f5f"
            },
            "error_y": {
             "color": "#2a3f5f"
            },
            "marker": {
             "line": {
              "color": "#E5ECF6",
              "width": 0.5
             },
             "pattern": {
              "fillmode": "overlay",
              "size": 10,
              "solidity": 0.2
             }
            },
            "type": "bar"
           }
          ],
          "barpolar": [
           {
            "marker": {
             "line": {
              "color": "#E5ECF6",
              "width": 0.5
             },
             "pattern": {
              "fillmode": "overlay",
              "size": 10,
              "solidity": 0.2
             }
            },
            "type": "barpolar"
           }
          ],
          "carpet": [
           {
            "aaxis": {
             "endlinecolor": "#2a3f5f",
             "gridcolor": "white",
             "linecolor": "white",
             "minorgridcolor": "white",
             "startlinecolor": "#2a3f5f"
            },
            "baxis": {
             "endlinecolor": "#2a3f5f",
             "gridcolor": "white",
             "linecolor": "white",
             "minorgridcolor": "white",
             "startlinecolor": "#2a3f5f"
            },
            "type": "carpet"
           }
          ],
          "choropleth": [
           {
            "colorbar": {
             "outlinewidth": 0,
             "ticks": ""
            },
            "type": "choropleth"
           }
          ],
          "contour": [
           {
            "colorbar": {
             "outlinewidth": 0,
             "ticks": ""
            },
            "colorscale": [
             [
              0,
              "#0d0887"
             ],
             [
              0.1111111111111111,
              "#46039f"
             ],
             [
              0.2222222222222222,
              "#7201a8"
             ],
             [
              0.3333333333333333,
              "#9c179e"
             ],
             [
              0.4444444444444444,
              "#bd3786"
             ],
             [
              0.5555555555555556,
              "#d8576b"
             ],
             [
              0.6666666666666666,
              "#ed7953"
             ],
             [
              0.7777777777777778,
              "#fb9f3a"
             ],
             [
              0.8888888888888888,
              "#fdca26"
             ],
             [
              1,
              "#f0f921"
             ]
            ],
            "type": "contour"
           }
          ],
          "contourcarpet": [
           {
            "colorbar": {
             "outlinewidth": 0,
             "ticks": ""
            },
            "type": "contourcarpet"
           }
          ],
          "heatmap": [
           {
            "colorbar": {
             "outlinewidth": 0,
             "ticks": ""
            },
            "colorscale": [
             [
              0,
              "#0d0887"
             ],
             [
              0.1111111111111111,
              "#46039f"
             ],
             [
              0.2222222222222222,
              "#7201a8"
             ],
             [
              0.3333333333333333,
              "#9c179e"
             ],
             [
              0.4444444444444444,
              "#bd3786"
             ],
             [
              0.5555555555555556,
              "#d8576b"
             ],
             [
              0.6666666666666666,
              "#ed7953"
             ],
             [
              0.7777777777777778,
              "#fb9f3a"
             ],
             [
              0.8888888888888888,
              "#fdca26"
             ],
             [
              1,
              "#f0f921"
             ]
            ],
            "type": "heatmap"
           }
          ],
          "heatmapgl": [
           {
            "colorbar": {
             "outlinewidth": 0,
             "ticks": ""
            },
            "colorscale": [
             [
              0,
              "#0d0887"
             ],
             [
              0.1111111111111111,
              "#46039f"
             ],
             [
              0.2222222222222222,
              "#7201a8"
             ],
             [
              0.3333333333333333,
              "#9c179e"
             ],
             [
              0.4444444444444444,
              "#bd3786"
             ],
             [
              0.5555555555555556,
              "#d8576b"
             ],
             [
              0.6666666666666666,
              "#ed7953"
             ],
             [
              0.7777777777777778,
              "#fb9f3a"
             ],
             [
              0.8888888888888888,
              "#fdca26"
             ],
             [
              1,
              "#f0f921"
             ]
            ],
            "type": "heatmapgl"
           }
          ],
          "histogram": [
           {
            "marker": {
             "pattern": {
              "fillmode": "overlay",
              "size": 10,
              "solidity": 0.2
             }
            },
            "type": "histogram"
           }
          ],
          "histogram2d": [
           {
            "colorbar": {
             "outlinewidth": 0,
             "ticks": ""
            },
            "colorscale": [
             [
              0,
              "#0d0887"
             ],
             [
              0.1111111111111111,
              "#46039f"
             ],
             [
              0.2222222222222222,
              "#7201a8"
             ],
             [
              0.3333333333333333,
              "#9c179e"
             ],
             [
              0.4444444444444444,
              "#bd3786"
             ],
             [
              0.5555555555555556,
              "#d8576b"
             ],
             [
              0.6666666666666666,
              "#ed7953"
             ],
             [
              0.7777777777777778,
              "#fb9f3a"
             ],
             [
              0.8888888888888888,
              "#fdca26"
             ],
             [
              1,
              "#f0f921"
             ]
            ],
            "type": "histogram2d"
           }
          ],
          "histogram2dcontour": [
           {
            "colorbar": {
             "outlinewidth": 0,
             "ticks": ""
            },
            "colorscale": [
             [
              0,
              "#0d0887"
             ],
             [
              0.1111111111111111,
              "#46039f"
             ],
             [
              0.2222222222222222,
              "#7201a8"
             ],
             [
              0.3333333333333333,
              "#9c179e"
             ],
             [
              0.4444444444444444,
              "#bd3786"
             ],
             [
              0.5555555555555556,
              "#d8576b"
             ],
             [
              0.6666666666666666,
              "#ed7953"
             ],
             [
              0.7777777777777778,
              "#fb9f3a"
             ],
             [
              0.8888888888888888,
              "#fdca26"
             ],
             [
              1,
              "#f0f921"
             ]
            ],
            "type": "histogram2dcontour"
           }
          ],
          "mesh3d": [
           {
            "colorbar": {
             "outlinewidth": 0,
             "ticks": ""
            },
            "type": "mesh3d"
           }
          ],
          "parcoords": [
           {
            "line": {
             "colorbar": {
              "outlinewidth": 0,
              "ticks": ""
             }
            },
            "type": "parcoords"
           }
          ],
          "pie": [
           {
            "automargin": true,
            "type": "pie"
           }
          ],
          "scatter": [
           {
            "fillpattern": {
             "fillmode": "overlay",
             "size": 10,
             "solidity": 0.2
            },
            "type": "scatter"
           }
          ],
          "scatter3d": [
           {
            "line": {
             "colorbar": {
              "outlinewidth": 0,
              "ticks": ""
             }
            },
            "marker": {
             "colorbar": {
              "outlinewidth": 0,
              "ticks": ""
             }
            },
            "type": "scatter3d"
           }
          ],
          "scattercarpet": [
           {
            "marker": {
             "colorbar": {
              "outlinewidth": 0,
              "ticks": ""
             }
            },
            "type": "scattercarpet"
           }
          ],
          "scattergeo": [
           {
            "marker": {
             "colorbar": {
              "outlinewidth": 0,
              "ticks": ""
             }
            },
            "type": "scattergeo"
           }
          ],
          "scattergl": [
           {
            "marker": {
             "colorbar": {
              "outlinewidth": 0,
              "ticks": ""
             }
            },
            "type": "scattergl"
           }
          ],
          "scattermapbox": [
           {
            "marker": {
             "colorbar": {
              "outlinewidth": 0,
              "ticks": ""
             }
            },
            "type": "scattermapbox"
           }
          ],
          "scatterpolar": [
           {
            "marker": {
             "colorbar": {
              "outlinewidth": 0,
              "ticks": ""
             }
            },
            "type": "scatterpolar"
           }
          ],
          "scatterpolargl": [
           {
            "marker": {
             "colorbar": {
              "outlinewidth": 0,
              "ticks": ""
             }
            },
            "type": "scatterpolargl"
           }
          ],
          "scatterternary": [
           {
            "marker": {
             "colorbar": {
              "outlinewidth": 0,
              "ticks": ""
             }
            },
            "type": "scatterternary"
           }
          ],
          "surface": [
           {
            "colorbar": {
             "outlinewidth": 0,
             "ticks": ""
            },
            "colorscale": [
             [
              0,
              "#0d0887"
             ],
             [
              0.1111111111111111,
              "#46039f"
             ],
             [
              0.2222222222222222,
              "#7201a8"
             ],
             [
              0.3333333333333333,
              "#9c179e"
             ],
             [
              0.4444444444444444,
              "#bd3786"
             ],
             [
              0.5555555555555556,
              "#d8576b"
             ],
             [
              0.6666666666666666,
              "#ed7953"
             ],
             [
              0.7777777777777778,
              "#fb9f3a"
             ],
             [
              0.8888888888888888,
              "#fdca26"
             ],
             [
              1,
              "#f0f921"
             ]
            ],
            "type": "surface"
           }
          ],
          "table": [
           {
            "cells": {
             "fill": {
              "color": "#EBF0F8"
             },
             "line": {
              "color": "white"
             }
            },
            "header": {
             "fill": {
              "color": "#C8D4E3"
             },
             "line": {
              "color": "white"
             }
            },
            "type": "table"
           }
          ]
         },
         "layout": {
          "annotationdefaults": {
           "arrowcolor": "#2a3f5f",
           "arrowhead": 0,
           "arrowwidth": 1
          },
          "autotypenumbers": "strict",
          "coloraxis": {
           "colorbar": {
            "outlinewidth": 0,
            "ticks": ""
           }
          },
          "colorscale": {
           "diverging": [
            [
             0,
             "#8e0152"
            ],
            [
             0.1,
             "#c51b7d"
            ],
            [
             0.2,
             "#de77ae"
            ],
            [
             0.3,
             "#f1b6da"
            ],
            [
             0.4,
             "#fde0ef"
            ],
            [
             0.5,
             "#f7f7f7"
            ],
            [
             0.6,
             "#e6f5d0"
            ],
            [
             0.7,
             "#b8e186"
            ],
            [
             0.8,
             "#7fbc41"
            ],
            [
             0.9,
             "#4d9221"
            ],
            [
             1,
             "#276419"
            ]
           ],
           "sequential": [
            [
             0,
             "#0d0887"
            ],
            [
             0.1111111111111111,
             "#46039f"
            ],
            [
             0.2222222222222222,
             "#7201a8"
            ],
            [
             0.3333333333333333,
             "#9c179e"
            ],
            [
             0.4444444444444444,
             "#bd3786"
            ],
            [
             0.5555555555555556,
             "#d8576b"
            ],
            [
             0.6666666666666666,
             "#ed7953"
            ],
            [
             0.7777777777777778,
             "#fb9f3a"
            ],
            [
             0.8888888888888888,
             "#fdca26"
            ],
            [
             1,
             "#f0f921"
            ]
           ],
           "sequentialminus": [
            [
             0,
             "#0d0887"
            ],
            [
             0.1111111111111111,
             "#46039f"
            ],
            [
             0.2222222222222222,
             "#7201a8"
            ],
            [
             0.3333333333333333,
             "#9c179e"
            ],
            [
             0.4444444444444444,
             "#bd3786"
            ],
            [
             0.5555555555555556,
             "#d8576b"
            ],
            [
             0.6666666666666666,
             "#ed7953"
            ],
            [
             0.7777777777777778,
             "#fb9f3a"
            ],
            [
             0.8888888888888888,
             "#fdca26"
            ],
            [
             1,
             "#f0f921"
            ]
           ]
          },
          "colorway": [
           "#636efa",
           "#EF553B",
           "#00cc96",
           "#ab63fa",
           "#FFA15A",
           "#19d3f3",
           "#FF6692",
           "#B6E880",
           "#FF97FF",
           "#FECB52"
          ],
          "font": {
           "color": "#2a3f5f"
          },
          "geo": {
           "bgcolor": "white",
           "lakecolor": "white",
           "landcolor": "#E5ECF6",
           "showlakes": true,
           "showland": true,
           "subunitcolor": "white"
          },
          "hoverlabel": {
           "align": "left"
          },
          "hovermode": "closest",
          "mapbox": {
           "style": "light"
          },
          "paper_bgcolor": "white",
          "plot_bgcolor": "#E5ECF6",
          "polar": {
           "angularaxis": {
            "gridcolor": "white",
            "linecolor": "white",
            "ticks": ""
           },
           "bgcolor": "#E5ECF6",
           "radialaxis": {
            "gridcolor": "white",
            "linecolor": "white",
            "ticks": ""
           }
          },
          "scene": {
           "xaxis": {
            "backgroundcolor": "#E5ECF6",
            "gridcolor": "white",
            "gridwidth": 2,
            "linecolor": "white",
            "showbackground": true,
            "ticks": "",
            "zerolinecolor": "white"
           },
           "yaxis": {
            "backgroundcolor": "#E5ECF6",
            "gridcolor": "white",
            "gridwidth": 2,
            "linecolor": "white",
            "showbackground": true,
            "ticks": "",
            "zerolinecolor": "white"
           },
           "zaxis": {
            "backgroundcolor": "#E5ECF6",
            "gridcolor": "white",
            "gridwidth": 2,
            "linecolor": "white",
            "showbackground": true,
            "ticks": "",
            "zerolinecolor": "white"
           }
          },
          "shapedefaults": {
           "line": {
            "color": "#2a3f5f"
           }
          },
          "ternary": {
           "aaxis": {
            "gridcolor": "white",
            "linecolor": "white",
            "ticks": ""
           },
           "baxis": {
            "gridcolor": "white",
            "linecolor": "white",
            "ticks": ""
           },
           "bgcolor": "#E5ECF6",
           "caxis": {
            "gridcolor": "white",
            "linecolor": "white",
            "ticks": ""
           }
          },
          "title": {
           "x": 0.05
          },
          "xaxis": {
           "automargin": true,
           "gridcolor": "white",
           "linecolor": "white",
           "ticks": "",
           "title": {
            "standoff": 15
           },
           "zerolinecolor": "white",
           "zerolinewidth": 2
          },
          "yaxis": {
           "automargin": true,
           "gridcolor": "white",
           "linecolor": "white",
           "ticks": "",
           "title": {
            "standoff": 15
           },
           "zerolinecolor": "white",
           "zerolinewidth": 2
          }
         }
        }
       }
      },
      "text/html": [
       "<div>                            <div id=\"0a52879b-110f-4a86-83d9-879cd1348ef1\" class=\"plotly-graph-div\" style=\"height:525px; width:100%;\"></div>            <script type=\"text/javascript\">                require([\"plotly\"], function(Plotly) {                    window.PLOTLYENV=window.PLOTLYENV || {};                                    if (document.getElementById(\"0a52879b-110f-4a86-83d9-879cd1348ef1\")) {                    Plotly.newPlot(                        \"0a52879b-110f-4a86-83d9-879cd1348ef1\",                        [{\"domain\":{\"x\":[0.0,1.0],\"y\":[0.0,1.0]},\"hovertemplate\":\"Voto=%{label}<extra></extra>\",\"labels\":[\"Arthur Lira\",\"Arthur Lira\",\"Arthur Lira\",\"Arthur Lira\",\"Arthur Lira\",\"Arthur Lira\",\"Arthur Lira\",\"Arthur Lira\",\"Arthur Lira\",\"Arthur Lira\",\"Arthur Lira\",\"Arthur Lira\",\"Arthur Lira\",\"Arthur Lira\",\"Arthur Lira\",\"Arthur Lira\",\"Arthur Lira\",\"Arthur Lira\",\"Arthur Lira\",\"Arthur Lira\",\"Arthur Lira\",\"Arthur Lira\",\"Arthur Lira\",\"Arthur Lira\",\"Arthur Lira\",\"Arthur Lira\",\"Arthur Lira\",\"Arthur Lira\",\"Arthur Lira\",\"Arthur Lira\",\"Arthur Lira\",\"Arthur Lira\",\"Arthur Lira\",\"Arthur Lira\",\"Arthur Lira\",\"Arthur Lira\",\"Arthur Lira\",\"Arthur Lira\",\"Arthur Lira\",\"Arthur Lira\",\"Arthur Lira\",\"Arthur Lira\",\"Arthur Lira\",\"Arthur Lira\",\"Arthur Lira\",\"Arthur Lira\",\"Arthur Lira\",\"Arthur Lira\",\"Arthur Lira\",\"Arthur Lira\",\"Arthur Lira\",\"Arthur Lira\",\"Arthur Lira\",\"Arthur Lira\",\"Arthur Lira\",\"Arthur Lira\",\"Arthur Lira\",\"Arthur Lira\",\"Arthur Lira\",\"Arthur Lira\",\"Arthur Lira\",\"Arthur Lira\",\"Arthur Lira\",\"Arthur Lira\",\"Arthur Lira\",\"Arthur Lira\",\"Arthur Lira\",\"Arthur Lira\",\"Arthur Lira\",\"Arthur Lira\",\"Arthur Lira\",\"Arthur Lira\",\"Arthur Lira\",\"Arthur Lira\",\"Arthur Lira\",\"Arthur Lira\",\"Arthur Lira\",\"Arthur Lira\",\"Arthur Lira\",\"Arthur Lira\",\"Arthur Lira\",\"Arthur Lira\",\"Arthur Lira\",\"Arthur Lira\",\"Arthur Lira\",\"Arthur Lira\",\"Arthur Lira\",\"Arthur Lira\",\"Arthur Lira\",\"Arthur Lira\",\"Arthur Lira\",\"Arthur Lira\",\"Arthur Lira\",\"Arthur Lira\",\"Arthur Lira\",\"Arthur Lira\",\"Arthur Lira\",\"Arthur Lira\",\"Arthur Lira\",\"Arthur Lira\",\"Arthur Lira\",\"Arthur Lira\",\"Arthur Lira\",\"Arthur Lira\",\"Arthur Lira\",\"Arthur Lira\",\"Arthur Lira\",\"Arthur Lira\",\"Arthur Lira\",\"Arthur Lira\",\"Arthur Lira\",\"Arthur Lira\",\"Arthur Lira\",\"Arthur Lira\",\"Arthur Lira\",\"Arthur Lira\",\"Arthur Lira\",\"Arthur Lira\",\"Arthur Lira\",\"Arthur Lira\",\"Arthur Lira\",\"Arthur Lira\",\"Arthur Lira\",\"Arthur Lira\",\"Arthur Lira\",\"Arthur Lira\",\"Arthur Lira\",\"Arthur Lira\",\"Arthur Lira\",\"Arthur Lira\",\"Arthur Lira\",\"Arthur Lira\",\"Arthur Lira\",\"Arthur Lira\",\"Arthur Lira\",\"Arthur Lira\",\"Arthur Lira\",\"Arthur Lira\",\"Arthur Lira\",\"Arthur Lira\",\"Arthur Lira\",\"Arthur Lira\",\"Arthur Lira\",\"Arthur Lira\",\"Arthur Lira\",\"Arthur Lira\",\"Arthur Lira\",\"Arthur Lira\",\"Arthur Lira\",\"Arthur Lira\",\"Arthur Lira\",\"Arthur Lira\",\"Arthur Lira\",\"Arthur Lira\",\"Arthur Lira\",\"Arthur Lira\",\"Arthur Lira\",\"Arthur Lira\",\"Arthur Lira\",\"Arthur Lira\",\"Arthur Lira\",\"Arthur Lira\",\"Arthur Lira\",\"Arthur Lira\",\"Arthur Lira\",\"Arthur Lira\",\"Arthur Lira\",\"Arthur Lira\",\"Arthur Lira\",\"Arthur Lira\",\"Arthur Lira\",\"Arthur Lira\",\"Arthur Lira\",\"Arthur Lira\",\"Arthur Lira\",\"Arthur Lira\",\"Arthur Lira\",\"Arthur Lira\",\"Arthur Lira\",\"Arthur Lira\",\"Arthur Lira\",\"Arthur Lira\",\"Arthur Lira\",\"Arthur Lira\",\"Arthur Lira\",\"Arthur Lira\",\"Arthur Lira\",\"Arthur Lira\",\"Arthur Lira\",\"Arthur Lira\",\"Arthur Lira\",\"Arthur Lira\",\"Arthur Lira\",\"Arthur Lira\",\"Arthur Lira\",\"Arthur Lira\",\"Arthur Lira\",\"Arthur Lira\",\"Arthur Lira\",\"Arthur Lira\",\"Arthur Lira\",\"Arthur Lira\",\"Arthur Lira\",\"Arthur Lira\",\"Arthur Lira\",\"Arthur Lira\",\"Arthur Lira\",\"Arthur Lira\",\"Arthur Lira\",\"Arthur Lira\",\"Arthur Lira\",\"Arthur Lira\",\"Arthur Lira\",\"Arthur Lira\",\"Arthur Lira\",\"Arthur Lira\",\"Arthur Lira\",\"Arthur Lira\",\"Arthur Lira\",\"Arthur Lira\",\"Arthur Lira\",\"Arthur Lira\",\"Arthur Lira\",\"Arthur Lira\",\"Arthur Lira\",\"Arthur Lira\",\"Arthur Lira\",\"Arthur Lira\",\"Arthur Lira\",\"Arthur Lira\",\"Arthur Lira\",\"Arthur Lira\",\"Arthur Lira\",\"Arthur Lira\",\"Arthur Lira\",\"Arthur Lira\",\"Arthur Lira\",\"Baleia Rossi\",\"Baleia Rossi\",\"Baleia Rossi\",\"Baleia Rossi\",\"Baleia Rossi\",\"Baleia Rossi\",\"Baleia Rossi\",\"Baleia Rossi\",\"Baleia Rossi\",\"Baleia Rossi\",\"Baleia Rossi\",\"Baleia Rossi\",\"Baleia Rossi\",\"Baleia Rossi\",\"Baleia Rossi\",\"Baleia Rossi\",\"Baleia Rossi\",\"Baleia Rossi\",\"Baleia Rossi\",\"Baleia Rossi\",\"Baleia Rossi\",\"Baleia Rossi\",\"Baleia Rossi\",\"Baleia Rossi\",\"Baleia Rossi\",\"Baleia Rossi\",\"Baleia Rossi\",\"Baleia Rossi\",\"Baleia Rossi\",\"Baleia Rossi\",\"Baleia Rossi\",\"Baleia Rossi\",\"Baleia Rossi\",\"Baleia Rossi\",\"Baleia Rossi\",\"Baleia Rossi\",\"Baleia Rossi\",\"Baleia Rossi\",\"Baleia Rossi\",\"Baleia Rossi\",\"Baleia Rossi\",\"Baleia Rossi\",\"Baleia Rossi\",\"Baleia Rossi\",\"Baleia Rossi\",\"Baleia Rossi\",\"Baleia Rossi\",\"Baleia Rossi\",\"Baleia Rossi\",\"Baleia Rossi\",\"Baleia Rossi\",\"Baleia Rossi\",\"Baleia Rossi\",\"Baleia Rossi\",\"Baleia Rossi\",\"Baleia Rossi\",\"Baleia Rossi\",\"Baleia Rossi\",\"Baleia Rossi\",\"Baleia Rossi\",\"Baleia Rossi\",\"Baleia Rossi\",\"Baleia Rossi\",\"Baleia Rossi\",\"Baleia Rossi\",\"Baleia Rossi\",\"Baleia Rossi\",\"Baleia Rossi\",\"Baleia Rossi\",\"Baleia Rossi\",\"Baleia Rossi\",\"Baleia Rossi\",\"Baleia Rossi\",\"Baleia Rossi\",\"Baleia Rossi\",\"Baleia Rossi\",\"Baleia Rossi\",\"Baleia Rossi\",\"Baleia Rossi\",\"Baleia Rossi\",\"Baleia Rossi\",\"Baleia Rossi\",\"Baleia Rossi\",\"Baleia Rossi\",\"Baleia Rossi\",\"Baleia Rossi\",\"Baleia Rossi\",\"Baleia Rossi\",\"Baleia Rossi\",\"Baleia Rossi\",\"Baleia Rossi\",\"Baleia Rossi\",\"Baleia Rossi\",\"Baleia Rossi\",\"Baleia Rossi\",\"Baleia Rossi\",\"Baleia Rossi\",\"Baleia Rossi\",\"Baleia Rossi\",\"Baleia Rossi\",\"Baleia Rossi\",\"Baleia Rossi\",\"Baleia Rossi\",\"Baleia Rossi\",\"Baleia Rossi\",\"Baleia Rossi\",\"Baleia Rossi\",\"Baleia Rossi\",\"Baleia Rossi\",\"Baleia Rossi\",\"Baleia Rossi\",\"Baleia Rossi\",\"Baleia Rossi\",\"Baleia Rossi\",\"Baleia Rossi\",\"Baleia Rossi\",\"Baleia Rossi\",\"Baleia Rossi\",\"Baleia Rossi\",\"Baleia Rossi\",\"Baleia Rossi\",\"Baleia Rossi\",\"Baleia Rossi\",\"Baleia Rossi\",\"Baleia Rossi\",\"Baleia Rossi\",\"Baleia Rossi\",\"Baleia Rossi\",\"Baleia Rossi\",\"Baleia Rossi\",\"Baleia Rossi\",\"Baleia Rossi\",\"Baleia Rossi\",\"Luiza Erundina\",\"Luiza Erundina\",\"Luiza Erundina\",\"Luiza Erundina\",\"Luiza Erundina\",\"Luiza Erundina\",\"Luiza Erundina\",\"Luiza Erundina\",\"Luiza Erundina\",\"Van Hattem\",\"Van Hattem\",\"Van Hattem\",\"Van Hattem\",\"Van Hattem\",\"Van Hattem\",\"Van Hattem\",\"Van Hattem\",\"F\\u00e1bio Ramalho\",\"F\\u00e1bio Ramalho\",\"Alexandre Frota\",\"Andr\\u00e9 Janones\",\"General Peternelli\",\"N\\u00e3o quis responder\",\"N\\u00e3o quis responder\",\"N\\u00e3o quis responder\",\"N\\u00e3o quis responder\",\"N\\u00e3o quis responder\",\"N\\u00e3o quis responder\",\"N\\u00e3o quis responder\",\"N\\u00e3o quis responder\",\"N\\u00e3o quis responder\",\"N\\u00e3o quis responder\",\"N\\u00e3o quis responder\",\"N\\u00e3o quis responder\",\"N\\u00e3o quis responder\",\"N\\u00e3o quis responder\",\"N\\u00e3o quis responder\",\"N\\u00e3o quis responder\",\"N\\u00e3o quis responder\",\"N\\u00e3o quis responder\",\"N\\u00e3o quis responder\",\"N\\u00e3o quis responder\",\"N\\u00e3o quis responder\",\"N\\u00e3o quis responder\",\"N\\u00e3o quis responder\",\"N\\u00e3o quis responder\",\"N\\u00e3o quis responder\",\"N\\u00e3o quis responder\",\"N\\u00e3o quis responder\",\"N\\u00e3o quis responder\",\"N\\u00e3o quis responder\",\"N\\u00e3o quis responder\",\"N\\u00e3o quis responder\",\"N\\u00e3o quis responder\",\"N\\u00e3o quis responder\",\"N\\u00e3o quis responder\",\"N\\u00e3o quis responder\",\"N\\u00e3o quis responder\",\"N\\u00e3o quis responder\",\"N\\u00e3o quis responder\",\"N\\u00e3o quis responder\",\"N\\u00e3o quis responder\",\"N\\u00e3o quis responder\",\"N\\u00e3o quis responder\",\"N\\u00e3o quis responder\",\"N\\u00e3o quis responder\",\"N\\u00e3o quis responder\",\"N\\u00e3o quis responder\",\"N\\u00e3o quis responder\",\"N\\u00e3o quis responder\",\"N\\u00e3o quis responder\",\"N\\u00e3o quis responder\",\"N\\u00e3o quis responder\",\"N\\u00e3o quis responder\",\"N\\u00e3o quis responder\",\"N\\u00e3o quis responder\",\"N\\u00e3o quis responder\",\"N\\u00e3o quis responder\",\"N\\u00e3o quis responder\",\"N\\u00e3o quis responder\",\"N\\u00e3o quis responder\",\"N\\u00e3o quis responder\",\"N\\u00e3o quis responder\",\"N\\u00e3o quis responder\",\"N\\u00e3o quis responder\",\"N\\u00e3o quis responder\",\"N\\u00e3o quis responder\",\"N\\u00e3o quis responder\",\"N\\u00e3o quis responder\",\"N\\u00e3o quis responder\",\"N\\u00e3o quis responder\",\"N\\u00e3o quis responder\",\"N\\u00e3o quis responder\",\"N\\u00e3o quis responder\",\"N\\u00e3o quis responder\",\"N\\u00e3o quis responder\",\"N\\u00e3o quis responder\",\"N\\u00e3o quis responder\",\"N\\u00e3o quis responder\",\"N\\u00e3o quis responder\",\"N\\u00e3o quis responder\",\"N\\u00e3o quis responder\",\"N\\u00e3o quis responder\",\"N\\u00e3o quis responder\",\"N\\u00e3o quis responder\",\"N\\u00e3o quis responder\",\"N\\u00e3o quis responder\",\"N\\u00e3o quis responder\",\"N\\u00e3o quis responder\",\"N\\u00e3o quis responder\",\"N\\u00e3o quis responder\",\"N\\u00e3o quis responder\",\"N\\u00e3o quis responder\",\"N\\u00e3o quis responder\",\"N\\u00e3o quis responder\",\"N\\u00e3o quis responder\",\"N\\u00e3o quis responder\",\"N\\u00e3o quis responder\",\"N\\u00e3o quis responder\",\"N\\u00e3o quis responder\",\"N\\u00e3o quis responder\",\"N\\u00e3o quis responder\",\"N\\u00e3o quis responder\",\"N\\u00e3o quis responder\",\"N\\u00e3o quis responder\",\"N\\u00e3o quis responder\",\"N\\u00e3o quis responder\",\"N\\u00e3o quis responder\",\"N\\u00e3o quis responder\",\"N\\u00e3o quis responder\",\"N\\u00e3o quis responder\",\"N\\u00e3o quis responder\",\"N\\u00e3o quis responder\",\"N\\u00e3o foi encontrado\",\"N\\u00e3o foi encontrado\",\"N\\u00e3o foi encontrado\",\"N\\u00e3o foi encontrado\",\"N\\u00e3o foi encontrado\",\"N\\u00e3o foi encontrado\",\"N\\u00e3o foi encontrado\",\"N\\u00e3o foi encontrado\",\"N\\u00e3o foi encontrado\",\"N\\u00e3o foi encontrado\"],\"legendgroup\":\"\",\"name\":\"\",\"showlegend\":true,\"type\":\"pie\"}],                        {\"template\":{\"data\":{\"histogram2dcontour\":[{\"type\":\"histogram2dcontour\",\"colorbar\":{\"outlinewidth\":0,\"ticks\":\"\"},\"colorscale\":[[0.0,\"#0d0887\"],[0.1111111111111111,\"#46039f\"],[0.2222222222222222,\"#7201a8\"],[0.3333333333333333,\"#9c179e\"],[0.4444444444444444,\"#bd3786\"],[0.5555555555555556,\"#d8576b\"],[0.6666666666666666,\"#ed7953\"],[0.7777777777777778,\"#fb9f3a\"],[0.8888888888888888,\"#fdca26\"],[1.0,\"#f0f921\"]]}],\"choropleth\":[{\"type\":\"choropleth\",\"colorbar\":{\"outlinewidth\":0,\"ticks\":\"\"}}],\"histogram2d\":[{\"type\":\"histogram2d\",\"colorbar\":{\"outlinewidth\":0,\"ticks\":\"\"},\"colorscale\":[[0.0,\"#0d0887\"],[0.1111111111111111,\"#46039f\"],[0.2222222222222222,\"#7201a8\"],[0.3333333333333333,\"#9c179e\"],[0.4444444444444444,\"#bd3786\"],[0.5555555555555556,\"#d8576b\"],[0.6666666666666666,\"#ed7953\"],[0.7777777777777778,\"#fb9f3a\"],[0.8888888888888888,\"#fdca26\"],[1.0,\"#f0f921\"]]}],\"heatmap\":[{\"type\":\"heatmap\",\"colorbar\":{\"outlinewidth\":0,\"ticks\":\"\"},\"colorscale\":[[0.0,\"#0d0887\"],[0.1111111111111111,\"#46039f\"],[0.2222222222222222,\"#7201a8\"],[0.3333333333333333,\"#9c179e\"],[0.4444444444444444,\"#bd3786\"],[0.5555555555555556,\"#d8576b\"],[0.6666666666666666,\"#ed7953\"],[0.7777777777777778,\"#fb9f3a\"],[0.8888888888888888,\"#fdca26\"],[1.0,\"#f0f921\"]]}],\"heatmapgl\":[{\"type\":\"heatmapgl\",\"colorbar\":{\"outlinewidth\":0,\"ticks\":\"\"},\"colorscale\":[[0.0,\"#0d0887\"],[0.1111111111111111,\"#46039f\"],[0.2222222222222222,\"#7201a8\"],[0.3333333333333333,\"#9c179e\"],[0.4444444444444444,\"#bd3786\"],[0.5555555555555556,\"#d8576b\"],[0.6666666666666666,\"#ed7953\"],[0.7777777777777778,\"#fb9f3a\"],[0.8888888888888888,\"#fdca26\"],[1.0,\"#f0f921\"]]}],\"contourcarpet\":[{\"type\":\"contourcarpet\",\"colorbar\":{\"outlinewidth\":0,\"ticks\":\"\"}}],\"contour\":[{\"type\":\"contour\",\"colorbar\":{\"outlinewidth\":0,\"ticks\":\"\"},\"colorscale\":[[0.0,\"#0d0887\"],[0.1111111111111111,\"#46039f\"],[0.2222222222222222,\"#7201a8\"],[0.3333333333333333,\"#9c179e\"],[0.4444444444444444,\"#bd3786\"],[0.5555555555555556,\"#d8576b\"],[0.6666666666666666,\"#ed7953\"],[0.7777777777777778,\"#fb9f3a\"],[0.8888888888888888,\"#fdca26\"],[1.0,\"#f0f921\"]]}],\"surface\":[{\"type\":\"surface\",\"colorbar\":{\"outlinewidth\":0,\"ticks\":\"\"},\"colorscale\":[[0.0,\"#0d0887\"],[0.1111111111111111,\"#46039f\"],[0.2222222222222222,\"#7201a8\"],[0.3333333333333333,\"#9c179e\"],[0.4444444444444444,\"#bd3786\"],[0.5555555555555556,\"#d8576b\"],[0.6666666666666666,\"#ed7953\"],[0.7777777777777778,\"#fb9f3a\"],[0.8888888888888888,\"#fdca26\"],[1.0,\"#f0f921\"]]}],\"mesh3d\":[{\"type\":\"mesh3d\",\"colorbar\":{\"outlinewidth\":0,\"ticks\":\"\"}}],\"scatter\":[{\"fillpattern\":{\"fillmode\":\"overlay\",\"size\":10,\"solidity\":0.2},\"type\":\"scatter\"}],\"parcoords\":[{\"type\":\"parcoords\",\"line\":{\"colorbar\":{\"outlinewidth\":0,\"ticks\":\"\"}}}],\"scatterpolargl\":[{\"type\":\"scatterpolargl\",\"marker\":{\"colorbar\":{\"outlinewidth\":0,\"ticks\":\"\"}}}],\"bar\":[{\"error_x\":{\"color\":\"#2a3f5f\"},\"error_y\":{\"color\":\"#2a3f5f\"},\"marker\":{\"line\":{\"color\":\"#E5ECF6\",\"width\":0.5},\"pattern\":{\"fillmode\":\"overlay\",\"size\":10,\"solidity\":0.2}},\"type\":\"bar\"}],\"scattergeo\":[{\"type\":\"scattergeo\",\"marker\":{\"colorbar\":{\"outlinewidth\":0,\"ticks\":\"\"}}}],\"scatterpolar\":[{\"type\":\"scatterpolar\",\"marker\":{\"colorbar\":{\"outlinewidth\":0,\"ticks\":\"\"}}}],\"histogram\":[{\"marker\":{\"pattern\":{\"fillmode\":\"overlay\",\"size\":10,\"solidity\":0.2}},\"type\":\"histogram\"}],\"scattergl\":[{\"type\":\"scattergl\",\"marker\":{\"colorbar\":{\"outlinewidth\":0,\"ticks\":\"\"}}}],\"scatter3d\":[{\"type\":\"scatter3d\",\"line\":{\"colorbar\":{\"outlinewidth\":0,\"ticks\":\"\"}},\"marker\":{\"colorbar\":{\"outlinewidth\":0,\"ticks\":\"\"}}}],\"scattermapbox\":[{\"type\":\"scattermapbox\",\"marker\":{\"colorbar\":{\"outlinewidth\":0,\"ticks\":\"\"}}}],\"scatterternary\":[{\"type\":\"scatterternary\",\"marker\":{\"colorbar\":{\"outlinewidth\":0,\"ticks\":\"\"}}}],\"scattercarpet\":[{\"type\":\"scattercarpet\",\"marker\":{\"colorbar\":{\"outlinewidth\":0,\"ticks\":\"\"}}}],\"carpet\":[{\"aaxis\":{\"endlinecolor\":\"#2a3f5f\",\"gridcolor\":\"white\",\"linecolor\":\"white\",\"minorgridcolor\":\"white\",\"startlinecolor\":\"#2a3f5f\"},\"baxis\":{\"endlinecolor\":\"#2a3f5f\",\"gridcolor\":\"white\",\"linecolor\":\"white\",\"minorgridcolor\":\"white\",\"startlinecolor\":\"#2a3f5f\"},\"type\":\"carpet\"}],\"table\":[{\"cells\":{\"fill\":{\"color\":\"#EBF0F8\"},\"line\":{\"color\":\"white\"}},\"header\":{\"fill\":{\"color\":\"#C8D4E3\"},\"line\":{\"color\":\"white\"}},\"type\":\"table\"}],\"barpolar\":[{\"marker\":{\"line\":{\"color\":\"#E5ECF6\",\"width\":0.5},\"pattern\":{\"fillmode\":\"overlay\",\"size\":10,\"solidity\":0.2}},\"type\":\"barpolar\"}],\"pie\":[{\"automargin\":true,\"type\":\"pie\"}]},\"layout\":{\"autotypenumbers\":\"strict\",\"colorway\":[\"#636efa\",\"#EF553B\",\"#00cc96\",\"#ab63fa\",\"#FFA15A\",\"#19d3f3\",\"#FF6692\",\"#B6E880\",\"#FF97FF\",\"#FECB52\"],\"font\":{\"color\":\"#2a3f5f\"},\"hovermode\":\"closest\",\"hoverlabel\":{\"align\":\"left\"},\"paper_bgcolor\":\"white\",\"plot_bgcolor\":\"#E5ECF6\",\"polar\":{\"bgcolor\":\"#E5ECF6\",\"angularaxis\":{\"gridcolor\":\"white\",\"linecolor\":\"white\",\"ticks\":\"\"},\"radialaxis\":{\"gridcolor\":\"white\",\"linecolor\":\"white\",\"ticks\":\"\"}},\"ternary\":{\"bgcolor\":\"#E5ECF6\",\"aaxis\":{\"gridcolor\":\"white\",\"linecolor\":\"white\",\"ticks\":\"\"},\"baxis\":{\"gridcolor\":\"white\",\"linecolor\":\"white\",\"ticks\":\"\"},\"caxis\":{\"gridcolor\":\"white\",\"linecolor\":\"white\",\"ticks\":\"\"}},\"coloraxis\":{\"colorbar\":{\"outlinewidth\":0,\"ticks\":\"\"}},\"colorscale\":{\"sequential\":[[0.0,\"#0d0887\"],[0.1111111111111111,\"#46039f\"],[0.2222222222222222,\"#7201a8\"],[0.3333333333333333,\"#9c179e\"],[0.4444444444444444,\"#bd3786\"],[0.5555555555555556,\"#d8576b\"],[0.6666666666666666,\"#ed7953\"],[0.7777777777777778,\"#fb9f3a\"],[0.8888888888888888,\"#fdca26\"],[1.0,\"#f0f921\"]],\"sequentialminus\":[[0.0,\"#0d0887\"],[0.1111111111111111,\"#46039f\"],[0.2222222222222222,\"#7201a8\"],[0.3333333333333333,\"#9c179e\"],[0.4444444444444444,\"#bd3786\"],[0.5555555555555556,\"#d8576b\"],[0.6666666666666666,\"#ed7953\"],[0.7777777777777778,\"#fb9f3a\"],[0.8888888888888888,\"#fdca26\"],[1.0,\"#f0f921\"]],\"diverging\":[[0,\"#8e0152\"],[0.1,\"#c51b7d\"],[0.2,\"#de77ae\"],[0.3,\"#f1b6da\"],[0.4,\"#fde0ef\"],[0.5,\"#f7f7f7\"],[0.6,\"#e6f5d0\"],[0.7,\"#b8e186\"],[0.8,\"#7fbc41\"],[0.9,\"#4d9221\"],[1,\"#276419\"]]},\"xaxis\":{\"gridcolor\":\"white\",\"linecolor\":\"white\",\"ticks\":\"\",\"title\":{\"standoff\":15},\"zerolinecolor\":\"white\",\"automargin\":true,\"zerolinewidth\":2},\"yaxis\":{\"gridcolor\":\"white\",\"linecolor\":\"white\",\"ticks\":\"\",\"title\":{\"standoff\":15},\"zerolinecolor\":\"white\",\"automargin\":true,\"zerolinewidth\":2},\"scene\":{\"xaxis\":{\"backgroundcolor\":\"#E5ECF6\",\"gridcolor\":\"white\",\"linecolor\":\"white\",\"showbackground\":true,\"ticks\":\"\",\"zerolinecolor\":\"white\",\"gridwidth\":2},\"yaxis\":{\"backgroundcolor\":\"#E5ECF6\",\"gridcolor\":\"white\",\"linecolor\":\"white\",\"showbackground\":true,\"ticks\":\"\",\"zerolinecolor\":\"white\",\"gridwidth\":2},\"zaxis\":{\"backgroundcolor\":\"#E5ECF6\",\"gridcolor\":\"white\",\"linecolor\":\"white\",\"showbackground\":true,\"ticks\":\"\",\"zerolinecolor\":\"white\",\"gridwidth\":2}},\"shapedefaults\":{\"line\":{\"color\":\"#2a3f5f\"}},\"annotationdefaults\":{\"arrowcolor\":\"#2a3f5f\",\"arrowhead\":0,\"arrowwidth\":1},\"geo\":{\"bgcolor\":\"white\",\"landcolor\":\"#E5ECF6\",\"subunitcolor\":\"white\",\"showland\":true,\"showlakes\":true,\"lakecolor\":\"white\"},\"title\":{\"x\":0.05},\"mapbox\":{\"style\":\"light\"}}},\"legend\":{\"tracegroupgap\":0},\"margin\":{\"t\":60}},                        {\"responsive\": true}                    ).then(function(){\n",
       "                            \n",
       "var gd = document.getElementById('0a52879b-110f-4a86-83d9-879cd1348ef1');\n",
       "var x = new MutationObserver(function (mutations, observer) {{\n",
       "        var display = window.getComputedStyle(gd).display;\n",
       "        if (!display || display === 'none') {{\n",
       "            console.log([gd, 'removed!']);\n",
       "            Plotly.purge(gd);\n",
       "            observer.disconnect();\n",
       "        }}\n",
       "}});\n",
       "\n",
       "// Listen for the removal of the full notebook cells\n",
       "var notebookContainer = gd.closest('#notebook-container');\n",
       "if (notebookContainer) {{\n",
       "    x.observe(notebookContainer, {childList: true});\n",
       "}}\n",
       "\n",
       "// Listen for the clearing of the current output cell\n",
       "var outputEl = gd.closest('.output');\n",
       "if (outputEl) {{\n",
       "    x.observe(outputEl, {childList: true});\n",
       "}}\n",
       "\n",
       "                        })                };                });            </script>        </div>"
      ]
     },
     "metadata": {},
     "output_type": "display_data"
    }
   ],
   "source": [
    "grafico_pizza = plx.pie(dados_eleicao_df, names='Voto')\n",
    "grafico_pizza"
   ]
  },
  {
   "cell_type": "markdown",
   "id": "75bfb144",
   "metadata": {},
   "source": [
    "# Pegando informações dos 3 maiores partidos da camara dos deputados"
   ]
  },
  {
   "cell_type": "markdown",
   "id": "41b9b534",
   "metadata": {},
   "source": [
    "## Pegando informações do PT"
   ]
  },
  {
   "cell_type": "code",
   "execution_count": 27,
   "id": "207edd8e",
   "metadata": {},
   "outputs": [
    {
     "data": {
      "text/html": [
       "<div>\n",
       "<style scoped>\n",
       "    .dataframe tbody tr th:only-of-type {\n",
       "        vertical-align: middle;\n",
       "    }\n",
       "\n",
       "    .dataframe tbody tr th {\n",
       "        vertical-align: top;\n",
       "    }\n",
       "\n",
       "    .dataframe thead th {\n",
       "        text-align: right;\n",
       "    }\n",
       "</style>\n",
       "<table border=\"1\" class=\"dataframe\">\n",
       "  <thead>\n",
       "    <tr style=\"text-align: right;\">\n",
       "      <th></th>\n",
       "      <th>Voto</th>\n",
       "      <th>Deputado</th>\n",
       "      <th>Partido</th>\n",
       "      <th>Estado</th>\n",
       "    </tr>\n",
       "  </thead>\n",
       "  <tbody>\n",
       "    <tr>\n",
       "      <th>328</th>\n",
       "      <td>Baleia Rossi</td>\n",
       "      <td>Afonso Florence</td>\n",
       "      <td>PT</td>\n",
       "      <td>BA</td>\n",
       "    </tr>\n",
       "    <tr>\n",
       "      <th>329</th>\n",
       "      <td>Baleia Rossi</td>\n",
       "      <td>Airton Faleiro</td>\n",
       "      <td>PT</td>\n",
       "      <td>PA</td>\n",
       "    </tr>\n",
       "    <tr>\n",
       "      <th>330</th>\n",
       "      <td>Baleia Rossi</td>\n",
       "      <td>Alencar Santana Braga</td>\n",
       "      <td>PT</td>\n",
       "      <td>SP</td>\n",
       "    </tr>\n",
       "    <tr>\n",
       "      <th>331</th>\n",
       "      <td>Baleia Rossi</td>\n",
       "      <td>Alexandre Padilha</td>\n",
       "      <td>PT</td>\n",
       "      <td>SP</td>\n",
       "    </tr>\n",
       "    <tr>\n",
       "      <th>332</th>\n",
       "      <td>Baleia Rossi</td>\n",
       "      <td>Arlindo Chinaglia</td>\n",
       "      <td>PT</td>\n",
       "      <td>SP</td>\n",
       "    </tr>\n",
       "    <tr>\n",
       "      <th>333</th>\n",
       "      <td>Baleia Rossi</td>\n",
       "      <td>Benedita da Silva</td>\n",
       "      <td>PT</td>\n",
       "      <td>RJ</td>\n",
       "    </tr>\n",
       "    <tr>\n",
       "      <th>334</th>\n",
       "      <td>Baleia Rossi</td>\n",
       "      <td>Beto Faro</td>\n",
       "      <td>PT</td>\n",
       "      <td>PA</td>\n",
       "    </tr>\n",
       "    <tr>\n",
       "      <th>335</th>\n",
       "      <td>Baleia Rossi</td>\n",
       "      <td>Bohn Gass</td>\n",
       "      <td>PT</td>\n",
       "      <td>RS</td>\n",
       "    </tr>\n",
       "    <tr>\n",
       "      <th>336</th>\n",
       "      <td>Baleia Rossi</td>\n",
       "      <td>Carlos Veras</td>\n",
       "      <td>PT</td>\n",
       "      <td>PE</td>\n",
       "    </tr>\n",
       "    <tr>\n",
       "      <th>337</th>\n",
       "      <td>Baleia Rossi</td>\n",
       "      <td>Carlos Zarattini</td>\n",
       "      <td>PT</td>\n",
       "      <td>SP</td>\n",
       "    </tr>\n",
       "    <tr>\n",
       "      <th>338</th>\n",
       "      <td>Baleia Rossi</td>\n",
       "      <td>Enio Verri</td>\n",
       "      <td>PT</td>\n",
       "      <td>PR</td>\n",
       "    </tr>\n",
       "    <tr>\n",
       "      <th>339</th>\n",
       "      <td>Baleia Rossi</td>\n",
       "      <td>Erika Kokay</td>\n",
       "      <td>PT</td>\n",
       "      <td>DF</td>\n",
       "    </tr>\n",
       "    <tr>\n",
       "      <th>340</th>\n",
       "      <td>Baleia Rossi</td>\n",
       "      <td>Frei Anastacio Ribeiro</td>\n",
       "      <td>PT</td>\n",
       "      <td>PB</td>\n",
       "    </tr>\n",
       "    <tr>\n",
       "      <th>341</th>\n",
       "      <td>Baleia Rossi</td>\n",
       "      <td>Gleisi Hoffmann</td>\n",
       "      <td>PT</td>\n",
       "      <td>PR</td>\n",
       "    </tr>\n",
       "    <tr>\n",
       "      <th>342</th>\n",
       "      <td>Baleia Rossi</td>\n",
       "      <td>João Daniel</td>\n",
       "      <td>PT</td>\n",
       "      <td>SE</td>\n",
       "    </tr>\n",
       "    <tr>\n",
       "      <th>343</th>\n",
       "      <td>Baleia Rossi</td>\n",
       "      <td>Jorge Solla</td>\n",
       "      <td>PT</td>\n",
       "      <td>BA</td>\n",
       "    </tr>\n",
       "    <tr>\n",
       "      <th>344</th>\n",
       "      <td>Baleia Rossi</td>\n",
       "      <td>José Guimarães</td>\n",
       "      <td>PT</td>\n",
       "      <td>CE</td>\n",
       "    </tr>\n",
       "    <tr>\n",
       "      <th>345</th>\n",
       "      <td>Baleia Rossi</td>\n",
       "      <td>José Ricardo</td>\n",
       "      <td>PT</td>\n",
       "      <td>AM</td>\n",
       "    </tr>\n",
       "    <tr>\n",
       "      <th>346</th>\n",
       "      <td>Baleia Rossi</td>\n",
       "      <td>Joseildo Ramos</td>\n",
       "      <td>PT</td>\n",
       "      <td>BA</td>\n",
       "    </tr>\n",
       "    <tr>\n",
       "      <th>347</th>\n",
       "      <td>Baleia Rossi</td>\n",
       "      <td>Leo de Brito</td>\n",
       "      <td>PT</td>\n",
       "      <td>AC</td>\n",
       "    </tr>\n",
       "    <tr>\n",
       "      <th>348</th>\n",
       "      <td>Baleia Rossi</td>\n",
       "      <td>Leonardo Monteiro</td>\n",
       "      <td>PT</td>\n",
       "      <td>MG</td>\n",
       "    </tr>\n",
       "    <tr>\n",
       "      <th>349</th>\n",
       "      <td>Baleia Rossi</td>\n",
       "      <td>Maria do Rosário</td>\n",
       "      <td>PT</td>\n",
       "      <td>RS</td>\n",
       "    </tr>\n",
       "    <tr>\n",
       "      <th>350</th>\n",
       "      <td>Baleia Rossi</td>\n",
       "      <td>Marília Arraes</td>\n",
       "      <td>PT</td>\n",
       "      <td>PE</td>\n",
       "    </tr>\n",
       "    <tr>\n",
       "      <th>351</th>\n",
       "      <td>Baleia Rossi</td>\n",
       "      <td>Merlong Solano</td>\n",
       "      <td>PT</td>\n",
       "      <td>PI</td>\n",
       "    </tr>\n",
       "    <tr>\n",
       "      <th>352</th>\n",
       "      <td>Baleia Rossi</td>\n",
       "      <td>Nilto Tatto</td>\n",
       "      <td>PT</td>\n",
       "      <td>SP</td>\n",
       "    </tr>\n",
       "    <tr>\n",
       "      <th>353</th>\n",
       "      <td>Baleia Rossi</td>\n",
       "      <td>Odair Cunha</td>\n",
       "      <td>PT</td>\n",
       "      <td>MG</td>\n",
       "    </tr>\n",
       "    <tr>\n",
       "      <th>354</th>\n",
       "      <td>Baleia Rossi</td>\n",
       "      <td>Patrus Ananias</td>\n",
       "      <td>PT</td>\n",
       "      <td>MG</td>\n",
       "    </tr>\n",
       "    <tr>\n",
       "      <th>355</th>\n",
       "      <td>Baleia Rossi</td>\n",
       "      <td>Paulão</td>\n",
       "      <td>PT</td>\n",
       "      <td>AL</td>\n",
       "    </tr>\n",
       "    <tr>\n",
       "      <th>356</th>\n",
       "      <td>Baleia Rossi</td>\n",
       "      <td>Paulo Teixeira</td>\n",
       "      <td>PT</td>\n",
       "      <td>SP</td>\n",
       "    </tr>\n",
       "    <tr>\n",
       "      <th>357</th>\n",
       "      <td>Baleia Rossi</td>\n",
       "      <td>Professora Rosa Neide</td>\n",
       "      <td>PT</td>\n",
       "      <td>MT</td>\n",
       "    </tr>\n",
       "    <tr>\n",
       "      <th>358</th>\n",
       "      <td>Baleia Rossi</td>\n",
       "      <td>Reginaldo Lopes</td>\n",
       "      <td>PT</td>\n",
       "      <td>MG</td>\n",
       "    </tr>\n",
       "    <tr>\n",
       "      <th>359</th>\n",
       "      <td>Baleia Rossi</td>\n",
       "      <td>Rejane Dias</td>\n",
       "      <td>PT</td>\n",
       "      <td>PI</td>\n",
       "    </tr>\n",
       "    <tr>\n",
       "      <th>360</th>\n",
       "      <td>Baleia Rossi</td>\n",
       "      <td>Rubens Otoni</td>\n",
       "      <td>PT</td>\n",
       "      <td>GO</td>\n",
       "    </tr>\n",
       "    <tr>\n",
       "      <th>361</th>\n",
       "      <td>Baleia Rossi</td>\n",
       "      <td>Rui Falcão</td>\n",
       "      <td>PT</td>\n",
       "      <td>SP</td>\n",
       "    </tr>\n",
       "    <tr>\n",
       "      <th>362</th>\n",
       "      <td>Baleia Rossi</td>\n",
       "      <td>Valmir Assunção</td>\n",
       "      <td>PT</td>\n",
       "      <td>BA</td>\n",
       "    </tr>\n",
       "    <tr>\n",
       "      <th>363</th>\n",
       "      <td>Baleia Rossi</td>\n",
       "      <td>Vicentinho</td>\n",
       "      <td>PT</td>\n",
       "      <td>SP</td>\n",
       "    </tr>\n",
       "    <tr>\n",
       "      <th>364</th>\n",
       "      <td>Baleia Rossi</td>\n",
       "      <td>Waldenor Pereira</td>\n",
       "      <td>PT</td>\n",
       "      <td>BA</td>\n",
       "    </tr>\n",
       "    <tr>\n",
       "      <th>476</th>\n",
       "      <td>Não quis responder</td>\n",
       "      <td>Helder Salomão</td>\n",
       "      <td>PT</td>\n",
       "      <td>ES</td>\n",
       "    </tr>\n",
       "    <tr>\n",
       "      <th>477</th>\n",
       "      <td>Não quis responder</td>\n",
       "      <td>Henrique Fontana</td>\n",
       "      <td>PT</td>\n",
       "      <td>RS</td>\n",
       "    </tr>\n",
       "    <tr>\n",
       "      <th>478</th>\n",
       "      <td>Não quis responder</td>\n",
       "      <td>Marcon</td>\n",
       "      <td>PT</td>\n",
       "      <td>RS</td>\n",
       "    </tr>\n",
       "    <tr>\n",
       "      <th>479</th>\n",
       "      <td>Não quis responder</td>\n",
       "      <td>Natália Bonavides</td>\n",
       "      <td>PT</td>\n",
       "      <td>RN</td>\n",
       "    </tr>\n",
       "    <tr>\n",
       "      <th>480</th>\n",
       "      <td>Não quis responder</td>\n",
       "      <td>Padre João</td>\n",
       "      <td>PT</td>\n",
       "      <td>MG</td>\n",
       "    </tr>\n",
       "    <tr>\n",
       "      <th>481</th>\n",
       "      <td>Não quis responder</td>\n",
       "      <td>Paulo Guedes</td>\n",
       "      <td>PT</td>\n",
       "      <td>MG</td>\n",
       "    </tr>\n",
       "    <tr>\n",
       "      <th>482</th>\n",
       "      <td>Não quis responder</td>\n",
       "      <td>Paulo Pimenta</td>\n",
       "      <td>PT</td>\n",
       "      <td>RS</td>\n",
       "    </tr>\n",
       "    <tr>\n",
       "      <th>483</th>\n",
       "      <td>Não quis responder</td>\n",
       "      <td>Pedro Uczai</td>\n",
       "      <td>PT</td>\n",
       "      <td>SC</td>\n",
       "    </tr>\n",
       "    <tr>\n",
       "      <th>484</th>\n",
       "      <td>Não quis responder</td>\n",
       "      <td>Rogério Correia</td>\n",
       "      <td>PT</td>\n",
       "      <td>MG</td>\n",
       "    </tr>\n",
       "    <tr>\n",
       "      <th>485</th>\n",
       "      <td>Não quis responder</td>\n",
       "      <td>Vander Loubet</td>\n",
       "      <td>PT</td>\n",
       "      <td>MS</td>\n",
       "    </tr>\n",
       "    <tr>\n",
       "      <th>486</th>\n",
       "      <td>Não quis responder</td>\n",
       "      <td>Zé Carlos</td>\n",
       "      <td>PT</td>\n",
       "      <td>MA</td>\n",
       "    </tr>\n",
       "    <tr>\n",
       "      <th>487</th>\n",
       "      <td>Não quis responder</td>\n",
       "      <td>Zé Neto</td>\n",
       "      <td>PT</td>\n",
       "      <td>BA</td>\n",
       "    </tr>\n",
       "    <tr>\n",
       "      <th>488</th>\n",
       "      <td>Não quis responder</td>\n",
       "      <td>Zeca Dirceu</td>\n",
       "      <td>PT</td>\n",
       "      <td>PR</td>\n",
       "    </tr>\n",
       "    <tr>\n",
       "      <th>511</th>\n",
       "      <td>Não foi encontrado</td>\n",
       "      <td>Célio Moura</td>\n",
       "      <td>PT</td>\n",
       "      <td>TO</td>\n",
       "    </tr>\n",
       "    <tr>\n",
       "      <th>512</th>\n",
       "      <td>Não foi encontrado</td>\n",
       "      <td>José Airton Félix Cirilo</td>\n",
       "      <td>PT</td>\n",
       "      <td>CE</td>\n",
       "    </tr>\n",
       "  </tbody>\n",
       "</table>\n",
       "</div>"
      ],
      "text/plain": [
       "                   Voto                   Deputado Partido Estado\n",
       "328        Baleia Rossi           Afonso Florence       PT     BA\n",
       "329        Baleia Rossi            Airton Faleiro       PT     PA\n",
       "330        Baleia Rossi     Alencar Santana Braga       PT     SP\n",
       "331        Baleia Rossi         Alexandre Padilha       PT     SP\n",
       "332        Baleia Rossi         Arlindo Chinaglia       PT     SP\n",
       "333        Baleia Rossi         Benedita da Silva       PT     RJ\n",
       "334        Baleia Rossi                 Beto Faro       PT     PA\n",
       "335        Baleia Rossi                 Bohn Gass       PT     RS\n",
       "336        Baleia Rossi              Carlos Veras       PT     PE\n",
       "337        Baleia Rossi          Carlos Zarattini       PT     SP\n",
       "338        Baleia Rossi                Enio Verri       PT     PR\n",
       "339        Baleia Rossi               Erika Kokay       PT     DF\n",
       "340        Baleia Rossi    Frei Anastacio Ribeiro       PT     PB\n",
       "341        Baleia Rossi           Gleisi Hoffmann       PT     PR\n",
       "342        Baleia Rossi               João Daniel       PT     SE\n",
       "343        Baleia Rossi               Jorge Solla       PT     BA\n",
       "344        Baleia Rossi            José Guimarães       PT     CE\n",
       "345        Baleia Rossi              José Ricardo       PT     AM\n",
       "346        Baleia Rossi            Joseildo Ramos       PT     BA\n",
       "347        Baleia Rossi              Leo de Brito       PT     AC\n",
       "348        Baleia Rossi         Leonardo Monteiro       PT     MG\n",
       "349        Baleia Rossi          Maria do Rosário       PT     RS\n",
       "350        Baleia Rossi            Marília Arraes       PT     PE\n",
       "351        Baleia Rossi            Merlong Solano       PT     PI\n",
       "352        Baleia Rossi               Nilto Tatto       PT     SP\n",
       "353        Baleia Rossi               Odair Cunha       PT     MG\n",
       "354        Baleia Rossi            Patrus Ananias       PT     MG\n",
       "355        Baleia Rossi                    Paulão       PT     AL\n",
       "356        Baleia Rossi            Paulo Teixeira       PT     SP\n",
       "357        Baleia Rossi     Professora Rosa Neide       PT     MT\n",
       "358        Baleia Rossi           Reginaldo Lopes       PT     MG\n",
       "359        Baleia Rossi               Rejane Dias       PT     PI\n",
       "360        Baleia Rossi              Rubens Otoni       PT     GO\n",
       "361        Baleia Rossi                Rui Falcão       PT     SP\n",
       "362        Baleia Rossi           Valmir Assunção       PT     BA\n",
       "363        Baleia Rossi                Vicentinho       PT     SP\n",
       "364        Baleia Rossi          Waldenor Pereira       PT     BA\n",
       "476  Não quis responder            Helder Salomão       PT     ES\n",
       "477  Não quis responder          Henrique Fontana       PT     RS\n",
       "478  Não quis responder                    Marcon       PT     RS\n",
       "479  Não quis responder         Natália Bonavides       PT     RN\n",
       "480  Não quis responder                Padre João       PT     MG\n",
       "481  Não quis responder              Paulo Guedes       PT     MG\n",
       "482  Não quis responder             Paulo Pimenta       PT     RS\n",
       "483  Não quis responder               Pedro Uczai       PT     SC\n",
       "484  Não quis responder           Rogério Correia       PT     MG\n",
       "485  Não quis responder             Vander Loubet       PT     MS\n",
       "486  Não quis responder                 Zé Carlos       PT     MA\n",
       "487  Não quis responder                   Zé Neto       PT     BA\n",
       "488  Não quis responder               Zeca Dirceu       PT     PR\n",
       "511  Não foi encontrado               Célio Moura       PT     TO\n",
       "512  Não foi encontrado  José Airton Félix Cirilo       PT     CE"
      ]
     },
     "execution_count": 27,
     "metadata": {},
     "output_type": "execute_result"
    }
   ],
   "source": [
    "pt_df = dados_eleicao_df.loc[dados_eleicao_df['Partido'] == 'PT']\n",
    "pt_df"
   ]
  },
  {
   "cell_type": "code",
   "execution_count": 28,
   "id": "408b5066",
   "metadata": {},
   "outputs": [
    {
     "data": {
      "application/vnd.plotly.v1+json": {
       "config": {
        "plotlyServerURL": "https://plot.ly"
       },
       "data": [
        {
         "domain": {
          "x": [
           0,
           1
          ],
          "y": [
           0,
           1
          ]
         },
         "hovertemplate": "Voto=%{label}<extra></extra>",
         "labels": [
          "Baleia Rossi",
          "Baleia Rossi",
          "Baleia Rossi",
          "Baleia Rossi",
          "Baleia Rossi",
          "Baleia Rossi",
          "Baleia Rossi",
          "Baleia Rossi",
          "Baleia Rossi",
          "Baleia Rossi",
          "Baleia Rossi",
          "Baleia Rossi",
          "Baleia Rossi",
          "Baleia Rossi",
          "Baleia Rossi",
          "Baleia Rossi",
          "Baleia Rossi",
          "Baleia Rossi",
          "Baleia Rossi",
          "Baleia Rossi",
          "Baleia Rossi",
          "Baleia Rossi",
          "Baleia Rossi",
          "Baleia Rossi",
          "Baleia Rossi",
          "Baleia Rossi",
          "Baleia Rossi",
          "Baleia Rossi",
          "Baleia Rossi",
          "Baleia Rossi",
          "Baleia Rossi",
          "Baleia Rossi",
          "Baleia Rossi",
          "Baleia Rossi",
          "Baleia Rossi",
          "Baleia Rossi",
          "Baleia Rossi",
          "Não quis responder",
          "Não quis responder",
          "Não quis responder",
          "Não quis responder",
          "Não quis responder",
          "Não quis responder",
          "Não quis responder",
          "Não quis responder",
          "Não quis responder",
          "Não quis responder",
          "Não quis responder",
          "Não quis responder",
          "Não quis responder",
          "Não foi encontrado",
          "Não foi encontrado"
         ],
         "legendgroup": "",
         "name": "",
         "showlegend": true,
         "type": "pie"
        }
       ],
       "layout": {
        "legend": {
         "tracegroupgap": 0
        },
        "margin": {
         "t": 60
        },
        "template": {
         "data": {
          "bar": [
           {
            "error_x": {
             "color": "#2a3f5f"
            },
            "error_y": {
             "color": "#2a3f5f"
            },
            "marker": {
             "line": {
              "color": "#E5ECF6",
              "width": 0.5
             },
             "pattern": {
              "fillmode": "overlay",
              "size": 10,
              "solidity": 0.2
             }
            },
            "type": "bar"
           }
          ],
          "barpolar": [
           {
            "marker": {
             "line": {
              "color": "#E5ECF6",
              "width": 0.5
             },
             "pattern": {
              "fillmode": "overlay",
              "size": 10,
              "solidity": 0.2
             }
            },
            "type": "barpolar"
           }
          ],
          "carpet": [
           {
            "aaxis": {
             "endlinecolor": "#2a3f5f",
             "gridcolor": "white",
             "linecolor": "white",
             "minorgridcolor": "white",
             "startlinecolor": "#2a3f5f"
            },
            "baxis": {
             "endlinecolor": "#2a3f5f",
             "gridcolor": "white",
             "linecolor": "white",
             "minorgridcolor": "white",
             "startlinecolor": "#2a3f5f"
            },
            "type": "carpet"
           }
          ],
          "choropleth": [
           {
            "colorbar": {
             "outlinewidth": 0,
             "ticks": ""
            },
            "type": "choropleth"
           }
          ],
          "contour": [
           {
            "colorbar": {
             "outlinewidth": 0,
             "ticks": ""
            },
            "colorscale": [
             [
              0,
              "#0d0887"
             ],
             [
              0.1111111111111111,
              "#46039f"
             ],
             [
              0.2222222222222222,
              "#7201a8"
             ],
             [
              0.3333333333333333,
              "#9c179e"
             ],
             [
              0.4444444444444444,
              "#bd3786"
             ],
             [
              0.5555555555555556,
              "#d8576b"
             ],
             [
              0.6666666666666666,
              "#ed7953"
             ],
             [
              0.7777777777777778,
              "#fb9f3a"
             ],
             [
              0.8888888888888888,
              "#fdca26"
             ],
             [
              1,
              "#f0f921"
             ]
            ],
            "type": "contour"
           }
          ],
          "contourcarpet": [
           {
            "colorbar": {
             "outlinewidth": 0,
             "ticks": ""
            },
            "type": "contourcarpet"
           }
          ],
          "heatmap": [
           {
            "colorbar": {
             "outlinewidth": 0,
             "ticks": ""
            },
            "colorscale": [
             [
              0,
              "#0d0887"
             ],
             [
              0.1111111111111111,
              "#46039f"
             ],
             [
              0.2222222222222222,
              "#7201a8"
             ],
             [
              0.3333333333333333,
              "#9c179e"
             ],
             [
              0.4444444444444444,
              "#bd3786"
             ],
             [
              0.5555555555555556,
              "#d8576b"
             ],
             [
              0.6666666666666666,
              "#ed7953"
             ],
             [
              0.7777777777777778,
              "#fb9f3a"
             ],
             [
              0.8888888888888888,
              "#fdca26"
             ],
             [
              1,
              "#f0f921"
             ]
            ],
            "type": "heatmap"
           }
          ],
          "heatmapgl": [
           {
            "colorbar": {
             "outlinewidth": 0,
             "ticks": ""
            },
            "colorscale": [
             [
              0,
              "#0d0887"
             ],
             [
              0.1111111111111111,
              "#46039f"
             ],
             [
              0.2222222222222222,
              "#7201a8"
             ],
             [
              0.3333333333333333,
              "#9c179e"
             ],
             [
              0.4444444444444444,
              "#bd3786"
             ],
             [
              0.5555555555555556,
              "#d8576b"
             ],
             [
              0.6666666666666666,
              "#ed7953"
             ],
             [
              0.7777777777777778,
              "#fb9f3a"
             ],
             [
              0.8888888888888888,
              "#fdca26"
             ],
             [
              1,
              "#f0f921"
             ]
            ],
            "type": "heatmapgl"
           }
          ],
          "histogram": [
           {
            "marker": {
             "pattern": {
              "fillmode": "overlay",
              "size": 10,
              "solidity": 0.2
             }
            },
            "type": "histogram"
           }
          ],
          "histogram2d": [
           {
            "colorbar": {
             "outlinewidth": 0,
             "ticks": ""
            },
            "colorscale": [
             [
              0,
              "#0d0887"
             ],
             [
              0.1111111111111111,
              "#46039f"
             ],
             [
              0.2222222222222222,
              "#7201a8"
             ],
             [
              0.3333333333333333,
              "#9c179e"
             ],
             [
              0.4444444444444444,
              "#bd3786"
             ],
             [
              0.5555555555555556,
              "#d8576b"
             ],
             [
              0.6666666666666666,
              "#ed7953"
             ],
             [
              0.7777777777777778,
              "#fb9f3a"
             ],
             [
              0.8888888888888888,
              "#fdca26"
             ],
             [
              1,
              "#f0f921"
             ]
            ],
            "type": "histogram2d"
           }
          ],
          "histogram2dcontour": [
           {
            "colorbar": {
             "outlinewidth": 0,
             "ticks": ""
            },
            "colorscale": [
             [
              0,
              "#0d0887"
             ],
             [
              0.1111111111111111,
              "#46039f"
             ],
             [
              0.2222222222222222,
              "#7201a8"
             ],
             [
              0.3333333333333333,
              "#9c179e"
             ],
             [
              0.4444444444444444,
              "#bd3786"
             ],
             [
              0.5555555555555556,
              "#d8576b"
             ],
             [
              0.6666666666666666,
              "#ed7953"
             ],
             [
              0.7777777777777778,
              "#fb9f3a"
             ],
             [
              0.8888888888888888,
              "#fdca26"
             ],
             [
              1,
              "#f0f921"
             ]
            ],
            "type": "histogram2dcontour"
           }
          ],
          "mesh3d": [
           {
            "colorbar": {
             "outlinewidth": 0,
             "ticks": ""
            },
            "type": "mesh3d"
           }
          ],
          "parcoords": [
           {
            "line": {
             "colorbar": {
              "outlinewidth": 0,
              "ticks": ""
             }
            },
            "type": "parcoords"
           }
          ],
          "pie": [
           {
            "automargin": true,
            "type": "pie"
           }
          ],
          "scatter": [
           {
            "fillpattern": {
             "fillmode": "overlay",
             "size": 10,
             "solidity": 0.2
            },
            "type": "scatter"
           }
          ],
          "scatter3d": [
           {
            "line": {
             "colorbar": {
              "outlinewidth": 0,
              "ticks": ""
             }
            },
            "marker": {
             "colorbar": {
              "outlinewidth": 0,
              "ticks": ""
             }
            },
            "type": "scatter3d"
           }
          ],
          "scattercarpet": [
           {
            "marker": {
             "colorbar": {
              "outlinewidth": 0,
              "ticks": ""
             }
            },
            "type": "scattercarpet"
           }
          ],
          "scattergeo": [
           {
            "marker": {
             "colorbar": {
              "outlinewidth": 0,
              "ticks": ""
             }
            },
            "type": "scattergeo"
           }
          ],
          "scattergl": [
           {
            "marker": {
             "colorbar": {
              "outlinewidth": 0,
              "ticks": ""
             }
            },
            "type": "scattergl"
           }
          ],
          "scattermapbox": [
           {
            "marker": {
             "colorbar": {
              "outlinewidth": 0,
              "ticks": ""
             }
            },
            "type": "scattermapbox"
           }
          ],
          "scatterpolar": [
           {
            "marker": {
             "colorbar": {
              "outlinewidth": 0,
              "ticks": ""
             }
            },
            "type": "scatterpolar"
           }
          ],
          "scatterpolargl": [
           {
            "marker": {
             "colorbar": {
              "outlinewidth": 0,
              "ticks": ""
             }
            },
            "type": "scatterpolargl"
           }
          ],
          "scatterternary": [
           {
            "marker": {
             "colorbar": {
              "outlinewidth": 0,
              "ticks": ""
             }
            },
            "type": "scatterternary"
           }
          ],
          "surface": [
           {
            "colorbar": {
             "outlinewidth": 0,
             "ticks": ""
            },
            "colorscale": [
             [
              0,
              "#0d0887"
             ],
             [
              0.1111111111111111,
              "#46039f"
             ],
             [
              0.2222222222222222,
              "#7201a8"
             ],
             [
              0.3333333333333333,
              "#9c179e"
             ],
             [
              0.4444444444444444,
              "#bd3786"
             ],
             [
              0.5555555555555556,
              "#d8576b"
             ],
             [
              0.6666666666666666,
              "#ed7953"
             ],
             [
              0.7777777777777778,
              "#fb9f3a"
             ],
             [
              0.8888888888888888,
              "#fdca26"
             ],
             [
              1,
              "#f0f921"
             ]
            ],
            "type": "surface"
           }
          ],
          "table": [
           {
            "cells": {
             "fill": {
              "color": "#EBF0F8"
             },
             "line": {
              "color": "white"
             }
            },
            "header": {
             "fill": {
              "color": "#C8D4E3"
             },
             "line": {
              "color": "white"
             }
            },
            "type": "table"
           }
          ]
         },
         "layout": {
          "annotationdefaults": {
           "arrowcolor": "#2a3f5f",
           "arrowhead": 0,
           "arrowwidth": 1
          },
          "autotypenumbers": "strict",
          "coloraxis": {
           "colorbar": {
            "outlinewidth": 0,
            "ticks": ""
           }
          },
          "colorscale": {
           "diverging": [
            [
             0,
             "#8e0152"
            ],
            [
             0.1,
             "#c51b7d"
            ],
            [
             0.2,
             "#de77ae"
            ],
            [
             0.3,
             "#f1b6da"
            ],
            [
             0.4,
             "#fde0ef"
            ],
            [
             0.5,
             "#f7f7f7"
            ],
            [
             0.6,
             "#e6f5d0"
            ],
            [
             0.7,
             "#b8e186"
            ],
            [
             0.8,
             "#7fbc41"
            ],
            [
             0.9,
             "#4d9221"
            ],
            [
             1,
             "#276419"
            ]
           ],
           "sequential": [
            [
             0,
             "#0d0887"
            ],
            [
             0.1111111111111111,
             "#46039f"
            ],
            [
             0.2222222222222222,
             "#7201a8"
            ],
            [
             0.3333333333333333,
             "#9c179e"
            ],
            [
             0.4444444444444444,
             "#bd3786"
            ],
            [
             0.5555555555555556,
             "#d8576b"
            ],
            [
             0.6666666666666666,
             "#ed7953"
            ],
            [
             0.7777777777777778,
             "#fb9f3a"
            ],
            [
             0.8888888888888888,
             "#fdca26"
            ],
            [
             1,
             "#f0f921"
            ]
           ],
           "sequentialminus": [
            [
             0,
             "#0d0887"
            ],
            [
             0.1111111111111111,
             "#46039f"
            ],
            [
             0.2222222222222222,
             "#7201a8"
            ],
            [
             0.3333333333333333,
             "#9c179e"
            ],
            [
             0.4444444444444444,
             "#bd3786"
            ],
            [
             0.5555555555555556,
             "#d8576b"
            ],
            [
             0.6666666666666666,
             "#ed7953"
            ],
            [
             0.7777777777777778,
             "#fb9f3a"
            ],
            [
             0.8888888888888888,
             "#fdca26"
            ],
            [
             1,
             "#f0f921"
            ]
           ]
          },
          "colorway": [
           "#636efa",
           "#EF553B",
           "#00cc96",
           "#ab63fa",
           "#FFA15A",
           "#19d3f3",
           "#FF6692",
           "#B6E880",
           "#FF97FF",
           "#FECB52"
          ],
          "font": {
           "color": "#2a3f5f"
          },
          "geo": {
           "bgcolor": "white",
           "lakecolor": "white",
           "landcolor": "#E5ECF6",
           "showlakes": true,
           "showland": true,
           "subunitcolor": "white"
          },
          "hoverlabel": {
           "align": "left"
          },
          "hovermode": "closest",
          "mapbox": {
           "style": "light"
          },
          "paper_bgcolor": "white",
          "plot_bgcolor": "#E5ECF6",
          "polar": {
           "angularaxis": {
            "gridcolor": "white",
            "linecolor": "white",
            "ticks": ""
           },
           "bgcolor": "#E5ECF6",
           "radialaxis": {
            "gridcolor": "white",
            "linecolor": "white",
            "ticks": ""
           }
          },
          "scene": {
           "xaxis": {
            "backgroundcolor": "#E5ECF6",
            "gridcolor": "white",
            "gridwidth": 2,
            "linecolor": "white",
            "showbackground": true,
            "ticks": "",
            "zerolinecolor": "white"
           },
           "yaxis": {
            "backgroundcolor": "#E5ECF6",
            "gridcolor": "white",
            "gridwidth": 2,
            "linecolor": "white",
            "showbackground": true,
            "ticks": "",
            "zerolinecolor": "white"
           },
           "zaxis": {
            "backgroundcolor": "#E5ECF6",
            "gridcolor": "white",
            "gridwidth": 2,
            "linecolor": "white",
            "showbackground": true,
            "ticks": "",
            "zerolinecolor": "white"
           }
          },
          "shapedefaults": {
           "line": {
            "color": "#2a3f5f"
           }
          },
          "ternary": {
           "aaxis": {
            "gridcolor": "white",
            "linecolor": "white",
            "ticks": ""
           },
           "baxis": {
            "gridcolor": "white",
            "linecolor": "white",
            "ticks": ""
           },
           "bgcolor": "#E5ECF6",
           "caxis": {
            "gridcolor": "white",
            "linecolor": "white",
            "ticks": ""
           }
          },
          "title": {
           "x": 0.05
          },
          "xaxis": {
           "automargin": true,
           "gridcolor": "white",
           "linecolor": "white",
           "ticks": "",
           "title": {
            "standoff": 15
           },
           "zerolinecolor": "white",
           "zerolinewidth": 2
          },
          "yaxis": {
           "automargin": true,
           "gridcolor": "white",
           "linecolor": "white",
           "ticks": "",
           "title": {
            "standoff": 15
           },
           "zerolinecolor": "white",
           "zerolinewidth": 2
          }
         }
        }
       }
      },
      "text/html": [
       "<div>                            <div id=\"ad08dbae-40c7-4ce3-a227-e787028cc8d1\" class=\"plotly-graph-div\" style=\"height:525px; width:100%;\"></div>            <script type=\"text/javascript\">                require([\"plotly\"], function(Plotly) {                    window.PLOTLYENV=window.PLOTLYENV || {};                                    if (document.getElementById(\"ad08dbae-40c7-4ce3-a227-e787028cc8d1\")) {                    Plotly.newPlot(                        \"ad08dbae-40c7-4ce3-a227-e787028cc8d1\",                        [{\"domain\":{\"x\":[0.0,1.0],\"y\":[0.0,1.0]},\"hovertemplate\":\"Voto=%{label}<extra></extra>\",\"labels\":[\"Baleia Rossi\",\"Baleia Rossi\",\"Baleia Rossi\",\"Baleia Rossi\",\"Baleia Rossi\",\"Baleia Rossi\",\"Baleia Rossi\",\"Baleia Rossi\",\"Baleia Rossi\",\"Baleia Rossi\",\"Baleia Rossi\",\"Baleia Rossi\",\"Baleia Rossi\",\"Baleia Rossi\",\"Baleia Rossi\",\"Baleia Rossi\",\"Baleia Rossi\",\"Baleia Rossi\",\"Baleia Rossi\",\"Baleia Rossi\",\"Baleia Rossi\",\"Baleia Rossi\",\"Baleia Rossi\",\"Baleia Rossi\",\"Baleia Rossi\",\"Baleia Rossi\",\"Baleia Rossi\",\"Baleia Rossi\",\"Baleia Rossi\",\"Baleia Rossi\",\"Baleia Rossi\",\"Baleia Rossi\",\"Baleia Rossi\",\"Baleia Rossi\",\"Baleia Rossi\",\"Baleia Rossi\",\"Baleia Rossi\",\"N\\u00e3o quis responder\",\"N\\u00e3o quis responder\",\"N\\u00e3o quis responder\",\"N\\u00e3o quis responder\",\"N\\u00e3o quis responder\",\"N\\u00e3o quis responder\",\"N\\u00e3o quis responder\",\"N\\u00e3o quis responder\",\"N\\u00e3o quis responder\",\"N\\u00e3o quis responder\",\"N\\u00e3o quis responder\",\"N\\u00e3o quis responder\",\"N\\u00e3o quis responder\",\"N\\u00e3o foi encontrado\",\"N\\u00e3o foi encontrado\"],\"legendgroup\":\"\",\"name\":\"\",\"showlegend\":true,\"type\":\"pie\"}],                        {\"template\":{\"data\":{\"histogram2dcontour\":[{\"type\":\"histogram2dcontour\",\"colorbar\":{\"outlinewidth\":0,\"ticks\":\"\"},\"colorscale\":[[0.0,\"#0d0887\"],[0.1111111111111111,\"#46039f\"],[0.2222222222222222,\"#7201a8\"],[0.3333333333333333,\"#9c179e\"],[0.4444444444444444,\"#bd3786\"],[0.5555555555555556,\"#d8576b\"],[0.6666666666666666,\"#ed7953\"],[0.7777777777777778,\"#fb9f3a\"],[0.8888888888888888,\"#fdca26\"],[1.0,\"#f0f921\"]]}],\"choropleth\":[{\"type\":\"choropleth\",\"colorbar\":{\"outlinewidth\":0,\"ticks\":\"\"}}],\"histogram2d\":[{\"type\":\"histogram2d\",\"colorbar\":{\"outlinewidth\":0,\"ticks\":\"\"},\"colorscale\":[[0.0,\"#0d0887\"],[0.1111111111111111,\"#46039f\"],[0.2222222222222222,\"#7201a8\"],[0.3333333333333333,\"#9c179e\"],[0.4444444444444444,\"#bd3786\"],[0.5555555555555556,\"#d8576b\"],[0.6666666666666666,\"#ed7953\"],[0.7777777777777778,\"#fb9f3a\"],[0.8888888888888888,\"#fdca26\"],[1.0,\"#f0f921\"]]}],\"heatmap\":[{\"type\":\"heatmap\",\"colorbar\":{\"outlinewidth\":0,\"ticks\":\"\"},\"colorscale\":[[0.0,\"#0d0887\"],[0.1111111111111111,\"#46039f\"],[0.2222222222222222,\"#7201a8\"],[0.3333333333333333,\"#9c179e\"],[0.4444444444444444,\"#bd3786\"],[0.5555555555555556,\"#d8576b\"],[0.6666666666666666,\"#ed7953\"],[0.7777777777777778,\"#fb9f3a\"],[0.8888888888888888,\"#fdca26\"],[1.0,\"#f0f921\"]]}],\"heatmapgl\":[{\"type\":\"heatmapgl\",\"colorbar\":{\"outlinewidth\":0,\"ticks\":\"\"},\"colorscale\":[[0.0,\"#0d0887\"],[0.1111111111111111,\"#46039f\"],[0.2222222222222222,\"#7201a8\"],[0.3333333333333333,\"#9c179e\"],[0.4444444444444444,\"#bd3786\"],[0.5555555555555556,\"#d8576b\"],[0.6666666666666666,\"#ed7953\"],[0.7777777777777778,\"#fb9f3a\"],[0.8888888888888888,\"#fdca26\"],[1.0,\"#f0f921\"]]}],\"contourcarpet\":[{\"type\":\"contourcarpet\",\"colorbar\":{\"outlinewidth\":0,\"ticks\":\"\"}}],\"contour\":[{\"type\":\"contour\",\"colorbar\":{\"outlinewidth\":0,\"ticks\":\"\"},\"colorscale\":[[0.0,\"#0d0887\"],[0.1111111111111111,\"#46039f\"],[0.2222222222222222,\"#7201a8\"],[0.3333333333333333,\"#9c179e\"],[0.4444444444444444,\"#bd3786\"],[0.5555555555555556,\"#d8576b\"],[0.6666666666666666,\"#ed7953\"],[0.7777777777777778,\"#fb9f3a\"],[0.8888888888888888,\"#fdca26\"],[1.0,\"#f0f921\"]]}],\"surface\":[{\"type\":\"surface\",\"colorbar\":{\"outlinewidth\":0,\"ticks\":\"\"},\"colorscale\":[[0.0,\"#0d0887\"],[0.1111111111111111,\"#46039f\"],[0.2222222222222222,\"#7201a8\"],[0.3333333333333333,\"#9c179e\"],[0.4444444444444444,\"#bd3786\"],[0.5555555555555556,\"#d8576b\"],[0.6666666666666666,\"#ed7953\"],[0.7777777777777778,\"#fb9f3a\"],[0.8888888888888888,\"#fdca26\"],[1.0,\"#f0f921\"]]}],\"mesh3d\":[{\"type\":\"mesh3d\",\"colorbar\":{\"outlinewidth\":0,\"ticks\":\"\"}}],\"scatter\":[{\"fillpattern\":{\"fillmode\":\"overlay\",\"size\":10,\"solidity\":0.2},\"type\":\"scatter\"}],\"parcoords\":[{\"type\":\"parcoords\",\"line\":{\"colorbar\":{\"outlinewidth\":0,\"ticks\":\"\"}}}],\"scatterpolargl\":[{\"type\":\"scatterpolargl\",\"marker\":{\"colorbar\":{\"outlinewidth\":0,\"ticks\":\"\"}}}],\"bar\":[{\"error_x\":{\"color\":\"#2a3f5f\"},\"error_y\":{\"color\":\"#2a3f5f\"},\"marker\":{\"line\":{\"color\":\"#E5ECF6\",\"width\":0.5},\"pattern\":{\"fillmode\":\"overlay\",\"size\":10,\"solidity\":0.2}},\"type\":\"bar\"}],\"scattergeo\":[{\"type\":\"scattergeo\",\"marker\":{\"colorbar\":{\"outlinewidth\":0,\"ticks\":\"\"}}}],\"scatterpolar\":[{\"type\":\"scatterpolar\",\"marker\":{\"colorbar\":{\"outlinewidth\":0,\"ticks\":\"\"}}}],\"histogram\":[{\"marker\":{\"pattern\":{\"fillmode\":\"overlay\",\"size\":10,\"solidity\":0.2}},\"type\":\"histogram\"}],\"scattergl\":[{\"type\":\"scattergl\",\"marker\":{\"colorbar\":{\"outlinewidth\":0,\"ticks\":\"\"}}}],\"scatter3d\":[{\"type\":\"scatter3d\",\"line\":{\"colorbar\":{\"outlinewidth\":0,\"ticks\":\"\"}},\"marker\":{\"colorbar\":{\"outlinewidth\":0,\"ticks\":\"\"}}}],\"scattermapbox\":[{\"type\":\"scattermapbox\",\"marker\":{\"colorbar\":{\"outlinewidth\":0,\"ticks\":\"\"}}}],\"scatterternary\":[{\"type\":\"scatterternary\",\"marker\":{\"colorbar\":{\"outlinewidth\":0,\"ticks\":\"\"}}}],\"scattercarpet\":[{\"type\":\"scattercarpet\",\"marker\":{\"colorbar\":{\"outlinewidth\":0,\"ticks\":\"\"}}}],\"carpet\":[{\"aaxis\":{\"endlinecolor\":\"#2a3f5f\",\"gridcolor\":\"white\",\"linecolor\":\"white\",\"minorgridcolor\":\"white\",\"startlinecolor\":\"#2a3f5f\"},\"baxis\":{\"endlinecolor\":\"#2a3f5f\",\"gridcolor\":\"white\",\"linecolor\":\"white\",\"minorgridcolor\":\"white\",\"startlinecolor\":\"#2a3f5f\"},\"type\":\"carpet\"}],\"table\":[{\"cells\":{\"fill\":{\"color\":\"#EBF0F8\"},\"line\":{\"color\":\"white\"}},\"header\":{\"fill\":{\"color\":\"#C8D4E3\"},\"line\":{\"color\":\"white\"}},\"type\":\"table\"}],\"barpolar\":[{\"marker\":{\"line\":{\"color\":\"#E5ECF6\",\"width\":0.5},\"pattern\":{\"fillmode\":\"overlay\",\"size\":10,\"solidity\":0.2}},\"type\":\"barpolar\"}],\"pie\":[{\"automargin\":true,\"type\":\"pie\"}]},\"layout\":{\"autotypenumbers\":\"strict\",\"colorway\":[\"#636efa\",\"#EF553B\",\"#00cc96\",\"#ab63fa\",\"#FFA15A\",\"#19d3f3\",\"#FF6692\",\"#B6E880\",\"#FF97FF\",\"#FECB52\"],\"font\":{\"color\":\"#2a3f5f\"},\"hovermode\":\"closest\",\"hoverlabel\":{\"align\":\"left\"},\"paper_bgcolor\":\"white\",\"plot_bgcolor\":\"#E5ECF6\",\"polar\":{\"bgcolor\":\"#E5ECF6\",\"angularaxis\":{\"gridcolor\":\"white\",\"linecolor\":\"white\",\"ticks\":\"\"},\"radialaxis\":{\"gridcolor\":\"white\",\"linecolor\":\"white\",\"ticks\":\"\"}},\"ternary\":{\"bgcolor\":\"#E5ECF6\",\"aaxis\":{\"gridcolor\":\"white\",\"linecolor\":\"white\",\"ticks\":\"\"},\"baxis\":{\"gridcolor\":\"white\",\"linecolor\":\"white\",\"ticks\":\"\"},\"caxis\":{\"gridcolor\":\"white\",\"linecolor\":\"white\",\"ticks\":\"\"}},\"coloraxis\":{\"colorbar\":{\"outlinewidth\":0,\"ticks\":\"\"}},\"colorscale\":{\"sequential\":[[0.0,\"#0d0887\"],[0.1111111111111111,\"#46039f\"],[0.2222222222222222,\"#7201a8\"],[0.3333333333333333,\"#9c179e\"],[0.4444444444444444,\"#bd3786\"],[0.5555555555555556,\"#d8576b\"],[0.6666666666666666,\"#ed7953\"],[0.7777777777777778,\"#fb9f3a\"],[0.8888888888888888,\"#fdca26\"],[1.0,\"#f0f921\"]],\"sequentialminus\":[[0.0,\"#0d0887\"],[0.1111111111111111,\"#46039f\"],[0.2222222222222222,\"#7201a8\"],[0.3333333333333333,\"#9c179e\"],[0.4444444444444444,\"#bd3786\"],[0.5555555555555556,\"#d8576b\"],[0.6666666666666666,\"#ed7953\"],[0.7777777777777778,\"#fb9f3a\"],[0.8888888888888888,\"#fdca26\"],[1.0,\"#f0f921\"]],\"diverging\":[[0,\"#8e0152\"],[0.1,\"#c51b7d\"],[0.2,\"#de77ae\"],[0.3,\"#f1b6da\"],[0.4,\"#fde0ef\"],[0.5,\"#f7f7f7\"],[0.6,\"#e6f5d0\"],[0.7,\"#b8e186\"],[0.8,\"#7fbc41\"],[0.9,\"#4d9221\"],[1,\"#276419\"]]},\"xaxis\":{\"gridcolor\":\"white\",\"linecolor\":\"white\",\"ticks\":\"\",\"title\":{\"standoff\":15},\"zerolinecolor\":\"white\",\"automargin\":true,\"zerolinewidth\":2},\"yaxis\":{\"gridcolor\":\"white\",\"linecolor\":\"white\",\"ticks\":\"\",\"title\":{\"standoff\":15},\"zerolinecolor\":\"white\",\"automargin\":true,\"zerolinewidth\":2},\"scene\":{\"xaxis\":{\"backgroundcolor\":\"#E5ECF6\",\"gridcolor\":\"white\",\"linecolor\":\"white\",\"showbackground\":true,\"ticks\":\"\",\"zerolinecolor\":\"white\",\"gridwidth\":2},\"yaxis\":{\"backgroundcolor\":\"#E5ECF6\",\"gridcolor\":\"white\",\"linecolor\":\"white\",\"showbackground\":true,\"ticks\":\"\",\"zerolinecolor\":\"white\",\"gridwidth\":2},\"zaxis\":{\"backgroundcolor\":\"#E5ECF6\",\"gridcolor\":\"white\",\"linecolor\":\"white\",\"showbackground\":true,\"ticks\":\"\",\"zerolinecolor\":\"white\",\"gridwidth\":2}},\"shapedefaults\":{\"line\":{\"color\":\"#2a3f5f\"}},\"annotationdefaults\":{\"arrowcolor\":\"#2a3f5f\",\"arrowhead\":0,\"arrowwidth\":1},\"geo\":{\"bgcolor\":\"white\",\"landcolor\":\"#E5ECF6\",\"subunitcolor\":\"white\",\"showland\":true,\"showlakes\":true,\"lakecolor\":\"white\"},\"title\":{\"x\":0.05},\"mapbox\":{\"style\":\"light\"}}},\"legend\":{\"tracegroupgap\":0},\"margin\":{\"t\":60}},                        {\"responsive\": true}                    ).then(function(){\n",
       "                            \n",
       "var gd = document.getElementById('ad08dbae-40c7-4ce3-a227-e787028cc8d1');\n",
       "var x = new MutationObserver(function (mutations, observer) {{\n",
       "        var display = window.getComputedStyle(gd).display;\n",
       "        if (!display || display === 'none') {{\n",
       "            console.log([gd, 'removed!']);\n",
       "            Plotly.purge(gd);\n",
       "            observer.disconnect();\n",
       "        }}\n",
       "}});\n",
       "\n",
       "// Listen for the removal of the full notebook cells\n",
       "var notebookContainer = gd.closest('#notebook-container');\n",
       "if (notebookContainer) {{\n",
       "    x.observe(notebookContainer, {childList: true});\n",
       "}}\n",
       "\n",
       "// Listen for the clearing of the current output cell\n",
       "var outputEl = gd.closest('.output');\n",
       "if (outputEl) {{\n",
       "    x.observe(outputEl, {childList: true});\n",
       "}}\n",
       "\n",
       "                        })                };                });            </script>        </div>"
      ]
     },
     "metadata": {},
     "output_type": "display_data"
    }
   ],
   "source": [
    "grafico_pt = plx.pie(pt_df, names='Voto')\n",
    "grafico_pt"
   ]
  },
  {
   "cell_type": "code",
   "execution_count": null,
   "id": "41b06ca1",
   "metadata": {},
   "outputs": [],
   "source": [
    "plt.figure(figsize=(15,120))\n",
    "plt.pie(qt_dep_partido['Quantidade'], labels = qt_dep_partido['Partido'],autopct='%1.1f%%')\n",
    "plt.show()"
   ]
  },
  {
   "cell_type": "code",
   "execution_count": 83,
   "id": "d96b5b94",
   "metadata": {},
   "outputs": [
    {
     "data": {
      "text/html": [
       "<div>\n",
       "<style scoped>\n",
       "    .dataframe tbody tr th:only-of-type {\n",
       "        vertical-align: middle;\n",
       "    }\n",
       "\n",
       "    .dataframe tbody tr th {\n",
       "        vertical-align: top;\n",
       "    }\n",
       "\n",
       "    .dataframe thead th {\n",
       "        text-align: right;\n",
       "    }\n",
       "</style>\n",
       "<table border=\"1\" class=\"dataframe\">\n",
       "  <thead>\n",
       "    <tr style=\"text-align: right;\">\n",
       "      <th></th>\n",
       "      <th>Voto</th>\n",
       "    </tr>\n",
       "  </thead>\n",
       "  <tbody>\n",
       "    <tr>\n",
       "      <th>Baleia Rossi</th>\n",
       "      <td>37</td>\n",
       "    </tr>\n",
       "    <tr>\n",
       "      <th>Não quis responder</th>\n",
       "      <td>13</td>\n",
       "    </tr>\n",
       "    <tr>\n",
       "      <th>Não foi encontrado</th>\n",
       "      <td>2</td>\n",
       "    </tr>\n",
       "  </tbody>\n",
       "</table>\n",
       "</div>"
      ],
      "text/plain": [
       "                    Voto\n",
       "Baleia Rossi          37\n",
       "Não quis responder    13\n",
       "Não foi encontrado     2"
      ]
     },
     "execution_count": 83,
     "metadata": {},
     "output_type": "execute_result"
    }
   ],
   "source": [
    "votos_df = pt_df['Voto'].value_counts()\n",
    "votos_df = votos_df.to_frame()\n",
    "votos_df"
   ]
  },
  {
   "cell_type": "code",
   "execution_count": 90,
   "id": "010dfe4a",
   "metadata": {},
   "outputs": [
    {
     "data": {
      "image/png": "[encoded data removed]",
      "text/plain": [
       "<Figure size 1080x720 with 1 Axes>"
      ]
     },
     "metadata": {},
     "output_type": "display_data"
    }
   ],
   "source": [
    "\n",
    "plt.figure(figsize=(15,10))\n",
    "plt.pie(votos_df['Voto'],labels=votos_df.index,autopct='%1.1f%%')\n",
    "plt.show()"
   ]
  },
  {
   "cell_type": "markdown",
   "id": "9c995518",
   "metadata": {},
   "source": [
    "## Pegando informações do PSL"
   ]
  },
  {
   "cell_type": "code",
   "execution_count": 29,
   "id": "c5071d59",
   "metadata": {},
   "outputs": [
    {
     "data": {
      "text/html": [
       "<div>\n",
       "<style scoped>\n",
       "    .dataframe tbody tr th:only-of-type {\n",
       "        vertical-align: middle;\n",
       "    }\n",
       "\n",
       "    .dataframe tbody tr th {\n",
       "        vertical-align: top;\n",
       "    }\n",
       "\n",
       "    .dataframe thead th {\n",
       "        text-align: right;\n",
       "    }\n",
       "</style>\n",
       "<table border=\"1\" class=\"dataframe\">\n",
       "  <thead>\n",
       "    <tr style=\"text-align: right;\">\n",
       "      <th></th>\n",
       "      <th>Voto</th>\n",
       "      <th>Deputado</th>\n",
       "      <th>Partido</th>\n",
       "      <th>Estado</th>\n",
       "    </tr>\n",
       "  </thead>\n",
       "  <tbody>\n",
       "    <tr>\n",
       "      <th>162</th>\n",
       "      <td>Arthur Lira</td>\n",
       "      <td>Alê Silva</td>\n",
       "      <td>PSL</td>\n",
       "      <td>MG</td>\n",
       "    </tr>\n",
       "    <tr>\n",
       "      <th>163</th>\n",
       "      <td>Arthur Lira</td>\n",
       "      <td>Aline Sleutjes</td>\n",
       "      <td>PSL</td>\n",
       "      <td>PR</td>\n",
       "    </tr>\n",
       "    <tr>\n",
       "      <th>164</th>\n",
       "      <td>Arthur Lira</td>\n",
       "      <td>Bia Kicis</td>\n",
       "      <td>PSL</td>\n",
       "      <td>DF</td>\n",
       "    </tr>\n",
       "    <tr>\n",
       "      <th>165</th>\n",
       "      <td>Arthur Lira</td>\n",
       "      <td>Bibo Nunes</td>\n",
       "      <td>PSL</td>\n",
       "      <td>RS</td>\n",
       "    </tr>\n",
       "    <tr>\n",
       "      <th>166</th>\n",
       "      <td>Arthur Lira</td>\n",
       "      <td>Carla Zambelli</td>\n",
       "      <td>PSL</td>\n",
       "      <td>SP</td>\n",
       "    </tr>\n",
       "    <tr>\n",
       "      <th>167</th>\n",
       "      <td>Arthur Lira</td>\n",
       "      <td>Carlos Jordy</td>\n",
       "      <td>PSL</td>\n",
       "      <td>RJ</td>\n",
       "    </tr>\n",
       "    <tr>\n",
       "      <th>168</th>\n",
       "      <td>Arthur Lira</td>\n",
       "      <td>Caroline de Toni</td>\n",
       "      <td>PSL</td>\n",
       "      <td>SC</td>\n",
       "    </tr>\n",
       "    <tr>\n",
       "      <th>169</th>\n",
       "      <td>Arthur Lira</td>\n",
       "      <td>Chris Tonietto</td>\n",
       "      <td>PSL</td>\n",
       "      <td>RJ</td>\n",
       "    </tr>\n",
       "    <tr>\n",
       "      <th>170</th>\n",
       "      <td>Arthur Lira</td>\n",
       "      <td>Coronel Armando</td>\n",
       "      <td>PSL</td>\n",
       "      <td>SC</td>\n",
       "    </tr>\n",
       "    <tr>\n",
       "      <th>171</th>\n",
       "      <td>Arthur Lira</td>\n",
       "      <td>Coronel Chrisóstomo</td>\n",
       "      <td>PSL</td>\n",
       "      <td>RO</td>\n",
       "    </tr>\n",
       "    <tr>\n",
       "      <th>172</th>\n",
       "      <td>Arthur Lira</td>\n",
       "      <td>Coronel Tadeu</td>\n",
       "      <td>PSL</td>\n",
       "      <td>SP</td>\n",
       "    </tr>\n",
       "    <tr>\n",
       "      <th>173</th>\n",
       "      <td>Arthur Lira</td>\n",
       "      <td>Daniel Freitas</td>\n",
       "      <td>PSL</td>\n",
       "      <td>SC</td>\n",
       "    </tr>\n",
       "    <tr>\n",
       "      <th>174</th>\n",
       "      <td>Arthur Lira</td>\n",
       "      <td>Daniel Silveira</td>\n",
       "      <td>PSL</td>\n",
       "      <td>RJ</td>\n",
       "    </tr>\n",
       "    <tr>\n",
       "      <th>175</th>\n",
       "      <td>Arthur Lira</td>\n",
       "      <td>Delegado Antônio Furtado</td>\n",
       "      <td>PSL</td>\n",
       "      <td>RJ</td>\n",
       "    </tr>\n",
       "    <tr>\n",
       "      <th>176</th>\n",
       "      <td>Arthur Lira</td>\n",
       "      <td>Dr. Luiz Ovando</td>\n",
       "      <td>PSL</td>\n",
       "      <td>MS</td>\n",
       "    </tr>\n",
       "    <tr>\n",
       "      <th>177</th>\n",
       "      <td>Arthur Lira</td>\n",
       "      <td>Dra. Soraya Manato</td>\n",
       "      <td>PSL</td>\n",
       "      <td>ES</td>\n",
       "    </tr>\n",
       "    <tr>\n",
       "      <th>178</th>\n",
       "      <td>Arthur Lira</td>\n",
       "      <td>Eduardo Bolsonaro</td>\n",
       "      <td>PSL</td>\n",
       "      <td>SP</td>\n",
       "    </tr>\n",
       "    <tr>\n",
       "      <th>179</th>\n",
       "      <td>Arthur Lira</td>\n",
       "      <td>Filipe Barros</td>\n",
       "      <td>PSL</td>\n",
       "      <td>PR</td>\n",
       "    </tr>\n",
       "    <tr>\n",
       "      <th>180</th>\n",
       "      <td>Arthur Lira</td>\n",
       "      <td>General Girão</td>\n",
       "      <td>PSL</td>\n",
       "      <td>RN</td>\n",
       "    </tr>\n",
       "    <tr>\n",
       "      <th>181</th>\n",
       "      <td>Arthur Lira</td>\n",
       "      <td>Guiga Peixoto</td>\n",
       "      <td>PSL</td>\n",
       "      <td>SP</td>\n",
       "    </tr>\n",
       "    <tr>\n",
       "      <th>182</th>\n",
       "      <td>Arthur Lira</td>\n",
       "      <td>Helio Lopes</td>\n",
       "      <td>PSL</td>\n",
       "      <td>RJ</td>\n",
       "    </tr>\n",
       "    <tr>\n",
       "      <th>183</th>\n",
       "      <td>Arthur Lira</td>\n",
       "      <td>Junio Amaral</td>\n",
       "      <td>PSL</td>\n",
       "      <td>MG</td>\n",
       "    </tr>\n",
       "    <tr>\n",
       "      <th>184</th>\n",
       "      <td>Arthur Lira</td>\n",
       "      <td>Léo Motta</td>\n",
       "      <td>PSL</td>\n",
       "      <td>MG</td>\n",
       "    </tr>\n",
       "    <tr>\n",
       "      <th>185</th>\n",
       "      <td>Arthur Lira</td>\n",
       "      <td>Lourival Gomes</td>\n",
       "      <td>PSL</td>\n",
       "      <td>RJ</td>\n",
       "    </tr>\n",
       "    <tr>\n",
       "      <th>186</th>\n",
       "      <td>Arthur Lira</td>\n",
       "      <td>Luiz Lima</td>\n",
       "      <td>PSL</td>\n",
       "      <td>RJ</td>\n",
       "    </tr>\n",
       "    <tr>\n",
       "      <th>187</th>\n",
       "      <td>Arthur Lira</td>\n",
       "      <td>Luiz Philippe de Orleans e Bragança</td>\n",
       "      <td>PSL</td>\n",
       "      <td>SP</td>\n",
       "    </tr>\n",
       "    <tr>\n",
       "      <th>188</th>\n",
       "      <td>Arthur Lira</td>\n",
       "      <td>Major Fabiana</td>\n",
       "      <td>PSL</td>\n",
       "      <td>RJ</td>\n",
       "    </tr>\n",
       "    <tr>\n",
       "      <th>189</th>\n",
       "      <td>Arthur Lira</td>\n",
       "      <td>Marcelo Álvaro Antônio</td>\n",
       "      <td>PSL</td>\n",
       "      <td>MG</td>\n",
       "    </tr>\n",
       "    <tr>\n",
       "      <th>190</th>\n",
       "      <td>Arthur Lira</td>\n",
       "      <td>Márcio Labre</td>\n",
       "      <td>PSL</td>\n",
       "      <td>RJ</td>\n",
       "    </tr>\n",
       "    <tr>\n",
       "      <th>191</th>\n",
       "      <td>Arthur Lira</td>\n",
       "      <td>Nelson Barbudo</td>\n",
       "      <td>PSL</td>\n",
       "      <td>MT</td>\n",
       "    </tr>\n",
       "    <tr>\n",
       "      <th>192</th>\n",
       "      <td>Arthur Lira</td>\n",
       "      <td>Nicoletti</td>\n",
       "      <td>PSL</td>\n",
       "      <td>RR</td>\n",
       "    </tr>\n",
       "    <tr>\n",
       "      <th>193</th>\n",
       "      <td>Arthur Lira</td>\n",
       "      <td>Sanderson</td>\n",
       "      <td>PSL</td>\n",
       "      <td>RS</td>\n",
       "    </tr>\n",
       "    <tr>\n",
       "      <th>194</th>\n",
       "      <td>Arthur Lira</td>\n",
       "      <td>Vitor Hugo</td>\n",
       "      <td>PSL</td>\n",
       "      <td>GO</td>\n",
       "    </tr>\n",
       "    <tr>\n",
       "      <th>324</th>\n",
       "      <td>Baleia Rossi</td>\n",
       "      <td>Bozzella</td>\n",
       "      <td>PSL</td>\n",
       "      <td>SP</td>\n",
       "    </tr>\n",
       "    <tr>\n",
       "      <th>325</th>\n",
       "      <td>Baleia Rossi</td>\n",
       "      <td>Delegado Waldir</td>\n",
       "      <td>PSL</td>\n",
       "      <td>GO</td>\n",
       "    </tr>\n",
       "    <tr>\n",
       "      <th>326</th>\n",
       "      <td>Baleia Rossi</td>\n",
       "      <td>Heitor Freire</td>\n",
       "      <td>PSL</td>\n",
       "      <td>CE</td>\n",
       "    </tr>\n",
       "    <tr>\n",
       "      <th>327</th>\n",
       "      <td>Baleia Rossi</td>\n",
       "      <td>Luciano Bivar</td>\n",
       "      <td>PSL</td>\n",
       "      <td>PE</td>\n",
       "    </tr>\n",
       "    <tr>\n",
       "      <th>391</th>\n",
       "      <td>General Peternelli</td>\n",
       "      <td>General Peternelli</td>\n",
       "      <td>PSL</td>\n",
       "      <td>SP</td>\n",
       "    </tr>\n",
       "    <tr>\n",
       "      <th>461</th>\n",
       "      <td>Não quis responder</td>\n",
       "      <td>Abou Anni</td>\n",
       "      <td>PSL</td>\n",
       "      <td>SP</td>\n",
       "    </tr>\n",
       "    <tr>\n",
       "      <th>462</th>\n",
       "      <td>Não quis responder</td>\n",
       "      <td>Charlles Evangelista</td>\n",
       "      <td>PSL</td>\n",
       "      <td>MG</td>\n",
       "    </tr>\n",
       "    <tr>\n",
       "      <th>463</th>\n",
       "      <td>Não quis responder</td>\n",
       "      <td>Delegado Marcelo Freitas</td>\n",
       "      <td>PSL</td>\n",
       "      <td>MG</td>\n",
       "    </tr>\n",
       "    <tr>\n",
       "      <th>464</th>\n",
       "      <td>Não quis responder</td>\n",
       "      <td>Delegado Pablo</td>\n",
       "      <td>PSL</td>\n",
       "      <td>AM</td>\n",
       "    </tr>\n",
       "    <tr>\n",
       "      <th>465</th>\n",
       "      <td>Não quis responder</td>\n",
       "      <td>Fabio Schiochet</td>\n",
       "      <td>PSL</td>\n",
       "      <td>SC</td>\n",
       "    </tr>\n",
       "    <tr>\n",
       "      <th>466</th>\n",
       "      <td>Não quis responder</td>\n",
       "      <td>Felício Laterça</td>\n",
       "      <td>PSL</td>\n",
       "      <td>RJ</td>\n",
       "    </tr>\n",
       "    <tr>\n",
       "      <th>467</th>\n",
       "      <td>Não quis responder</td>\n",
       "      <td>Felipe Francischini</td>\n",
       "      <td>PSL</td>\n",
       "      <td>PR</td>\n",
       "    </tr>\n",
       "    <tr>\n",
       "      <th>468</th>\n",
       "      <td>Não quis responder</td>\n",
       "      <td>Gurgel</td>\n",
       "      <td>PSL</td>\n",
       "      <td>RJ</td>\n",
       "    </tr>\n",
       "    <tr>\n",
       "      <th>469</th>\n",
       "      <td>Não quis responder</td>\n",
       "      <td>Joice Hasselmann</td>\n",
       "      <td>PSL</td>\n",
       "      <td>SP</td>\n",
       "    </tr>\n",
       "    <tr>\n",
       "      <th>470</th>\n",
       "      <td>Não quis responder</td>\n",
       "      <td>Julian Lemos</td>\n",
       "      <td>PSL</td>\n",
       "      <td>PB</td>\n",
       "    </tr>\n",
       "    <tr>\n",
       "      <th>471</th>\n",
       "      <td>Não quis responder</td>\n",
       "      <td>Loester Trutis</td>\n",
       "      <td>PSL</td>\n",
       "      <td>MS</td>\n",
       "    </tr>\n",
       "    <tr>\n",
       "      <th>472</th>\n",
       "      <td>Não quis responder</td>\n",
       "      <td>Nereu Crispim</td>\n",
       "      <td>PSL</td>\n",
       "      <td>RS</td>\n",
       "    </tr>\n",
       "    <tr>\n",
       "      <th>473</th>\n",
       "      <td>Não quis responder</td>\n",
       "      <td>Professor Joziel</td>\n",
       "      <td>PSL</td>\n",
       "      <td>RJ</td>\n",
       "    </tr>\n",
       "    <tr>\n",
       "      <th>474</th>\n",
       "      <td>Não quis responder</td>\n",
       "      <td>Professora Dayane Pimentel</td>\n",
       "      <td>PSL</td>\n",
       "      <td>BA</td>\n",
       "    </tr>\n",
       "  </tbody>\n",
       "</table>\n",
       "</div>"
      ],
      "text/plain": [
       "                   Voto                              Deputado Partido Estado\n",
       "162         Arthur Lira                            Alê Silva      PSL     MG\n",
       "163         Arthur Lira                       Aline Sleutjes      PSL     PR\n",
       "164         Arthur Lira                            Bia Kicis      PSL     DF\n",
       "165         Arthur Lira                           Bibo Nunes      PSL     RS\n",
       "166         Arthur Lira                       Carla Zambelli      PSL     SP\n",
       "167         Arthur Lira                         Carlos Jordy      PSL     RJ\n",
       "168         Arthur Lira                     Caroline de Toni      PSL     SC\n",
       "169         Arthur Lira                       Chris Tonietto      PSL     RJ\n",
       "170         Arthur Lira                      Coronel Armando      PSL     SC\n",
       "171         Arthur Lira                  Coronel Chrisóstomo      PSL     RO\n",
       "172         Arthur Lira                        Coronel Tadeu      PSL     SP\n",
       "173         Arthur Lira                       Daniel Freitas      PSL     SC\n",
       "174         Arthur Lira                      Daniel Silveira      PSL     RJ\n",
       "175         Arthur Lira             Delegado Antônio Furtado      PSL     RJ\n",
       "176         Arthur Lira                      Dr. Luiz Ovando      PSL     MS\n",
       "177         Arthur Lira                   Dra. Soraya Manato      PSL     ES\n",
       "178         Arthur Lira                    Eduardo Bolsonaro      PSL     SP\n",
       "179         Arthur Lira                        Filipe Barros      PSL     PR\n",
       "180         Arthur Lira                        General Girão      PSL     RN\n",
       "181         Arthur Lira                        Guiga Peixoto      PSL     SP\n",
       "182         Arthur Lira                          Helio Lopes      PSL     RJ\n",
       "183         Arthur Lira                         Junio Amaral      PSL     MG\n",
       "184         Arthur Lira                            Léo Motta      PSL     MG\n",
       "185         Arthur Lira                       Lourival Gomes      PSL     RJ\n",
       "186         Arthur Lira                            Luiz Lima      PSL     RJ\n",
       "187         Arthur Lira  Luiz Philippe de Orleans e Bragança      PSL     SP\n",
       "188         Arthur Lira                        Major Fabiana      PSL     RJ\n",
       "189         Arthur Lira               Marcelo Álvaro Antônio      PSL     MG\n",
       "190         Arthur Lira                         Márcio Labre      PSL     RJ\n",
       "191         Arthur Lira                       Nelson Barbudo      PSL     MT\n",
       "192         Arthur Lira                            Nicoletti      PSL     RR\n",
       "193         Arthur Lira                            Sanderson      PSL     RS\n",
       "194         Arthur Lira                           Vitor Hugo      PSL     GO\n",
       "324        Baleia Rossi                             Bozzella      PSL     SP\n",
       "325        Baleia Rossi                      Delegado Waldir      PSL     GO\n",
       "326        Baleia Rossi                        Heitor Freire      PSL     CE\n",
       "327        Baleia Rossi                        Luciano Bivar      PSL     PE\n",
       "391  General Peternelli                   General Peternelli      PSL     SP\n",
       "461  Não quis responder                            Abou Anni      PSL     SP\n",
       "462  Não quis responder                 Charlles Evangelista      PSL     MG\n",
       "463  Não quis responder             Delegado Marcelo Freitas      PSL     MG\n",
       "464  Não quis responder                       Delegado Pablo      PSL     AM\n",
       "465  Não quis responder                      Fabio Schiochet      PSL     SC\n",
       "466  Não quis responder                      Felício Laterça      PSL     RJ\n",
       "467  Não quis responder                  Felipe Francischini      PSL     PR\n",
       "468  Não quis responder                               Gurgel      PSL     RJ\n",
       "469  Não quis responder                     Joice Hasselmann      PSL     SP\n",
       "470  Não quis responder                         Julian Lemos      PSL     PB\n",
       "471  Não quis responder                       Loester Trutis      PSL     MS\n",
       "472  Não quis responder                        Nereu Crispim      PSL     RS\n",
       "473  Não quis responder                     Professor Joziel      PSL     RJ\n",
       "474  Não quis responder           Professora Dayane Pimentel      PSL     BA"
      ]
     },
     "execution_count": 29,
     "metadata": {},
     "output_type": "execute_result"
    }
   ],
   "source": [
    "psl_df = dados_eleicao_df.loc[dados_eleicao_df['Partido'] == 'PSL']\n",
    "psl_df"
   ]
  },
  {
   "cell_type": "code",
   "execution_count": 30,
   "id": "94de2450",
   "metadata": {},
   "outputs": [
    {
     "data": {
      "application/vnd.plotly.v1+json": {
       "config": {
        "plotlyServerURL": "https://plot.ly"
       },
       "data": [
        {
         "domain": {
          "x": [
           0,
           1
          ],
          "y": [
           0,
           1
          ]
         },
         "hovertemplate": "Voto=%{label}<extra></extra>",
         "labels": [
          "Arthur Lira",
          "Arthur Lira",
          "Arthur Lira",
          "Arthur Lira",
          "Arthur Lira",
          "Arthur Lira",
          "Arthur Lira",
          "Arthur Lira",
          "Arthur Lira",
          "Arthur Lira",
          "Arthur Lira",
          "Arthur Lira",
          "Arthur Lira",
          "Arthur Lira",
          "Arthur Lira",
          "Arthur Lira",
          "Arthur Lira",
          "Arthur Lira",
          "Arthur Lira",
          "Arthur Lira",
          "Arthur Lira",
          "Arthur Lira",
          "Arthur Lira",
          "Arthur Lira",
          "Arthur Lira",
          "Arthur Lira",
          "Arthur Lira",
          "Arthur Lira",
          "Arthur Lira",
          "Arthur Lira",
          "Arthur Lira",
          "Arthur Lira",
          "Arthur Lira",
          "Baleia Rossi",
          "Baleia Rossi",
          "Baleia Rossi",
          "Baleia Rossi",
          "General Peternelli",
          "Não quis responder",
          "Não quis responder",
          "Não quis responder",
          "Não quis responder",
          "Não quis responder",
          "Não quis responder",
          "Não quis responder",
          "Não quis responder",
          "Não quis responder",
          "Não quis responder",
          "Não quis responder",
          "Não quis responder",
          "Não quis responder",
          "Não quis responder"
         ],
         "legendgroup": "",
         "name": "",
         "showlegend": true,
         "type": "pie"
        }
       ],
       "layout": {
        "legend": {
         "tracegroupgap": 0
        },
        "margin": {
         "t": 60
        },
        "template": {
         "data": {
          "bar": [
           {
            "error_x": {
             "color": "#2a3f5f"
            },
            "error_y": {
             "color": "#2a3f5f"
            },
            "marker": {
             "line": {
              "color": "#E5ECF6",
              "width": 0.5
             },
             "pattern": {
              "fillmode": "overlay",
              "size": 10,
              "solidity": 0.2
             }
            },
            "type": "bar"
           }
          ],
          "barpolar": [
           {
            "marker": {
             "line": {
              "color": "#E5ECF6",
              "width": 0.5
             },
             "pattern": {
              "fillmode": "overlay",
              "size": 10,
              "solidity": 0.2
             }
            },
            "type": "barpolar"
           }
          ],
          "carpet": [
           {
            "aaxis": {
             "endlinecolor": "#2a3f5f",
             "gridcolor": "white",
             "linecolor": "white",
             "minorgridcolor": "white",
             "startlinecolor": "#2a3f5f"
            },
            "baxis": {
             "endlinecolor": "#2a3f5f",
             "gridcolor": "white",
             "linecolor": "white",
             "minorgridcolor": "white",
             "startlinecolor": "#2a3f5f"
            },
            "type": "carpet"
           }
          ],
          "choropleth": [
           {
            "colorbar": {
             "outlinewidth": 0,
             "ticks": ""
            },
            "type": "choropleth"
           }
          ],
          "contour": [
           {
            "colorbar": {
             "outlinewidth": 0,
             "ticks": ""
            },
            "colorscale": [
             [
              0,
              "#0d0887"
             ],
             [
              0.1111111111111111,
              "#46039f"
             ],
             [
              0.2222222222222222,
              "#7201a8"
             ],
             [
              0.3333333333333333,
              "#9c179e"
             ],
             [
              0.4444444444444444,
              "#bd3786"
             ],
             [
              0.5555555555555556,
              "#d8576b"
             ],
             [
              0.6666666666666666,
              "#ed7953"
             ],
             [
              0.7777777777777778,
              "#fb9f3a"
             ],
             [
              0.8888888888888888,
              "#fdca26"
             ],
             [
              1,
              "#f0f921"
             ]
            ],
            "type": "contour"
           }
          ],
          "contourcarpet": [
           {
            "colorbar": {
             "outlinewidth": 0,
             "ticks": ""
            },
            "type": "contourcarpet"
           }
          ],
          "heatmap": [
           {
            "colorbar": {
             "outlinewidth": 0,
             "ticks": ""
            },
            "colorscale": [
             [
              0,
              "#0d0887"
             ],
             [
              0.1111111111111111,
              "#46039f"
             ],
             [
              0.2222222222222222,
              "#7201a8"
             ],
             [
              0.3333333333333333,
              "#9c179e"
             ],
             [
              0.4444444444444444,
              "#bd3786"
             ],
             [
              0.5555555555555556,
              "#d8576b"
             ],
             [
              0.6666666666666666,
              "#ed7953"
             ],
             [
              0.7777777777777778,
              "#fb9f3a"
             ],
             [
              0.8888888888888888,
              "#fdca26"
             ],
             [
              1,
              "#f0f921"
             ]
            ],
            "type": "heatmap"
           }
          ],
          "heatmapgl": [
           {
            "colorbar": {
             "outlinewidth": 0,
             "ticks": ""
            },
            "colorscale": [
             [
              0,
              "#0d0887"
             ],
             [
              0.1111111111111111,
              "#46039f"
             ],
             [
              0.2222222222222222,
              "#7201a8"
             ],
             [
              0.3333333333333333,
              "#9c179e"
             ],
             [
              0.4444444444444444,
              "#bd3786"
             ],
             [
              0.5555555555555556,
              "#d8576b"
             ],
             [
              0.6666666666666666,
              "#ed7953"
             ],
             [
              0.7777777777777778,
              "#fb9f3a"
             ],
             [
              0.8888888888888888,
              "#fdca26"
             ],
             [
              1,
              "#f0f921"
             ]
            ],
            "type": "heatmapgl"
           }
          ],
          "histogram": [
           {
            "marker": {
             "pattern": {
              "fillmode": "overlay",
              "size": 10,
              "solidity": 0.2
             }
            },
            "type": "histogram"
           }
          ],
          "histogram2d": [
           {
            "colorbar": {
             "outlinewidth": 0,
             "ticks": ""
            },
            "colorscale": [
             [
              0,
              "#0d0887"
             ],
             [
              0.1111111111111111,
              "#46039f"
             ],
             [
              0.2222222222222222,
              "#7201a8"
             ],
             [
              0.3333333333333333,
              "#9c179e"
             ],
             [
              0.4444444444444444,
              "#bd3786"
             ],
             [
              0.5555555555555556,
              "#d8576b"
             ],
             [
              0.6666666666666666,
              "#ed7953"
             ],
             [
              0.7777777777777778,
              "#fb9f3a"
             ],
             [
              0.8888888888888888,
              "#fdca26"
             ],
             [
              1,
              "#f0f921"
             ]
            ],
            "type": "histogram2d"
           }
          ],
          "histogram2dcontour": [
           {
            "colorbar": {
             "outlinewidth": 0,
             "ticks": ""
            },
            "colorscale": [
             [
              0,
              "#0d0887"
             ],
             [
              0.1111111111111111,
              "#46039f"
             ],
             [
              0.2222222222222222,
              "#7201a8"
             ],
             [
              0.3333333333333333,
              "#9c179e"
             ],
             [
              0.4444444444444444,
              "#bd3786"
             ],
             [
              0.5555555555555556,
              "#d8576b"
             ],
             [
              0.6666666666666666,
              "#ed7953"
             ],
             [
              0.7777777777777778,
              "#fb9f3a"
             ],
             [
              0.8888888888888888,
              "#fdca26"
             ],
             [
              1,
              "#f0f921"
             ]
            ],
            "type": "histogram2dcontour"
           }
          ],
          "mesh3d": [
           {
            "colorbar": {
             "outlinewidth": 0,
             "ticks": ""
            },
            "type": "mesh3d"
           }
          ],
          "parcoords": [
           {
            "line": {
             "colorbar": {
              "outlinewidth": 0,
              "ticks": ""
             }
            },
            "type": "parcoords"
           }
          ],
          "pie": [
           {
            "automargin": true,
            "type": "pie"
           }
          ],
          "scatter": [
           {
            "fillpattern": {
             "fillmode": "overlay",
             "size": 10,
             "solidity": 0.2
            },
            "type": "scatter"
           }
          ],
          "scatter3d": [
           {
            "line": {
             "colorbar": {
              "outlinewidth": 0,
              "ticks": ""
             }
            },
            "marker": {
             "colorbar": {
              "outlinewidth": 0,
              "ticks": ""
             }
            },
            "type": "scatter3d"
           }
          ],
          "scattercarpet": [
           {
            "marker": {
             "colorbar": {
              "outlinewidth": 0,
              "ticks": ""
             }
            },
            "type": "scattercarpet"
           }
          ],
          "scattergeo": [
           {
            "marker": {
             "colorbar": {
              "outlinewidth": 0,
              "ticks": ""
             }
            },
            "type": "scattergeo"
           }
          ],
          "scattergl": [
           {
            "marker": {
             "colorbar": {
              "outlinewidth": 0,
              "ticks": ""
             }
            },
            "type": "scattergl"
           }
          ],
          "scattermapbox": [
           {
            "marker": {
             "colorbar": {
              "outlinewidth": 0,
              "ticks": ""
             }
            },
            "type": "scattermapbox"
           }
          ],
          "scatterpolar": [
           {
            "marker": {
             "colorbar": {
              "outlinewidth": 0,
              "ticks": ""
             }
            },
            "type": "scatterpolar"
           }
          ],
          "scatterpolargl": [
           {
            "marker": {
             "colorbar": {
              "outlinewidth": 0,
              "ticks": ""
             }
            },
            "type": "scatterpolargl"
           }
          ],
          "scatterternary": [
           {
            "marker": {
             "colorbar": {
              "outlinewidth": 0,
              "ticks": ""
             }
            },
            "type": "scatterternary"
           }
          ],
          "surface": [
           {
            "colorbar": {
             "outlinewidth": 0,
             "ticks": ""
            },
            "colorscale": [
             [
              0,
              "#0d0887"
             ],
             [
              0.1111111111111111,
              "#46039f"
             ],
             [
              0.2222222222222222,
              "#7201a8"
             ],
             [
              0.3333333333333333,
              "#9c179e"
             ],
             [
              0.4444444444444444,
              "#bd3786"
             ],
             [
              0.5555555555555556,
              "#d8576b"
             ],
             [
              0.6666666666666666,
              "#ed7953"
             ],
             [
              0.7777777777777778,
              "#fb9f3a"
             ],
             [
              0.8888888888888888,
              "#fdca26"
             ],
             [
              1,
              "#f0f921"
             ]
            ],
            "type": "surface"
           }
          ],
          "table": [
           {
            "cells": {
             "fill": {
              "color": "#EBF0F8"
             },
             "line": {
              "color": "white"
             }
            },
            "header": {
             "fill": {
              "color": "#C8D4E3"
             },
             "line": {
              "color": "white"
             }
            },
            "type": "table"
           }
          ]
         },
         "layout": {
          "annotationdefaults": {
           "arrowcolor": "#2a3f5f",
           "arrowhead": 0,
           "arrowwidth": 1
          },
          "autotypenumbers": "strict",
          "coloraxis": {
           "colorbar": {
            "outlinewidth": 0,
            "ticks": ""
           }
          },
          "colorscale": {
           "diverging": [
            [
             0,
             "#8e0152"
            ],
            [
             0.1,
             "#c51b7d"
            ],
            [
             0.2,
             "#de77ae"
            ],
            [
             0.3,
             "#f1b6da"
            ],
            [
             0.4,
             "#fde0ef"
            ],
            [
             0.5,
             "#f7f7f7"
            ],
            [
             0.6,
             "#e6f5d0"
            ],
            [
             0.7,
             "#b8e186"
            ],
            [
             0.8,
             "#7fbc41"
            ],
            [
             0.9,
             "#4d9221"
            ],
            [
             1,
             "#276419"
            ]
           ],
           "sequential": [
            [
             0,
             "#0d0887"
            ],
            [
             0.1111111111111111,
             "#46039f"
            ],
            [
             0.2222222222222222,
             "#7201a8"
            ],
            [
             0.3333333333333333,
             "#9c179e"
            ],
            [
             0.4444444444444444,
             "#bd3786"
            ],
            [
             0.5555555555555556,
             "#d8576b"
            ],
            [
             0.6666666666666666,
             "#ed7953"
            ],
            [
             0.7777777777777778,
             "#fb9f3a"
            ],
            [
             0.8888888888888888,
             "#fdca26"
            ],
            [
             1,
             "#f0f921"
            ]
           ],
           "sequentialminus": [
            [
             0,
             "#0d0887"
            ],
            [
             0.1111111111111111,
             "#46039f"
            ],
            [
             0.2222222222222222,
             "#7201a8"
            ],
            [
             0.3333333333333333,
             "#9c179e"
            ],
            [
             0.4444444444444444,
             "#bd3786"
            ],
            [
             0.5555555555555556,
             "#d8576b"
            ],
            [
             0.6666666666666666,
             "#ed7953"
            ],
            [
             0.7777777777777778,
             "#fb9f3a"
            ],
            [
             0.8888888888888888,
             "#fdca26"
            ],
            [
             1,
             "#f0f921"
            ]
           ]
          },
          "colorway": [
           "#636efa",
           "#EF553B",
           "#00cc96",
           "#ab63fa",
           "#FFA15A",
           "#19d3f3",
           "#FF6692",
           "#B6E880",
           "#FF97FF",
           "#FECB52"
          ],
          "font": {
           "color": "#2a3f5f"
          },
          "geo": {
           "bgcolor": "white",
           "lakecolor": "white",
           "landcolor": "#E5ECF6",
           "showlakes": true,
           "showland": true,
           "subunitcolor": "white"
          },
          "hoverlabel": {
           "align": "left"
          },
          "hovermode": "closest",
          "mapbox": {
           "style": "light"
          },
          "paper_bgcolor": "white",
          "plot_bgcolor": "#E5ECF6",
          "polar": {
           "angularaxis": {
            "gridcolor": "white",
            "linecolor": "white",
            "ticks": ""
           },
           "bgcolor": "#E5ECF6",
           "radialaxis": {
            "gridcolor": "white",
            "linecolor": "white",
            "ticks": ""
           }
          },
          "scene": {
           "xaxis": {
            "backgroundcolor": "#E5ECF6",
            "gridcolor": "white",
            "gridwidth": 2,
            "linecolor": "white",
            "showbackground": true,
            "ticks": "",
            "zerolinecolor": "white"
           },
           "yaxis": {
            "backgroundcolor": "#E5ECF6",
            "gridcolor": "white",
            "gridwidth": 2,
            "linecolor": "white",
            "showbackground": true,
            "ticks": "",
            "zerolinecolor": "white"
           },
           "zaxis": {
            "backgroundcolor": "#E5ECF6",
            "gridcolor": "white",
            "gridwidth": 2,
            "linecolor": "white",
            "showbackground": true,
            "ticks": "",
            "zerolinecolor": "white"
           }
          },
          "shapedefaults": {
           "line": {
            "color": "#2a3f5f"
           }
          },
          "ternary": {
           "aaxis": {
            "gridcolor": "white",
            "linecolor": "white",
            "ticks": ""
           },
           "baxis": {
            "gridcolor": "white",
            "linecolor": "white",
            "ticks": ""
           },
           "bgcolor": "#E5ECF6",
           "caxis": {
            "gridcolor": "white",
            "linecolor": "white",
            "ticks": ""
           }
          },
          "title": {
           "x": 0.05
          },
          "xaxis": {
           "automargin": true,
           "gridcolor": "white",
           "linecolor": "white",
           "ticks": "",
           "title": {
            "standoff": 15
           },
           "zerolinecolor": "white",
           "zerolinewidth": 2
          },
          "yaxis": {
           "automargin": true,
           "gridcolor": "white",
           "linecolor": "white",
           "ticks": "",
           "title": {
            "standoff": 15
           },
           "zerolinecolor": "white",
           "zerolinewidth": 2
          }
         }
        }
       }
      },
      "text/html": [
       "<div>                            <div id=\"ad1e8b98-5f5f-4448-bf89-d5b3851e65ad\" class=\"plotly-graph-div\" style=\"height:525px; width:100%;\"></div>            <script type=\"text/javascript\">                require([\"plotly\"], function(Plotly) {                    window.PLOTLYENV=window.PLOTLYENV || {};                                    if (document.getElementById(\"ad1e8b98-5f5f-4448-bf89-d5b3851e65ad\")) {                    Plotly.newPlot(                        \"ad1e8b98-5f5f-4448-bf89-d5b3851e65ad\",                        [{\"domain\":{\"x\":[0.0,1.0],\"y\":[0.0,1.0]},\"hovertemplate\":\"Voto=%{label}<extra></extra>\",\"labels\":[\"Arthur Lira\",\"Arthur Lira\",\"Arthur Lira\",\"Arthur Lira\",\"Arthur Lira\",\"Arthur Lira\",\"Arthur Lira\",\"Arthur Lira\",\"Arthur Lira\",\"Arthur Lira\",\"Arthur Lira\",\"Arthur Lira\",\"Arthur Lira\",\"Arthur Lira\",\"Arthur Lira\",\"Arthur Lira\",\"Arthur Lira\",\"Arthur Lira\",\"Arthur Lira\",\"Arthur Lira\",\"Arthur Lira\",\"Arthur Lira\",\"Arthur Lira\",\"Arthur Lira\",\"Arthur Lira\",\"Arthur Lira\",\"Arthur Lira\",\"Arthur Lira\",\"Arthur Lira\",\"Arthur Lira\",\"Arthur Lira\",\"Arthur Lira\",\"Arthur Lira\",\"Baleia Rossi\",\"Baleia Rossi\",\"Baleia Rossi\",\"Baleia Rossi\",\"General Peternelli\",\"N\\u00e3o quis responder\",\"N\\u00e3o quis responder\",\"N\\u00e3o quis responder\",\"N\\u00e3o quis responder\",\"N\\u00e3o quis responder\",\"N\\u00e3o quis responder\",\"N\\u00e3o quis responder\",\"N\\u00e3o quis responder\",\"N\\u00e3o quis responder\",\"N\\u00e3o quis responder\",\"N\\u00e3o quis responder\",\"N\\u00e3o quis responder\",\"N\\u00e3o quis responder\",\"N\\u00e3o quis responder\"],\"legendgroup\":\"\",\"name\":\"\",\"showlegend\":true,\"type\":\"pie\"}],                        {\"template\":{\"data\":{\"histogram2dcontour\":[{\"type\":\"histogram2dcontour\",\"colorbar\":{\"outlinewidth\":0,\"ticks\":\"\"},\"colorscale\":[[0.0,\"#0d0887\"],[0.1111111111111111,\"#46039f\"],[0.2222222222222222,\"#7201a8\"],[0.3333333333333333,\"#9c179e\"],[0.4444444444444444,\"#bd3786\"],[0.5555555555555556,\"#d8576b\"],[0.6666666666666666,\"#ed7953\"],[0.7777777777777778,\"#fb9f3a\"],[0.8888888888888888,\"#fdca26\"],[1.0,\"#f0f921\"]]}],\"choropleth\":[{\"type\":\"choropleth\",\"colorbar\":{\"outlinewidth\":0,\"ticks\":\"\"}}],\"histogram2d\":[{\"type\":\"histogram2d\",\"colorbar\":{\"outlinewidth\":0,\"ticks\":\"\"},\"colorscale\":[[0.0,\"#0d0887\"],[0.1111111111111111,\"#46039f\"],[0.2222222222222222,\"#7201a8\"],[0.3333333333333333,\"#9c179e\"],[0.4444444444444444,\"#bd3786\"],[0.5555555555555556,\"#d8576b\"],[0.6666666666666666,\"#ed7953\"],[0.7777777777777778,\"#fb9f3a\"],[0.8888888888888888,\"#fdca26\"],[1.0,\"#f0f921\"]]}],\"heatmap\":[{\"type\":\"heatmap\",\"colorbar\":{\"outlinewidth\":0,\"ticks\":\"\"},\"colorscale\":[[0.0,\"#0d0887\"],[0.1111111111111111,\"#46039f\"],[0.2222222222222222,\"#7201a8\"],[0.3333333333333333,\"#9c179e\"],[0.4444444444444444,\"#bd3786\"],[0.5555555555555556,\"#d8576b\"],[0.6666666666666666,\"#ed7953\"],[0.7777777777777778,\"#fb9f3a\"],[0.8888888888888888,\"#fdca26\"],[1.0,\"#f0f921\"]]}],\"heatmapgl\":[{\"type\":\"heatmapgl\",\"colorbar\":{\"outlinewidth\":0,\"ticks\":\"\"},\"colorscale\":[[0.0,\"#0d0887\"],[0.1111111111111111,\"#46039f\"],[0.2222222222222222,\"#7201a8\"],[0.3333333333333333,\"#9c179e\"],[0.4444444444444444,\"#bd3786\"],[0.5555555555555556,\"#d8576b\"],[0.6666666666666666,\"#ed7953\"],[0.7777777777777778,\"#fb9f3a\"],[0.8888888888888888,\"#fdca26\"],[1.0,\"#f0f921\"]]}],\"contourcarpet\":[{\"type\":\"contourcarpet\",\"colorbar\":{\"outlinewidth\":0,\"ticks\":\"\"}}],\"contour\":[{\"type\":\"contour\",\"colorbar\":{\"outlinewidth\":0,\"ticks\":\"\"},\"colorscale\":[[0.0,\"#0d0887\"],[0.1111111111111111,\"#46039f\"],[0.2222222222222222,\"#7201a8\"],[0.3333333333333333,\"#9c179e\"],[0.4444444444444444,\"#bd3786\"],[0.5555555555555556,\"#d8576b\"],[0.6666666666666666,\"#ed7953\"],[0.7777777777777778,\"#fb9f3a\"],[0.8888888888888888,\"#fdca26\"],[1.0,\"#f0f921\"]]}],\"surface\":[{\"type\":\"surface\",\"colorbar\":{\"outlinewidth\":0,\"ticks\":\"\"},\"colorscale\":[[0.0,\"#0d0887\"],[0.1111111111111111,\"#46039f\"],[0.2222222222222222,\"#7201a8\"],[0.3333333333333333,\"#9c179e\"],[0.4444444444444444,\"#bd3786\"],[0.5555555555555556,\"#d8576b\"],[0.6666666666666666,\"#ed7953\"],[0.7777777777777778,\"#fb9f3a\"],[0.8888888888888888,\"#fdca26\"],[1.0,\"#f0f921\"]]}],\"mesh3d\":[{\"type\":\"mesh3d\",\"colorbar\":{\"outlinewidth\":0,\"ticks\":\"\"}}],\"scatter\":[{\"fillpattern\":{\"fillmode\":\"overlay\",\"size\":10,\"solidity\":0.2},\"type\":\"scatter\"}],\"parcoords\":[{\"type\":\"parcoords\",\"line\":{\"colorbar\":{\"outlinewidth\":0,\"ticks\":\"\"}}}],\"scatterpolargl\":[{\"type\":\"scatterpolargl\",\"marker\":{\"colorbar\":{\"outlinewidth\":0,\"ticks\":\"\"}}}],\"bar\":[{\"error_x\":{\"color\":\"#2a3f5f\"},\"error_y\":{\"color\":\"#2a3f5f\"},\"marker\":{\"line\":{\"color\":\"#E5ECF6\",\"width\":0.5},\"pattern\":{\"fillmode\":\"overlay\",\"size\":10,\"solidity\":0.2}},\"type\":\"bar\"}],\"scattergeo\":[{\"type\":\"scattergeo\",\"marker\":{\"colorbar\":{\"outlinewidth\":0,\"ticks\":\"\"}}}],\"scatterpolar\":[{\"type\":\"scatterpolar\",\"marker\":{\"colorbar\":{\"outlinewidth\":0,\"ticks\":\"\"}}}],\"histogram\":[{\"marker\":{\"pattern\":{\"fillmode\":\"overlay\",\"size\":10,\"solidity\":0.2}},\"type\":\"histogram\"}],\"scattergl\":[{\"type\":\"scattergl\",\"marker\":{\"colorbar\":{\"outlinewidth\":0,\"ticks\":\"\"}}}],\"scatter3d\":[{\"type\":\"scatter3d\",\"line\":{\"colorbar\":{\"outlinewidth\":0,\"ticks\":\"\"}},\"marker\":{\"colorbar\":{\"outlinewidth\":0,\"ticks\":\"\"}}}],\"scattermapbox\":[{\"type\":\"scattermapbox\",\"marker\":{\"colorbar\":{\"outlinewidth\":0,\"ticks\":\"\"}}}],\"scatterternary\":[{\"type\":\"scatterternary\",\"marker\":{\"colorbar\":{\"outlinewidth\":0,\"ticks\":\"\"}}}],\"scattercarpet\":[{\"type\":\"scattercarpet\",\"marker\":{\"colorbar\":{\"outlinewidth\":0,\"ticks\":\"\"}}}],\"carpet\":[{\"aaxis\":{\"endlinecolor\":\"#2a3f5f\",\"gridcolor\":\"white\",\"linecolor\":\"white\",\"minorgridcolor\":\"white\",\"startlinecolor\":\"#2a3f5f\"},\"baxis\":{\"endlinecolor\":\"#2a3f5f\",\"gridcolor\":\"white\",\"linecolor\":\"white\",\"minorgridcolor\":\"white\",\"startlinecolor\":\"#2a3f5f\"},\"type\":\"carpet\"}],\"table\":[{\"cells\":{\"fill\":{\"color\":\"#EBF0F8\"},\"line\":{\"color\":\"white\"}},\"header\":{\"fill\":{\"color\":\"#C8D4E3\"},\"line\":{\"color\":\"white\"}},\"type\":\"table\"}],\"barpolar\":[{\"marker\":{\"line\":{\"color\":\"#E5ECF6\",\"width\":0.5},\"pattern\":{\"fillmode\":\"overlay\",\"size\":10,\"solidity\":0.2}},\"type\":\"barpolar\"}],\"pie\":[{\"automargin\":true,\"type\":\"pie\"}]},\"layout\":{\"autotypenumbers\":\"strict\",\"colorway\":[\"#636efa\",\"#EF553B\",\"#00cc96\",\"#ab63fa\",\"#FFA15A\",\"#19d3f3\",\"#FF6692\",\"#B6E880\",\"#FF97FF\",\"#FECB52\"],\"font\":{\"color\":\"#2a3f5f\"},\"hovermode\":\"closest\",\"hoverlabel\":{\"align\":\"left\"},\"paper_bgcolor\":\"white\",\"plot_bgcolor\":\"#E5ECF6\",\"polar\":{\"bgcolor\":\"#E5ECF6\",\"angularaxis\":{\"gridcolor\":\"white\",\"linecolor\":\"white\",\"ticks\":\"\"},\"radialaxis\":{\"gridcolor\":\"white\",\"linecolor\":\"white\",\"ticks\":\"\"}},\"ternary\":{\"bgcolor\":\"#E5ECF6\",\"aaxis\":{\"gridcolor\":\"white\",\"linecolor\":\"white\",\"ticks\":\"\"},\"baxis\":{\"gridcolor\":\"white\",\"linecolor\":\"white\",\"ticks\":\"\"},\"caxis\":{\"gridcolor\":\"white\",\"linecolor\":\"white\",\"ticks\":\"\"}},\"coloraxis\":{\"colorbar\":{\"outlinewidth\":0,\"ticks\":\"\"}},\"colorscale\":{\"sequential\":[[0.0,\"#0d0887\"],[0.1111111111111111,\"#46039f\"],[0.2222222222222222,\"#7201a8\"],[0.3333333333333333,\"#9c179e\"],[0.4444444444444444,\"#bd3786\"],[0.5555555555555556,\"#d8576b\"],[0.6666666666666666,\"#ed7953\"],[0.7777777777777778,\"#fb9f3a\"],[0.8888888888888888,\"#fdca26\"],[1.0,\"#f0f921\"]],\"sequentialminus\":[[0.0,\"#0d0887\"],[0.1111111111111111,\"#46039f\"],[0.2222222222222222,\"#7201a8\"],[0.3333333333333333,\"#9c179e\"],[0.4444444444444444,\"#bd3786\"],[0.5555555555555556,\"#d8576b\"],[0.6666666666666666,\"#ed7953\"],[0.7777777777777778,\"#fb9f3a\"],[0.8888888888888888,\"#fdca26\"],[1.0,\"#f0f921\"]],\"diverging\":[[0,\"#8e0152\"],[0.1,\"#c51b7d\"],[0.2,\"#de77ae\"],[0.3,\"#f1b6da\"],[0.4,\"#fde0ef\"],[0.5,\"#f7f7f7\"],[0.6,\"#e6f5d0\"],[0.7,\"#b8e186\"],[0.8,\"#7fbc41\"],[0.9,\"#4d9221\"],[1,\"#276419\"]]},\"xaxis\":{\"gridcolor\":\"white\",\"linecolor\":\"white\",\"ticks\":\"\",\"title\":{\"standoff\":15},\"zerolinecolor\":\"white\",\"automargin\":true,\"zerolinewidth\":2},\"yaxis\":{\"gridcolor\":\"white\",\"linecolor\":\"white\",\"ticks\":\"\",\"title\":{\"standoff\":15},\"zerolinecolor\":\"white\",\"automargin\":true,\"zerolinewidth\":2},\"scene\":{\"xaxis\":{\"backgroundcolor\":\"#E5ECF6\",\"gridcolor\":\"white\",\"linecolor\":\"white\",\"showbackground\":true,\"ticks\":\"\",\"zerolinecolor\":\"white\",\"gridwidth\":2},\"yaxis\":{\"backgroundcolor\":\"#E5ECF6\",\"gridcolor\":\"white\",\"linecolor\":\"white\",\"showbackground\":true,\"ticks\":\"\",\"zerolinecolor\":\"white\",\"gridwidth\":2},\"zaxis\":{\"backgroundcolor\":\"#E5ECF6\",\"gridcolor\":\"white\",\"linecolor\":\"white\",\"showbackground\":true,\"ticks\":\"\",\"zerolinecolor\":\"white\",\"gridwidth\":2}},\"shapedefaults\":{\"line\":{\"color\":\"#2a3f5f\"}},\"annotationdefaults\":{\"arrowcolor\":\"#2a3f5f\",\"arrowhead\":0,\"arrowwidth\":1},\"geo\":{\"bgcolor\":\"white\",\"landcolor\":\"#E5ECF6\",\"subunitcolor\":\"white\",\"showland\":true,\"showlakes\":true,\"lakecolor\":\"white\"},\"title\":{\"x\":0.05},\"mapbox\":{\"style\":\"light\"}}},\"legend\":{\"tracegroupgap\":0},\"margin\":{\"t\":60}},                        {\"responsive\": true}                    ).then(function(){\n",
       "                            \n",
       "var gd = document.getElementById('ad1e8b98-5f5f-4448-bf89-d5b3851e65ad');\n",
       "var x = new MutationObserver(function (mutations, observer) {{\n",
       "        var display = window.getComputedStyle(gd).display;\n",
       "        if (!display || display === 'none') {{\n",
       "            console.log([gd, 'removed!']);\n",
       "            Plotly.purge(gd);\n",
       "            observer.disconnect();\n",
       "        }}\n",
       "}});\n",
       "\n",
       "// Listen for the removal of the full notebook cells\n",
       "var notebookContainer = gd.closest('#notebook-container');\n",
       "if (notebookContainer) {{\n",
       "    x.observe(notebookContainer, {childList: true});\n",
       "}}\n",
       "\n",
       "// Listen for the clearing of the current output cell\n",
       "var outputEl = gd.closest('.output');\n",
       "if (outputEl) {{\n",
       "    x.observe(outputEl, {childList: true});\n",
       "}}\n",
       "\n",
       "                        })                };                });            </script>        </div>"
      ]
     },
     "metadata": {},
     "output_type": "display_data"
    }
   ],
   "source": [
    "grafico_psl = plx.pie(psl_df, names='Voto')\n",
    "grafico_psl"
   ]
  },
  {
   "cell_type": "markdown",
   "id": "351ba5a4",
   "metadata": {},
   "source": [
    "## Pegando informações do PL"
   ]
  },
  {
   "cell_type": "code",
   "execution_count": 31,
   "id": "6c905d8b",
   "metadata": {},
   "outputs": [
    {
     "data": {
      "text/html": [
       "<div>\n",
       "<style scoped>\n",
       "    .dataframe tbody tr th:only-of-type {\n",
       "        vertical-align: middle;\n",
       "    }\n",
       "\n",
       "    .dataframe tbody tr th {\n",
       "        vertical-align: top;\n",
       "    }\n",
       "\n",
       "    .dataframe thead th {\n",
       "        text-align: right;\n",
       "    }\n",
       "</style>\n",
       "<table border=\"1\" class=\"dataframe\">\n",
       "  <thead>\n",
       "    <tr style=\"text-align: right;\">\n",
       "      <th></th>\n",
       "      <th>Voto</th>\n",
       "      <th>Deputado</th>\n",
       "      <th>Partido</th>\n",
       "      <th>Estado</th>\n",
       "    </tr>\n",
       "  </thead>\n",
       "  <tbody>\n",
       "    <tr>\n",
       "      <th>27</th>\n",
       "      <td>Arthur Lira</td>\n",
       "      <td>Abílio Santana</td>\n",
       "      <td>PL</td>\n",
       "      <td>BA</td>\n",
       "    </tr>\n",
       "    <tr>\n",
       "      <th>28</th>\n",
       "      <td>Arthur Lira</td>\n",
       "      <td>Aelton Freitas</td>\n",
       "      <td>PL</td>\n",
       "      <td>MG</td>\n",
       "    </tr>\n",
       "    <tr>\n",
       "      <th>29</th>\n",
       "      <td>Arthur Lira</td>\n",
       "      <td>Altineu Côrtes</td>\n",
       "      <td>PL</td>\n",
       "      <td>RJ</td>\n",
       "    </tr>\n",
       "    <tr>\n",
       "      <th>30</th>\n",
       "      <td>Arthur Lira</td>\n",
       "      <td>Bosco Costa</td>\n",
       "      <td>PL</td>\n",
       "      <td>SE</td>\n",
       "    </tr>\n",
       "    <tr>\n",
       "      <th>31</th>\n",
       "      <td>Arthur Lira</td>\n",
       "      <td>Capitão Augusto</td>\n",
       "      <td>PL</td>\n",
       "      <td>SP</td>\n",
       "    </tr>\n",
       "    <tr>\n",
       "      <th>32</th>\n",
       "      <td>Arthur Lira</td>\n",
       "      <td>Capitão Fábio Abreu</td>\n",
       "      <td>PL</td>\n",
       "      <td>PI</td>\n",
       "    </tr>\n",
       "    <tr>\n",
       "      <th>33</th>\n",
       "      <td>Arthur Lira</td>\n",
       "      <td>Cristiano Vale</td>\n",
       "      <td>PL</td>\n",
       "      <td>PA</td>\n",
       "    </tr>\n",
       "    <tr>\n",
       "      <th>34</th>\n",
       "      <td>Arthur Lira</td>\n",
       "      <td>Dr. Jaziel</td>\n",
       "      <td>PL</td>\n",
       "      <td>CE</td>\n",
       "    </tr>\n",
       "    <tr>\n",
       "      <th>35</th>\n",
       "      <td>Arthur Lira</td>\n",
       "      <td>Edio Lopes</td>\n",
       "      <td>PL</td>\n",
       "      <td>RR</td>\n",
       "    </tr>\n",
       "    <tr>\n",
       "      <th>36</th>\n",
       "      <td>Arthur Lira</td>\n",
       "      <td>Fernando Rodolfo</td>\n",
       "      <td>PL</td>\n",
       "      <td>PE</td>\n",
       "    </tr>\n",
       "    <tr>\n",
       "      <th>37</th>\n",
       "      <td>Arthur Lira</td>\n",
       "      <td>Flávia Arruda</td>\n",
       "      <td>PL</td>\n",
       "      <td>DF</td>\n",
       "    </tr>\n",
       "    <tr>\n",
       "      <th>38</th>\n",
       "      <td>Arthur Lira</td>\n",
       "      <td>Gelson Azevedo</td>\n",
       "      <td>PL</td>\n",
       "      <td>RJ</td>\n",
       "    </tr>\n",
       "    <tr>\n",
       "      <th>39</th>\n",
       "      <td>Arthur Lira</td>\n",
       "      <td>Giacobo</td>\n",
       "      <td>PL</td>\n",
       "      <td>PR</td>\n",
       "    </tr>\n",
       "    <tr>\n",
       "      <th>40</th>\n",
       "      <td>Arthur Lira</td>\n",
       "      <td>Giovani Cherini</td>\n",
       "      <td>PL</td>\n",
       "      <td>RS</td>\n",
       "    </tr>\n",
       "    <tr>\n",
       "      <th>41</th>\n",
       "      <td>Arthur Lira</td>\n",
       "      <td>João Carlos Bacelar</td>\n",
       "      <td>PL</td>\n",
       "      <td>BA</td>\n",
       "    </tr>\n",
       "    <tr>\n",
       "      <th>42</th>\n",
       "      <td>Arthur Lira</td>\n",
       "      <td>João Maia</td>\n",
       "      <td>PL</td>\n",
       "      <td>RN</td>\n",
       "    </tr>\n",
       "    <tr>\n",
       "      <th>43</th>\n",
       "      <td>Arthur Lira</td>\n",
       "      <td>Jorge Goetten</td>\n",
       "      <td>PL</td>\n",
       "      <td>SC</td>\n",
       "    </tr>\n",
       "    <tr>\n",
       "      <th>44</th>\n",
       "      <td>Arthur Lira</td>\n",
       "      <td>José Rocha</td>\n",
       "      <td>PL</td>\n",
       "      <td>BA</td>\n",
       "    </tr>\n",
       "    <tr>\n",
       "      <th>45</th>\n",
       "      <td>Arthur Lira</td>\n",
       "      <td>Júnior Mano</td>\n",
       "      <td>PL</td>\n",
       "      <td>CE</td>\n",
       "    </tr>\n",
       "    <tr>\n",
       "      <th>46</th>\n",
       "      <td>Arthur Lira</td>\n",
       "      <td>Lincoln Portela</td>\n",
       "      <td>PL</td>\n",
       "      <td>MG</td>\n",
       "    </tr>\n",
       "    <tr>\n",
       "      <th>47</th>\n",
       "      <td>Arthur Lira</td>\n",
       "      <td>Luiz Carlos Motta</td>\n",
       "      <td>PL</td>\n",
       "      <td>SP</td>\n",
       "    </tr>\n",
       "    <tr>\n",
       "      <th>48</th>\n",
       "      <td>Arthur Lira</td>\n",
       "      <td>Luiz Nishimori</td>\n",
       "      <td>PL</td>\n",
       "      <td>PR</td>\n",
       "    </tr>\n",
       "    <tr>\n",
       "      <th>49</th>\n",
       "      <td>Arthur Lira</td>\n",
       "      <td>Magda Mofatto</td>\n",
       "      <td>PL</td>\n",
       "      <td>GO</td>\n",
       "    </tr>\n",
       "    <tr>\n",
       "      <th>50</th>\n",
       "      <td>Arthur Lira</td>\n",
       "      <td>Marcelo Ramos</td>\n",
       "      <td>PL</td>\n",
       "      <td>AM</td>\n",
       "    </tr>\n",
       "    <tr>\n",
       "      <th>51</th>\n",
       "      <td>Arthur Lira</td>\n",
       "      <td>Marcio Alvino</td>\n",
       "      <td>PL</td>\n",
       "      <td>SP</td>\n",
       "    </tr>\n",
       "    <tr>\n",
       "      <th>52</th>\n",
       "      <td>Arthur Lira</td>\n",
       "      <td>Miguel Lombardi</td>\n",
       "      <td>PL</td>\n",
       "      <td>SP</td>\n",
       "    </tr>\n",
       "    <tr>\n",
       "      <th>53</th>\n",
       "      <td>Arthur Lira</td>\n",
       "      <td>Pastor Gil</td>\n",
       "      <td>PL</td>\n",
       "      <td>MA</td>\n",
       "    </tr>\n",
       "    <tr>\n",
       "      <th>54</th>\n",
       "      <td>Arthur Lira</td>\n",
       "      <td>Policial Katia Sastre</td>\n",
       "      <td>PL</td>\n",
       "      <td>SP</td>\n",
       "    </tr>\n",
       "    <tr>\n",
       "      <th>55</th>\n",
       "      <td>Arthur Lira</td>\n",
       "      <td>Raimundo Costa</td>\n",
       "      <td>PL</td>\n",
       "      <td>BA</td>\n",
       "    </tr>\n",
       "    <tr>\n",
       "      <th>56</th>\n",
       "      <td>Arthur Lira</td>\n",
       "      <td>Sergio Toledo</td>\n",
       "      <td>PL</td>\n",
       "      <td>AL</td>\n",
       "    </tr>\n",
       "    <tr>\n",
       "      <th>57</th>\n",
       "      <td>Arthur Lira</td>\n",
       "      <td>Soraya Santos</td>\n",
       "      <td>PL</td>\n",
       "      <td>RJ</td>\n",
       "    </tr>\n",
       "    <tr>\n",
       "      <th>58</th>\n",
       "      <td>Arthur Lira</td>\n",
       "      <td>Valdevan Noventa</td>\n",
       "      <td>PL</td>\n",
       "      <td>SE</td>\n",
       "    </tr>\n",
       "    <tr>\n",
       "      <th>59</th>\n",
       "      <td>Arthur Lira</td>\n",
       "      <td>Vicentinho Júnior</td>\n",
       "      <td>PL</td>\n",
       "      <td>TO</td>\n",
       "    </tr>\n",
       "    <tr>\n",
       "      <th>60</th>\n",
       "      <td>Arthur Lira</td>\n",
       "      <td>Vinicius Gurgel</td>\n",
       "      <td>PL</td>\n",
       "      <td>AP</td>\n",
       "    </tr>\n",
       "    <tr>\n",
       "      <th>61</th>\n",
       "      <td>Arthur Lira</td>\n",
       "      <td>Wellington Roberto</td>\n",
       "      <td>PL</td>\n",
       "      <td>PB</td>\n",
       "    </tr>\n",
       "    <tr>\n",
       "      <th>62</th>\n",
       "      <td>Arthur Lira</td>\n",
       "      <td>Zé Vitor</td>\n",
       "      <td>PL</td>\n",
       "      <td>MG</td>\n",
       "    </tr>\n",
       "    <tr>\n",
       "      <th>422</th>\n",
       "      <td>Não quis responder</td>\n",
       "      <td>Christiane de Souza Yared</td>\n",
       "      <td>PL</td>\n",
       "      <td>PR</td>\n",
       "    </tr>\n",
       "    <tr>\n",
       "      <th>423</th>\n",
       "      <td>Não quis responder</td>\n",
       "      <td>Gorete Pereira</td>\n",
       "      <td>PL</td>\n",
       "      <td>CE</td>\n",
       "    </tr>\n",
       "    <tr>\n",
       "      <th>424</th>\n",
       "      <td>Não quis responder</td>\n",
       "      <td>Josimar Maranhãozinho</td>\n",
       "      <td>PL</td>\n",
       "      <td>MA</td>\n",
       "    </tr>\n",
       "    <tr>\n",
       "      <th>425</th>\n",
       "      <td>Não quis responder</td>\n",
       "      <td>Junior Lourenço</td>\n",
       "      <td>PL</td>\n",
       "      <td>MA</td>\n",
       "    </tr>\n",
       "    <tr>\n",
       "      <th>426</th>\n",
       "      <td>Não quis responder</td>\n",
       "      <td>Paulo Freire Costa</td>\n",
       "      <td>PL</td>\n",
       "      <td>SP</td>\n",
       "    </tr>\n",
       "    <tr>\n",
       "      <th>427</th>\n",
       "      <td>Não quis responder</td>\n",
       "      <td>Tiririca</td>\n",
       "      <td>PL</td>\n",
       "      <td>SP</td>\n",
       "    </tr>\n",
       "    <tr>\n",
       "      <th>505</th>\n",
       "      <td>Não foi encontrado</td>\n",
       "      <td>Luiz Antônio Corrêa</td>\n",
       "      <td>PL</td>\n",
       "      <td>RJ</td>\n",
       "    </tr>\n",
       "  </tbody>\n",
       "</table>\n",
       "</div>"
      ],
      "text/plain": [
       "                   Voto                    Deputado Partido Estado\n",
       "27          Arthur Lira             Abílio Santana       PL     BA\n",
       "28          Arthur Lira             Aelton Freitas       PL     MG\n",
       "29          Arthur Lira             Altineu Côrtes       PL     RJ\n",
       "30          Arthur Lira                Bosco Costa       PL     SE\n",
       "31          Arthur Lira            Capitão Augusto       PL     SP\n",
       "32          Arthur Lira        Capitão Fábio Abreu       PL     PI\n",
       "33          Arthur Lira             Cristiano Vale       PL     PA\n",
       "34          Arthur Lira                 Dr. Jaziel       PL     CE\n",
       "35          Arthur Lira                 Edio Lopes       PL     RR\n",
       "36          Arthur Lira           Fernando Rodolfo       PL     PE\n",
       "37          Arthur Lira              Flávia Arruda       PL     DF\n",
       "38          Arthur Lira             Gelson Azevedo       PL     RJ\n",
       "39          Arthur Lira                    Giacobo       PL     PR\n",
       "40          Arthur Lira            Giovani Cherini       PL     RS\n",
       "41          Arthur Lira        João Carlos Bacelar       PL     BA\n",
       "42          Arthur Lira                  João Maia       PL     RN\n",
       "43          Arthur Lira              Jorge Goetten       PL     SC\n",
       "44          Arthur Lira                 José Rocha       PL     BA\n",
       "45          Arthur Lira                Júnior Mano       PL     CE\n",
       "46          Arthur Lira            Lincoln Portela       PL     MG\n",
       "47          Arthur Lira          Luiz Carlos Motta       PL     SP\n",
       "48          Arthur Lira             Luiz Nishimori       PL     PR\n",
       "49          Arthur Lira              Magda Mofatto       PL     GO\n",
       "50          Arthur Lira              Marcelo Ramos       PL     AM\n",
       "51          Arthur Lira              Marcio Alvino       PL     SP\n",
       "52          Arthur Lira            Miguel Lombardi       PL     SP\n",
       "53          Arthur Lira                 Pastor Gil       PL     MA\n",
       "54          Arthur Lira      Policial Katia Sastre       PL     SP\n",
       "55          Arthur Lira             Raimundo Costa       PL     BA\n",
       "56          Arthur Lira              Sergio Toledo       PL     AL\n",
       "57          Arthur Lira              Soraya Santos       PL     RJ\n",
       "58          Arthur Lira           Valdevan Noventa       PL     SE\n",
       "59          Arthur Lira          Vicentinho Júnior       PL     TO\n",
       "60          Arthur Lira            Vinicius Gurgel       PL     AP\n",
       "61          Arthur Lira         Wellington Roberto       PL     PB\n",
       "62          Arthur Lira                   Zé Vitor       PL     MG\n",
       "422  Não quis responder  Christiane de Souza Yared       PL     PR\n",
       "423  Não quis responder             Gorete Pereira       PL     CE\n",
       "424  Não quis responder      Josimar Maranhãozinho       PL     MA\n",
       "425  Não quis responder            Junior Lourenço       PL     MA\n",
       "426  Não quis responder         Paulo Freire Costa       PL     SP\n",
       "427  Não quis responder                   Tiririca       PL     SP\n",
       "505  Não foi encontrado        Luiz Antônio Corrêa       PL     RJ"
      ]
     },
     "execution_count": 31,
     "metadata": {},
     "output_type": "execute_result"
    }
   ],
   "source": [
    "pl_df = dados_eleicao_df.loc[dados_eleicao_df['Partido'] == 'PL']\n",
    "pl_df"
   ]
  },
  {
   "cell_type": "code",
   "execution_count": 32,
   "id": "abaa7f8d",
   "metadata": {},
   "outputs": [],
   "source": [
    "grafico_pl = plx.pie(pl_df, names='Voto')"
   ]
  },
  {
   "cell_type": "code",
   "execution_count": 33,
   "id": "b9774f28",
   "metadata": {},
   "outputs": [
    {
     "data": {
      "application/vnd.plotly.v1+json": {
       "config": {
        "plotlyServerURL": "https://plot.ly"
       },
       "data": [
        {
         "domain": {
          "x": [
           0,
           1
          ],
          "y": [
           0,
           1
          ]
         },
         "hovertemplate": "Voto=%{label}<extra></extra>",
         "labels": [
          "Arthur Lira",
          "Arthur Lira",
          "Arthur Lira",
          "Arthur Lira",
          "Arthur Lira",
          "Arthur Lira",
          "Arthur Lira",
          "Arthur Lira",
          "Arthur Lira",
          "Arthur Lira",
          "Arthur Lira",
          "Arthur Lira",
          "Arthur Lira",
          "Arthur Lira",
          "Arthur Lira",
          "Arthur Lira",
          "Arthur Lira",
          "Arthur Lira",
          "Arthur Lira",
          "Arthur Lira",
          "Arthur Lira",
          "Arthur Lira",
          "Arthur Lira",
          "Arthur Lira",
          "Arthur Lira",
          "Arthur Lira",
          "Arthur Lira",
          "Arthur Lira",
          "Arthur Lira",
          "Arthur Lira",
          "Arthur Lira",
          "Arthur Lira",
          "Arthur Lira",
          "Arthur Lira",
          "Arthur Lira",
          "Arthur Lira",
          "Não quis responder",
          "Não quis responder",
          "Não quis responder",
          "Não quis responder",
          "Não quis responder",
          "Não quis responder",
          "Não foi encontrado"
         ],
         "legendgroup": "",
         "name": "",
         "showlegend": true,
         "type": "pie"
        }
       ],
       "layout": {
        "legend": {
         "tracegroupgap": 0
        },
        "margin": {
         "t": 60
        },
        "template": {
         "data": {
          "bar": [
           {
            "error_x": {
             "color": "#2a3f5f"
            },
            "error_y": {
             "color": "#2a3f5f"
            },
            "marker": {
             "line": {
              "color": "#E5ECF6",
              "width": 0.5
             },
             "pattern": {
              "fillmode": "overlay",
              "size": 10,
              "solidity": 0.2
             }
            },
            "type": "bar"
           }
          ],
          "barpolar": [
           {
            "marker": {
             "line": {
              "color": "#E5ECF6",
              "width": 0.5
             },
             "pattern": {
              "fillmode": "overlay",
              "size": 10,
              "solidity": 0.2
             }
            },
            "type": "barpolar"
           }
          ],
          "carpet": [
           {
            "aaxis": {
             "endlinecolor": "#2a3f5f",
             "gridcolor": "white",
             "linecolor": "white",
             "minorgridcolor": "white",
             "startlinecolor": "#2a3f5f"
            },
            "baxis": {
             "endlinecolor": "#2a3f5f",
             "gridcolor": "white",
             "linecolor": "white",
             "minorgridcolor": "white",
             "startlinecolor": "#2a3f5f"
            },
            "type": "carpet"
           }
          ],
          "choropleth": [
           {
            "colorbar": {
             "outlinewidth": 0,
             "ticks": ""
            },
            "type": "choropleth"
           }
          ],
          "contour": [
           {
            "colorbar": {
             "outlinewidth": 0,
             "ticks": ""
            },
            "colorscale": [
             [
              0,
              "#0d0887"
             ],
             [
              0.1111111111111111,
              "#46039f"
             ],
             [
              0.2222222222222222,
              "#7201a8"
             ],
             [
              0.3333333333333333,
              "#9c179e"
             ],
             [
              0.4444444444444444,
              "#bd3786"
             ],
             [
              0.5555555555555556,
              "#d8576b"
             ],
             [
              0.6666666666666666,
              "#ed7953"
             ],
             [
              0.7777777777777778,
              "#fb9f3a"
             ],
             [
              0.8888888888888888,
              "#fdca26"
             ],
             [
              1,
              "#f0f921"
             ]
            ],
            "type": "contour"
           }
          ],
          "contourcarpet": [
           {
            "colorbar": {
             "outlinewidth": 0,
             "ticks": ""
            },
            "type": "contourcarpet"
           }
          ],
          "heatmap": [
           {
            "colorbar": {
             "outlinewidth": 0,
             "ticks": ""
            },
            "colorscale": [
             [
              0,
              "#0d0887"
             ],
             [
              0.1111111111111111,
              "#46039f"
             ],
             [
              0.2222222222222222,
              "#7201a8"
             ],
             [
              0.3333333333333333,
              "#9c179e"
             ],
             [
              0.4444444444444444,
              "#bd3786"
             ],
             [
              0.5555555555555556,
              "#d8576b"
             ],
             [
              0.6666666666666666,
              "#ed7953"
             ],
             [
              0.7777777777777778,
              "#fb9f3a"
             ],
             [
              0.8888888888888888,
              "#fdca26"
             ],
             [
              1,
              "#f0f921"
             ]
            ],
            "type": "heatmap"
           }
          ],
          "heatmapgl": [
           {
            "colorbar": {
             "outlinewidth": 0,
             "ticks": ""
            },
            "colorscale": [
             [
              0,
              "#0d0887"
             ],
             [
              0.1111111111111111,
              "#46039f"
             ],
             [
              0.2222222222222222,
              "#7201a8"
             ],
             [
              0.3333333333333333,
              "#9c179e"
             ],
             [
              0.4444444444444444,
              "#bd3786"
             ],
             [
              0.5555555555555556,
              "#d8576b"
             ],
             [
              0.6666666666666666,
              "#ed7953"
             ],
             [
              0.7777777777777778,
              "#fb9f3a"
             ],
             [
              0.8888888888888888,
              "#fdca26"
             ],
             [
              1,
              "#f0f921"
             ]
            ],
            "type": "heatmapgl"
           }
          ],
          "histogram": [
           {
            "marker": {
             "pattern": {
              "fillmode": "overlay",
              "size": 10,
              "solidity": 0.2
             }
            },
            "type": "histogram"
           }
          ],
          "histogram2d": [
           {
            "colorbar": {
             "outlinewidth": 0,
             "ticks": ""
            },
            "colorscale": [
             [
              0,
              "#0d0887"
             ],
             [
              0.1111111111111111,
              "#46039f"
             ],
             [
              0.2222222222222222,
              "#7201a8"
             ],
             [
              0.3333333333333333,
              "#9c179e"
             ],
             [
              0.4444444444444444,
              "#bd3786"
             ],
             [
              0.5555555555555556,
              "#d8576b"
             ],
             [
              0.6666666666666666,
              "#ed7953"
             ],
             [
              0.7777777777777778,
              "#fb9f3a"
             ],
             [
              0.8888888888888888,
              "#fdca26"
             ],
             [
              1,
              "#f0f921"
             ]
            ],
            "type": "histogram2d"
           }
          ],
          "histogram2dcontour": [
           {
            "colorbar": {
             "outlinewidth": 0,
             "ticks": ""
            },
            "colorscale": [
             [
              0,
              "#0d0887"
             ],
             [
              0.1111111111111111,
              "#46039f"
             ],
             [
              0.2222222222222222,
              "#7201a8"
             ],
             [
              0.3333333333333333,
              "#9c179e"
             ],
             [
              0.4444444444444444,
              "#bd3786"
             ],
             [
              0.5555555555555556,
              "#d8576b"
             ],
             [
              0.6666666666666666,
              "#ed7953"
             ],
             [
              0.7777777777777778,
              "#fb9f3a"
             ],
             [
              0.8888888888888888,
              "#fdca26"
             ],
             [
              1,
              "#f0f921"
             ]
            ],
            "type": "histogram2dcontour"
           }
          ],
          "mesh3d": [
           {
            "colorbar": {
             "outlinewidth": 0,
             "ticks": ""
            },
            "type": "mesh3d"
           }
          ],
          "parcoords": [
           {
            "line": {
             "colorbar": {
              "outlinewidth": 0,
              "ticks": ""
             }
            },
            "type": "parcoords"
           }
          ],
          "pie": [
           {
            "automargin": true,
            "type": "pie"
           }
          ],
          "scatter": [
           {
            "fillpattern": {
             "fillmode": "overlay",
             "size": 10,
             "solidity": 0.2
            },
            "type": "scatter"
           }
          ],
          "scatter3d": [
           {
            "line": {
             "colorbar": {
              "outlinewidth": 0,
              "ticks": ""
             }
            },
            "marker": {
             "colorbar": {
              "outlinewidth": 0,
              "ticks": ""
             }
            },
            "type": "scatter3d"
           }
          ],
          "scattercarpet": [
           {
            "marker": {
             "colorbar": {
              "outlinewidth": 0,
              "ticks": ""
             }
            },
            "type": "scattercarpet"
           }
          ],
          "scattergeo": [
           {
            "marker": {
             "colorbar": {
              "outlinewidth": 0,
              "ticks": ""
             }
            },
            "type": "scattergeo"
           }
          ],
          "scattergl": [
           {
            "marker": {
             "colorbar": {
              "outlinewidth": 0,
              "ticks": ""
             }
            },
            "type": "scattergl"
           }
          ],
          "scattermapbox": [
           {
            "marker": {
             "colorbar": {
              "outlinewidth": 0,
              "ticks": ""
             }
            },
            "type": "scattermapbox"
           }
          ],
          "scatterpolar": [
           {
            "marker": {
             "colorbar": {
              "outlinewidth": 0,
              "ticks": ""
             }
            },
            "type": "scatterpolar"
           }
          ],
          "scatterpolargl": [
           {
            "marker": {
             "colorbar": {
              "outlinewidth": 0,
              "ticks": ""
             }
            },
            "type": "scatterpolargl"
           }
          ],
          "scatterternary": [
           {
            "marker": {
             "colorbar": {
              "outlinewidth": 0,
              "ticks": ""
             }
            },
            "type": "scatterternary"
           }
          ],
          "surface": [
           {
            "colorbar": {
             "outlinewidth": 0,
             "ticks": ""
            },
            "colorscale": [
             [
              0,
              "#0d0887"
             ],
             [
              0.1111111111111111,
              "#46039f"
             ],
             [
              0.2222222222222222,
              "#7201a8"
             ],
             [
              0.3333333333333333,
              "#9c179e"
             ],
             [
              0.4444444444444444,
              "#bd3786"
             ],
             [
              0.5555555555555556,
              "#d8576b"
             ],
             [
              0.6666666666666666,
              "#ed7953"
             ],
             [
              0.7777777777777778,
              "#fb9f3a"
             ],
             [
              0.8888888888888888,
              "#fdca26"
             ],
             [
              1,
              "#f0f921"
             ]
            ],
            "type": "surface"
           }
          ],
          "table": [
           {
            "cells": {
             "fill": {
              "color": "#EBF0F8"
             },
             "line": {
              "color": "white"
             }
            },
            "header": {
             "fill": {
              "color": "#C8D4E3"
             },
             "line": {
              "color": "white"
             }
            },
            "type": "table"
           }
          ]
         },
         "layout": {
          "annotationdefaults": {
           "arrowcolor": "#2a3f5f",
           "arrowhead": 0,
           "arrowwidth": 1
          },
          "autotypenumbers": "strict",
          "coloraxis": {
           "colorbar": {
            "outlinewidth": 0,
            "ticks": ""
           }
          },
          "colorscale": {
           "diverging": [
            [
             0,
             "#8e0152"
            ],
            [
             0.1,
             "#c51b7d"
            ],
            [
             0.2,
             "#de77ae"
            ],
            [
             0.3,
             "#f1b6da"
            ],
            [
             0.4,
             "#fde0ef"
            ],
            [
             0.5,
             "#f7f7f7"
            ],
            [
             0.6,
             "#e6f5d0"
            ],
            [
             0.7,
             "#b8e186"
            ],
            [
             0.8,
             "#7fbc41"
            ],
            [
             0.9,
             "#4d9221"
            ],
            [
             1,
             "#276419"
            ]
           ],
           "sequential": [
            [
             0,
             "#0d0887"
            ],
            [
             0.1111111111111111,
             "#46039f"
            ],
            [
             0.2222222222222222,
             "#7201a8"
            ],
            [
             0.3333333333333333,
             "#9c179e"
            ],
            [
             0.4444444444444444,
             "#bd3786"
            ],
            [
             0.5555555555555556,
             "#d8576b"
            ],
            [
             0.6666666666666666,
             "#ed7953"
            ],
            [
             0.7777777777777778,
             "#fb9f3a"
            ],
            [
             0.8888888888888888,
             "#fdca26"
            ],
            [
             1,
             "#f0f921"
            ]
           ],
           "sequentialminus": [
            [
             0,
             "#0d0887"
            ],
            [
             0.1111111111111111,
             "#46039f"
            ],
            [
             0.2222222222222222,
             "#7201a8"
            ],
            [
             0.3333333333333333,
             "#9c179e"
            ],
            [
             0.4444444444444444,
             "#bd3786"
            ],
            [
             0.5555555555555556,
             "#d8576b"
            ],
            [
             0.6666666666666666,
             "#ed7953"
            ],
            [
             0.7777777777777778,
             "#fb9f3a"
            ],
            [
             0.8888888888888888,
             "#fdca26"
            ],
            [
             1,
             "#f0f921"
            ]
           ]
          },
          "colorway": [
           "#636efa",
           "#EF553B",
           "#00cc96",
           "#ab63fa",
           "#FFA15A",
           "#19d3f3",
           "#FF6692",
           "#B6E880",
           "#FF97FF",
           "#FECB52"
          ],
          "font": {
           "color": "#2a3f5f"
          },
          "geo": {
           "bgcolor": "white",
           "lakecolor": "white",
           "landcolor": "#E5ECF6",
           "showlakes": true,
           "showland": true,
           "subunitcolor": "white"
          },
          "hoverlabel": {
           "align": "left"
          },
          "hovermode": "closest",
          "mapbox": {
           "style": "light"
          },
          "paper_bgcolor": "white",
          "plot_bgcolor": "#E5ECF6",
          "polar": {
           "angularaxis": {
            "gridcolor": "white",
            "linecolor": "white",
            "ticks": ""
           },
           "bgcolor": "#E5ECF6",
           "radialaxis": {
            "gridcolor": "white",
            "linecolor": "white",
            "ticks": ""
           }
          },
          "scene": {
           "xaxis": {
            "backgroundcolor": "#E5ECF6",
            "gridcolor": "white",
            "gridwidth": 2,
            "linecolor": "white",
            "showbackground": true,
            "ticks": "",
            "zerolinecolor": "white"
           },
           "yaxis": {
            "backgroundcolor": "#E5ECF6",
            "gridcolor": "white",
            "gridwidth": 2,
            "linecolor": "white",
            "showbackground": true,
            "ticks": "",
            "zerolinecolor": "white"
           },
           "zaxis": {
            "backgroundcolor": "#E5ECF6",
            "gridcolor": "white",
            "gridwidth": 2,
            "linecolor": "white",
            "showbackground": true,
            "ticks": "",
            "zerolinecolor": "white"
           }
          },
          "shapedefaults": {
           "line": {
            "color": "#2a3f5f"
           }
          },
          "ternary": {
           "aaxis": {
            "gridcolor": "white",
            "linecolor": "white",
            "ticks": ""
           },
           "baxis": {
            "gridcolor": "white",
            "linecolor": "white",
            "ticks": ""
           },
           "bgcolor": "#E5ECF6",
           "caxis": {
            "gridcolor": "white",
            "linecolor": "white",
            "ticks": ""
           }
          },
          "title": {
           "x": 0.05
          },
          "xaxis": {
           "automargin": true,
           "gridcolor": "white",
           "linecolor": "white",
           "ticks": "",
           "title": {
            "standoff": 15
           },
           "zerolinecolor": "white",
           "zerolinewidth": 2
          },
          "yaxis": {
           "automargin": true,
           "gridcolor": "white",
           "linecolor": "white",
           "ticks": "",
           "title": {
            "standoff": 15
           },
           "zerolinecolor": "white",
           "zerolinewidth": 2
          }
         }
        }
       }
      },
      "text/html": [
       "<div>                            <div id=\"87b8375a-8527-4d89-9b95-b287cb17a06a\" class=\"plotly-graph-div\" style=\"height:525px; width:100%;\"></div>            <script type=\"text/javascript\">                require([\"plotly\"], function(Plotly) {                    window.PLOTLYENV=window.PLOTLYENV || {};                                    if (document.getElementById(\"87b8375a-8527-4d89-9b95-b287cb17a06a\")) {                    Plotly.newPlot(                        \"87b8375a-8527-4d89-9b95-b287cb17a06a\",                        [{\"domain\":{\"x\":[0.0,1.0],\"y\":[0.0,1.0]},\"hovertemplate\":\"Voto=%{label}<extra></extra>\",\"labels\":[\"Arthur Lira\",\"Arthur Lira\",\"Arthur Lira\",\"Arthur Lira\",\"Arthur Lira\",\"Arthur Lira\",\"Arthur Lira\",\"Arthur Lira\",\"Arthur Lira\",\"Arthur Lira\",\"Arthur Lira\",\"Arthur Lira\",\"Arthur Lira\",\"Arthur Lira\",\"Arthur Lira\",\"Arthur Lira\",\"Arthur Lira\",\"Arthur Lira\",\"Arthur Lira\",\"Arthur Lira\",\"Arthur Lira\",\"Arthur Lira\",\"Arthur Lira\",\"Arthur Lira\",\"Arthur Lira\",\"Arthur Lira\",\"Arthur Lira\",\"Arthur Lira\",\"Arthur Lira\",\"Arthur Lira\",\"Arthur Lira\",\"Arthur Lira\",\"Arthur Lira\",\"Arthur Lira\",\"Arthur Lira\",\"Arthur Lira\",\"N\\u00e3o quis responder\",\"N\\u00e3o quis responder\",\"N\\u00e3o quis responder\",\"N\\u00e3o quis responder\",\"N\\u00e3o quis responder\",\"N\\u00e3o quis responder\",\"N\\u00e3o foi encontrado\"],\"legendgroup\":\"\",\"name\":\"\",\"showlegend\":true,\"type\":\"pie\"}],                        {\"template\":{\"data\":{\"histogram2dcontour\":[{\"type\":\"histogram2dcontour\",\"colorbar\":{\"outlinewidth\":0,\"ticks\":\"\"},\"colorscale\":[[0.0,\"#0d0887\"],[0.1111111111111111,\"#46039f\"],[0.2222222222222222,\"#7201a8\"],[0.3333333333333333,\"#9c179e\"],[0.4444444444444444,\"#bd3786\"],[0.5555555555555556,\"#d8576b\"],[0.6666666666666666,\"#ed7953\"],[0.7777777777777778,\"#fb9f3a\"],[0.8888888888888888,\"#fdca26\"],[1.0,\"#f0f921\"]]}],\"choropleth\":[{\"type\":\"choropleth\",\"colorbar\":{\"outlinewidth\":0,\"ticks\":\"\"}}],\"histogram2d\":[{\"type\":\"histogram2d\",\"colorbar\":{\"outlinewidth\":0,\"ticks\":\"\"},\"colorscale\":[[0.0,\"#0d0887\"],[0.1111111111111111,\"#46039f\"],[0.2222222222222222,\"#7201a8\"],[0.3333333333333333,\"#9c179e\"],[0.4444444444444444,\"#bd3786\"],[0.5555555555555556,\"#d8576b\"],[0.6666666666666666,\"#ed7953\"],[0.7777777777777778,\"#fb9f3a\"],[0.8888888888888888,\"#fdca26\"],[1.0,\"#f0f921\"]]}],\"heatmap\":[{\"type\":\"heatmap\",\"colorbar\":{\"outlinewidth\":0,\"ticks\":\"\"},\"colorscale\":[[0.0,\"#0d0887\"],[0.1111111111111111,\"#46039f\"],[0.2222222222222222,\"#7201a8\"],[0.3333333333333333,\"#9c179e\"],[0.4444444444444444,\"#bd3786\"],[0.5555555555555556,\"#d8576b\"],[0.6666666666666666,\"#ed7953\"],[0.7777777777777778,\"#fb9f3a\"],[0.8888888888888888,\"#fdca26\"],[1.0,\"#f0f921\"]]}],\"heatmapgl\":[{\"type\":\"heatmapgl\",\"colorbar\":{\"outlinewidth\":0,\"ticks\":\"\"},\"colorscale\":[[0.0,\"#0d0887\"],[0.1111111111111111,\"#46039f\"],[0.2222222222222222,\"#7201a8\"],[0.3333333333333333,\"#9c179e\"],[0.4444444444444444,\"#bd3786\"],[0.5555555555555556,\"#d8576b\"],[0.6666666666666666,\"#ed7953\"],[0.7777777777777778,\"#fb9f3a\"],[0.8888888888888888,\"#fdca26\"],[1.0,\"#f0f921\"]]}],\"contourcarpet\":[{\"type\":\"contourcarpet\",\"colorbar\":{\"outlinewidth\":0,\"ticks\":\"\"}}],\"contour\":[{\"type\":\"contour\",\"colorbar\":{\"outlinewidth\":0,\"ticks\":\"\"},\"colorscale\":[[0.0,\"#0d0887\"],[0.1111111111111111,\"#46039f\"],[0.2222222222222222,\"#7201a8\"],[0.3333333333333333,\"#9c179e\"],[0.4444444444444444,\"#bd3786\"],[0.5555555555555556,\"#d8576b\"],[0.6666666666666666,\"#ed7953\"],[0.7777777777777778,\"#fb9f3a\"],[0.8888888888888888,\"#fdca26\"],[1.0,\"#f0f921\"]]}],\"surface\":[{\"type\":\"surface\",\"colorbar\":{\"outlinewidth\":0,\"ticks\":\"\"},\"colorscale\":[[0.0,\"#0d0887\"],[0.1111111111111111,\"#46039f\"],[0.2222222222222222,\"#7201a8\"],[0.3333333333333333,\"#9c179e\"],[0.4444444444444444,\"#bd3786\"],[0.5555555555555556,\"#d8576b\"],[0.6666666666666666,\"#ed7953\"],[0.7777777777777778,\"#fb9f3a\"],[0.8888888888888888,\"#fdca26\"],[1.0,\"#f0f921\"]]}],\"mesh3d\":[{\"type\":\"mesh3d\",\"colorbar\":{\"outlinewidth\":0,\"ticks\":\"\"}}],\"scatter\":[{\"fillpattern\":{\"fillmode\":\"overlay\",\"size\":10,\"solidity\":0.2},\"type\":\"scatter\"}],\"parcoords\":[{\"type\":\"parcoords\",\"line\":{\"colorbar\":{\"outlinewidth\":0,\"ticks\":\"\"}}}],\"scatterpolargl\":[{\"type\":\"scatterpolargl\",\"marker\":{\"colorbar\":{\"outlinewidth\":0,\"ticks\":\"\"}}}],\"bar\":[{\"error_x\":{\"color\":\"#2a3f5f\"},\"error_y\":{\"color\":\"#2a3f5f\"},\"marker\":{\"line\":{\"color\":\"#E5ECF6\",\"width\":0.5},\"pattern\":{\"fillmode\":\"overlay\",\"size\":10,\"solidity\":0.2}},\"type\":\"bar\"}],\"scattergeo\":[{\"type\":\"scattergeo\",\"marker\":{\"colorbar\":{\"outlinewidth\":0,\"ticks\":\"\"}}}],\"scatterpolar\":[{\"type\":\"scatterpolar\",\"marker\":{\"colorbar\":{\"outlinewidth\":0,\"ticks\":\"\"}}}],\"histogram\":[{\"marker\":{\"pattern\":{\"fillmode\":\"overlay\",\"size\":10,\"solidity\":0.2}},\"type\":\"histogram\"}],\"scattergl\":[{\"type\":\"scattergl\",\"marker\":{\"colorbar\":{\"outlinewidth\":0,\"ticks\":\"\"}}}],\"scatter3d\":[{\"type\":\"scatter3d\",\"line\":{\"colorbar\":{\"outlinewidth\":0,\"ticks\":\"\"}},\"marker\":{\"colorbar\":{\"outlinewidth\":0,\"ticks\":\"\"}}}],\"scattermapbox\":[{\"type\":\"scattermapbox\",\"marker\":{\"colorbar\":{\"outlinewidth\":0,\"ticks\":\"\"}}}],\"scatterternary\":[{\"type\":\"scatterternary\",\"marker\":{\"colorbar\":{\"outlinewidth\":0,\"ticks\":\"\"}}}],\"scattercarpet\":[{\"type\":\"scattercarpet\",\"marker\":{\"colorbar\":{\"outlinewidth\":0,\"ticks\":\"\"}}}],\"carpet\":[{\"aaxis\":{\"endlinecolor\":\"#2a3f5f\",\"gridcolor\":\"white\",\"linecolor\":\"white\",\"minorgridcolor\":\"white\",\"startlinecolor\":\"#2a3f5f\"},\"baxis\":{\"endlinecolor\":\"#2a3f5f\",\"gridcolor\":\"white\",\"linecolor\":\"white\",\"minorgridcolor\":\"white\",\"startlinecolor\":\"#2a3f5f\"},\"type\":\"carpet\"}],\"table\":[{\"cells\":{\"fill\":{\"color\":\"#EBF0F8\"},\"line\":{\"color\":\"white\"}},\"header\":{\"fill\":{\"color\":\"#C8D4E3\"},\"line\":{\"color\":\"white\"}},\"type\":\"table\"}],\"barpolar\":[{\"marker\":{\"line\":{\"color\":\"#E5ECF6\",\"width\":0.5},\"pattern\":{\"fillmode\":\"overlay\",\"size\":10,\"solidity\":0.2}},\"type\":\"barpolar\"}],\"pie\":[{\"automargin\":true,\"type\":\"pie\"}]},\"layout\":{\"autotypenumbers\":\"strict\",\"colorway\":[\"#636efa\",\"#EF553B\",\"#00cc96\",\"#ab63fa\",\"#FFA15A\",\"#19d3f3\",\"#FF6692\",\"#B6E880\",\"#FF97FF\",\"#FECB52\"],\"font\":{\"color\":\"#2a3f5f\"},\"hovermode\":\"closest\",\"hoverlabel\":{\"align\":\"left\"},\"paper_bgcolor\":\"white\",\"plot_bgcolor\":\"#E5ECF6\",\"polar\":{\"bgcolor\":\"#E5ECF6\",\"angularaxis\":{\"gridcolor\":\"white\",\"linecolor\":\"white\",\"ticks\":\"\"},\"radialaxis\":{\"gridcolor\":\"white\",\"linecolor\":\"white\",\"ticks\":\"\"}},\"ternary\":{\"bgcolor\":\"#E5ECF6\",\"aaxis\":{\"gridcolor\":\"white\",\"linecolor\":\"white\",\"ticks\":\"\"},\"baxis\":{\"gridcolor\":\"white\",\"linecolor\":\"white\",\"ticks\":\"\"},\"caxis\":{\"gridcolor\":\"white\",\"linecolor\":\"white\",\"ticks\":\"\"}},\"coloraxis\":{\"colorbar\":{\"outlinewidth\":0,\"ticks\":\"\"}},\"colorscale\":{\"sequential\":[[0.0,\"#0d0887\"],[0.1111111111111111,\"#46039f\"],[0.2222222222222222,\"#7201a8\"],[0.3333333333333333,\"#9c179e\"],[0.4444444444444444,\"#bd3786\"],[0.5555555555555556,\"#d8576b\"],[0.6666666666666666,\"#ed7953\"],[0.7777777777777778,\"#fb9f3a\"],[0.8888888888888888,\"#fdca26\"],[1.0,\"#f0f921\"]],\"sequentialminus\":[[0.0,\"#0d0887\"],[0.1111111111111111,\"#46039f\"],[0.2222222222222222,\"#7201a8\"],[0.3333333333333333,\"#9c179e\"],[0.4444444444444444,\"#bd3786\"],[0.5555555555555556,\"#d8576b\"],[0.6666666666666666,\"#ed7953\"],[0.7777777777777778,\"#fb9f3a\"],[0.8888888888888888,\"#fdca26\"],[1.0,\"#f0f921\"]],\"diverging\":[[0,\"#8e0152\"],[0.1,\"#c51b7d\"],[0.2,\"#de77ae\"],[0.3,\"#f1b6da\"],[0.4,\"#fde0ef\"],[0.5,\"#f7f7f7\"],[0.6,\"#e6f5d0\"],[0.7,\"#b8e186\"],[0.8,\"#7fbc41\"],[0.9,\"#4d9221\"],[1,\"#276419\"]]},\"xaxis\":{\"gridcolor\":\"white\",\"linecolor\":\"white\",\"ticks\":\"\",\"title\":{\"standoff\":15},\"zerolinecolor\":\"white\",\"automargin\":true,\"zerolinewidth\":2},\"yaxis\":{\"gridcolor\":\"white\",\"linecolor\":\"white\",\"ticks\":\"\",\"title\":{\"standoff\":15},\"zerolinecolor\":\"white\",\"automargin\":true,\"zerolinewidth\":2},\"scene\":{\"xaxis\":{\"backgroundcolor\":\"#E5ECF6\",\"gridcolor\":\"white\",\"linecolor\":\"white\",\"showbackground\":true,\"ticks\":\"\",\"zerolinecolor\":\"white\",\"gridwidth\":2},\"yaxis\":{\"backgroundcolor\":\"#E5ECF6\",\"gridcolor\":\"white\",\"linecolor\":\"white\",\"showbackground\":true,\"ticks\":\"\",\"zerolinecolor\":\"white\",\"gridwidth\":2},\"zaxis\":{\"backgroundcolor\":\"#E5ECF6\",\"gridcolor\":\"white\",\"linecolor\":\"white\",\"showbackground\":true,\"ticks\":\"\",\"zerolinecolor\":\"white\",\"gridwidth\":2}},\"shapedefaults\":{\"line\":{\"color\":\"#2a3f5f\"}},\"annotationdefaults\":{\"arrowcolor\":\"#2a3f5f\",\"arrowhead\":0,\"arrowwidth\":1},\"geo\":{\"bgcolor\":\"white\",\"landcolor\":\"#E5ECF6\",\"subunitcolor\":\"white\",\"showland\":true,\"showlakes\":true,\"lakecolor\":\"white\"},\"title\":{\"x\":0.05},\"mapbox\":{\"style\":\"light\"}}},\"legend\":{\"tracegroupgap\":0},\"margin\":{\"t\":60}},                        {\"responsive\": true}                    ).then(function(){\n",
       "                            \n",
       "var gd = document.getElementById('87b8375a-8527-4d89-9b95-b287cb17a06a');\n",
       "var x = new MutationObserver(function (mutations, observer) {{\n",
       "        var display = window.getComputedStyle(gd).display;\n",
       "        if (!display || display === 'none') {{\n",
       "            console.log([gd, 'removed!']);\n",
       "            Plotly.purge(gd);\n",
       "            observer.disconnect();\n",
       "        }}\n",
       "}});\n",
       "\n",
       "// Listen for the removal of the full notebook cells\n",
       "var notebookContainer = gd.closest('#notebook-container');\n",
       "if (notebookContainer) {{\n",
       "    x.observe(notebookContainer, {childList: true});\n",
       "}}\n",
       "\n",
       "// Listen for the clearing of the current output cell\n",
       "var outputEl = gd.closest('.output');\n",
       "if (outputEl) {{\n",
       "    x.observe(outputEl, {childList: true});\n",
       "}}\n",
       "\n",
       "                        })                };                });            </script>        </div>"
      ]
     },
     "metadata": {},
     "output_type": "display_data"
    }
   ],
   "source": [
    "display(grafico_pl)"
   ]
  },
  {
   "cell_type": "code",
   "execution_count": 34,
   "id": "22e37562",
   "metadata": {},
   "outputs": [
    {
     "data": {
      "application/vnd.plotly.v1+json": {
       "config": {
        "plotlyServerURL": "https://plot.ly"
       },
       "data": [
        {
         "domain": {
          "x": [
           0,
           1
          ],
          "y": [
           0,
           1
          ]
         },
         "gauge": {
          "axis": {
           "range": [
            null,
            500
           ]
          },
          "steps": [
           {
            "color": "lightgray",
            "range": [
             0,
             250
            ]
           },
           {
            "color": "gray",
            "range": [
             250,
             400
            ]
           }
          ],
          "threshold": {
           "line": {
            "color": "red",
            "width": 4
           },
           "thickness": 0.75,
           "value": 490
          }
         },
         "mode": "gauge+number",
         "title": {
          "text": "Speed"
         },
         "type": "indicator",
         "value": 450
        }
       ],
       "layout": {
        "template": {
         "data": {
          "bar": [
           {
            "error_x": {
             "color": "#2a3f5f"
            },
            "error_y": {
             "color": "#2a3f5f"
            },
            "marker": {
             "line": {
              "color": "#E5ECF6",
              "width": 0.5
             },
             "pattern": {
              "fillmode": "overlay",
              "size": 10,
              "solidity": 0.2
             }
            },
            "type": "bar"
           }
          ],
          "barpolar": [
           {
            "marker": {
             "line": {
              "color": "#E5ECF6",
              "width": 0.5
             },
             "pattern": {
              "fillmode": "overlay",
              "size": 10,
              "solidity": 0.2
             }
            },
            "type": "barpolar"
           }
          ],
          "carpet": [
           {
            "aaxis": {
             "endlinecolor": "#2a3f5f",
             "gridcolor": "white",
             "linecolor": "white",
             "minorgridcolor": "white",
             "startlinecolor": "#2a3f5f"
            },
            "baxis": {
             "endlinecolor": "#2a3f5f",
             "gridcolor": "white",
             "linecolor": "white",
             "minorgridcolor": "white",
             "startlinecolor": "#2a3f5f"
            },
            "type": "carpet"
           }
          ],
          "choropleth": [
           {
            "colorbar": {
             "outlinewidth": 0,
             "ticks": ""
            },
            "type": "choropleth"
           }
          ],
          "contour": [
           {
            "colorbar": {
             "outlinewidth": 0,
             "ticks": ""
            },
            "colorscale": [
             [
              0,
              "#0d0887"
             ],
             [
              0.1111111111111111,
              "#46039f"
             ],
             [
              0.2222222222222222,
              "#7201a8"
             ],
             [
              0.3333333333333333,
              "#9c179e"
             ],
             [
              0.4444444444444444,
              "#bd3786"
             ],
             [
              0.5555555555555556,
              "#d8576b"
             ],
             [
              0.6666666666666666,
              "#ed7953"
             ],
             [
              0.7777777777777778,
              "#fb9f3a"
             ],
             [
              0.8888888888888888,
              "#fdca26"
             ],
             [
              1,
              "#f0f921"
             ]
            ],
            "type": "contour"
           }
          ],
          "contourcarpet": [
           {
            "colorbar": {
             "outlinewidth": 0,
             "ticks": ""
            },
            "type": "contourcarpet"
           }
          ],
          "heatmap": [
           {
            "colorbar": {
             "outlinewidth": 0,
             "ticks": ""
            },
            "colorscale": [
             [
              0,
              "#0d0887"
             ],
             [
              0.1111111111111111,
              "#46039f"
             ],
             [
              0.2222222222222222,
              "#7201a8"
             ],
             [
              0.3333333333333333,
              "#9c179e"
             ],
             [
              0.4444444444444444,
              "#bd3786"
             ],
             [
              0.5555555555555556,
              "#d8576b"
             ],
             [
              0.6666666666666666,
              "#ed7953"
             ],
             [
              0.7777777777777778,
              "#fb9f3a"
             ],
             [
              0.8888888888888888,
              "#fdca26"
             ],
             [
              1,
              "#f0f921"
             ]
            ],
            "type": "heatmap"
           }
          ],
          "heatmapgl": [
           {
            "colorbar": {
             "outlinewidth": 0,
             "ticks": ""
            },
            "colorscale": [
             [
              0,
              "#0d0887"
             ],
             [
              0.1111111111111111,
              "#46039f"
             ],
             [
              0.2222222222222222,
              "#7201a8"
             ],
             [
              0.3333333333333333,
              "#9c179e"
             ],
             [
              0.4444444444444444,
              "#bd3786"
             ],
             [
              0.5555555555555556,
              "#d8576b"
             ],
             [
              0.6666666666666666,
              "#ed7953"
             ],
             [
              0.7777777777777778,
              "#fb9f3a"
             ],
             [
              0.8888888888888888,
              "#fdca26"
             ],
             [
              1,
              "#f0f921"
             ]
            ],
            "type": "heatmapgl"
           }
          ],
          "histogram": [
           {
            "marker": {
             "pattern": {
              "fillmode": "overlay",
              "size": 10,
              "solidity": 0.2
             }
            },
            "type": "histogram"
           }
          ],
          "histogram2d": [
           {
            "colorbar": {
             "outlinewidth": 0,
             "ticks": ""
            },
            "colorscale": [
             [
              0,
              "#0d0887"
             ],
             [
              0.1111111111111111,
              "#46039f"
             ],
             [
              0.2222222222222222,
              "#7201a8"
             ],
             [
              0.3333333333333333,
              "#9c179e"
             ],
             [
              0.4444444444444444,
              "#bd3786"
             ],
             [
              0.5555555555555556,
              "#d8576b"
             ],
             [
              0.6666666666666666,
              "#ed7953"
             ],
             [
              0.7777777777777778,
              "#fb9f3a"
             ],
             [
              0.8888888888888888,
              "#fdca26"
             ],
             [
              1,
              "#f0f921"
             ]
            ],
            "type": "histogram2d"
           }
          ],
          "histogram2dcontour": [
           {
            "colorbar": {
             "outlinewidth": 0,
             "ticks": ""
            },
            "colorscale": [
             [
              0,
              "#0d0887"
             ],
             [
              0.1111111111111111,
              "#46039f"
             ],
             [
              0.2222222222222222,
              "#7201a8"
             ],
             [
              0.3333333333333333,
              "#9c179e"
             ],
             [
              0.4444444444444444,
              "#bd3786"
             ],
             [
              0.5555555555555556,
              "#d8576b"
             ],
             [
              0.6666666666666666,
              "#ed7953"
             ],
             [
              0.7777777777777778,
              "#fb9f3a"
             ],
             [
              0.8888888888888888,
              "#fdca26"
             ],
             [
              1,
              "#f0f921"
             ]
            ],
            "type": "histogram2dcontour"
           }
          ],
          "mesh3d": [
           {
            "colorbar": {
             "outlinewidth": 0,
             "ticks": ""
            },
            "type": "mesh3d"
           }
          ],
          "parcoords": [
           {
            "line": {
             "colorbar": {
              "outlinewidth": 0,
              "ticks": ""
             }
            },
            "type": "parcoords"
           }
          ],
          "pie": [
           {
            "automargin": true,
            "type": "pie"
           }
          ],
          "scatter": [
           {
            "fillpattern": {
             "fillmode": "overlay",
             "size": 10,
             "solidity": 0.2
            },
            "type": "scatter"
           }
          ],
          "scatter3d": [
           {
            "line": {
             "colorbar": {
              "outlinewidth": 0,
              "ticks": ""
             }
            },
            "marker": {
             "colorbar": {
              "outlinewidth": 0,
              "ticks": ""
             }
            },
            "type": "scatter3d"
           }
          ],
          "scattercarpet": [
           {
            "marker": {
             "colorbar": {
              "outlinewidth": 0,
              "ticks": ""
             }
            },
            "type": "scattercarpet"
           }
          ],
          "scattergeo": [
           {
            "marker": {
             "colorbar": {
              "outlinewidth": 0,
              "ticks": ""
             }
            },
            "type": "scattergeo"
           }
          ],
          "scattergl": [
           {
            "marker": {
             "colorbar": {
              "outlinewidth": 0,
              "ticks": ""
             }
            },
            "type": "scattergl"
           }
          ],
          "scattermapbox": [
           {
            "marker": {
             "colorbar": {
              "outlinewidth": 0,
              "ticks": ""
             }
            },
            "type": "scattermapbox"
           }
          ],
          "scatterpolar": [
           {
            "marker": {
             "colorbar": {
              "outlinewidth": 0,
              "ticks": ""
             }
            },
            "type": "scatterpolar"
           }
          ],
          "scatterpolargl": [
           {
            "marker": {
             "colorbar": {
              "outlinewidth": 0,
              "ticks": ""
             }
            },
            "type": "scatterpolargl"
           }
          ],
          "scatterternary": [
           {
            "marker": {
             "colorbar": {
              "outlinewidth": 0,
              "ticks": ""
             }
            },
            "type": "scatterternary"
           }
          ],
          "surface": [
           {
            "colorbar": {
             "outlinewidth": 0,
             "ticks": ""
            },
            "colorscale": [
             [
              0,
              "#0d0887"
             ],
             [
              0.1111111111111111,
              "#46039f"
             ],
             [
              0.2222222222222222,
              "#7201a8"
             ],
             [
              0.3333333333333333,
              "#9c179e"
             ],
             [
              0.4444444444444444,
              "#bd3786"
             ],
             [
              0.5555555555555556,
              "#d8576b"
             ],
             [
              0.6666666666666666,
              "#ed7953"
             ],
             [
              0.7777777777777778,
              "#fb9f3a"
             ],
             [
              0.8888888888888888,
              "#fdca26"
             ],
             [
              1,
              "#f0f921"
             ]
            ],
            "type": "surface"
           }
          ],
          "table": [
           {
            "cells": {
             "fill": {
              "color": "#EBF0F8"
             },
             "line": {
              "color": "white"
             }
            },
            "header": {
             "fill": {
              "color": "#C8D4E3"
             },
             "line": {
              "color": "white"
             }
            },
            "type": "table"
           }
          ]
         },
         "layout": {
          "annotationdefaults": {
           "arrowcolor": "#2a3f5f",
           "arrowhead": 0,
           "arrowwidth": 1
          },
          "autotypenumbers": "strict",
          "coloraxis": {
           "colorbar": {
            "outlinewidth": 0,
            "ticks": ""
           }
          },
          "colorscale": {
           "diverging": [
            [
             0,
             "#8e0152"
            ],
            [
             0.1,
             "#c51b7d"
            ],
            [
             0.2,
             "#de77ae"
            ],
            [
             0.3,
             "#f1b6da"
            ],
            [
             0.4,
             "#fde0ef"
            ],
            [
             0.5,
             "#f7f7f7"
            ],
            [
             0.6,
             "#e6f5d0"
            ],
            [
             0.7,
             "#b8e186"
            ],
            [
             0.8,
             "#7fbc41"
            ],
            [
             0.9,
             "#4d9221"
            ],
            [
             1,
             "#276419"
            ]
           ],
           "sequential": [
            [
             0,
             "#0d0887"
            ],
            [
             0.1111111111111111,
             "#46039f"
            ],
            [
             0.2222222222222222,
             "#7201a8"
            ],
            [
             0.3333333333333333,
             "#9c179e"
            ],
            [
             0.4444444444444444,
             "#bd3786"
            ],
            [
             0.5555555555555556,
             "#d8576b"
            ],
            [
             0.6666666666666666,
             "#ed7953"
            ],
            [
             0.7777777777777778,
             "#fb9f3a"
            ],
            [
             0.8888888888888888,
             "#fdca26"
            ],
            [
             1,
             "#f0f921"
            ]
           ],
           "sequentialminus": [
            [
             0,
             "#0d0887"
            ],
            [
             0.1111111111111111,
             "#46039f"
            ],
            [
             0.2222222222222222,
             "#7201a8"
            ],
            [
             0.3333333333333333,
             "#9c179e"
            ],
            [
             0.4444444444444444,
             "#bd3786"
            ],
            [
             0.5555555555555556,
             "#d8576b"
            ],
            [
             0.6666666666666666,
             "#ed7953"
            ],
            [
             0.7777777777777778,
             "#fb9f3a"
            ],
            [
             0.8888888888888888,
             "#fdca26"
            ],
            [
             1,
             "#f0f921"
            ]
           ]
          },
          "colorway": [
           "#636efa",
           "#EF553B",
           "#00cc96",
           "#ab63fa",
           "#FFA15A",
           "#19d3f3",
           "#FF6692",
           "#B6E880",
           "#FF97FF",
           "#FECB52"
          ],
          "font": {
           "color": "#2a3f5f"
          },
          "geo": {
           "bgcolor": "white",
           "lakecolor": "white",
           "landcolor": "#E5ECF6",
           "showlakes": true,
           "showland": true,
           "subunitcolor": "white"
          },
          "hoverlabel": {
           "align": "left"
          },
          "hovermode": "closest",
          "mapbox": {
           "style": "light"
          },
          "paper_bgcolor": "white",
          "plot_bgcolor": "#E5ECF6",
          "polar": {
           "angularaxis": {
            "gridcolor": "white",
            "linecolor": "white",
            "ticks": ""
           },
           "bgcolor": "#E5ECF6",
           "radialaxis": {
            "gridcolor": "white",
            "linecolor": "white",
            "ticks": ""
           }
          },
          "scene": {
           "xaxis": {
            "backgroundcolor": "#E5ECF6",
            "gridcolor": "white",
            "gridwidth": 2,
            "linecolor": "white",
            "showbackground": true,
            "ticks": "",
            "zerolinecolor": "white"
           },
           "yaxis": {
            "backgroundcolor": "#E5ECF6",
            "gridcolor": "white",
            "gridwidth": 2,
            "linecolor": "white",
            "showbackground": true,
            "ticks": "",
            "zerolinecolor": "white"
           },
           "zaxis": {
            "backgroundcolor": "#E5ECF6",
            "gridcolor": "white",
            "gridwidth": 2,
            "linecolor": "white",
            "showbackground": true,
            "ticks": "",
            "zerolinecolor": "white"
           }
          },
          "shapedefaults": {
           "line": {
            "color": "#2a3f5f"
           }
          },
          "ternary": {
           "aaxis": {
            "gridcolor": "white",
            "linecolor": "white",
            "ticks": ""
           },
           "baxis": {
            "gridcolor": "white",
            "linecolor": "white",
            "ticks": ""
           },
           "bgcolor": "#E5ECF6",
           "caxis": {
            "gridcolor": "white",
            "linecolor": "white",
            "ticks": ""
           }
          },
          "title": {
           "x": 0.05
          },
          "xaxis": {
           "automargin": true,
           "gridcolor": "white",
           "linecolor": "white",
           "ticks": "",
           "title": {
            "standoff": 15
           },
           "zerolinecolor": "white",
           "zerolinewidth": 2
          },
          "yaxis": {
           "automargin": true,
           "gridcolor": "white",
           "linecolor": "white",
           "ticks": "",
           "title": {
            "standoff": 15
           },
           "zerolinecolor": "white",
           "zerolinewidth": 2
          }
         }
        }
       }
      },
      "text/html": [
       "<div>                            <div id=\"62fc7b1b-b257-4956-8623-2d759fe26666\" class=\"plotly-graph-div\" style=\"height:525px; width:100%;\"></div>            <script type=\"text/javascript\">                require([\"plotly\"], function(Plotly) {                    window.PLOTLYENV=window.PLOTLYENV || {};                                    if (document.getElementById(\"62fc7b1b-b257-4956-8623-2d759fe26666\")) {                    Plotly.newPlot(                        \"62fc7b1b-b257-4956-8623-2d759fe26666\",                        [{\"domain\":{\"x\":[0,1],\"y\":[0,1]},\"gauge\":{\"axis\":{\"range\":[null,500]},\"steps\":[{\"color\":\"lightgray\",\"range\":[0,250]},{\"color\":\"gray\",\"range\":[250,400]}],\"threshold\":{\"line\":{\"color\":\"red\",\"width\":4},\"thickness\":0.75,\"value\":490}},\"mode\":\"gauge+number\",\"title\":{\"text\":\"Speed\"},\"value\":450,\"type\":\"indicator\"}],                        {\"template\":{\"data\":{\"histogram2dcontour\":[{\"type\":\"histogram2dcontour\",\"colorbar\":{\"outlinewidth\":0,\"ticks\":\"\"},\"colorscale\":[[0.0,\"#0d0887\"],[0.1111111111111111,\"#46039f\"],[0.2222222222222222,\"#7201a8\"],[0.3333333333333333,\"#9c179e\"],[0.4444444444444444,\"#bd3786\"],[0.5555555555555556,\"#d8576b\"],[0.6666666666666666,\"#ed7953\"],[0.7777777777777778,\"#fb9f3a\"],[0.8888888888888888,\"#fdca26\"],[1.0,\"#f0f921\"]]}],\"choropleth\":[{\"type\":\"choropleth\",\"colorbar\":{\"outlinewidth\":0,\"ticks\":\"\"}}],\"histogram2d\":[{\"type\":\"histogram2d\",\"colorbar\":{\"outlinewidth\":0,\"ticks\":\"\"},\"colorscale\":[[0.0,\"#0d0887\"],[0.1111111111111111,\"#46039f\"],[0.2222222222222222,\"#7201a8\"],[0.3333333333333333,\"#9c179e\"],[0.4444444444444444,\"#bd3786\"],[0.5555555555555556,\"#d8576b\"],[0.6666666666666666,\"#ed7953\"],[0.7777777777777778,\"#fb9f3a\"],[0.8888888888888888,\"#fdca26\"],[1.0,\"#f0f921\"]]}],\"heatmap\":[{\"type\":\"heatmap\",\"colorbar\":{\"outlinewidth\":0,\"ticks\":\"\"},\"colorscale\":[[0.0,\"#0d0887\"],[0.1111111111111111,\"#46039f\"],[0.2222222222222222,\"#7201a8\"],[0.3333333333333333,\"#9c179e\"],[0.4444444444444444,\"#bd3786\"],[0.5555555555555556,\"#d8576b\"],[0.6666666666666666,\"#ed7953\"],[0.7777777777777778,\"#fb9f3a\"],[0.8888888888888888,\"#fdca26\"],[1.0,\"#f0f921\"]]}],\"heatmapgl\":[{\"type\":\"heatmapgl\",\"colorbar\":{\"outlinewidth\":0,\"ticks\":\"\"},\"colorscale\":[[0.0,\"#0d0887\"],[0.1111111111111111,\"#46039f\"],[0.2222222222222222,\"#7201a8\"],[0.3333333333333333,\"#9c179e\"],[0.4444444444444444,\"#bd3786\"],[0.5555555555555556,\"#d8576b\"],[0.6666666666666666,\"#ed7953\"],[0.7777777777777778,\"#fb9f3a\"],[0.8888888888888888,\"#fdca26\"],[1.0,\"#f0f921\"]]}],\"contourcarpet\":[{\"type\":\"contourcarpet\",\"colorbar\":{\"outlinewidth\":0,\"ticks\":\"\"}}],\"contour\":[{\"type\":\"contour\",\"colorbar\":{\"outlinewidth\":0,\"ticks\":\"\"},\"colorscale\":[[0.0,\"#0d0887\"],[0.1111111111111111,\"#46039f\"],[0.2222222222222222,\"#7201a8\"],[0.3333333333333333,\"#9c179e\"],[0.4444444444444444,\"#bd3786\"],[0.5555555555555556,\"#d8576b\"],[0.6666666666666666,\"#ed7953\"],[0.7777777777777778,\"#fb9f3a\"],[0.8888888888888888,\"#fdca26\"],[1.0,\"#f0f921\"]]}],\"surface\":[{\"type\":\"surface\",\"colorbar\":{\"outlinewidth\":0,\"ticks\":\"\"},\"colorscale\":[[0.0,\"#0d0887\"],[0.1111111111111111,\"#46039f\"],[0.2222222222222222,\"#7201a8\"],[0.3333333333333333,\"#9c179e\"],[0.4444444444444444,\"#bd3786\"],[0.5555555555555556,\"#d8576b\"],[0.6666666666666666,\"#ed7953\"],[0.7777777777777778,\"#fb9f3a\"],[0.8888888888888888,\"#fdca26\"],[1.0,\"#f0f921\"]]}],\"mesh3d\":[{\"type\":\"mesh3d\",\"colorbar\":{\"outlinewidth\":0,\"ticks\":\"\"}}],\"scatter\":[{\"fillpattern\":{\"fillmode\":\"overlay\",\"size\":10,\"solidity\":0.2},\"type\":\"scatter\"}],\"parcoords\":[{\"type\":\"parcoords\",\"line\":{\"colorbar\":{\"outlinewidth\":0,\"ticks\":\"\"}}}],\"scatterpolargl\":[{\"type\":\"scatterpolargl\",\"marker\":{\"colorbar\":{\"outlinewidth\":0,\"ticks\":\"\"}}}],\"bar\":[{\"error_x\":{\"color\":\"#2a3f5f\"},\"error_y\":{\"color\":\"#2a3f5f\"},\"marker\":{\"line\":{\"color\":\"#E5ECF6\",\"width\":0.5},\"pattern\":{\"fillmode\":\"overlay\",\"size\":10,\"solidity\":0.2}},\"type\":\"bar\"}],\"scattergeo\":[{\"type\":\"scattergeo\",\"marker\":{\"colorbar\":{\"outlinewidth\":0,\"ticks\":\"\"}}}],\"scatterpolar\":[{\"type\":\"scatterpolar\",\"marker\":{\"colorbar\":{\"outlinewidth\":0,\"ticks\":\"\"}}}],\"histogram\":[{\"marker\":{\"pattern\":{\"fillmode\":\"overlay\",\"size\":10,\"solidity\":0.2}},\"type\":\"histogram\"}],\"scattergl\":[{\"type\":\"scattergl\",\"marker\":{\"colorbar\":{\"outlinewidth\":0,\"ticks\":\"\"}}}],\"scatter3d\":[{\"type\":\"scatter3d\",\"line\":{\"colorbar\":{\"outlinewidth\":0,\"ticks\":\"\"}},\"marker\":{\"colorbar\":{\"outlinewidth\":0,\"ticks\":\"\"}}}],\"scattermapbox\":[{\"type\":\"scattermapbox\",\"marker\":{\"colorbar\":{\"outlinewidth\":0,\"ticks\":\"\"}}}],\"scatterternary\":[{\"type\":\"scatterternary\",\"marker\":{\"colorbar\":{\"outlinewidth\":0,\"ticks\":\"\"}}}],\"scattercarpet\":[{\"type\":\"scattercarpet\",\"marker\":{\"colorbar\":{\"outlinewidth\":0,\"ticks\":\"\"}}}],\"carpet\":[{\"aaxis\":{\"endlinecolor\":\"#2a3f5f\",\"gridcolor\":\"white\",\"linecolor\":\"white\",\"minorgridcolor\":\"white\",\"startlinecolor\":\"#2a3f5f\"},\"baxis\":{\"endlinecolor\":\"#2a3f5f\",\"gridcolor\":\"white\",\"linecolor\":\"white\",\"minorgridcolor\":\"white\",\"startlinecolor\":\"#2a3f5f\"},\"type\":\"carpet\"}],\"table\":[{\"cells\":{\"fill\":{\"color\":\"#EBF0F8\"},\"line\":{\"color\":\"white\"}},\"header\":{\"fill\":{\"color\":\"#C8D4E3\"},\"line\":{\"color\":\"white\"}},\"type\":\"table\"}],\"barpolar\":[{\"marker\":{\"line\":{\"color\":\"#E5ECF6\",\"width\":0.5},\"pattern\":{\"fillmode\":\"overlay\",\"size\":10,\"solidity\":0.2}},\"type\":\"barpolar\"}],\"pie\":[{\"automargin\":true,\"type\":\"pie\"}]},\"layout\":{\"autotypenumbers\":\"strict\",\"colorway\":[\"#636efa\",\"#EF553B\",\"#00cc96\",\"#ab63fa\",\"#FFA15A\",\"#19d3f3\",\"#FF6692\",\"#B6E880\",\"#FF97FF\",\"#FECB52\"],\"font\":{\"color\":\"#2a3f5f\"},\"hovermode\":\"closest\",\"hoverlabel\":{\"align\":\"left\"},\"paper_bgcolor\":\"white\",\"plot_bgcolor\":\"#E5ECF6\",\"polar\":{\"bgcolor\":\"#E5ECF6\",\"angularaxis\":{\"gridcolor\":\"white\",\"linecolor\":\"white\",\"ticks\":\"\"},\"radialaxis\":{\"gridcolor\":\"white\",\"linecolor\":\"white\",\"ticks\":\"\"}},\"ternary\":{\"bgcolor\":\"#E5ECF6\",\"aaxis\":{\"gridcolor\":\"white\",\"linecolor\":\"white\",\"ticks\":\"\"},\"baxis\":{\"gridcolor\":\"white\",\"linecolor\":\"white\",\"ticks\":\"\"},\"caxis\":{\"gridcolor\":\"white\",\"linecolor\":\"white\",\"ticks\":\"\"}},\"coloraxis\":{\"colorbar\":{\"outlinewidth\":0,\"ticks\":\"\"}},\"colorscale\":{\"sequential\":[[0.0,\"#0d0887\"],[0.1111111111111111,\"#46039f\"],[0.2222222222222222,\"#7201a8\"],[0.3333333333333333,\"#9c179e\"],[0.4444444444444444,\"#bd3786\"],[0.5555555555555556,\"#d8576b\"],[0.6666666666666666,\"#ed7953\"],[0.7777777777777778,\"#fb9f3a\"],[0.8888888888888888,\"#fdca26\"],[1.0,\"#f0f921\"]],\"sequentialminus\":[[0.0,\"#0d0887\"],[0.1111111111111111,\"#46039f\"],[0.2222222222222222,\"#7201a8\"],[0.3333333333333333,\"#9c179e\"],[0.4444444444444444,\"#bd3786\"],[0.5555555555555556,\"#d8576b\"],[0.6666666666666666,\"#ed7953\"],[0.7777777777777778,\"#fb9f3a\"],[0.8888888888888888,\"#fdca26\"],[1.0,\"#f0f921\"]],\"diverging\":[[0,\"#8e0152\"],[0.1,\"#c51b7d\"],[0.2,\"#de77ae\"],[0.3,\"#f1b6da\"],[0.4,\"#fde0ef\"],[0.5,\"#f7f7f7\"],[0.6,\"#e6f5d0\"],[0.7,\"#b8e186\"],[0.8,\"#7fbc41\"],[0.9,\"#4d9221\"],[1,\"#276419\"]]},\"xaxis\":{\"gridcolor\":\"white\",\"linecolor\":\"white\",\"ticks\":\"\",\"title\":{\"standoff\":15},\"zerolinecolor\":\"white\",\"automargin\":true,\"zerolinewidth\":2},\"yaxis\":{\"gridcolor\":\"white\",\"linecolor\":\"white\",\"ticks\":\"\",\"title\":{\"standoff\":15},\"zerolinecolor\":\"white\",\"automargin\":true,\"zerolinewidth\":2},\"scene\":{\"xaxis\":{\"backgroundcolor\":\"#E5ECF6\",\"gridcolor\":\"white\",\"linecolor\":\"white\",\"showbackground\":true,\"ticks\":\"\",\"zerolinecolor\":\"white\",\"gridwidth\":2},\"yaxis\":{\"backgroundcolor\":\"#E5ECF6\",\"gridcolor\":\"white\",\"linecolor\":\"white\",\"showbackground\":true,\"ticks\":\"\",\"zerolinecolor\":\"white\",\"gridwidth\":2},\"zaxis\":{\"backgroundcolor\":\"#E5ECF6\",\"gridcolor\":\"white\",\"linecolor\":\"white\",\"showbackground\":true,\"ticks\":\"\",\"zerolinecolor\":\"white\",\"gridwidth\":2}},\"shapedefaults\":{\"line\":{\"color\":\"#2a3f5f\"}},\"annotationdefaults\":{\"arrowcolor\":\"#2a3f5f\",\"arrowhead\":0,\"arrowwidth\":1},\"geo\":{\"bgcolor\":\"white\",\"landcolor\":\"#E5ECF6\",\"subunitcolor\":\"white\",\"showland\":true,\"showlakes\":true,\"lakecolor\":\"white\"},\"title\":{\"x\":0.05},\"mapbox\":{\"style\":\"light\"}}}},                        {\"responsive\": true}                    ).then(function(){\n",
       "                            \n",
       "var gd = document.getElementById('62fc7b1b-b257-4956-8623-2d759fe26666');\n",
       "var x = new MutationObserver(function (mutations, observer) {{\n",
       "        var display = window.getComputedStyle(gd).display;\n",
       "        if (!display || display === 'none') {{\n",
       "            console.log([gd, 'removed!']);\n",
       "            Plotly.purge(gd);\n",
       "            observer.disconnect();\n",
       "        }}\n",
       "}});\n",
       "\n",
       "// Listen for the removal of the full notebook cells\n",
       "var notebookContainer = gd.closest('#notebook-container');\n",
       "if (notebookContainer) {{\n",
       "    x.observe(notebookContainer, {childList: true});\n",
       "}}\n",
       "\n",
       "// Listen for the clearing of the current output cell\n",
       "var outputEl = gd.closest('.output');\n",
       "if (outputEl) {{\n",
       "    x.observe(outputEl, {childList: true});\n",
       "}}\n",
       "\n",
       "                        })                };                });            </script>        </div>"
      ]
     },
     "metadata": {},
     "output_type": "display_data"
    }
   ],
   "source": [
    "fig = go.Figure(go.Indicator(\n",
    "    mode = \"gauge+number\",\n",
    "    value = 450,\n",
    "    \n",
    "    title = {'text': \"Speed\"},\n",
    "    domain = {'x': [0, 1], 'y': [0, 1]},\n",
    "    gauge = {'axis': {'range': [None, 500]},\n",
    "             'steps' : [\n",
    "                 {'range': [0, 250], 'color': \"lightgray\"},\n",
    "                 {'range': [250, 400], 'color': \"gray\"}],\n",
    "             'threshold' : {'line': {'color': \"red\", 'width': 4}, 'thickness': 0.75, 'value': 490}}))\n",
    "\n",
    "\n",
    "fig.show()"
   ]
  },
  {
   "cell_type": "code",
   "execution_count": 35,
   "id": "540fdff4",
   "metadata": {},
   "outputs": [
    {
     "ename": "NameError",
     "evalue": "name 'ghghghghghghyyyyyyyyyyyy' is not defined",
     "output_type": "error",
     "traceback": [
      "\u001b[0;31m---------------------------------------------------------------------------\u001b[0m",
      "\u001b[0;31mNameError\u001b[0m                                 Traceback (most recent call last)",
      "\u001b[0;32m/tmp/ipykernel_24958/3712866538.py\u001b[0m in \u001b[0;36m<module>\u001b[0;34m\u001b[0m\n\u001b[0;32m----> 1\u001b[0;31m \u001b[0mghghghghghghyyyyyyyyyyyy\u001b[0m\u001b[0;34m\u001b[0m\u001b[0;34m\u001b[0m\u001b[0m\n\u001b[0m",
      "\u001b[0;31mNameError\u001b[0m: name 'ghghghghghghyyyyyyyyyyyy' is not defined"
     ]
    }
   ],
   "source": [
    "ghghghghghghyyyyyyyyyyyy\n"
   ]
  }
 ],
 "metadata": {
  "kernelspec": {
   "display_name": "Python 3 (ipykernel)",
   "language": "python",
   "name": "python3"
  },
  "language_info": {
   "codemirror_mode": {
    "name": "ipython",
    "version": 3
   },
   "file_extension": ".py",
   "mimetype": "text/x-python",
   "name": "python",
   "nbconvert_exporter": "python",
   "pygments_lexer": "ipython3",
   "version": "3.9.10"
  }
 },
 "nbformat": 4,
 "nbformat_minor": 5
}
